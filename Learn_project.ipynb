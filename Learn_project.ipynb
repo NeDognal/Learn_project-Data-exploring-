{
  "nbformat": 4,
  "nbformat_minor": 0,
  "metadata": {
    "colab": {
      "provenance": []
    },
    "kernelspec": {
      "name": "python3",
      "display_name": "Python 3"
    },
    "language_info": {
      "name": "python"
    }
  },
  "cells": [
    {
      "cell_type": "code",
      "execution_count": null,
      "metadata": {
        "id": "0Za6FIQLg7Vw"
      },
      "outputs": [],
      "source": [
        "import pandas as pd\n",
        "from google.colab import files\n",
        "import datetime\n",
        "import requests\n",
        "import urllib\n",
        "import json\n",
        "from urllib.parse import urlencode\n",
        "from datetime import date\n",
        "import calendar\n",
        "import numpy as np\n",
        "import seaborn as sns\n",
        "import math as m\n",
        "import matplotlib.pyplot as plt"
      ]
    },
    {
      "cell_type": "code",
      "source": [
        "files.upload()"
      ],
      "metadata": {
        "colab": {
          "base_uri": "https://localhost:8080/",
          "height": 165
        },
        "id": "wGd-fJT4XsXh",
        "outputId": "b49fc7e1-c0eb-4f47-b945-cd91d5402b1a"
      },
      "execution_count": null,
      "outputs": [
        {
          "output_type": "error",
          "ename": "NameError",
          "evalue": "ignored",
          "traceback": [
            "\u001b[0;31m---------------------------------------------------------------------------\u001b[0m",
            "\u001b[0;31mNameError\u001b[0m                                 Traceback (most recent call last)",
            "\u001b[0;32m<ipython-input-2-63b259460c61>\u001b[0m in \u001b[0;36m<module>\u001b[0;34m\u001b[0m\n\u001b[0;32m----> 1\u001b[0;31m \u001b[0mfiles\u001b[0m\u001b[0;34m.\u001b[0m\u001b[0mupload\u001b[0m\u001b[0;34m(\u001b[0m\u001b[0;34m)\u001b[0m\u001b[0;34m\u001b[0m\u001b[0;34m\u001b[0m\u001b[0m\n\u001b[0m",
            "\u001b[0;31mNameError\u001b[0m: name 'files' is not defined"
          ]
        }
      ]
    },
    {
      "cell_type": "code",
      "source": [
        "olist_customers = pd.read_csv(yandex_csv_download('https://disk.yandex.ru/d/FUi5uSd6BfG_ig'), \n",
        "                              sep=',', error_bad_lines=False, comment='#' , encoding='cp1251')"
      ],
      "metadata": {
        "colab": {
          "base_uri": "https://localhost:8080/"
        },
        "id": "9ShnxtPu0w1m",
        "outputId": "4752f7b8-119c-43cc-f080-24d43a8cf2e8"
      },
      "execution_count": null,
      "outputs": [
        {
          "output_type": "stream",
          "name": "stderr",
          "text": [
            "/usr/local/lib/python3.7/dist-packages/IPython/core/interactiveshell.py:3326: FutureWarning: The error_bad_lines argument has been deprecated and will be removed in a future version.\n",
            "\n",
            "\n",
            "  exec(code_obj, self.user_global_ns, self.user_ns)\n"
          ]
        }
      ]
    },
    {
      "cell_type": "code",
      "source": [
        " olist_orders = pd.read_csv(yandex_csv_download('https://disk.yandex.ru/d/t9Li4JOfgxuUrg'), \n",
        "                              sep=',', error_bad_lines=False, comment='#' , encoding='cp1251')"
      ],
      "metadata": {
        "id": "0ZK9vPb71_DQ"
      },
      "execution_count": null,
      "outputs": []
    },
    {
      "cell_type": "markdown",
      "source": [
        "Уникальные статусы заказов в таблице olist_orders_dataset:\n",
        "\n",
        "- created —  создан\n",
        "- approved —  подтверждён\n",
        "- invoiced —  выставлен счёт\n",
        "- processing —  в процессе сборки заказа\n",
        "- shipped —  отгружен со склада\n",
        "- delivered —  доставлен пользователю\n",
        "- unavailable —  недоступен\n",
        "- canceled —  отменён\n"
      ],
      "metadata": {
        "id": "vYLa5H-23NwG"
      }
    },
    {
      "cell_type": "code",
      "source": [
        "olist_items = pd.read_csv(yandex_csv_download('https://disk.yandex.ru/d/Gbt-yAcQrOe3Pw'), \n",
        "                              sep=',', error_bad_lines=False, comment='#' , encoding='cp1251')"
      ],
      "metadata": {
        "id": "Ixfj-gLn2M2Z"
      },
      "execution_count": null,
      "outputs": []
    },
    {
      "cell_type": "code",
      "source": [
        "olist_customers.isna().sum()"
      ],
      "metadata": {
        "colab": {
          "base_uri": "https://localhost:8080/"
        },
        "id": "MzidCNdC2stg",
        "outputId": "c5643627-2f0b-4c61-8c39-f8958a9427f3"
      },
      "execution_count": null,
      "outputs": [
        {
          "output_type": "execute_result",
          "data": {
            "text/plain": [
              "customer_id                 0\n",
              "customer_unique_id          0\n",
              "customer_zip_code_prefix    0\n",
              "customer_city               0\n",
              "customer_state              0\n",
              "dtype: int64"
            ]
          },
          "metadata": {},
          "execution_count": 7
        }
      ]
    },
    {
      "cell_type": "markdown",
      "source": [
        "- customer_id — позаказный идентификатор пользователя\n",
        "\n",
        "- customer_unique_id —  уникальный идентификатор пользователя  (аналог номера паспорта)\n",
        "\n",
        "- customer_zip_code_prefix —  почтовый индекс пользователя\n",
        "\n",
        "- customer_city —  город доставки пользователя\n",
        "\n",
        "- customer_state —  штат доставки пользователя"
      ],
      "metadata": {
        "id": "8dtAoDNW3-bN"
      }
    },
    {
      "cell_type": "code",
      "source": [
        "olist_customers.info()"
      ],
      "metadata": {
        "colab": {
          "base_uri": "https://localhost:8080/"
        },
        "id": "PW1m1RKS5LxV",
        "outputId": "ff327867-f98f-4d71-927d-adf214159459"
      },
      "execution_count": null,
      "outputs": [
        {
          "output_type": "stream",
          "name": "stdout",
          "text": [
            "<class 'pandas.core.frame.DataFrame'>\n",
            "RangeIndex: 99441 entries, 0 to 99440\n",
            "Data columns (total 5 columns):\n",
            " #   Column                    Non-Null Count  Dtype \n",
            "---  ------                    --------------  ----- \n",
            " 0   customer_id               99441 non-null  object\n",
            " 1   customer_unique_id        99441 non-null  object\n",
            " 2   customer_zip_code_prefix  99441 non-null  int64 \n",
            " 3   customer_city             99441 non-null  object\n",
            " 4   customer_state            99441 non-null  object\n",
            "dtypes: int64(1), object(4)\n",
            "memory usage: 3.8+ MB\n"
          ]
        }
      ]
    },
    {
      "cell_type": "code",
      "source": [
        "olist_orders.isna().sum()"
      ],
      "metadata": {
        "colab": {
          "base_uri": "https://localhost:8080/"
        },
        "id": "Z3Y97hy-2t5v",
        "outputId": "6b09ba4b-eab0-4157-9927-a9b3273b9956"
      },
      "execution_count": null,
      "outputs": [
        {
          "output_type": "execute_result",
          "data": {
            "text/plain": [
              "order_id                            0\n",
              "customer_id                         0\n",
              "order_status                        0\n",
              "order_purchase_timestamp            0\n",
              "order_approved_at                 160\n",
              "order_delivered_carrier_date     1783\n",
              "order_delivered_customer_date    2965\n",
              "order_estimated_delivery_date       0\n",
              "dtype: int64"
            ]
          },
          "metadata": {},
          "execution_count": 9
        }
      ]
    },
    {
      "cell_type": "markdown",
      "source": [
        "- order_id —  уникальный идентификатор заказа (номер чека)\n",
        "\n",
        "- customer_id —  позаказный идентификатор пользователя\n",
        "\n",
        "- order_status —  статус заказа\n",
        "\n",
        "- order_purchase_timestamp —  время создания заказа\n",
        "\n",
        "- order_approved_at —  время подтверждения оплаты заказа\n",
        "\n",
        "- order_delivered_carrier_date —  время передачи заказа в логистическую службу\n",
        "\n",
        "- order_delivered_customer_date —  время доставки заказа\n",
        "\n",
        "- order_estimated_delivery_date —  обещанная дата доставки"
      ],
      "metadata": {
        "id": "DJ7PB9V54FY9"
      }
    },
    {
      "cell_type": "code",
      "source": [
        "olist_orders.info()"
      ],
      "metadata": {
        "colab": {
          "base_uri": "https://localhost:8080/"
        },
        "id": "qY_H6h3j5Qhw",
        "outputId": "2bd82725-b770-4dba-f83f-265f01afeb85"
      },
      "execution_count": null,
      "outputs": [
        {
          "output_type": "stream",
          "name": "stdout",
          "text": [
            "<class 'pandas.core.frame.DataFrame'>\n",
            "RangeIndex: 99441 entries, 0 to 99440\n",
            "Data columns (total 8 columns):\n",
            " #   Column                         Non-Null Count  Dtype \n",
            "---  ------                         --------------  ----- \n",
            " 0   order_id                       99441 non-null  object\n",
            " 1   customer_id                    99441 non-null  object\n",
            " 2   order_status                   99441 non-null  object\n",
            " 3   order_purchase_timestamp       99441 non-null  object\n",
            " 4   order_approved_at              99281 non-null  object\n",
            " 5   order_delivered_carrier_date   97658 non-null  object\n",
            " 6   order_delivered_customer_date  96476 non-null  object\n",
            " 7   order_estimated_delivery_date  99441 non-null  object\n",
            "dtypes: object(8)\n",
            "memory usage: 6.1+ MB\n"
          ]
        }
      ]
    },
    {
      "cell_type": "code",
      "source": [
        "olist_items.isna().sum()"
      ],
      "metadata": {
        "colab": {
          "base_uri": "https://localhost:8080/"
        },
        "id": "CzEXMNoy2t25",
        "outputId": "97d3aaf8-9eef-402b-d826-3d23bbdfd1a0"
      },
      "execution_count": null,
      "outputs": [
        {
          "output_type": "execute_result",
          "data": {
            "text/plain": [
              "order_id               0\n",
              "order_item_id          0\n",
              "product_id             0\n",
              "seller_id              0\n",
              "shipping_limit_date    0\n",
              "price                  0\n",
              "freight_value          0\n",
              "dtype: int64"
            ]
          },
          "metadata": {},
          "execution_count": 11
        }
      ]
    },
    {
      "cell_type": "markdown",
      "source": [
        "- rder_id —  уникальный идентификатор заказа (номер чека)\n",
        "\n",
        "- order_item_id —  идентификатор товара внутри одного заказа\n",
        "\n",
        "- product_id —  ид товара (аналог штрихкода)\n",
        "\n",
        "- seller_id — ид производителя товара\n",
        "\n",
        "- shipping_limit_date —  максимальная дата доставки продавцом для передачи заказа партнеру по логистике\n",
        "\n",
        "- price —  цена за единицу товара\n",
        "\n",
        "- freight_value —  вес товара"
      ],
      "metadata": {
        "id": "bO4ZwCQg4Rnt"
      }
    },
    {
      "cell_type": "code",
      "source": [
        "olist_items.info()"
      ],
      "metadata": {
        "colab": {
          "base_uri": "https://localhost:8080/"
        },
        "id": "mfpbNSK92tql",
        "outputId": "2fb5f457-ff3b-4a8f-baed-ca6df57d03ba"
      },
      "execution_count": null,
      "outputs": [
        {
          "output_type": "stream",
          "name": "stdout",
          "text": [
            "<class 'pandas.core.frame.DataFrame'>\n",
            "RangeIndex: 112650 entries, 0 to 112649\n",
            "Data columns (total 7 columns):\n",
            " #   Column               Non-Null Count   Dtype  \n",
            "---  ------               --------------   -----  \n",
            " 0   order_id             112650 non-null  object \n",
            " 1   order_item_id        112650 non-null  int64  \n",
            " 2   product_id           112650 non-null  object \n",
            " 3   seller_id            112650 non-null  object \n",
            " 4   shipping_limit_date  112650 non-null  object \n",
            " 5   price                112650 non-null  float64\n",
            " 6   freight_value        112650 non-null  float64\n",
            "dtypes: float64(2), int64(1), object(4)\n",
            "memory usage: 6.0+ MB\n"
          ]
        }
      ]
    },
    {
      "cell_type": "markdown",
      "source": [
        "1. Сколько у нас пользователей, которые совершили покупку только один раз?"
      ],
      "metadata": {
        "id": "JJZctcu36Mg4"
      }
    },
    {
      "cell_type": "markdown",
      "source": [
        "- Объединяем таблицы olist_customers и olist_orders, по customer_id\n",
        "- Статус заказа все кроме created \n",
        "- Группируем пользователей и считаем кол-во заказов \n",
        "- Отбираем пользователей с 1 заказом , считаем их"
      ],
      "metadata": {
        "id": "VyDn_fWL6QQ7"
      }
    },
    {
      "cell_type": "code",
      "source": [
        "ferst_data = olist_orders[['customer_id', 'order_id','order_status']].merge(olist_customers[['customer_id','customer_unique_id']], how = 'left', on = 'customer_id')"
      ],
      "metadata": {
        "id": "EYYnUlP7BG3i"
      },
      "execution_count": null,
      "outputs": []
    },
    {
      "cell_type": "code",
      "source": [
        "ferst_data[~((ferst_data.order_status == 'created'))].groupby('customer_unique_id', as_index = False).agg({'order_id':'count'})\\\n",
        ".rename(columns = {'order_id':'order_amount'}).query('order_amount == 1').shape"
      ],
      "metadata": {
        "colab": {
          "base_uri": "https://localhost:8080/"
        },
        "id": "jchN21eI--Pe",
        "outputId": "ccccbfca-995f-456d-b476-d5e11dc9762a"
      },
      "execution_count": null,
      "outputs": [
        {
          "output_type": "execute_result",
          "data": {
            "text/plain": [
              "(93096, 2)"
            ]
          },
          "metadata": {},
          "execution_count": 14
        }
      ]
    },
    {
      "cell_type": "markdown",
      "source": [
        "2. Сколько заказов в месяц в среднем не доставляется по разным причинам (вывести детализацию по причинам)?"
      ],
      "metadata": {
        "id": "oCyKWIPlDCrG"
      }
    },
    {
      "cell_type": "markdown",
      "source": [
        "- Берем таблицу olist_orders\n",
        "- Вычленяем недоставленные заказы (unavailable, canceled) \n",
        "- Групперуем по статусу и месяцам \n",
        "- Счетаем сколько заказов недоставленно в каждый из месяцев \n",
        "- Берем среднее помесяцам"
      ],
      "metadata": {
        "id": "BP-o5UAEYSy9"
      }
    },
    {
      "cell_type": "code",
      "source": [
        "sec_data = olist_orders.query('order_status == \"unavailable\" or order_status == \"canceled\"')[olist_orders.order_delivered_customer_date.isna()==True]"
      ],
      "metadata": {
        "colab": {
          "base_uri": "https://localhost:8080/"
        },
        "id": "3ZxBh5c2DB4q",
        "outputId": "f4288d57-8e60-4ffa-b5fe-0726c5ec1618"
      },
      "execution_count": null,
      "outputs": [
        {
          "output_type": "stream",
          "name": "stderr",
          "text": [
            "/usr/local/lib/python3.7/dist-packages/ipykernel_launcher.py:1: UserWarning: Boolean Series key will be reindexed to match DataFrame index.\n",
            "  \"\"\"Entry point for launching an IPython kernel.\n"
          ]
        }
      ]
    },
    {
      "cell_type": "code",
      "source": [
        "olist_orders.query('order_status == \"unavailable\" or order_status == \"canceled\"').shape"
      ],
      "metadata": {
        "colab": {
          "base_uri": "https://localhost:8080/"
        },
        "id": "IP8d20JM2te4",
        "outputId": "99b4e54f-d144-491e-8a8a-00f435789f6b"
      },
      "execution_count": null,
      "outputs": [
        {
          "output_type": "execute_result",
          "data": {
            "text/plain": [
              "(1234, 8)"
            ]
          },
          "metadata": {},
          "execution_count": 16
        }
      ]
    },
    {
      "cell_type": "markdown",
      "source": [
        "Есть 6 заказов у которых есть дата доставки , но статус = недействителен/отменен"
      ],
      "metadata": {
        "id": "Mhcn08Z3ayhT"
      }
    },
    {
      "cell_type": "code",
      "source": [
        "sec_data['order_estimated_delivery_date'] = pd.to_datetime(sec_data.order_estimated_delivery_date)\n",
        "# Переводим столбец ореинтировочной даты доставки в формат даты "
      ],
      "metadata": {
        "id": "XhdW9VPU2tcA"
      },
      "execution_count": null,
      "outputs": []
    },
    {
      "cell_type": "code",
      "source": [
        "sec_data.groupby(['order_status', pd.Grouper(key='order_estimated_delivery_date', freq='M')]).order_id.count().to_frame()\\\n",
        ".reset_index()\\\n",
        ".groupby('order_status').agg({'order_id':'mean'})\n",
        "#pd.Grouper сразу сам группирует по месяцам (freq = M), очень удобно для работы с таймлайнами "
      ],
      "metadata": {
        "colab": {
          "base_uri": "https://localhost:8080/",
          "height": 143
        },
        "id": "O57KXNlLcRDP",
        "outputId": "739bf945-182d-45da-d8fc-067d8a147a8e"
      },
      "execution_count": null,
      "outputs": [
        {
          "output_type": "execute_result",
          "data": {
            "text/plain": [
              "               order_id\n",
              "order_status           \n",
              "canceled      23.807692\n",
              "unavailable   29.000000"
            ],
            "text/html": [
              "\n",
              "  <div id=\"df-f3e53bd2-b6d2-4554-b31c-291f6f603a7d\">\n",
              "    <div class=\"colab-df-container\">\n",
              "      <div>\n",
              "<style scoped>\n",
              "    .dataframe tbody tr th:only-of-type {\n",
              "        vertical-align: middle;\n",
              "    }\n",
              "\n",
              "    .dataframe tbody tr th {\n",
              "        vertical-align: top;\n",
              "    }\n",
              "\n",
              "    .dataframe thead th {\n",
              "        text-align: right;\n",
              "    }\n",
              "</style>\n",
              "<table border=\"1\" class=\"dataframe\">\n",
              "  <thead>\n",
              "    <tr style=\"text-align: right;\">\n",
              "      <th></th>\n",
              "      <th>order_id</th>\n",
              "    </tr>\n",
              "    <tr>\n",
              "      <th>order_status</th>\n",
              "      <th></th>\n",
              "    </tr>\n",
              "  </thead>\n",
              "  <tbody>\n",
              "    <tr>\n",
              "      <th>canceled</th>\n",
              "      <td>23.807692</td>\n",
              "    </tr>\n",
              "    <tr>\n",
              "      <th>unavailable</th>\n",
              "      <td>29.000000</td>\n",
              "    </tr>\n",
              "  </tbody>\n",
              "</table>\n",
              "</div>\n",
              "      <button class=\"colab-df-convert\" onclick=\"convertToInteractive('df-f3e53bd2-b6d2-4554-b31c-291f6f603a7d')\"\n",
              "              title=\"Convert this dataframe to an interactive table.\"\n",
              "              style=\"display:none;\">\n",
              "        \n",
              "  <svg xmlns=\"http://www.w3.org/2000/svg\" height=\"24px\"viewBox=\"0 0 24 24\"\n",
              "       width=\"24px\">\n",
              "    <path d=\"M0 0h24v24H0V0z\" fill=\"none\"/>\n",
              "    <path d=\"M18.56 5.44l.94 2.06.94-2.06 2.06-.94-2.06-.94-.94-2.06-.94 2.06-2.06.94zm-11 1L8.5 8.5l.94-2.06 2.06-.94-2.06-.94L8.5 2.5l-.94 2.06-2.06.94zm10 10l.94 2.06.94-2.06 2.06-.94-2.06-.94-.94-2.06-.94 2.06-2.06.94z\"/><path d=\"M17.41 7.96l-1.37-1.37c-.4-.4-.92-.59-1.43-.59-.52 0-1.04.2-1.43.59L10.3 9.45l-7.72 7.72c-.78.78-.78 2.05 0 2.83L4 21.41c.39.39.9.59 1.41.59.51 0 1.02-.2 1.41-.59l7.78-7.78 2.81-2.81c.8-.78.8-2.07 0-2.86zM5.41 20L4 18.59l7.72-7.72 1.47 1.35L5.41 20z\"/>\n",
              "  </svg>\n",
              "      </button>\n",
              "      \n",
              "  <style>\n",
              "    .colab-df-container {\n",
              "      display:flex;\n",
              "      flex-wrap:wrap;\n",
              "      gap: 12px;\n",
              "    }\n",
              "\n",
              "    .colab-df-convert {\n",
              "      background-color: #E8F0FE;\n",
              "      border: none;\n",
              "      border-radius: 50%;\n",
              "      cursor: pointer;\n",
              "      display: none;\n",
              "      fill: #1967D2;\n",
              "      height: 32px;\n",
              "      padding: 0 0 0 0;\n",
              "      width: 32px;\n",
              "    }\n",
              "\n",
              "    .colab-df-convert:hover {\n",
              "      background-color: #E2EBFA;\n",
              "      box-shadow: 0px 1px 2px rgba(60, 64, 67, 0.3), 0px 1px 3px 1px rgba(60, 64, 67, 0.15);\n",
              "      fill: #174EA6;\n",
              "    }\n",
              "\n",
              "    [theme=dark] .colab-df-convert {\n",
              "      background-color: #3B4455;\n",
              "      fill: #D2E3FC;\n",
              "    }\n",
              "\n",
              "    [theme=dark] .colab-df-convert:hover {\n",
              "      background-color: #434B5C;\n",
              "      box-shadow: 0px 1px 3px 1px rgba(0, 0, 0, 0.15);\n",
              "      filter: drop-shadow(0px 1px 2px rgba(0, 0, 0, 0.3));\n",
              "      fill: #FFFFFF;\n",
              "    }\n",
              "  </style>\n",
              "\n",
              "      <script>\n",
              "        const buttonEl =\n",
              "          document.querySelector('#df-f3e53bd2-b6d2-4554-b31c-291f6f603a7d button.colab-df-convert');\n",
              "        buttonEl.style.display =\n",
              "          google.colab.kernel.accessAllowed ? 'block' : 'none';\n",
              "\n",
              "        async function convertToInteractive(key) {\n",
              "          const element = document.querySelector('#df-f3e53bd2-b6d2-4554-b31c-291f6f603a7d');\n",
              "          const dataTable =\n",
              "            await google.colab.kernel.invokeFunction('convertToInteractive',\n",
              "                                                     [key], {});\n",
              "          if (!dataTable) return;\n",
              "\n",
              "          const docLinkHtml = 'Like what you see? Visit the ' +\n",
              "            '<a target=\"_blank\" href=https://colab.research.google.com/notebooks/data_table.ipynb>data table notebook</a>'\n",
              "            + ' to learn more about interactive tables.';\n",
              "          element.innerHTML = '';\n",
              "          dataTable['output_type'] = 'display_data';\n",
              "          await google.colab.output.renderOutput(dataTable, element);\n",
              "          const docLink = document.createElement('div');\n",
              "          docLink.innerHTML = docLinkHtml;\n",
              "          element.appendChild(docLink);\n",
              "        }\n",
              "      </script>\n",
              "    </div>\n",
              "  </div>\n",
              "  "
            ]
          },
          "metadata": {},
          "execution_count": 18
        }
      ]
    },
    {
      "cell_type": "markdown",
      "source": [
        "3. По каждому товару определить, в какой день недели товар чаще всего покупается.\n",
        "\n",
        "- Подходят статусы все кроме created\n",
        "- Мерджим таблицу заказов и таблицу товаров\n",
        "- Создаемм столбец с днем недели покупки для каждого товара\n",
        "- Агрегируем по каждому товару и дню недели, выбираем максимальное значение пары : товар/день недели \n"
      ],
      "metadata": {
        "id": "M3fbn0N_f4ox"
      }
    },
    {
      "cell_type": "code",
      "source": [
        "therd_task = olist_items.merge(olist_orders.query('order_status != \"created\"')[['order_id', 'order_purchase_timestamp']], how= 'left', on = 'order_id')"
      ],
      "metadata": {
        "id": "G_jnL4JIg16q"
      },
      "execution_count": null,
      "outputs": []
    },
    {
      "cell_type": "code",
      "source": [
        "therd_task['order_purchase_timestamp'] = pd.to_datetime(therd_task.order_purchase_timestamp)"
      ],
      "metadata": {
        "id": "pPD5ZA-Di2xC"
      },
      "execution_count": null,
      "outputs": []
    },
    {
      "cell_type": "code",
      "source": [
        "therd_task['weekday'] = therd_task['order_purchase_timestamp'].dt.day_name()"
      ],
      "metadata": {
        "id": "r3S-goJdhuBg"
      },
      "execution_count": null,
      "outputs": []
    },
    {
      "cell_type": "code",
      "source": [
        "therd_task.groupby(['weekday','product_id'], as_index = False).agg({'order_id':'count'})\\\n",
        ".pivot_table(columns = 'product_id', index = 'weekday', values = 'order_id').idxmax()\\\n",
        ".to_frame().rename(columns = {0: 'top_day'}).reset_index()\n",
        "#idxmax находит первое максимальное вхождение по каждому столбцу(товару)и переварачивает таблицу"
      ],
      "metadata": {
        "colab": {
          "base_uri": "https://localhost:8080/",
          "height": 424
        },
        "id": "TSEyX48bj1-d",
        "outputId": "3e256b2a-1fe6-4b38-df3b-ff7f3fa9d74a"
      },
      "execution_count": null,
      "outputs": [
        {
          "output_type": "execute_result",
          "data": {
            "text/plain": [
              "                             product_id    top_day\n",
              "0      00066f42aeeb9f3007548bb9d3f33c38     Sunday\n",
              "1      00088930e925c41fd95ebfe695fd2655    Tuesday\n",
              "2      0009406fd7479715e4bef61dd91f2462   Thursday\n",
              "3      000b8f95fcb9e0096488278317764d19     Friday\n",
              "4      000d9be29b5207b54e86aa1b1ac54872    Tuesday\n",
              "...                                 ...        ...\n",
              "32946  fff6177642830a9a94a0f2cba5e476d1   Saturday\n",
              "32947  fff81cc3158d2725c0655ab9ba0f712c     Monday\n",
              "32948  fff9553ac224cec9d15d49f5a263411f     Friday\n",
              "32949  fffdb2d0ec8d6a61f0a0a0db3f25b441    Tuesday\n",
              "32950  fffe9eeff12fcbd74a2f2b007dde0c58  Wednesday\n",
              "\n",
              "[32951 rows x 2 columns]"
            ],
            "text/html": [
              "\n",
              "  <div id=\"df-9fed560f-3da2-4912-9bec-46d85573108d\">\n",
              "    <div class=\"colab-df-container\">\n",
              "      <div>\n",
              "<style scoped>\n",
              "    .dataframe tbody tr th:only-of-type {\n",
              "        vertical-align: middle;\n",
              "    }\n",
              "\n",
              "    .dataframe tbody tr th {\n",
              "        vertical-align: top;\n",
              "    }\n",
              "\n",
              "    .dataframe thead th {\n",
              "        text-align: right;\n",
              "    }\n",
              "</style>\n",
              "<table border=\"1\" class=\"dataframe\">\n",
              "  <thead>\n",
              "    <tr style=\"text-align: right;\">\n",
              "      <th></th>\n",
              "      <th>product_id</th>\n",
              "      <th>top_day</th>\n",
              "    </tr>\n",
              "  </thead>\n",
              "  <tbody>\n",
              "    <tr>\n",
              "      <th>0</th>\n",
              "      <td>00066f42aeeb9f3007548bb9d3f33c38</td>\n",
              "      <td>Sunday</td>\n",
              "    </tr>\n",
              "    <tr>\n",
              "      <th>1</th>\n",
              "      <td>00088930e925c41fd95ebfe695fd2655</td>\n",
              "      <td>Tuesday</td>\n",
              "    </tr>\n",
              "    <tr>\n",
              "      <th>2</th>\n",
              "      <td>0009406fd7479715e4bef61dd91f2462</td>\n",
              "      <td>Thursday</td>\n",
              "    </tr>\n",
              "    <tr>\n",
              "      <th>3</th>\n",
              "      <td>000b8f95fcb9e0096488278317764d19</td>\n",
              "      <td>Friday</td>\n",
              "    </tr>\n",
              "    <tr>\n",
              "      <th>4</th>\n",
              "      <td>000d9be29b5207b54e86aa1b1ac54872</td>\n",
              "      <td>Tuesday</td>\n",
              "    </tr>\n",
              "    <tr>\n",
              "      <th>...</th>\n",
              "      <td>...</td>\n",
              "      <td>...</td>\n",
              "    </tr>\n",
              "    <tr>\n",
              "      <th>32946</th>\n",
              "      <td>fff6177642830a9a94a0f2cba5e476d1</td>\n",
              "      <td>Saturday</td>\n",
              "    </tr>\n",
              "    <tr>\n",
              "      <th>32947</th>\n",
              "      <td>fff81cc3158d2725c0655ab9ba0f712c</td>\n",
              "      <td>Monday</td>\n",
              "    </tr>\n",
              "    <tr>\n",
              "      <th>32948</th>\n",
              "      <td>fff9553ac224cec9d15d49f5a263411f</td>\n",
              "      <td>Friday</td>\n",
              "    </tr>\n",
              "    <tr>\n",
              "      <th>32949</th>\n",
              "      <td>fffdb2d0ec8d6a61f0a0a0db3f25b441</td>\n",
              "      <td>Tuesday</td>\n",
              "    </tr>\n",
              "    <tr>\n",
              "      <th>32950</th>\n",
              "      <td>fffe9eeff12fcbd74a2f2b007dde0c58</td>\n",
              "      <td>Wednesday</td>\n",
              "    </tr>\n",
              "  </tbody>\n",
              "</table>\n",
              "<p>32951 rows × 2 columns</p>\n",
              "</div>\n",
              "      <button class=\"colab-df-convert\" onclick=\"convertToInteractive('df-9fed560f-3da2-4912-9bec-46d85573108d')\"\n",
              "              title=\"Convert this dataframe to an interactive table.\"\n",
              "              style=\"display:none;\">\n",
              "        \n",
              "  <svg xmlns=\"http://www.w3.org/2000/svg\" height=\"24px\"viewBox=\"0 0 24 24\"\n",
              "       width=\"24px\">\n",
              "    <path d=\"M0 0h24v24H0V0z\" fill=\"none\"/>\n",
              "    <path d=\"M18.56 5.44l.94 2.06.94-2.06 2.06-.94-2.06-.94-.94-2.06-.94 2.06-2.06.94zm-11 1L8.5 8.5l.94-2.06 2.06-.94-2.06-.94L8.5 2.5l-.94 2.06-2.06.94zm10 10l.94 2.06.94-2.06 2.06-.94-2.06-.94-.94-2.06-.94 2.06-2.06.94z\"/><path d=\"M17.41 7.96l-1.37-1.37c-.4-.4-.92-.59-1.43-.59-.52 0-1.04.2-1.43.59L10.3 9.45l-7.72 7.72c-.78.78-.78 2.05 0 2.83L4 21.41c.39.39.9.59 1.41.59.51 0 1.02-.2 1.41-.59l7.78-7.78 2.81-2.81c.8-.78.8-2.07 0-2.86zM5.41 20L4 18.59l7.72-7.72 1.47 1.35L5.41 20z\"/>\n",
              "  </svg>\n",
              "      </button>\n",
              "      \n",
              "  <style>\n",
              "    .colab-df-container {\n",
              "      display:flex;\n",
              "      flex-wrap:wrap;\n",
              "      gap: 12px;\n",
              "    }\n",
              "\n",
              "    .colab-df-convert {\n",
              "      background-color: #E8F0FE;\n",
              "      border: none;\n",
              "      border-radius: 50%;\n",
              "      cursor: pointer;\n",
              "      display: none;\n",
              "      fill: #1967D2;\n",
              "      height: 32px;\n",
              "      padding: 0 0 0 0;\n",
              "      width: 32px;\n",
              "    }\n",
              "\n",
              "    .colab-df-convert:hover {\n",
              "      background-color: #E2EBFA;\n",
              "      box-shadow: 0px 1px 2px rgba(60, 64, 67, 0.3), 0px 1px 3px 1px rgba(60, 64, 67, 0.15);\n",
              "      fill: #174EA6;\n",
              "    }\n",
              "\n",
              "    [theme=dark] .colab-df-convert {\n",
              "      background-color: #3B4455;\n",
              "      fill: #D2E3FC;\n",
              "    }\n",
              "\n",
              "    [theme=dark] .colab-df-convert:hover {\n",
              "      background-color: #434B5C;\n",
              "      box-shadow: 0px 1px 3px 1px rgba(0, 0, 0, 0.15);\n",
              "      filter: drop-shadow(0px 1px 2px rgba(0, 0, 0, 0.3));\n",
              "      fill: #FFFFFF;\n",
              "    }\n",
              "  </style>\n",
              "\n",
              "      <script>\n",
              "        const buttonEl =\n",
              "          document.querySelector('#df-9fed560f-3da2-4912-9bec-46d85573108d button.colab-df-convert');\n",
              "        buttonEl.style.display =\n",
              "          google.colab.kernel.accessAllowed ? 'block' : 'none';\n",
              "\n",
              "        async function convertToInteractive(key) {\n",
              "          const element = document.querySelector('#df-9fed560f-3da2-4912-9bec-46d85573108d');\n",
              "          const dataTable =\n",
              "            await google.colab.kernel.invokeFunction('convertToInteractive',\n",
              "                                                     [key], {});\n",
              "          if (!dataTable) return;\n",
              "\n",
              "          const docLinkHtml = 'Like what you see? Visit the ' +\n",
              "            '<a target=\"_blank\" href=https://colab.research.google.com/notebooks/data_table.ipynb>data table notebook</a>'\n",
              "            + ' to learn more about interactive tables.';\n",
              "          element.innerHTML = '';\n",
              "          dataTable['output_type'] = 'display_data';\n",
              "          await google.colab.output.renderOutput(dataTable, element);\n",
              "          const docLink = document.createElement('div');\n",
              "          docLink.innerHTML = docLinkHtml;\n",
              "          element.appendChild(docLink);\n",
              "        }\n",
              "      </script>\n",
              "    </div>\n",
              "  </div>\n",
              "  "
            ]
          },
          "metadata": {},
          "execution_count": 22
        }
      ]
    },
    {
      "cell_type": "markdown",
      "source": [
        " 4.Сколько у каждого из пользователей в среднем покупок в неделю (по месяцам)? Не стоит забывать, что внутри месяца может быть не целое количество недель. Например, в ноябре 2021 года 4,28 недели. И внутри метрики это нужно учесть."
      ],
      "metadata": {
        "id": "7n2KeAs_qfzk"
      }
    },
    {
      "cell_type": "markdown",
      "source": [
        "1. Для каждого месяца в датасете рассчитать количество дней\n",
        "2. Выделить количество недель внутри месяца, поделив кол-во дней на 7\n",
        "3. Отфильтровать заказы в статусах, несоответствующих покупке\n",
        "4. Приджойнить к orders уникальные идентификаторы пользователей\n",
        "5. Добавить к orders колонку с месяцем покупки\n",
        "6. Для каждого пользователя внутри месяца рассчитать общее количество заказов\n",
        "7. К orders приджойнить количества неделя по месяцам\n",
        "8. Поделить кол-во заказов по пользователям-месяцам на количество кол-во недель в месяце"
      ],
      "metadata": {
        "id": "rAoTRqp1rpT5"
      }
    },
    {
      "cell_type": "code",
      "source": [
        "forth_task = olist_orders[['customer_id', 'order_id','order_status','order_purchase_timestamp']].merge(olist_customers[['customer_id','customer_unique_id']], how = 'left', on = 'customer_id')\\\n",
        ".query('order_status != \"created\"')"
      ],
      "metadata": {
        "id": "wwokpEx4robN"
      },
      "execution_count": null,
      "outputs": []
    },
    {
      "cell_type": "code",
      "source": [
        "forth_task.shape"
      ],
      "metadata": {
        "colab": {
          "base_uri": "https://localhost:8080/"
        },
        "id": "xs64EF3AAweS",
        "outputId": "aa0bef48-8561-4792-f0c4-e5c94c257e87"
      },
      "execution_count": null,
      "outputs": [
        {
          "output_type": "execute_result",
          "data": {
            "text/plain": [
              "(99436, 7)"
            ]
          },
          "metadata": {},
          "execution_count": 67
        }
      ]
    },
    {
      "cell_type": "code",
      "source": [
        "forth_task['order_purchase_timestamp'] = pd.to_datetime(forth_task.order_purchase_timestamp)"
      ],
      "metadata": {
        "id": "no5xgqLrucWP"
      },
      "execution_count": null,
      "outputs": []
    },
    {
      "cell_type": "code",
      "source": [
        "forth_task['week_in_month'] = forth_task.order_purchase_timestamp.dt.daysinmonth/7"
      ],
      "metadata": {
        "id": "fRa9qmw-ulOK"
      },
      "execution_count": null,
      "outputs": []
    },
    {
      "cell_type": "code",
      "source": [
        "forth_task['month'] = forth_task.order_purchase_timestamp.dt.strftime('%m/%Y')"
      ],
      "metadata": {
        "id": "c0Gf4KULxV2f"
      },
      "execution_count": null,
      "outputs": []
    },
    {
      "cell_type": "code",
      "source": [
        "x = forth_task.groupby(['customer_unique_id', 'month'], as_index = False).agg({'customer_id':'count'})"
      ],
      "metadata": {
        "id": "cenUlRMnxvw5"
      },
      "execution_count": null,
      "outputs": []
    },
    {
      "cell_type": "code",
      "source": [
        "x = x.merge(forth_task[['week_in_month', 'month']].drop_duplicates(), on = 'month', how = 'left' )"
      ],
      "metadata": {
        "id": "-PiLeHNg0Fk8"
      },
      "execution_count": null,
      "outputs": []
    },
    {
      "cell_type": "code",
      "source": [
        "x = x.rename(columns = {'customer_id':'sails'})"
      ],
      "metadata": {
        "id": "GYanBRck172D"
      },
      "execution_count": null,
      "outputs": []
    },
    {
      "cell_type": "code",
      "source": [
        "x['by_per_week_in_month'] = x.sails/x.week_in_month"
      ],
      "metadata": {
        "id": "ZbFEJ8HK0Ufw"
      },
      "execution_count": null,
      "outputs": []
    },
    {
      "cell_type": "markdown",
      "source": [
        "5. Используя pandas, проведи когортный анализ пользователей. В период с января по декабрь выяви когорту с самым высоким retention на 3й месяц. "
      ],
      "metadata": {
        "id": "OtG4-4qj33bs"
      }
    },
    {
      "cell_type": "markdown",
      "source": [
        "- Для каждого пользователя выбрать первую дату доставки\n",
        "- Определить когорты, путем разности даты первой покупки и даты покупки\n",
        "- Выделлить целое кол-во месяце( когорты определяем месячные )\n",
        "- Посчитать ретеншен по когортам\n",
        "- Визуализировать хитмапом"
      ],
      "metadata": {
        "id": "ZzzUveXL5A0i"
      }
    },
    {
      "cell_type": "code",
      "source": [
        "task5 = olist_orders[~olist_orders.order_status.isin(['created'])].merge(\n",
        "            olist_customers[['customer_id', 'customer_unique_id']], \n",
        "            on='customer_id', \n",
        "            how='left')"
      ],
      "metadata": {
        "id": "2NkJHbuJ36vE"
      },
      "execution_count": null,
      "outputs": []
    },
    {
      "cell_type": "code",
      "source": [
        "task5['order_purchase_timestamp'] = pd.to_datetime(task5.order_purchase_timestamp)"
      ],
      "metadata": {
        "id": "FmtmB3qV6AiY"
      },
      "execution_count": null,
      "outputs": []
    },
    {
      "cell_type": "code",
      "source": [
        "task5 = task5.merge(task5.groupby('customer_unique_id', as_index = False).agg({'order_purchase_timestamp':'min'}).rename(columns = {'order_purchase_timestamp':'ferst_buy'}),on = 'customer_unique_id', how = 'left')"
      ],
      "metadata": {
        "id": "rtRHwa875syY"
      },
      "execution_count": null,
      "outputs": []
    },
    {
      "cell_type": "code",
      "source": [
        "task5 = task5[['order_id', 'customer_unique_id', 'order_purchase_timestamp', 'ferst_buy', 'order_status']]"
      ],
      "metadata": {
        "id": "wtKYqKDy-dSL"
      },
      "execution_count": null,
      "outputs": []
    },
    {
      "cell_type": "code",
      "source": [
        "task5['month'] = task5.ferst_buy.dt.strftime('%m/%Y')"
      ],
      "metadata": {
        "id": "4ZwLP-yl7Aaq"
      },
      "execution_count": null,
      "outputs": []
    },
    {
      "cell_type": "code",
      "source": [
        "task5['days_dist'] = (task5.order_purchase_timestamp - task5.ferst_buy).dt.days "
      ],
      "metadata": {
        "id": "4OaY1WlA-4Hx"
      },
      "execution_count": null,
      "outputs": []
    },
    {
      "cell_type": "code",
      "source": [
        "task5['days_in_month'] = forth_task.order_purchase_timestamp.dt.daysinmonth"
      ],
      "metadata": {
        "id": "dsgjnHUF_mWG"
      },
      "execution_count": null,
      "outputs": []
    },
    {
      "cell_type": "code",
      "source": [
        "from math import trunc"
      ],
      "metadata": {
        "id": "3YLqc3AnE-wp"
      },
      "execution_count": null,
      "outputs": []
    },
    {
      "cell_type": "code",
      "source": [
        "task5['chort'] = (task5.days_dist / task5.days_in_month).fillna(0).apply(lambda x: m.trunc(x))\n",
        "# Выделяем целое кол-во месяцев у каждой покупки, чтобы было удобнее когорты выделять "
      ],
      "metadata": {
        "id": "CTfgml6pD4uu"
      },
      "execution_count": null,
      "outputs": []
    },
    {
      "cell_type": "code",
      "source": [
        "fine_5 = task5.pivot_table(index ='month', columns = 'chort', values = 'order_id', aggfunc= 'count' )"
      ],
      "metadata": {
        "id": "KLfLCc3VGVH5"
      },
      "execution_count": null,
      "outputs": []
    },
    {
      "cell_type": "code",
      "source": [
        "all_users = fine_5[0]"
      ],
      "metadata": {
        "id": "uyC-qiIWG2db"
      },
      "execution_count": null,
      "outputs": []
    },
    {
      "cell_type": "code",
      "source": [
        "#Наводим красоту (сортировка)\n",
        "retention = fine_5.divide(all_users, axis=0).round(3) #Формируем когорты\n",
        "retention = retention.reset_index()\n",
        "retention['month'] = pd.to_datetime(retention['month']).dt.date\n",
        "retention = retention.sort_values('month').set_index('month')"
      ],
      "metadata": {
        "id": "nCGQU9IkHzHQ"
      },
      "execution_count": null,
      "outputs": []
    },
    {
      "cell_type": "code",
      "source": [
        "plt.figure(figsize=(18,14))\n",
        "plt.title('Retention')\n",
        "ax = sns.heatmap(data=retention, annot=True, vmin=0.0, vmax=0.005, cmap='YlGnBu')\n",
        "ax.set_yticklabels(retention.index)\n",
        "fig=ax.get_figure()\n",
        "plt.show()"
      ],
      "metadata": {
        "colab": {
          "base_uri": "https://localhost:8080/",
          "height": 1000
        },
        "id": "zXJtjsINFyaO",
        "outputId": "5a7447a4-1352-4c56-fd4a-51c999ac786f"
      },
      "execution_count": null,
      "outputs": [
        {
          "output_type": "display_data",
          "data": {
            "text/plain": [
              "<Figure size 1296x1008 with 2 Axes>"
            ],
            "image/svg+xml": "<?xml version=\"1.0\" encoding=\"utf-8\" standalone=\"no\"?>\n<!DOCTYPE svg PUBLIC \"-//W3C//DTD SVG 1.1//EN\"\n  \"http://www.w3.org/Graphics/SVG/1.1/DTD/svg11.dtd\">\n<!-- Created with matplotlib (https://matplotlib.org/) -->\n<svg height=\"820.914375pt\" version=\"1.1\" viewBox=\"0 0 1020.613875 820.914375\" width=\"1020.613875pt\" xmlns=\"http://www.w3.org/2000/svg\" xmlns:xlink=\"http://www.w3.org/1999/xlink\">\n <defs>\n  <style type=\"text/css\">\n*{stroke-linecap:butt;stroke-linejoin:round;}\n  </style>\n </defs>\n <g id=\"figure_1\">\n  <g id=\"patch_1\">\n   <path d=\"M 0 820.914375 \nL 1020.613875 820.914375 \nL 1020.613875 -0 \nL 0 -0 \nz\n\" style=\"fill:none;\"/>\n  </g>\n  <g id=\"axes_1\">\n   <g id=\"patch_2\">\n    <path d=\"M 85.99375 783.358125 \nL 889.51375 783.358125 \nL 889.51375 22.318125 \nL 85.99375 22.318125 \nz\n\" style=\"fill:#ffffff;\"/>\n   </g>\n   <g id=\"QuadMesh_1\">\n    <path clip-path=\"url(#pe5dc507ec0)\" d=\"M 85.99375 22.318125 \nL 126.16975 22.318125 \nL 126.16975 52.759725 \nL 85.99375 52.759725 \nL 85.99375 22.318125 \n\" style=\"fill:none;\"/>\n    <path clip-path=\"url(#pe5dc507ec0)\" d=\"M 126.16975 22.318125 \nL 166.34575 22.318125 \nL 166.34575 52.759725 \nL 126.16975 52.759725 \nL 126.16975 22.318125 \n\" style=\"fill:none;\"/>\n    <path clip-path=\"url(#pe5dc507ec0)\" d=\"M 166.34575 22.318125 \nL 206.52175 22.318125 \nL 206.52175 52.759725 \nL 166.34575 52.759725 \nL 166.34575 22.318125 \n\" style=\"fill:none;\"/>\n    <path clip-path=\"url(#pe5dc507ec0)\" d=\"M 206.52175 22.318125 \nL 246.69775 22.318125 \nL 246.69775 52.759725 \nL 206.52175 52.759725 \nL 206.52175 22.318125 \n\" style=\"fill:none;\"/>\n    <path clip-path=\"url(#pe5dc507ec0)\" d=\"M 246.69775 22.318125 \nL 286.87375 22.318125 \nL 286.87375 52.759725 \nL 246.69775 52.759725 \nL 246.69775 22.318125 \n\" style=\"fill:none;\"/>\n    <path clip-path=\"url(#pe5dc507ec0)\" d=\"M 286.87375 22.318125 \nL 327.04975 22.318125 \nL 327.04975 52.759725 \nL 286.87375 52.759725 \nL 286.87375 22.318125 \n\" style=\"fill:none;\"/>\n    <path clip-path=\"url(#pe5dc507ec0)\" d=\"M 327.04975 22.318125 \nL 367.22575 22.318125 \nL 367.22575 52.759725 \nL 327.04975 52.759725 \nL 327.04975 22.318125 \n\" style=\"fill:none;\"/>\n    <path clip-path=\"url(#pe5dc507ec0)\" d=\"M 367.22575 22.318125 \nL 407.40175 22.318125 \nL 407.40175 52.759725 \nL 367.22575 52.759725 \nL 367.22575 22.318125 \n\" style=\"fill:none;\"/>\n    <path clip-path=\"url(#pe5dc507ec0)\" d=\"M 407.40175 22.318125 \nL 447.57775 22.318125 \nL 447.57775 52.759725 \nL 407.40175 52.759725 \nL 407.40175 22.318125 \n\" style=\"fill:none;\"/>\n    <path clip-path=\"url(#pe5dc507ec0)\" d=\"M 447.57775 22.318125 \nL 487.75375 22.318125 \nL 487.75375 52.759725 \nL 447.57775 52.759725 \nL 447.57775 22.318125 \n\" style=\"fill:none;\"/>\n    <path clip-path=\"url(#pe5dc507ec0)\" d=\"M 487.75375 22.318125 \nL 527.92975 22.318125 \nL 527.92975 52.759725 \nL 487.75375 52.759725 \nL 487.75375 22.318125 \n\" style=\"fill:none;\"/>\n    <path clip-path=\"url(#pe5dc507ec0)\" d=\"M 527.92975 22.318125 \nL 568.10575 22.318125 \nL 568.10575 52.759725 \nL 527.92975 52.759725 \nL 527.92975 22.318125 \n\" style=\"fill:none;\"/>\n    <path clip-path=\"url(#pe5dc507ec0)\" d=\"M 568.10575 22.318125 \nL 608.28175 22.318125 \nL 608.28175 52.759725 \nL 568.10575 52.759725 \nL 568.10575 22.318125 \n\" style=\"fill:none;\"/>\n    <path clip-path=\"url(#pe5dc507ec0)\" d=\"M 608.28175 22.318125 \nL 648.45775 22.318125 \nL 648.45775 52.759725 \nL 608.28175 52.759725 \nL 608.28175 22.318125 \n\" style=\"fill:none;\"/>\n    <path clip-path=\"url(#pe5dc507ec0)\" d=\"M 648.45775 22.318125 \nL 688.63375 22.318125 \nL 688.63375 52.759725 \nL 648.45775 52.759725 \nL 648.45775 22.318125 \n\" style=\"fill:none;\"/>\n    <path clip-path=\"url(#pe5dc507ec0)\" d=\"M 688.63375 22.318125 \nL 728.80975 22.318125 \nL 728.80975 52.759725 \nL 688.63375 52.759725 \nL 688.63375 22.318125 \n\" style=\"fill:none;\"/>\n    <path clip-path=\"url(#pe5dc507ec0)\" d=\"M 728.80975 22.318125 \nL 768.98575 22.318125 \nL 768.98575 52.759725 \nL 728.80975 52.759725 \nL 728.80975 22.318125 \n\" style=\"fill:none;\"/>\n    <path clip-path=\"url(#pe5dc507ec0)\" d=\"M 768.98575 22.318125 \nL 809.16175 22.318125 \nL 809.16175 52.759725 \nL 768.98575 52.759725 \nL 768.98575 22.318125 \n\" style=\"fill:none;\"/>\n    <path clip-path=\"url(#pe5dc507ec0)\" d=\"M 809.16175 22.318125 \nL 849.33775 22.318125 \nL 849.33775 52.759725 \nL 809.16175 52.759725 \nL 809.16175 22.318125 \n\" style=\"fill:none;\"/>\n    <path clip-path=\"url(#pe5dc507ec0)\" d=\"M 849.33775 22.318125 \nL 889.51375 22.318125 \nL 889.51375 52.759725 \nL 849.33775 52.759725 \nL 849.33775 22.318125 \n\" style=\"fill:none;\"/>\n    <path clip-path=\"url(#pe5dc507ec0)\" d=\"M 85.99375 52.759725 \nL 126.16975 52.759725 \nL 126.16975 83.201325 \nL 85.99375 83.201325 \nL 85.99375 52.759725 \n\" style=\"fill:none;\"/>\n    <path clip-path=\"url(#pe5dc507ec0)\" d=\"M 126.16975 52.759725 \nL 166.34575 52.759725 \nL 166.34575 83.201325 \nL 126.16975 83.201325 \nL 126.16975 52.759725 \n\" style=\"fill:none;\"/>\n    <path clip-path=\"url(#pe5dc507ec0)\" d=\"M 166.34575 52.759725 \nL 206.52175 52.759725 \nL 206.52175 83.201325 \nL 166.34575 83.201325 \nL 166.34575 52.759725 \n\" style=\"fill:none;\"/>\n    <path clip-path=\"url(#pe5dc507ec0)\" d=\"M 206.52175 52.759725 \nL 246.69775 52.759725 \nL 246.69775 83.201325 \nL 206.52175 83.201325 \nL 206.52175 52.759725 \n\" style=\"fill:none;\"/>\n    <path clip-path=\"url(#pe5dc507ec0)\" d=\"M 246.69775 52.759725 \nL 286.87375 52.759725 \nL 286.87375 83.201325 \nL 246.69775 83.201325 \nL 246.69775 52.759725 \n\" style=\"fill:#2498c1;\"/>\n    <path clip-path=\"url(#pe5dc507ec0)\" d=\"M 286.87375 52.759725 \nL 327.04975 52.759725 \nL 327.04975 83.201325 \nL 286.87375 83.201325 \nL 286.87375 52.759725 \n\" style=\"fill:none;\"/>\n    <path clip-path=\"url(#pe5dc507ec0)\" d=\"M 327.04975 52.759725 \nL 367.22575 52.759725 \nL 367.22575 83.201325 \nL 327.04975 83.201325 \nL 327.04975 52.759725 \n\" style=\"fill:none;\"/>\n    <path clip-path=\"url(#pe5dc507ec0)\" d=\"M 367.22575 52.759725 \nL 407.40175 52.759725 \nL 407.40175 83.201325 \nL 367.22575 83.201325 \nL 367.22575 52.759725 \n\" style=\"fill:none;\"/>\n    <path clip-path=\"url(#pe5dc507ec0)\" d=\"M 407.40175 52.759725 \nL 447.57775 52.759725 \nL 447.57775 83.201325 \nL 407.40175 83.201325 \nL 407.40175 52.759725 \n\" style=\"fill:#2498c1;\"/>\n    <path clip-path=\"url(#pe5dc507ec0)\" d=\"M 447.57775 52.759725 \nL 487.75375 52.759725 \nL 487.75375 83.201325 \nL 447.57775 83.201325 \nL 447.57775 52.759725 \n\" style=\"fill:none;\"/>\n    <path clip-path=\"url(#pe5dc507ec0)\" d=\"M 487.75375 52.759725 \nL 527.92975 52.759725 \nL 527.92975 83.201325 \nL 487.75375 83.201325 \nL 487.75375 52.759725 \n\" style=\"fill:#2498c1;\"/>\n    <path clip-path=\"url(#pe5dc507ec0)\" d=\"M 527.92975 52.759725 \nL 568.10575 52.759725 \nL 568.10575 83.201325 \nL 527.92975 83.201325 \nL 527.92975 52.759725 \n\" style=\"fill:#2498c1;\"/>\n    <path clip-path=\"url(#pe5dc507ec0)\" d=\"M 568.10575 52.759725 \nL 608.28175 52.759725 \nL 608.28175 83.201325 \nL 568.10575 83.201325 \nL 568.10575 52.759725 \n\" style=\"fill:none;\"/>\n    <path clip-path=\"url(#pe5dc507ec0)\" d=\"M 608.28175 52.759725 \nL 648.45775 52.759725 \nL 648.45775 83.201325 \nL 608.28175 83.201325 \nL 608.28175 52.759725 \n\" style=\"fill:#2498c1;\"/>\n    <path clip-path=\"url(#pe5dc507ec0)\" d=\"M 648.45775 52.759725 \nL 688.63375 52.759725 \nL 688.63375 83.201325 \nL 648.45775 83.201325 \nL 648.45775 52.759725 \n\" style=\"fill:none;\"/>\n    <path clip-path=\"url(#pe5dc507ec0)\" d=\"M 688.63375 52.759725 \nL 728.80975 52.759725 \nL 728.80975 83.201325 \nL 688.63375 83.201325 \nL 688.63375 52.759725 \n\" style=\"fill:none;\"/>\n    <path clip-path=\"url(#pe5dc507ec0)\" d=\"M 728.80975 52.759725 \nL 768.98575 52.759725 \nL 768.98575 83.201325 \nL 728.80975 83.201325 \nL 728.80975 52.759725 \n\" style=\"fill:#2498c1;\"/>\n    <path clip-path=\"url(#pe5dc507ec0)\" d=\"M 768.98575 52.759725 \nL 809.16175 52.759725 \nL 809.16175 83.201325 \nL 768.98575 83.201325 \nL 768.98575 52.759725 \n\" style=\"fill:#081d58;\"/>\n    <path clip-path=\"url(#pe5dc507ec0)\" d=\"M 809.16175 52.759725 \nL 849.33775 52.759725 \nL 849.33775 83.201325 \nL 809.16175 83.201325 \nL 809.16175 52.759725 \n\" style=\"fill:none;\"/>\n    <path clip-path=\"url(#pe5dc507ec0)\" d=\"M 849.33775 52.759725 \nL 889.51375 52.759725 \nL 889.51375 83.201325 \nL 849.33775 83.201325 \nL 849.33775 52.759725 \n\" style=\"fill:#081d58;\"/>\n    <path clip-path=\"url(#pe5dc507ec0)\" d=\"M 85.99375 83.201325 \nL 126.16975 83.201325 \nL 126.16975 113.642925 \nL 85.99375 113.642925 \nL 85.99375 83.201325 \n\" style=\"fill:none;\"/>\n    <path clip-path=\"url(#pe5dc507ec0)\" d=\"M 126.16975 83.201325 \nL 166.34575 83.201325 \nL 166.34575 113.642925 \nL 126.16975 113.642925 \nL 126.16975 83.201325 \n\" style=\"fill:none;\"/>\n    <path clip-path=\"url(#pe5dc507ec0)\" d=\"M 166.34575 83.201325 \nL 206.52175 83.201325 \nL 206.52175 113.642925 \nL 166.34575 113.642925 \nL 166.34575 83.201325 \n\" style=\"fill:none;\"/>\n    <path clip-path=\"url(#pe5dc507ec0)\" d=\"M 206.52175 83.201325 \nL 246.69775 83.201325 \nL 246.69775 113.642925 \nL 206.52175 113.642925 \nL 206.52175 83.201325 \n\" style=\"fill:none;\"/>\n    <path clip-path=\"url(#pe5dc507ec0)\" d=\"M 246.69775 83.201325 \nL 286.87375 83.201325 \nL 286.87375 113.642925 \nL 246.69775 113.642925 \nL 246.69775 83.201325 \n\" style=\"fill:none;\"/>\n    <path clip-path=\"url(#pe5dc507ec0)\" d=\"M 286.87375 83.201325 \nL 327.04975 83.201325 \nL 327.04975 113.642925 \nL 286.87375 113.642925 \nL 286.87375 83.201325 \n\" style=\"fill:none;\"/>\n    <path clip-path=\"url(#pe5dc507ec0)\" d=\"M 327.04975 83.201325 \nL 367.22575 83.201325 \nL 367.22575 113.642925 \nL 327.04975 113.642925 \nL 327.04975 83.201325 \n\" style=\"fill:none;\"/>\n    <path clip-path=\"url(#pe5dc507ec0)\" d=\"M 367.22575 83.201325 \nL 407.40175 83.201325 \nL 407.40175 113.642925 \nL 367.22575 113.642925 \nL 367.22575 83.201325 \n\" style=\"fill:none;\"/>\n    <path clip-path=\"url(#pe5dc507ec0)\" d=\"M 407.40175 83.201325 \nL 447.57775 83.201325 \nL 447.57775 113.642925 \nL 407.40175 113.642925 \nL 407.40175 83.201325 \n\" style=\"fill:none;\"/>\n    <path clip-path=\"url(#pe5dc507ec0)\" d=\"M 447.57775 83.201325 \nL 487.75375 83.201325 \nL 487.75375 113.642925 \nL 447.57775 113.642925 \nL 447.57775 83.201325 \n\" style=\"fill:none;\"/>\n    <path clip-path=\"url(#pe5dc507ec0)\" d=\"M 487.75375 83.201325 \nL 527.92975 83.201325 \nL 527.92975 113.642925 \nL 487.75375 113.642925 \nL 487.75375 83.201325 \n\" style=\"fill:none;\"/>\n    <path clip-path=\"url(#pe5dc507ec0)\" d=\"M 527.92975 83.201325 \nL 568.10575 83.201325 \nL 568.10575 113.642925 \nL 527.92975 113.642925 \nL 527.92975 83.201325 \n\" style=\"fill:none;\"/>\n    <path clip-path=\"url(#pe5dc507ec0)\" d=\"M 568.10575 83.201325 \nL 608.28175 83.201325 \nL 608.28175 113.642925 \nL 568.10575 113.642925 \nL 568.10575 83.201325 \n\" style=\"fill:none;\"/>\n    <path clip-path=\"url(#pe5dc507ec0)\" d=\"M 608.28175 83.201325 \nL 648.45775 83.201325 \nL 648.45775 113.642925 \nL 608.28175 113.642925 \nL 608.28175 83.201325 \n\" style=\"fill:none;\"/>\n    <path clip-path=\"url(#pe5dc507ec0)\" d=\"M 648.45775 83.201325 \nL 688.63375 83.201325 \nL 688.63375 113.642925 \nL 648.45775 113.642925 \nL 648.45775 83.201325 \n\" style=\"fill:none;\"/>\n    <path clip-path=\"url(#pe5dc507ec0)\" d=\"M 688.63375 83.201325 \nL 728.80975 83.201325 \nL 728.80975 113.642925 \nL 688.63375 113.642925 \nL 688.63375 83.201325 \n\" style=\"fill:none;\"/>\n    <path clip-path=\"url(#pe5dc507ec0)\" d=\"M 728.80975 83.201325 \nL 768.98575 83.201325 \nL 768.98575 113.642925 \nL 728.80975 113.642925 \nL 728.80975 83.201325 \n\" style=\"fill:none;\"/>\n    <path clip-path=\"url(#pe5dc507ec0)\" d=\"M 768.98575 83.201325 \nL 809.16175 83.201325 \nL 809.16175 113.642925 \nL 768.98575 113.642925 \nL 768.98575 83.201325 \n\" style=\"fill:none;\"/>\n    <path clip-path=\"url(#pe5dc507ec0)\" d=\"M 809.16175 83.201325 \nL 849.33775 83.201325 \nL 849.33775 113.642925 \nL 809.16175 113.642925 \nL 809.16175 83.201325 \n\" style=\"fill:none;\"/>\n    <path clip-path=\"url(#pe5dc507ec0)\" d=\"M 849.33775 83.201325 \nL 889.51375 83.201325 \nL 889.51375 113.642925 \nL 849.33775 113.642925 \nL 849.33775 83.201325 \n\" style=\"fill:none;\"/>\n    <path clip-path=\"url(#pe5dc507ec0)\" d=\"M 85.99375 113.642925 \nL 126.16975 113.642925 \nL 126.16975 144.084525 \nL 85.99375 144.084525 \nL 85.99375 113.642925 \n\" style=\"fill:#73c8bd;\"/>\n    <path clip-path=\"url(#pe5dc507ec0)\" d=\"M 126.16975 113.642925 \nL 166.34575 113.642925 \nL 166.34575 144.084525 \nL 126.16975 144.084525 \nL 126.16975 113.642925 \n\" style=\"fill:none;\"/>\n    <path clip-path=\"url(#pe5dc507ec0)\" d=\"M 166.34575 113.642925 \nL 206.52175 113.642925 \nL 206.52175 144.084525 \nL 166.34575 144.084525 \nL 166.34575 113.642925 \n\" style=\"fill:#081d58;\"/>\n    <path clip-path=\"url(#pe5dc507ec0)\" d=\"M 206.52175 113.642925 \nL 246.69775 113.642925 \nL 246.69775 144.084525 \nL 206.52175 144.084525 \nL 206.52175 113.642925 \n\" style=\"fill:#d6efb3;\"/>\n    <path clip-path=\"url(#pe5dc507ec0)\" d=\"M 246.69775 113.642925 \nL 286.87375 113.642925 \nL 286.87375 144.084525 \nL 246.69775 144.084525 \nL 246.69775 113.642925 \n\" style=\"fill:#d6efb3;\"/>\n    <path clip-path=\"url(#pe5dc507ec0)\" d=\"M 286.87375 113.642925 \nL 327.04975 113.642925 \nL 327.04975 144.084525 \nL 286.87375 144.084525 \nL 286.87375 113.642925 \n\" style=\"fill:#081d58;\"/>\n    <path clip-path=\"url(#pe5dc507ec0)\" d=\"M 327.04975 113.642925 \nL 367.22575 113.642925 \nL 367.22575 144.084525 \nL 327.04975 144.084525 \nL 327.04975 113.642925 \n\" style=\"fill:#d6efb3;\"/>\n    <path clip-path=\"url(#pe5dc507ec0)\" d=\"M 367.22575 113.642925 \nL 407.40175 113.642925 \nL 407.40175 144.084525 \nL 367.22575 144.084525 \nL 367.22575 113.642925 \n\" style=\"fill:none;\"/>\n    <path clip-path=\"url(#pe5dc507ec0)\" d=\"M 407.40175 113.642925 \nL 447.57775 113.642925 \nL 447.57775 144.084525 \nL 407.40175 144.084525 \nL 407.40175 113.642925 \n\" style=\"fill:none;\"/>\n    <path clip-path=\"url(#pe5dc507ec0)\" d=\"M 447.57775 113.642925 \nL 487.75375 113.642925 \nL 487.75375 144.084525 \nL 447.57775 144.084525 \nL 447.57775 113.642925 \n\" style=\"fill:#081d58;\"/>\n    <path clip-path=\"url(#pe5dc507ec0)\" d=\"M 487.75375 113.642925 \nL 527.92975 113.642925 \nL 527.92975 144.084525 \nL 487.75375 144.084525 \nL 487.75375 113.642925 \n\" style=\"fill:#081d58;\"/>\n    <path clip-path=\"url(#pe5dc507ec0)\" d=\"M 527.92975 113.642925 \nL 568.10575 113.642925 \nL 568.10575 144.084525 \nL 527.92975 144.084525 \nL 527.92975 113.642925 \n\" style=\"fill:#234da0;\"/>\n    <path clip-path=\"url(#pe5dc507ec0)\" d=\"M 568.10575 113.642925 \nL 608.28175 113.642925 \nL 608.28175 144.084525 \nL 568.10575 144.084525 \nL 568.10575 113.642925 \n\" style=\"fill:#73c8bd;\"/>\n    <path clip-path=\"url(#pe5dc507ec0)\" d=\"M 608.28175 113.642925 \nL 648.45775 113.642925 \nL 648.45775 144.084525 \nL 608.28175 144.084525 \nL 608.28175 113.642925 \n\" style=\"fill:#d6efb3;\"/>\n    <path clip-path=\"url(#pe5dc507ec0)\" d=\"M 648.45775 113.642925 \nL 688.63375 113.642925 \nL 688.63375 144.084525 \nL 648.45775 144.084525 \nL 648.45775 113.642925 \n\" style=\"fill:#d6efb3;\"/>\n    <path clip-path=\"url(#pe5dc507ec0)\" d=\"M 688.63375 113.642925 \nL 728.80975 113.642925 \nL 728.80975 144.084525 \nL 688.63375 144.084525 \nL 688.63375 113.642925 \n\" style=\"fill:#234da0;\"/>\n    <path clip-path=\"url(#pe5dc507ec0)\" d=\"M 728.80975 113.642925 \nL 768.98575 113.642925 \nL 768.98575 144.084525 \nL 728.80975 144.084525 \nL 728.80975 113.642925 \n\" style=\"fill:#d6efb3;\"/>\n    <path clip-path=\"url(#pe5dc507ec0)\" d=\"M 768.98575 113.642925 \nL 809.16175 113.642925 \nL 809.16175 144.084525 \nL 768.98575 144.084525 \nL 768.98575 113.642925 \n\" style=\"fill:none;\"/>\n    <path clip-path=\"url(#pe5dc507ec0)\" d=\"M 809.16175 113.642925 \nL 849.33775 113.642925 \nL 849.33775 144.084525 \nL 809.16175 144.084525 \nL 809.16175 113.642925 \n\" style=\"fill:#d6efb3;\"/>\n    <path clip-path=\"url(#pe5dc507ec0)\" d=\"M 849.33775 113.642925 \nL 889.51375 113.642925 \nL 889.51375 144.084525 \nL 849.33775 144.084525 \nL 849.33775 113.642925 \n\" style=\"fill:none;\"/>\n    <path clip-path=\"url(#pe5dc507ec0)\" d=\"M 85.99375 144.084525 \nL 126.16975 144.084525 \nL 126.16975 174.526125 \nL 85.99375 174.526125 \nL 85.99375 144.084525 \n\" style=\"fill:#73c8bd;\"/>\n    <path clip-path=\"url(#pe5dc507ec0)\" d=\"M 126.16975 144.084525 \nL 166.34575 144.084525 \nL 166.34575 174.526125 \nL 126.16975 174.526125 \nL 126.16975 144.084525 \n\" style=\"fill:#73c8bd;\"/>\n    <path clip-path=\"url(#pe5dc507ec0)\" d=\"M 166.34575 144.084525 \nL 206.52175 144.084525 \nL 206.52175 174.526125 \nL 166.34575 174.526125 \nL 166.34575 144.084525 \n\" style=\"fill:#2498c1;\"/>\n    <path clip-path=\"url(#pe5dc507ec0)\" d=\"M 206.52175 144.084525 \nL 246.69775 144.084525 \nL 246.69775 174.526125 \nL 206.52175 174.526125 \nL 206.52175 144.084525 \n\" style=\"fill:#73c8bd;\"/>\n    <path clip-path=\"url(#pe5dc507ec0)\" d=\"M 246.69775 144.084525 \nL 286.87375 144.084525 \nL 286.87375 174.526125 \nL 246.69775 174.526125 \nL 246.69775 144.084525 \n\" style=\"fill:#73c8bd;\"/>\n    <path clip-path=\"url(#pe5dc507ec0)\" d=\"M 286.87375 144.084525 \nL 327.04975 144.084525 \nL 327.04975 174.526125 \nL 286.87375 174.526125 \nL 286.87375 144.084525 \n\" style=\"fill:#73c8bd;\"/>\n    <path clip-path=\"url(#pe5dc507ec0)\" d=\"M 327.04975 144.084525 \nL 367.22575 144.084525 \nL 367.22575 174.526125 \nL 327.04975 174.526125 \nL 327.04975 144.084525 \n\" style=\"fill:#d6efb3;\"/>\n    <path clip-path=\"url(#pe5dc507ec0)\" d=\"M 367.22575 144.084525 \nL 407.40175 144.084525 \nL 407.40175 174.526125 \nL 367.22575 174.526125 \nL 367.22575 144.084525 \n\" style=\"fill:#d6efb3;\"/>\n    <path clip-path=\"url(#pe5dc507ec0)\" d=\"M 407.40175 144.084525 \nL 447.57775 144.084525 \nL 447.57775 174.526125 \nL 407.40175 174.526125 \nL 407.40175 144.084525 \n\" style=\"fill:#2498c1;\"/>\n    <path clip-path=\"url(#pe5dc507ec0)\" d=\"M 447.57775 144.084525 \nL 487.75375 144.084525 \nL 487.75375 174.526125 \nL 447.57775 174.526125 \nL 447.57775 144.084525 \n\" style=\"fill:#d6efb3;\"/>\n    <path clip-path=\"url(#pe5dc507ec0)\" d=\"M 487.75375 144.084525 \nL 527.92975 144.084525 \nL 527.92975 174.526125 \nL 487.75375 174.526125 \nL 487.75375 144.084525 \n\" style=\"fill:#73c8bd;\"/>\n    <path clip-path=\"url(#pe5dc507ec0)\" d=\"M 527.92975 144.084525 \nL 568.10575 144.084525 \nL 568.10575 174.526125 \nL 527.92975 174.526125 \nL 527.92975 144.084525 \n\" style=\"fill:#d6efb3;\"/>\n    <path clip-path=\"url(#pe5dc507ec0)\" d=\"M 568.10575 144.084525 \nL 608.28175 144.084525 \nL 608.28175 174.526125 \nL 568.10575 174.526125 \nL 568.10575 144.084525 \n\" style=\"fill:#2498c1;\"/>\n    <path clip-path=\"url(#pe5dc507ec0)\" d=\"M 608.28175 144.084525 \nL 648.45775 144.084525 \nL 648.45775 174.526125 \nL 608.28175 174.526125 \nL 608.28175 144.084525 \n\" style=\"fill:#d6efb3;\"/>\n    <path clip-path=\"url(#pe5dc507ec0)\" d=\"M 648.45775 144.084525 \nL 688.63375 144.084525 \nL 688.63375 174.526125 \nL 648.45775 174.526125 \nL 648.45775 144.084525 \n\" style=\"fill:#d6efb3;\"/>\n    <path clip-path=\"url(#pe5dc507ec0)\" d=\"M 688.63375 144.084525 \nL 728.80975 144.084525 \nL 728.80975 174.526125 \nL 688.63375 174.526125 \nL 688.63375 144.084525 \n\" style=\"fill:#73c8bd;\"/>\n    <path clip-path=\"url(#pe5dc507ec0)\" d=\"M 728.80975 144.084525 \nL 768.98575 144.084525 \nL 768.98575 174.526125 \nL 728.80975 174.526125 \nL 728.80975 144.084525 \n\" style=\"fill:#d6efb3;\"/>\n    <path clip-path=\"url(#pe5dc507ec0)\" d=\"M 768.98575 144.084525 \nL 809.16175 144.084525 \nL 809.16175 174.526125 \nL 768.98575 174.526125 \nL 768.98575 144.084525 \n\" style=\"fill:none;\"/>\n    <path clip-path=\"url(#pe5dc507ec0)\" d=\"M 809.16175 144.084525 \nL 849.33775 144.084525 \nL 849.33775 174.526125 \nL 809.16175 174.526125 \nL 809.16175 144.084525 \n\" style=\"fill:none;\"/>\n    <path clip-path=\"url(#pe5dc507ec0)\" d=\"M 849.33775 144.084525 \nL 889.51375 144.084525 \nL 889.51375 174.526125 \nL 849.33775 174.526125 \nL 849.33775 144.084525 \n\" style=\"fill:none;\"/>\n    <path clip-path=\"url(#pe5dc507ec0)\" d=\"M 85.99375 174.526125 \nL 126.16975 174.526125 \nL 126.16975 204.967725 \nL 85.99375 204.967725 \nL 85.99375 174.526125 \n\" style=\"fill:#2498c1;\"/>\n    <path clip-path=\"url(#pe5dc507ec0)\" d=\"M 126.16975 174.526125 \nL 166.34575 174.526125 \nL 166.34575 204.967725 \nL 126.16975 204.967725 \nL 126.16975 174.526125 \n\" style=\"fill:#081d58;\"/>\n    <path clip-path=\"url(#pe5dc507ec0)\" d=\"M 166.34575 174.526125 \nL 206.52175 174.526125 \nL 206.52175 204.967725 \nL 166.34575 204.967725 \nL 166.34575 174.526125 \n\" style=\"fill:#2498c1;\"/>\n    <path clip-path=\"url(#pe5dc507ec0)\" d=\"M 206.52175 174.526125 \nL 246.69775 174.526125 \nL 246.69775 204.967725 \nL 206.52175 204.967725 \nL 206.52175 174.526125 \n\" style=\"fill:#73c8bd;\"/>\n    <path clip-path=\"url(#pe5dc507ec0)\" d=\"M 246.69775 174.526125 \nL 286.87375 174.526125 \nL 286.87375 204.967725 \nL 246.69775 204.967725 \nL 246.69775 174.526125 \n\" style=\"fill:#d6efb3;\"/>\n    <path clip-path=\"url(#pe5dc507ec0)\" d=\"M 286.87375 174.526125 \nL 327.04975 174.526125 \nL 327.04975 204.967725 \nL 286.87375 204.967725 \nL 286.87375 174.526125 \n\" style=\"fill:#2498c1;\"/>\n    <path clip-path=\"url(#pe5dc507ec0)\" d=\"M 327.04975 174.526125 \nL 367.22575 174.526125 \nL 367.22575 204.967725 \nL 327.04975 204.967725 \nL 327.04975 174.526125 \n\" style=\"fill:#2498c1;\"/>\n    <path clip-path=\"url(#pe5dc507ec0)\" d=\"M 367.22575 174.526125 \nL 407.40175 174.526125 \nL 407.40175 204.967725 \nL 367.22575 204.967725 \nL 367.22575 174.526125 \n\" style=\"fill:#73c8bd;\"/>\n    <path clip-path=\"url(#pe5dc507ec0)\" d=\"M 407.40175 174.526125 \nL 447.57775 174.526125 \nL 447.57775 204.967725 \nL 407.40175 204.967725 \nL 407.40175 174.526125 \n\" style=\"fill:#2498c1;\"/>\n    <path clip-path=\"url(#pe5dc507ec0)\" d=\"M 447.57775 174.526125 \nL 487.75375 174.526125 \nL 487.75375 204.967725 \nL 447.57775 204.967725 \nL 447.57775 174.526125 \n\" style=\"fill:#d6efb3;\"/>\n    <path clip-path=\"url(#pe5dc507ec0)\" d=\"M 487.75375 174.526125 \nL 527.92975 174.526125 \nL 527.92975 204.967725 \nL 487.75375 204.967725 \nL 487.75375 174.526125 \n\" style=\"fill:#2498c1;\"/>\n    <path clip-path=\"url(#pe5dc507ec0)\" d=\"M 527.92975 174.526125 \nL 568.10575 174.526125 \nL 568.10575 204.967725 \nL 527.92975 204.967725 \nL 527.92975 174.526125 \n\" style=\"fill:#d6efb3;\"/>\n    <path clip-path=\"url(#pe5dc507ec0)\" d=\"M 568.10575 174.526125 \nL 608.28175 174.526125 \nL 608.28175 204.967725 \nL 568.10575 204.967725 \nL 568.10575 174.526125 \n\" style=\"fill:#d6efb3;\"/>\n    <path clip-path=\"url(#pe5dc507ec0)\" d=\"M 608.28175 174.526125 \nL 648.45775 174.526125 \nL 648.45775 204.967725 \nL 608.28175 204.967725 \nL 608.28175 174.526125 \n\" style=\"fill:#73c8bd;\"/>\n    <path clip-path=\"url(#pe5dc507ec0)\" d=\"M 648.45775 174.526125 \nL 688.63375 174.526125 \nL 688.63375 204.967725 \nL 648.45775 204.967725 \nL 648.45775 174.526125 \n\" style=\"fill:#d6efb3;\"/>\n    <path clip-path=\"url(#pe5dc507ec0)\" d=\"M 688.63375 174.526125 \nL 728.80975 174.526125 \nL 728.80975 204.967725 \nL 688.63375 204.967725 \nL 688.63375 174.526125 \n\" style=\"fill:#d6efb3;\"/>\n    <path clip-path=\"url(#pe5dc507ec0)\" d=\"M 728.80975 174.526125 \nL 768.98575 174.526125 \nL 768.98575 204.967725 \nL 728.80975 204.967725 \nL 728.80975 174.526125 \n\" style=\"fill:#ffffd9;\"/>\n    <path clip-path=\"url(#pe5dc507ec0)\" d=\"M 768.98575 174.526125 \nL 809.16175 174.526125 \nL 809.16175 204.967725 \nL 768.98575 204.967725 \nL 768.98575 174.526125 \n\" style=\"fill:none;\"/>\n    <path clip-path=\"url(#pe5dc507ec0)\" d=\"M 809.16175 174.526125 \nL 849.33775 174.526125 \nL 849.33775 204.967725 \nL 809.16175 204.967725 \nL 809.16175 174.526125 \n\" style=\"fill:none;\"/>\n    <path clip-path=\"url(#pe5dc507ec0)\" d=\"M 849.33775 174.526125 \nL 889.51375 174.526125 \nL 889.51375 204.967725 \nL 849.33775 204.967725 \nL 849.33775 174.526125 \n\" style=\"fill:none;\"/>\n    <path clip-path=\"url(#pe5dc507ec0)\" d=\"M 85.99375 204.967725 \nL 126.16975 204.967725 \nL 126.16975 235.409325 \nL 85.99375 235.409325 \nL 85.99375 204.967725 \n\" style=\"fill:#234da0;\"/>\n    <path clip-path=\"url(#pe5dc507ec0)\" d=\"M 126.16975 204.967725 \nL 166.34575 204.967725 \nL 166.34575 235.409325 \nL 126.16975 235.409325 \nL 126.16975 204.967725 \n\" style=\"fill:#2498c1;\"/>\n    <path clip-path=\"url(#pe5dc507ec0)\" d=\"M 166.34575 204.967725 \nL 206.52175 204.967725 \nL 206.52175 235.409325 \nL 166.34575 235.409325 \nL 166.34575 204.967725 \n\" style=\"fill:#ffffd9;\"/>\n    <path clip-path=\"url(#pe5dc507ec0)\" d=\"M 206.52175 204.967725 \nL 246.69775 204.967725 \nL 246.69775 235.409325 \nL 206.52175 235.409325 \nL 206.52175 204.967725 \n\" style=\"fill:#234da0;\"/>\n    <path clip-path=\"url(#pe5dc507ec0)\" d=\"M 246.69775 204.967725 \nL 286.87375 204.967725 \nL 286.87375 235.409325 \nL 246.69775 235.409325 \nL 246.69775 204.967725 \n\" style=\"fill:#234da0;\"/>\n    <path clip-path=\"url(#pe5dc507ec0)\" d=\"M 286.87375 204.967725 \nL 327.04975 204.967725 \nL 327.04975 235.409325 \nL 286.87375 235.409325 \nL 286.87375 204.967725 \n\" style=\"fill:#73c8bd;\"/>\n    <path clip-path=\"url(#pe5dc507ec0)\" d=\"M 327.04975 204.967725 \nL 367.22575 204.967725 \nL 367.22575 235.409325 \nL 327.04975 235.409325 \nL 327.04975 204.967725 \n\" style=\"fill:#2498c1;\"/>\n    <path clip-path=\"url(#pe5dc507ec0)\" d=\"M 367.22575 204.967725 \nL 407.40175 204.967725 \nL 407.40175 235.409325 \nL 367.22575 235.409325 \nL 367.22575 204.967725 \n\" style=\"fill:#73c8bd;\"/>\n    <path clip-path=\"url(#pe5dc507ec0)\" d=\"M 407.40175 204.967725 \nL 447.57775 204.967725 \nL 447.57775 235.409325 \nL 407.40175 235.409325 \nL 407.40175 204.967725 \n\" style=\"fill:#2498c1;\"/>\n    <path clip-path=\"url(#pe5dc507ec0)\" d=\"M 447.57775 204.967725 \nL 487.75375 204.967725 \nL 487.75375 235.409325 \nL 447.57775 235.409325 \nL 447.57775 204.967725 \n\" style=\"fill:#d6efb3;\"/>\n    <path clip-path=\"url(#pe5dc507ec0)\" d=\"M 487.75375 204.967725 \nL 527.92975 204.967725 \nL 527.92975 235.409325 \nL 487.75375 235.409325 \nL 487.75375 204.967725 \n\" style=\"fill:#ffffd9;\"/>\n    <path clip-path=\"url(#pe5dc507ec0)\" d=\"M 527.92975 204.967725 \nL 568.10575 204.967725 \nL 568.10575 235.409325 \nL 527.92975 235.409325 \nL 527.92975 204.967725 \n\" style=\"fill:#ffffd9;\"/>\n    <path clip-path=\"url(#pe5dc507ec0)\" d=\"M 568.10575 204.967725 \nL 608.28175 204.967725 \nL 608.28175 235.409325 \nL 568.10575 235.409325 \nL 568.10575 204.967725 \n\" style=\"fill:#d6efb3;\"/>\n    <path clip-path=\"url(#pe5dc507ec0)\" d=\"M 608.28175 204.967725 \nL 648.45775 204.967725 \nL 648.45775 235.409325 \nL 608.28175 235.409325 \nL 608.28175 204.967725 \n\" style=\"fill:#ffffd9;\"/>\n    <path clip-path=\"url(#pe5dc507ec0)\" d=\"M 648.45775 204.967725 \nL 688.63375 204.967725 \nL 688.63375 235.409325 \nL 648.45775 235.409325 \nL 648.45775 204.967725 \n\" style=\"fill:#2498c1;\"/>\n    <path clip-path=\"url(#pe5dc507ec0)\" d=\"M 688.63375 204.967725 \nL 728.80975 204.967725 \nL 728.80975 235.409325 \nL 688.63375 235.409325 \nL 688.63375 204.967725 \n\" style=\"fill:#ffffd9;\"/>\n    <path clip-path=\"url(#pe5dc507ec0)\" d=\"M 728.80975 204.967725 \nL 768.98575 204.967725 \nL 768.98575 235.409325 \nL 728.80975 235.409325 \nL 728.80975 204.967725 \n\" style=\"fill:none;\"/>\n    <path clip-path=\"url(#pe5dc507ec0)\" d=\"M 768.98575 204.967725 \nL 809.16175 204.967725 \nL 809.16175 235.409325 \nL 768.98575 235.409325 \nL 768.98575 204.967725 \n\" style=\"fill:none;\"/>\n    <path clip-path=\"url(#pe5dc507ec0)\" d=\"M 809.16175 204.967725 \nL 849.33775 204.967725 \nL 849.33775 235.409325 \nL 809.16175 235.409325 \nL 809.16175 204.967725 \n\" style=\"fill:none;\"/>\n    <path clip-path=\"url(#pe5dc507ec0)\" d=\"M 849.33775 204.967725 \nL 889.51375 204.967725 \nL 889.51375 235.409325 \nL 849.33775 235.409325 \nL 849.33775 204.967725 \n\" style=\"fill:none;\"/>\n    <path clip-path=\"url(#pe5dc507ec0)\" d=\"M 85.99375 235.409325 \nL 126.16975 235.409325 \nL 126.16975 265.850925 \nL 85.99375 265.850925 \nL 85.99375 235.409325 \n\" style=\"fill:#081d58;\"/>\n    <path clip-path=\"url(#pe5dc507ec0)\" d=\"M 126.16975 235.409325 \nL 166.34575 235.409325 \nL 166.34575 265.850925 \nL 126.16975 265.850925 \nL 126.16975 235.409325 \n\" style=\"fill:#081d58;\"/>\n    <path clip-path=\"url(#pe5dc507ec0)\" d=\"M 166.34575 235.409325 \nL 206.52175 235.409325 \nL 206.52175 265.850925 \nL 166.34575 265.850925 \nL 166.34575 235.409325 \n\" style=\"fill:#234da0;\"/>\n    <path clip-path=\"url(#pe5dc507ec0)\" d=\"M 206.52175 235.409325 \nL 246.69775 235.409325 \nL 246.69775 265.850925 \nL 206.52175 265.850925 \nL 206.52175 235.409325 \n\" style=\"fill:#2498c1;\"/>\n    <path clip-path=\"url(#pe5dc507ec0)\" d=\"M 246.69775 235.409325 \nL 286.87375 235.409325 \nL 286.87375 265.850925 \nL 246.69775 265.850925 \nL 246.69775 235.409325 \n\" style=\"fill:#234da0;\"/>\n    <path clip-path=\"url(#pe5dc507ec0)\" d=\"M 286.87375 235.409325 \nL 327.04975 235.409325 \nL 327.04975 265.850925 \nL 286.87375 265.850925 \nL 286.87375 235.409325 \n\" style=\"fill:#234da0;\"/>\n    <path clip-path=\"url(#pe5dc507ec0)\" d=\"M 327.04975 235.409325 \nL 367.22575 235.409325 \nL 367.22575 265.850925 \nL 327.04975 265.850925 \nL 327.04975 235.409325 \n\" style=\"fill:#d6efb3;\"/>\n    <path clip-path=\"url(#pe5dc507ec0)\" d=\"M 367.22575 235.409325 \nL 407.40175 235.409325 \nL 407.40175 265.850925 \nL 367.22575 265.850925 \nL 367.22575 235.409325 \n\" style=\"fill:#2498c1;\"/>\n    <path clip-path=\"url(#pe5dc507ec0)\" d=\"M 407.40175 235.409325 \nL 447.57775 235.409325 \nL 447.57775 265.850925 \nL 407.40175 265.850925 \nL 407.40175 235.409325 \n\" style=\"fill:#2498c1;\"/>\n    <path clip-path=\"url(#pe5dc507ec0)\" d=\"M 447.57775 235.409325 \nL 487.75375 235.409325 \nL 487.75375 265.850925 \nL 447.57775 265.850925 \nL 447.57775 235.409325 \n\" style=\"fill:#2498c1;\"/>\n    <path clip-path=\"url(#pe5dc507ec0)\" d=\"M 487.75375 235.409325 \nL 527.92975 235.409325 \nL 527.92975 265.850925 \nL 487.75375 265.850925 \nL 487.75375 235.409325 \n\" style=\"fill:#73c8bd;\"/>\n    <path clip-path=\"url(#pe5dc507ec0)\" d=\"M 527.92975 235.409325 \nL 568.10575 235.409325 \nL 568.10575 265.850925 \nL 527.92975 265.850925 \nL 527.92975 235.409325 \n\" style=\"fill:#73c8bd;\"/>\n    <path clip-path=\"url(#pe5dc507ec0)\" d=\"M 568.10575 235.409325 \nL 608.28175 235.409325 \nL 608.28175 265.850925 \nL 568.10575 265.850925 \nL 568.10575 235.409325 \n\" style=\"fill:#d6efb3;\"/>\n    <path clip-path=\"url(#pe5dc507ec0)\" d=\"M 608.28175 235.409325 \nL 648.45775 235.409325 \nL 648.45775 265.850925 \nL 608.28175 265.850925 \nL 608.28175 235.409325 \n\" style=\"fill:#2498c1;\"/>\n    <path clip-path=\"url(#pe5dc507ec0)\" d=\"M 648.45775 235.409325 \nL 688.63375 235.409325 \nL 688.63375 265.850925 \nL 648.45775 265.850925 \nL 648.45775 235.409325 \n\" style=\"fill:#d6efb3;\"/>\n    <path clip-path=\"url(#pe5dc507ec0)\" d=\"M 688.63375 235.409325 \nL 728.80975 235.409325 \nL 728.80975 265.850925 \nL 688.63375 265.850925 \nL 688.63375 235.409325 \n\" style=\"fill:#ffffd9;\"/>\n    <path clip-path=\"url(#pe5dc507ec0)\" d=\"M 728.80975 235.409325 \nL 768.98575 235.409325 \nL 768.98575 265.850925 \nL 728.80975 265.850925 \nL 728.80975 235.409325 \n\" style=\"fill:none;\"/>\n    <path clip-path=\"url(#pe5dc507ec0)\" d=\"M 768.98575 235.409325 \nL 809.16175 235.409325 \nL 809.16175 265.850925 \nL 768.98575 265.850925 \nL 768.98575 235.409325 \n\" style=\"fill:none;\"/>\n    <path clip-path=\"url(#pe5dc507ec0)\" d=\"M 809.16175 235.409325 \nL 849.33775 235.409325 \nL 849.33775 265.850925 \nL 809.16175 265.850925 \nL 809.16175 235.409325 \n\" style=\"fill:none;\"/>\n    <path clip-path=\"url(#pe5dc507ec0)\" d=\"M 849.33775 235.409325 \nL 889.51375 235.409325 \nL 889.51375 265.850925 \nL 849.33775 265.850925 \nL 849.33775 235.409325 \n\" style=\"fill:none;\"/>\n    <path clip-path=\"url(#pe5dc507ec0)\" d=\"M 85.99375 265.850925 \nL 126.16975 265.850925 \nL 126.16975 296.292525 \nL 85.99375 296.292525 \nL 85.99375 265.850925 \n\" style=\"fill:#234da0;\"/>\n    <path clip-path=\"url(#pe5dc507ec0)\" d=\"M 126.16975 265.850925 \nL 166.34575 265.850925 \nL 166.34575 296.292525 \nL 126.16975 296.292525 \nL 126.16975 265.850925 \n\" style=\"fill:#081d58;\"/>\n    <path clip-path=\"url(#pe5dc507ec0)\" d=\"M 166.34575 265.850925 \nL 206.52175 265.850925 \nL 206.52175 296.292525 \nL 166.34575 296.292525 \nL 166.34575 265.850925 \n\" style=\"fill:#2498c1;\"/>\n    <path clip-path=\"url(#pe5dc507ec0)\" d=\"M 206.52175 265.850925 \nL 246.69775 265.850925 \nL 246.69775 296.292525 \nL 206.52175 296.292525 \nL 206.52175 265.850925 \n\" style=\"fill:#73c8bd;\"/>\n    <path clip-path=\"url(#pe5dc507ec0)\" d=\"M 246.69775 265.850925 \nL 286.87375 265.850925 \nL 286.87375 296.292525 \nL 246.69775 296.292525 \nL 246.69775 265.850925 \n\" style=\"fill:#081d58;\"/>\n    <path clip-path=\"url(#pe5dc507ec0)\" d=\"M 286.87375 265.850925 \nL 327.04975 265.850925 \nL 327.04975 296.292525 \nL 286.87375 296.292525 \nL 286.87375 265.850925 \n\" style=\"fill:#2498c1;\"/>\n    <path clip-path=\"url(#pe5dc507ec0)\" d=\"M 327.04975 265.850925 \nL 367.22575 265.850925 \nL 367.22575 296.292525 \nL 327.04975 296.292525 \nL 327.04975 265.850925 \n\" style=\"fill:#d6efb3;\"/>\n    <path clip-path=\"url(#pe5dc507ec0)\" d=\"M 367.22575 265.850925 \nL 407.40175 265.850925 \nL 407.40175 296.292525 \nL 367.22575 296.292525 \nL 367.22575 265.850925 \n\" style=\"fill:#73c8bd;\"/>\n    <path clip-path=\"url(#pe5dc507ec0)\" d=\"M 407.40175 265.850925 \nL 447.57775 265.850925 \nL 447.57775 296.292525 \nL 407.40175 296.292525 \nL 407.40175 265.850925 \n\" style=\"fill:#2498c1;\"/>\n    <path clip-path=\"url(#pe5dc507ec0)\" d=\"M 447.57775 265.850925 \nL 487.75375 265.850925 \nL 487.75375 296.292525 \nL 447.57775 296.292525 \nL 447.57775 265.850925 \n\" style=\"fill:#2498c1;\"/>\n    <path clip-path=\"url(#pe5dc507ec0)\" d=\"M 487.75375 265.850925 \nL 527.92975 265.850925 \nL 527.92975 296.292525 \nL 487.75375 296.292525 \nL 487.75375 265.850925 \n\" style=\"fill:#73c8bd;\"/>\n    <path clip-path=\"url(#pe5dc507ec0)\" d=\"M 527.92975 265.850925 \nL 568.10575 265.850925 \nL 568.10575 296.292525 \nL 527.92975 296.292525 \nL 527.92975 265.850925 \n\" style=\"fill:#d6efb3;\"/>\n    <path clip-path=\"url(#pe5dc507ec0)\" d=\"M 568.10575 265.850925 \nL 608.28175 265.850925 \nL 608.28175 296.292525 \nL 568.10575 296.292525 \nL 568.10575 265.850925 \n\" style=\"fill:#73c8bd;\"/>\n    <path clip-path=\"url(#pe5dc507ec0)\" d=\"M 608.28175 265.850925 \nL 648.45775 265.850925 \nL 648.45775 296.292525 \nL 608.28175 296.292525 \nL 608.28175 265.850925 \n\" style=\"fill:#d6efb3;\"/>\n    <path clip-path=\"url(#pe5dc507ec0)\" d=\"M 648.45775 265.850925 \nL 688.63375 265.850925 \nL 688.63375 296.292525 \nL 648.45775 296.292525 \nL 648.45775 265.850925 \n\" style=\"fill:#ffffd9;\"/>\n    <path clip-path=\"url(#pe5dc507ec0)\" d=\"M 688.63375 265.850925 \nL 728.80975 265.850925 \nL 728.80975 296.292525 \nL 688.63375 296.292525 \nL 688.63375 265.850925 \n\" style=\"fill:none;\"/>\n    <path clip-path=\"url(#pe5dc507ec0)\" d=\"M 728.80975 265.850925 \nL 768.98575 265.850925 \nL 768.98575 296.292525 \nL 728.80975 296.292525 \nL 728.80975 265.850925 \n\" style=\"fill:none;\"/>\n    <path clip-path=\"url(#pe5dc507ec0)\" d=\"M 768.98575 265.850925 \nL 809.16175 265.850925 \nL 809.16175 296.292525 \nL 768.98575 296.292525 \nL 768.98575 265.850925 \n\" style=\"fill:none;\"/>\n    <path clip-path=\"url(#pe5dc507ec0)\" d=\"M 809.16175 265.850925 \nL 849.33775 265.850925 \nL 849.33775 296.292525 \nL 809.16175 296.292525 \nL 809.16175 265.850925 \n\" style=\"fill:none;\"/>\n    <path clip-path=\"url(#pe5dc507ec0)\" d=\"M 849.33775 265.850925 \nL 889.51375 265.850925 \nL 889.51375 296.292525 \nL 849.33775 296.292525 \nL 849.33775 265.850925 \n\" style=\"fill:none;\"/>\n    <path clip-path=\"url(#pe5dc507ec0)\" d=\"M 85.99375 296.292525 \nL 126.16975 296.292525 \nL 126.16975 326.734125 \nL 85.99375 326.734125 \nL 85.99375 296.292525 \n\" style=\"fill:#234da0;\"/>\n    <path clip-path=\"url(#pe5dc507ec0)\" d=\"M 126.16975 296.292525 \nL 166.34575 296.292525 \nL 166.34575 326.734125 \nL 126.16975 326.734125 \nL 126.16975 296.292525 \n\" style=\"fill:#2498c1;\"/>\n    <path clip-path=\"url(#pe5dc507ec0)\" d=\"M 166.34575 296.292525 \nL 206.52175 296.292525 \nL 206.52175 326.734125 \nL 166.34575 326.734125 \nL 166.34575 296.292525 \n\" style=\"fill:#2498c1;\"/>\n    <path clip-path=\"url(#pe5dc507ec0)\" d=\"M 206.52175 296.292525 \nL 246.69775 296.292525 \nL 246.69775 326.734125 \nL 206.52175 326.734125 \nL 206.52175 296.292525 \n\" style=\"fill:#234da0;\"/>\n    <path clip-path=\"url(#pe5dc507ec0)\" d=\"M 246.69775 296.292525 \nL 286.87375 296.292525 \nL 286.87375 326.734125 \nL 246.69775 326.734125 \nL 246.69775 296.292525 \n\" style=\"fill:#73c8bd;\"/>\n    <path clip-path=\"url(#pe5dc507ec0)\" d=\"M 286.87375 296.292525 \nL 327.04975 296.292525 \nL 327.04975 326.734125 \nL 286.87375 326.734125 \nL 286.87375 296.292525 \n\" style=\"fill:#73c8bd;\"/>\n    <path clip-path=\"url(#pe5dc507ec0)\" d=\"M 327.04975 296.292525 \nL 367.22575 296.292525 \nL 367.22575 326.734125 \nL 327.04975 326.734125 \nL 327.04975 296.292525 \n\" style=\"fill:#73c8bd;\"/>\n    <path clip-path=\"url(#pe5dc507ec0)\" d=\"M 367.22575 296.292525 \nL 407.40175 296.292525 \nL 407.40175 326.734125 \nL 367.22575 326.734125 \nL 367.22575 296.292525 \n\" style=\"fill:#73c8bd;\"/>\n    <path clip-path=\"url(#pe5dc507ec0)\" d=\"M 407.40175 296.292525 \nL 447.57775 296.292525 \nL 447.57775 326.734125 \nL 407.40175 326.734125 \nL 407.40175 296.292525 \n\" style=\"fill:#2498c1;\"/>\n    <path clip-path=\"url(#pe5dc507ec0)\" d=\"M 447.57775 296.292525 \nL 487.75375 296.292525 \nL 487.75375 326.734125 \nL 447.57775 326.734125 \nL 447.57775 296.292525 \n\" style=\"fill:#2498c1;\"/>\n    <path clip-path=\"url(#pe5dc507ec0)\" d=\"M 487.75375 296.292525 \nL 527.92975 296.292525 \nL 527.92975 326.734125 \nL 487.75375 326.734125 \nL 487.75375 296.292525 \n\" style=\"fill:#73c8bd;\"/>\n    <path clip-path=\"url(#pe5dc507ec0)\" d=\"M 527.92975 296.292525 \nL 568.10575 296.292525 \nL 568.10575 326.734125 \nL 527.92975 326.734125 \nL 527.92975 296.292525 \n\" style=\"fill:#2498c1;\"/>\n    <path clip-path=\"url(#pe5dc507ec0)\" d=\"M 568.10575 296.292525 \nL 608.28175 296.292525 \nL 608.28175 326.734125 \nL 568.10575 326.734125 \nL 568.10575 296.292525 \n\" style=\"fill:#d6efb3;\"/>\n    <path clip-path=\"url(#pe5dc507ec0)\" d=\"M 608.28175 296.292525 \nL 648.45775 296.292525 \nL 648.45775 326.734125 \nL 608.28175 326.734125 \nL 608.28175 296.292525 \n\" style=\"fill:#ffffd9;\"/>\n    <path clip-path=\"url(#pe5dc507ec0)\" d=\"M 648.45775 296.292525 \nL 688.63375 296.292525 \nL 688.63375 326.734125 \nL 648.45775 326.734125 \nL 648.45775 296.292525 \n\" style=\"fill:none;\"/>\n    <path clip-path=\"url(#pe5dc507ec0)\" d=\"M 688.63375 296.292525 \nL 728.80975 296.292525 \nL 728.80975 326.734125 \nL 688.63375 326.734125 \nL 688.63375 296.292525 \n\" style=\"fill:none;\"/>\n    <path clip-path=\"url(#pe5dc507ec0)\" d=\"M 728.80975 296.292525 \nL 768.98575 296.292525 \nL 768.98575 326.734125 \nL 728.80975 326.734125 \nL 728.80975 296.292525 \n\" style=\"fill:none;\"/>\n    <path clip-path=\"url(#pe5dc507ec0)\" d=\"M 768.98575 296.292525 \nL 809.16175 296.292525 \nL 809.16175 326.734125 \nL 768.98575 326.734125 \nL 768.98575 296.292525 \n\" style=\"fill:none;\"/>\n    <path clip-path=\"url(#pe5dc507ec0)\" d=\"M 809.16175 296.292525 \nL 849.33775 296.292525 \nL 849.33775 326.734125 \nL 809.16175 326.734125 \nL 809.16175 296.292525 \n\" style=\"fill:none;\"/>\n    <path clip-path=\"url(#pe5dc507ec0)\" d=\"M 849.33775 296.292525 \nL 889.51375 296.292525 \nL 889.51375 326.734125 \nL 849.33775 326.734125 \nL 849.33775 296.292525 \n\" style=\"fill:none;\"/>\n    <path clip-path=\"url(#pe5dc507ec0)\" d=\"M 85.99375 326.734125 \nL 126.16975 326.734125 \nL 126.16975 357.175725 \nL 85.99375 357.175725 \nL 85.99375 326.734125 \n\" style=\"fill:#081d58;\"/>\n    <path clip-path=\"url(#pe5dc507ec0)\" d=\"M 126.16975 326.734125 \nL 166.34575 326.734125 \nL 166.34575 357.175725 \nL 126.16975 357.175725 \nL 126.16975 326.734125 \n\" style=\"fill:#2498c1;\"/>\n    <path clip-path=\"url(#pe5dc507ec0)\" d=\"M 166.34575 326.734125 \nL 206.52175 326.734125 \nL 206.52175 357.175725 \nL 166.34575 357.175725 \nL 166.34575 326.734125 \n\" style=\"fill:#234da0;\"/>\n    <path clip-path=\"url(#pe5dc507ec0)\" d=\"M 206.52175 326.734125 \nL 246.69775 326.734125 \nL 246.69775 357.175725 \nL 206.52175 357.175725 \nL 206.52175 326.734125 \n\" style=\"fill:#234da0;\"/>\n    <path clip-path=\"url(#pe5dc507ec0)\" d=\"M 246.69775 326.734125 \nL 286.87375 326.734125 \nL 286.87375 357.175725 \nL 246.69775 357.175725 \nL 246.69775 326.734125 \n\" style=\"fill:#081d58;\"/>\n    <path clip-path=\"url(#pe5dc507ec0)\" d=\"M 286.87375 326.734125 \nL 327.04975 326.734125 \nL 327.04975 357.175725 \nL 286.87375 357.175725 \nL 286.87375 326.734125 \n\" style=\"fill:#73c8bd;\"/>\n    <path clip-path=\"url(#pe5dc507ec0)\" d=\"M 327.04975 326.734125 \nL 367.22575 326.734125 \nL 367.22575 357.175725 \nL 327.04975 357.175725 \nL 327.04975 326.734125 \n\" style=\"fill:#73c8bd;\"/>\n    <path clip-path=\"url(#pe5dc507ec0)\" d=\"M 367.22575 326.734125 \nL 407.40175 326.734125 \nL 407.40175 357.175725 \nL 367.22575 357.175725 \nL 367.22575 326.734125 \n\" style=\"fill:#73c8bd;\"/>\n    <path clip-path=\"url(#pe5dc507ec0)\" d=\"M 407.40175 326.734125 \nL 447.57775 326.734125 \nL 447.57775 357.175725 \nL 407.40175 357.175725 \nL 407.40175 326.734125 \n\" style=\"fill:#73c8bd;\"/>\n    <path clip-path=\"url(#pe5dc507ec0)\" d=\"M 447.57775 326.734125 \nL 487.75375 326.734125 \nL 487.75375 357.175725 \nL 447.57775 357.175725 \nL 447.57775 326.734125 \n\" style=\"fill:#73c8bd;\"/>\n    <path clip-path=\"url(#pe5dc507ec0)\" d=\"M 487.75375 326.734125 \nL 527.92975 326.734125 \nL 527.92975 357.175725 \nL 487.75375 357.175725 \nL 487.75375 326.734125 \n\" style=\"fill:#73c8bd;\"/>\n    <path clip-path=\"url(#pe5dc507ec0)\" d=\"M 527.92975 326.734125 \nL 568.10575 326.734125 \nL 568.10575 357.175725 \nL 527.92975 357.175725 \nL 527.92975 326.734125 \n\" style=\"fill:#ffffd9;\"/>\n    <path clip-path=\"url(#pe5dc507ec0)\" d=\"M 568.10575 326.734125 \nL 608.28175 326.734125 \nL 608.28175 357.175725 \nL 568.10575 357.175725 \nL 568.10575 326.734125 \n\" style=\"fill:none;\"/>\n    <path clip-path=\"url(#pe5dc507ec0)\" d=\"M 608.28175 326.734125 \nL 648.45775 326.734125 \nL 648.45775 357.175725 \nL 608.28175 357.175725 \nL 608.28175 326.734125 \n\" style=\"fill:none;\"/>\n    <path clip-path=\"url(#pe5dc507ec0)\" d=\"M 648.45775 326.734125 \nL 688.63375 326.734125 \nL 688.63375 357.175725 \nL 648.45775 357.175725 \nL 648.45775 326.734125 \n\" style=\"fill:none;\"/>\n    <path clip-path=\"url(#pe5dc507ec0)\" d=\"M 688.63375 326.734125 \nL 728.80975 326.734125 \nL 728.80975 357.175725 \nL 688.63375 357.175725 \nL 688.63375 326.734125 \n\" style=\"fill:none;\"/>\n    <path clip-path=\"url(#pe5dc507ec0)\" d=\"M 728.80975 326.734125 \nL 768.98575 326.734125 \nL 768.98575 357.175725 \nL 728.80975 357.175725 \nL 728.80975 326.734125 \n\" style=\"fill:none;\"/>\n    <path clip-path=\"url(#pe5dc507ec0)\" d=\"M 768.98575 326.734125 \nL 809.16175 326.734125 \nL 809.16175 357.175725 \nL 768.98575 357.175725 \nL 768.98575 326.734125 \n\" style=\"fill:none;\"/>\n    <path clip-path=\"url(#pe5dc507ec0)\" d=\"M 809.16175 326.734125 \nL 849.33775 326.734125 \nL 849.33775 357.175725 \nL 809.16175 357.175725 \nL 809.16175 326.734125 \n\" style=\"fill:none;\"/>\n    <path clip-path=\"url(#pe5dc507ec0)\" d=\"M 849.33775 326.734125 \nL 889.51375 326.734125 \nL 889.51375 357.175725 \nL 849.33775 357.175725 \nL 849.33775 326.734125 \n\" style=\"fill:none;\"/>\n    <path clip-path=\"url(#pe5dc507ec0)\" d=\"M 85.99375 357.175725 \nL 126.16975 357.175725 \nL 126.16975 387.617325 \nL 85.99375 387.617325 \nL 85.99375 357.175725 \n\" style=\"fill:#081d58;\"/>\n    <path clip-path=\"url(#pe5dc507ec0)\" d=\"M 126.16975 357.175725 \nL 166.34575 357.175725 \nL 166.34575 387.617325 \nL 126.16975 387.617325 \nL 126.16975 357.175725 \n\" style=\"fill:#081d58;\"/>\n    <path clip-path=\"url(#pe5dc507ec0)\" d=\"M 166.34575 357.175725 \nL 206.52175 357.175725 \nL 206.52175 387.617325 \nL 166.34575 387.617325 \nL 166.34575 357.175725 \n\" style=\"fill:#081d58;\"/>\n    <path clip-path=\"url(#pe5dc507ec0)\" d=\"M 206.52175 357.175725 \nL 246.69775 357.175725 \nL 246.69775 387.617325 \nL 206.52175 387.617325 \nL 206.52175 357.175725 \n\" style=\"fill:#2498c1;\"/>\n    <path clip-path=\"url(#pe5dc507ec0)\" d=\"M 246.69775 357.175725 \nL 286.87375 357.175725 \nL 286.87375 387.617325 \nL 246.69775 387.617325 \nL 246.69775 357.175725 \n\" style=\"fill:#73c8bd;\"/>\n    <path clip-path=\"url(#pe5dc507ec0)\" d=\"M 286.87375 357.175725 \nL 327.04975 357.175725 \nL 327.04975 387.617325 \nL 286.87375 387.617325 \nL 286.87375 357.175725 \n\" style=\"fill:#2498c1;\"/>\n    <path clip-path=\"url(#pe5dc507ec0)\" d=\"M 327.04975 357.175725 \nL 367.22575 357.175725 \nL 367.22575 387.617325 \nL 327.04975 387.617325 \nL 327.04975 357.175725 \n\" style=\"fill:#73c8bd;\"/>\n    <path clip-path=\"url(#pe5dc507ec0)\" d=\"M 367.22575 357.175725 \nL 407.40175 357.175725 \nL 407.40175 387.617325 \nL 367.22575 387.617325 \nL 367.22575 357.175725 \n\" style=\"fill:#2498c1;\"/>\n    <path clip-path=\"url(#pe5dc507ec0)\" d=\"M 407.40175 357.175725 \nL 447.57775 357.175725 \nL 447.57775 387.617325 \nL 407.40175 387.617325 \nL 407.40175 357.175725 \n\" style=\"fill:#73c8bd;\"/>\n    <path clip-path=\"url(#pe5dc507ec0)\" d=\"M 447.57775 357.175725 \nL 487.75375 357.175725 \nL 487.75375 387.617325 \nL 447.57775 387.617325 \nL 447.57775 357.175725 \n\" style=\"fill:#73c8bd;\"/>\n    <path clip-path=\"url(#pe5dc507ec0)\" d=\"M 487.75375 357.175725 \nL 527.92975 357.175725 \nL 527.92975 387.617325 \nL 487.75375 387.617325 \nL 487.75375 357.175725 \n\" style=\"fill:#ffffd9;\"/>\n    <path clip-path=\"url(#pe5dc507ec0)\" d=\"M 527.92975 357.175725 \nL 568.10575 357.175725 \nL 568.10575 387.617325 \nL 527.92975 387.617325 \nL 527.92975 357.175725 \n\" style=\"fill:none;\"/>\n    <path clip-path=\"url(#pe5dc507ec0)\" d=\"M 568.10575 357.175725 \nL 608.28175 357.175725 \nL 608.28175 387.617325 \nL 568.10575 387.617325 \nL 568.10575 357.175725 \n\" style=\"fill:none;\"/>\n    <path clip-path=\"url(#pe5dc507ec0)\" d=\"M 608.28175 357.175725 \nL 648.45775 357.175725 \nL 648.45775 387.617325 \nL 608.28175 387.617325 \nL 608.28175 357.175725 \n\" style=\"fill:none;\"/>\n    <path clip-path=\"url(#pe5dc507ec0)\" d=\"M 648.45775 357.175725 \nL 688.63375 357.175725 \nL 688.63375 387.617325 \nL 648.45775 387.617325 \nL 648.45775 357.175725 \n\" style=\"fill:none;\"/>\n    <path clip-path=\"url(#pe5dc507ec0)\" d=\"M 688.63375 357.175725 \nL 728.80975 357.175725 \nL 728.80975 387.617325 \nL 688.63375 387.617325 \nL 688.63375 357.175725 \n\" style=\"fill:none;\"/>\n    <path clip-path=\"url(#pe5dc507ec0)\" d=\"M 728.80975 357.175725 \nL 768.98575 357.175725 \nL 768.98575 387.617325 \nL 728.80975 387.617325 \nL 728.80975 357.175725 \n\" style=\"fill:none;\"/>\n    <path clip-path=\"url(#pe5dc507ec0)\" d=\"M 768.98575 357.175725 \nL 809.16175 357.175725 \nL 809.16175 387.617325 \nL 768.98575 387.617325 \nL 768.98575 357.175725 \n\" style=\"fill:none;\"/>\n    <path clip-path=\"url(#pe5dc507ec0)\" d=\"M 809.16175 357.175725 \nL 849.33775 357.175725 \nL 849.33775 387.617325 \nL 809.16175 387.617325 \nL 809.16175 357.175725 \n\" style=\"fill:none;\"/>\n    <path clip-path=\"url(#pe5dc507ec0)\" d=\"M 849.33775 357.175725 \nL 889.51375 357.175725 \nL 889.51375 387.617325 \nL 849.33775 387.617325 \nL 849.33775 357.175725 \n\" style=\"fill:none;\"/>\n    <path clip-path=\"url(#pe5dc507ec0)\" d=\"M 85.99375 387.617325 \nL 126.16975 387.617325 \nL 126.16975 418.058925 \nL 85.99375 418.058925 \nL 85.99375 387.617325 \n\" style=\"fill:#081d58;\"/>\n    <path clip-path=\"url(#pe5dc507ec0)\" d=\"M 126.16975 387.617325 \nL 166.34575 387.617325 \nL 166.34575 418.058925 \nL 126.16975 418.058925 \nL 126.16975 387.617325 \n\" style=\"fill:#d6efb3;\"/>\n    <path clip-path=\"url(#pe5dc507ec0)\" d=\"M 166.34575 387.617325 \nL 206.52175 387.617325 \nL 206.52175 418.058925 \nL 166.34575 418.058925 \nL 166.34575 387.617325 \n\" style=\"fill:#73c8bd;\"/>\n    <path clip-path=\"url(#pe5dc507ec0)\" d=\"M 206.52175 387.617325 \nL 246.69775 387.617325 \nL 246.69775 418.058925 \nL 206.52175 418.058925 \nL 206.52175 387.617325 \n\" style=\"fill:#73c8bd;\"/>\n    <path clip-path=\"url(#pe5dc507ec0)\" d=\"M 246.69775 387.617325 \nL 286.87375 387.617325 \nL 286.87375 418.058925 \nL 246.69775 418.058925 \nL 246.69775 387.617325 \n\" style=\"fill:#73c8bd;\"/>\n    <path clip-path=\"url(#pe5dc507ec0)\" d=\"M 286.87375 387.617325 \nL 327.04975 387.617325 \nL 327.04975 418.058925 \nL 286.87375 418.058925 \nL 286.87375 387.617325 \n\" style=\"fill:#234da0;\"/>\n    <path clip-path=\"url(#pe5dc507ec0)\" d=\"M 327.04975 387.617325 \nL 367.22575 387.617325 \nL 367.22575 418.058925 \nL 327.04975 418.058925 \nL 327.04975 387.617325 \n\" style=\"fill:#234da0;\"/>\n    <path clip-path=\"url(#pe5dc507ec0)\" d=\"M 367.22575 387.617325 \nL 407.40175 387.617325 \nL 407.40175 418.058925 \nL 367.22575 418.058925 \nL 367.22575 387.617325 \n\" style=\"fill:#73c8bd;\"/>\n    <path clip-path=\"url(#pe5dc507ec0)\" d=\"M 407.40175 387.617325 \nL 447.57775 387.617325 \nL 447.57775 418.058925 \nL 407.40175 418.058925 \nL 407.40175 387.617325 \n\" style=\"fill:#73c8bd;\"/>\n    <path clip-path=\"url(#pe5dc507ec0)\" d=\"M 447.57775 387.617325 \nL 487.75375 387.617325 \nL 487.75375 418.058925 \nL 447.57775 418.058925 \nL 447.57775 387.617325 \n\" style=\"fill:#d6efb3;\"/>\n    <path clip-path=\"url(#pe5dc507ec0)\" d=\"M 487.75375 387.617325 \nL 527.92975 387.617325 \nL 527.92975 418.058925 \nL 487.75375 418.058925 \nL 487.75375 387.617325 \n\" style=\"fill:none;\"/>\n    <path clip-path=\"url(#pe5dc507ec0)\" d=\"M 527.92975 387.617325 \nL 568.10575 387.617325 \nL 568.10575 418.058925 \nL 527.92975 418.058925 \nL 527.92975 387.617325 \n\" style=\"fill:none;\"/>\n    <path clip-path=\"url(#pe5dc507ec0)\" d=\"M 568.10575 387.617325 \nL 608.28175 387.617325 \nL 608.28175 418.058925 \nL 568.10575 418.058925 \nL 568.10575 387.617325 \n\" style=\"fill:none;\"/>\n    <path clip-path=\"url(#pe5dc507ec0)\" d=\"M 608.28175 387.617325 \nL 648.45775 387.617325 \nL 648.45775 418.058925 \nL 608.28175 418.058925 \nL 608.28175 387.617325 \n\" style=\"fill:none;\"/>\n    <path clip-path=\"url(#pe5dc507ec0)\" d=\"M 648.45775 387.617325 \nL 688.63375 387.617325 \nL 688.63375 418.058925 \nL 648.45775 418.058925 \nL 648.45775 387.617325 \n\" style=\"fill:none;\"/>\n    <path clip-path=\"url(#pe5dc507ec0)\" d=\"M 688.63375 387.617325 \nL 728.80975 387.617325 \nL 728.80975 418.058925 \nL 688.63375 418.058925 \nL 688.63375 387.617325 \n\" style=\"fill:none;\"/>\n    <path clip-path=\"url(#pe5dc507ec0)\" d=\"M 728.80975 387.617325 \nL 768.98575 387.617325 \nL 768.98575 418.058925 \nL 728.80975 418.058925 \nL 728.80975 387.617325 \n\" style=\"fill:none;\"/>\n    <path clip-path=\"url(#pe5dc507ec0)\" d=\"M 768.98575 387.617325 \nL 809.16175 387.617325 \nL 809.16175 418.058925 \nL 768.98575 418.058925 \nL 768.98575 387.617325 \n\" style=\"fill:none;\"/>\n    <path clip-path=\"url(#pe5dc507ec0)\" d=\"M 809.16175 387.617325 \nL 849.33775 387.617325 \nL 849.33775 418.058925 \nL 809.16175 418.058925 \nL 809.16175 387.617325 \n\" style=\"fill:none;\"/>\n    <path clip-path=\"url(#pe5dc507ec0)\" d=\"M 849.33775 387.617325 \nL 889.51375 387.617325 \nL 889.51375 418.058925 \nL 849.33775 418.058925 \nL 849.33775 387.617325 \n\" style=\"fill:none;\"/>\n    <path clip-path=\"url(#pe5dc507ec0)\" d=\"M 85.99375 418.058925 \nL 126.16975 418.058925 \nL 126.16975 448.500525 \nL 85.99375 448.500525 \nL 85.99375 418.058925 \n\" style=\"fill:#2498c1;\"/>\n    <path clip-path=\"url(#pe5dc507ec0)\" d=\"M 126.16975 418.058925 \nL 166.34575 418.058925 \nL 166.34575 448.500525 \nL 126.16975 448.500525 \nL 126.16975 418.058925 \n\" style=\"fill:#2498c1;\"/>\n    <path clip-path=\"url(#pe5dc507ec0)\" d=\"M 166.34575 418.058925 \nL 206.52175 418.058925 \nL 206.52175 448.500525 \nL 166.34575 448.500525 \nL 166.34575 418.058925 \n\" style=\"fill:#73c8bd;\"/>\n    <path clip-path=\"url(#pe5dc507ec0)\" d=\"M 206.52175 418.058925 \nL 246.69775 418.058925 \nL 246.69775 448.500525 \nL 206.52175 448.500525 \nL 206.52175 418.058925 \n\" style=\"fill:#73c8bd;\"/>\n    <path clip-path=\"url(#pe5dc507ec0)\" d=\"M 246.69775 418.058925 \nL 286.87375 418.058925 \nL 286.87375 448.500525 \nL 246.69775 448.500525 \nL 246.69775 418.058925 \n\" style=\"fill:#73c8bd;\"/>\n    <path clip-path=\"url(#pe5dc507ec0)\" d=\"M 286.87375 418.058925 \nL 327.04975 418.058925 \nL 327.04975 448.500525 \nL 286.87375 448.500525 \nL 286.87375 418.058925 \n\" style=\"fill:#d6efb3;\"/>\n    <path clip-path=\"url(#pe5dc507ec0)\" d=\"M 327.04975 418.058925 \nL 367.22575 418.058925 \nL 367.22575 448.500525 \nL 327.04975 448.500525 \nL 327.04975 418.058925 \n\" style=\"fill:#73c8bd;\"/>\n    <path clip-path=\"url(#pe5dc507ec0)\" d=\"M 367.22575 418.058925 \nL 407.40175 418.058925 \nL 407.40175 448.500525 \nL 367.22575 448.500525 \nL 367.22575 418.058925 \n\" style=\"fill:#d6efb3;\"/>\n    <path clip-path=\"url(#pe5dc507ec0)\" d=\"M 407.40175 418.058925 \nL 447.57775 418.058925 \nL 447.57775 448.500525 \nL 407.40175 448.500525 \nL 407.40175 418.058925 \n\" style=\"fill:#ffffd9;\"/>\n    <path clip-path=\"url(#pe5dc507ec0)\" d=\"M 447.57775 418.058925 \nL 487.75375 418.058925 \nL 487.75375 448.500525 \nL 447.57775 448.500525 \nL 447.57775 418.058925 \n\" style=\"fill:none;\"/>\n    <path clip-path=\"url(#pe5dc507ec0)\" d=\"M 487.75375 418.058925 \nL 527.92975 418.058925 \nL 527.92975 448.500525 \nL 487.75375 448.500525 \nL 487.75375 418.058925 \n\" style=\"fill:none;\"/>\n    <path clip-path=\"url(#pe5dc507ec0)\" d=\"M 527.92975 418.058925 \nL 568.10575 418.058925 \nL 568.10575 448.500525 \nL 527.92975 448.500525 \nL 527.92975 418.058925 \n\" style=\"fill:none;\"/>\n    <path clip-path=\"url(#pe5dc507ec0)\" d=\"M 568.10575 418.058925 \nL 608.28175 418.058925 \nL 608.28175 448.500525 \nL 568.10575 448.500525 \nL 568.10575 418.058925 \n\" style=\"fill:none;\"/>\n    <path clip-path=\"url(#pe5dc507ec0)\" d=\"M 608.28175 418.058925 \nL 648.45775 418.058925 \nL 648.45775 448.500525 \nL 608.28175 448.500525 \nL 608.28175 418.058925 \n\" style=\"fill:none;\"/>\n    <path clip-path=\"url(#pe5dc507ec0)\" d=\"M 648.45775 418.058925 \nL 688.63375 418.058925 \nL 688.63375 448.500525 \nL 648.45775 448.500525 \nL 648.45775 418.058925 \n\" style=\"fill:none;\"/>\n    <path clip-path=\"url(#pe5dc507ec0)\" d=\"M 688.63375 418.058925 \nL 728.80975 418.058925 \nL 728.80975 448.500525 \nL 688.63375 448.500525 \nL 688.63375 418.058925 \n\" style=\"fill:none;\"/>\n    <path clip-path=\"url(#pe5dc507ec0)\" d=\"M 728.80975 418.058925 \nL 768.98575 418.058925 \nL 768.98575 448.500525 \nL 728.80975 448.500525 \nL 728.80975 418.058925 \n\" style=\"fill:none;\"/>\n    <path clip-path=\"url(#pe5dc507ec0)\" d=\"M 768.98575 418.058925 \nL 809.16175 418.058925 \nL 809.16175 448.500525 \nL 768.98575 448.500525 \nL 768.98575 418.058925 \n\" style=\"fill:none;\"/>\n    <path clip-path=\"url(#pe5dc507ec0)\" d=\"M 809.16175 418.058925 \nL 849.33775 418.058925 \nL 849.33775 448.500525 \nL 809.16175 448.500525 \nL 809.16175 418.058925 \n\" style=\"fill:none;\"/>\n    <path clip-path=\"url(#pe5dc507ec0)\" d=\"M 849.33775 418.058925 \nL 889.51375 418.058925 \nL 889.51375 448.500525 \nL 849.33775 448.500525 \nL 849.33775 418.058925 \n\" style=\"fill:none;\"/>\n    <path clip-path=\"url(#pe5dc507ec0)\" d=\"M 85.99375 448.500525 \nL 126.16975 448.500525 \nL 126.16975 478.942125 \nL 85.99375 478.942125 \nL 85.99375 448.500525 \n\" style=\"fill:#2498c1;\"/>\n    <path clip-path=\"url(#pe5dc507ec0)\" d=\"M 126.16975 448.500525 \nL 166.34575 448.500525 \nL 166.34575 478.942125 \nL 126.16975 478.942125 \nL 126.16975 448.500525 \n\" style=\"fill:#081d58;\"/>\n    <path clip-path=\"url(#pe5dc507ec0)\" d=\"M 166.34575 448.500525 \nL 206.52175 448.500525 \nL 206.52175 478.942125 \nL 166.34575 478.942125 \nL 166.34575 448.500525 \n\" style=\"fill:#73c8bd;\"/>\n    <path clip-path=\"url(#pe5dc507ec0)\" d=\"M 206.52175 448.500525 \nL 246.69775 448.500525 \nL 246.69775 478.942125 \nL 206.52175 478.942125 \nL 206.52175 448.500525 \n\" style=\"fill:#2498c1;\"/>\n    <path clip-path=\"url(#pe5dc507ec0)\" d=\"M 246.69775 448.500525 \nL 286.87375 448.500525 \nL 286.87375 478.942125 \nL 246.69775 478.942125 \nL 246.69775 448.500525 \n\" style=\"fill:#2498c1;\"/>\n    <path clip-path=\"url(#pe5dc507ec0)\" d=\"M 286.87375 448.500525 \nL 327.04975 448.500525 \nL 327.04975 478.942125 \nL 286.87375 478.942125 \nL 286.87375 448.500525 \n\" style=\"fill:#ffffd9;\"/>\n    <path clip-path=\"url(#pe5dc507ec0)\" d=\"M 327.04975 448.500525 \nL 367.22575 448.500525 \nL 367.22575 478.942125 \nL 327.04975 478.942125 \nL 327.04975 448.500525 \n\" style=\"fill:#d6efb3;\"/>\n    <path clip-path=\"url(#pe5dc507ec0)\" d=\"M 367.22575 448.500525 \nL 407.40175 448.500525 \nL 407.40175 478.942125 \nL 367.22575 478.942125 \nL 367.22575 448.500525 \n\" style=\"fill:#d6efb3;\"/>\n    <path clip-path=\"url(#pe5dc507ec0)\" d=\"M 407.40175 448.500525 \nL 447.57775 448.500525 \nL 447.57775 478.942125 \nL 407.40175 478.942125 \nL 407.40175 448.500525 \n\" style=\"fill:none;\"/>\n    <path clip-path=\"url(#pe5dc507ec0)\" d=\"M 447.57775 448.500525 \nL 487.75375 448.500525 \nL 487.75375 478.942125 \nL 447.57775 478.942125 \nL 447.57775 448.500525 \n\" style=\"fill:none;\"/>\n    <path clip-path=\"url(#pe5dc507ec0)\" d=\"M 487.75375 448.500525 \nL 527.92975 448.500525 \nL 527.92975 478.942125 \nL 487.75375 478.942125 \nL 487.75375 448.500525 \n\" style=\"fill:none;\"/>\n    <path clip-path=\"url(#pe5dc507ec0)\" d=\"M 527.92975 448.500525 \nL 568.10575 448.500525 \nL 568.10575 478.942125 \nL 527.92975 478.942125 \nL 527.92975 448.500525 \n\" style=\"fill:none;\"/>\n    <path clip-path=\"url(#pe5dc507ec0)\" d=\"M 568.10575 448.500525 \nL 608.28175 448.500525 \nL 608.28175 478.942125 \nL 568.10575 478.942125 \nL 568.10575 448.500525 \n\" style=\"fill:none;\"/>\n    <path clip-path=\"url(#pe5dc507ec0)\" d=\"M 608.28175 448.500525 \nL 648.45775 448.500525 \nL 648.45775 478.942125 \nL 608.28175 478.942125 \nL 608.28175 448.500525 \n\" style=\"fill:none;\"/>\n    <path clip-path=\"url(#pe5dc507ec0)\" d=\"M 648.45775 448.500525 \nL 688.63375 448.500525 \nL 688.63375 478.942125 \nL 648.45775 478.942125 \nL 648.45775 448.500525 \n\" style=\"fill:none;\"/>\n    <path clip-path=\"url(#pe5dc507ec0)\" d=\"M 688.63375 448.500525 \nL 728.80975 448.500525 \nL 728.80975 478.942125 \nL 688.63375 478.942125 \nL 688.63375 448.500525 \n\" style=\"fill:none;\"/>\n    <path clip-path=\"url(#pe5dc507ec0)\" d=\"M 728.80975 448.500525 \nL 768.98575 448.500525 \nL 768.98575 478.942125 \nL 728.80975 478.942125 \nL 728.80975 448.500525 \n\" style=\"fill:none;\"/>\n    <path clip-path=\"url(#pe5dc507ec0)\" d=\"M 768.98575 448.500525 \nL 809.16175 448.500525 \nL 809.16175 478.942125 \nL 768.98575 478.942125 \nL 768.98575 448.500525 \n\" style=\"fill:none;\"/>\n    <path clip-path=\"url(#pe5dc507ec0)\" d=\"M 809.16175 448.500525 \nL 849.33775 448.500525 \nL 849.33775 478.942125 \nL 809.16175 478.942125 \nL 809.16175 448.500525 \n\" style=\"fill:none;\"/>\n    <path clip-path=\"url(#pe5dc507ec0)\" d=\"M 849.33775 448.500525 \nL 889.51375 448.500525 \nL 889.51375 478.942125 \nL 849.33775 478.942125 \nL 849.33775 448.500525 \n\" style=\"fill:none;\"/>\n    <path clip-path=\"url(#pe5dc507ec0)\" d=\"M 85.99375 478.942125 \nL 126.16975 478.942125 \nL 126.16975 509.383725 \nL 85.99375 509.383725 \nL 85.99375 478.942125 \n\" style=\"fill:#234da0;\"/>\n    <path clip-path=\"url(#pe5dc507ec0)\" d=\"M 126.16975 478.942125 \nL 166.34575 478.942125 \nL 166.34575 509.383725 \nL 126.16975 509.383725 \nL 126.16975 478.942125 \n\" style=\"fill:#2498c1;\"/>\n    <path clip-path=\"url(#pe5dc507ec0)\" d=\"M 166.34575 478.942125 \nL 206.52175 478.942125 \nL 206.52175 509.383725 \nL 166.34575 509.383725 \nL 166.34575 478.942125 \n\" style=\"fill:#234da0;\"/>\n    <path clip-path=\"url(#pe5dc507ec0)\" d=\"M 206.52175 478.942125 \nL 246.69775 478.942125 \nL 246.69775 509.383725 \nL 206.52175 509.383725 \nL 206.52175 478.942125 \n\" style=\"fill:#d6efb3;\"/>\n    <path clip-path=\"url(#pe5dc507ec0)\" d=\"M 246.69775 478.942125 \nL 286.87375 478.942125 \nL 286.87375 509.383725 \nL 246.69775 509.383725 \nL 246.69775 478.942125 \n\" style=\"fill:#73c8bd;\"/>\n    <path clip-path=\"url(#pe5dc507ec0)\" d=\"M 286.87375 478.942125 \nL 327.04975 478.942125 \nL 327.04975 509.383725 \nL 286.87375 509.383725 \nL 286.87375 478.942125 \n\" style=\"fill:#2498c1;\"/>\n    <path clip-path=\"url(#pe5dc507ec0)\" d=\"M 327.04975 478.942125 \nL 367.22575 478.942125 \nL 367.22575 509.383725 \nL 327.04975 509.383725 \nL 327.04975 478.942125 \n\" style=\"fill:#d6efb3;\"/>\n    <path clip-path=\"url(#pe5dc507ec0)\" d=\"M 367.22575 478.942125 \nL 407.40175 478.942125 \nL 407.40175 509.383725 \nL 367.22575 509.383725 \nL 367.22575 478.942125 \n\" style=\"fill:none;\"/>\n    <path clip-path=\"url(#pe5dc507ec0)\" d=\"M 407.40175 478.942125 \nL 447.57775 478.942125 \nL 447.57775 509.383725 \nL 407.40175 509.383725 \nL 407.40175 478.942125 \n\" style=\"fill:none;\"/>\n    <path clip-path=\"url(#pe5dc507ec0)\" d=\"M 447.57775 478.942125 \nL 487.75375 478.942125 \nL 487.75375 509.383725 \nL 447.57775 509.383725 \nL 447.57775 478.942125 \n\" style=\"fill:none;\"/>\n    <path clip-path=\"url(#pe5dc507ec0)\" d=\"M 487.75375 478.942125 \nL 527.92975 478.942125 \nL 527.92975 509.383725 \nL 487.75375 509.383725 \nL 487.75375 478.942125 \n\" style=\"fill:none;\"/>\n    <path clip-path=\"url(#pe5dc507ec0)\" d=\"M 527.92975 478.942125 \nL 568.10575 478.942125 \nL 568.10575 509.383725 \nL 527.92975 509.383725 \nL 527.92975 478.942125 \n\" style=\"fill:none;\"/>\n    <path clip-path=\"url(#pe5dc507ec0)\" d=\"M 568.10575 478.942125 \nL 608.28175 478.942125 \nL 608.28175 509.383725 \nL 568.10575 509.383725 \nL 568.10575 478.942125 \n\" style=\"fill:none;\"/>\n    <path clip-path=\"url(#pe5dc507ec0)\" d=\"M 608.28175 478.942125 \nL 648.45775 478.942125 \nL 648.45775 509.383725 \nL 608.28175 509.383725 \nL 608.28175 478.942125 \n\" style=\"fill:none;\"/>\n    <path clip-path=\"url(#pe5dc507ec0)\" d=\"M 648.45775 478.942125 \nL 688.63375 478.942125 \nL 688.63375 509.383725 \nL 648.45775 509.383725 \nL 648.45775 478.942125 \n\" style=\"fill:none;\"/>\n    <path clip-path=\"url(#pe5dc507ec0)\" d=\"M 688.63375 478.942125 \nL 728.80975 478.942125 \nL 728.80975 509.383725 \nL 688.63375 509.383725 \nL 688.63375 478.942125 \n\" style=\"fill:none;\"/>\n    <path clip-path=\"url(#pe5dc507ec0)\" d=\"M 728.80975 478.942125 \nL 768.98575 478.942125 \nL 768.98575 509.383725 \nL 728.80975 509.383725 \nL 728.80975 478.942125 \n\" style=\"fill:none;\"/>\n    <path clip-path=\"url(#pe5dc507ec0)\" d=\"M 768.98575 478.942125 \nL 809.16175 478.942125 \nL 809.16175 509.383725 \nL 768.98575 509.383725 \nL 768.98575 478.942125 \n\" style=\"fill:none;\"/>\n    <path clip-path=\"url(#pe5dc507ec0)\" d=\"M 809.16175 478.942125 \nL 849.33775 478.942125 \nL 849.33775 509.383725 \nL 809.16175 509.383725 \nL 809.16175 478.942125 \n\" style=\"fill:none;\"/>\n    <path clip-path=\"url(#pe5dc507ec0)\" d=\"M 849.33775 478.942125 \nL 889.51375 478.942125 \nL 889.51375 509.383725 \nL 849.33775 509.383725 \nL 849.33775 478.942125 \n\" style=\"fill:none;\"/>\n    <path clip-path=\"url(#pe5dc507ec0)\" d=\"M 85.99375 509.383725 \nL 126.16975 509.383725 \nL 126.16975 539.825325 \nL 85.99375 539.825325 \nL 85.99375 509.383725 \n\" style=\"fill:#234da0;\"/>\n    <path clip-path=\"url(#pe5dc507ec0)\" d=\"M 126.16975 509.383725 \nL 166.34575 509.383725 \nL 166.34575 539.825325 \nL 126.16975 539.825325 \nL 126.16975 509.383725 \n\" style=\"fill:#2498c1;\"/>\n    <path clip-path=\"url(#pe5dc507ec0)\" d=\"M 166.34575 509.383725 \nL 206.52175 509.383725 \nL 206.52175 539.825325 \nL 166.34575 539.825325 \nL 166.34575 509.383725 \n\" style=\"fill:#73c8bd;\"/>\n    <path clip-path=\"url(#pe5dc507ec0)\" d=\"M 206.52175 509.383725 \nL 246.69775 509.383725 \nL 246.69775 539.825325 \nL 206.52175 539.825325 \nL 206.52175 509.383725 \n\" style=\"fill:#2498c1;\"/>\n    <path clip-path=\"url(#pe5dc507ec0)\" d=\"M 246.69775 509.383725 \nL 286.87375 509.383725 \nL 286.87375 539.825325 \nL 246.69775 539.825325 \nL 246.69775 509.383725 \n\" style=\"fill:#73c8bd;\"/>\n    <path clip-path=\"url(#pe5dc507ec0)\" d=\"M 286.87375 509.383725 \nL 327.04975 509.383725 \nL 327.04975 539.825325 \nL 286.87375 539.825325 \nL 286.87375 509.383725 \n\" style=\"fill:#d6efb3;\"/>\n    <path clip-path=\"url(#pe5dc507ec0)\" d=\"M 327.04975 509.383725 \nL 367.22575 509.383725 \nL 367.22575 539.825325 \nL 327.04975 539.825325 \nL 327.04975 509.383725 \n\" style=\"fill:none;\"/>\n    <path clip-path=\"url(#pe5dc507ec0)\" d=\"M 367.22575 509.383725 \nL 407.40175 509.383725 \nL 407.40175 539.825325 \nL 367.22575 539.825325 \nL 367.22575 509.383725 \n\" style=\"fill:none;\"/>\n    <path clip-path=\"url(#pe5dc507ec0)\" d=\"M 407.40175 509.383725 \nL 447.57775 509.383725 \nL 447.57775 539.825325 \nL 407.40175 539.825325 \nL 407.40175 509.383725 \n\" style=\"fill:none;\"/>\n    <path clip-path=\"url(#pe5dc507ec0)\" d=\"M 447.57775 509.383725 \nL 487.75375 509.383725 \nL 487.75375 539.825325 \nL 447.57775 539.825325 \nL 447.57775 509.383725 \n\" style=\"fill:none;\"/>\n    <path clip-path=\"url(#pe5dc507ec0)\" d=\"M 487.75375 509.383725 \nL 527.92975 509.383725 \nL 527.92975 539.825325 \nL 487.75375 539.825325 \nL 487.75375 509.383725 \n\" style=\"fill:none;\"/>\n    <path clip-path=\"url(#pe5dc507ec0)\" d=\"M 527.92975 509.383725 \nL 568.10575 509.383725 \nL 568.10575 539.825325 \nL 527.92975 539.825325 \nL 527.92975 509.383725 \n\" style=\"fill:none;\"/>\n    <path clip-path=\"url(#pe5dc507ec0)\" d=\"M 568.10575 509.383725 \nL 608.28175 509.383725 \nL 608.28175 539.825325 \nL 568.10575 539.825325 \nL 568.10575 509.383725 \n\" style=\"fill:none;\"/>\n    <path clip-path=\"url(#pe5dc507ec0)\" d=\"M 608.28175 509.383725 \nL 648.45775 509.383725 \nL 648.45775 539.825325 \nL 608.28175 539.825325 \nL 608.28175 509.383725 \n\" style=\"fill:none;\"/>\n    <path clip-path=\"url(#pe5dc507ec0)\" d=\"M 648.45775 509.383725 \nL 688.63375 509.383725 \nL 688.63375 539.825325 \nL 648.45775 539.825325 \nL 648.45775 509.383725 \n\" style=\"fill:none;\"/>\n    <path clip-path=\"url(#pe5dc507ec0)\" d=\"M 688.63375 509.383725 \nL 728.80975 509.383725 \nL 728.80975 539.825325 \nL 688.63375 539.825325 \nL 688.63375 509.383725 \n\" style=\"fill:none;\"/>\n    <path clip-path=\"url(#pe5dc507ec0)\" d=\"M 728.80975 509.383725 \nL 768.98575 509.383725 \nL 768.98575 539.825325 \nL 728.80975 539.825325 \nL 728.80975 509.383725 \n\" style=\"fill:none;\"/>\n    <path clip-path=\"url(#pe5dc507ec0)\" d=\"M 768.98575 509.383725 \nL 809.16175 509.383725 \nL 809.16175 539.825325 \nL 768.98575 539.825325 \nL 768.98575 509.383725 \n\" style=\"fill:none;\"/>\n    <path clip-path=\"url(#pe5dc507ec0)\" d=\"M 809.16175 509.383725 \nL 849.33775 509.383725 \nL 849.33775 539.825325 \nL 809.16175 539.825325 \nL 809.16175 509.383725 \n\" style=\"fill:none;\"/>\n    <path clip-path=\"url(#pe5dc507ec0)\" d=\"M 849.33775 509.383725 \nL 889.51375 509.383725 \nL 889.51375 539.825325 \nL 849.33775 539.825325 \nL 849.33775 509.383725 \n\" style=\"fill:none;\"/>\n    <path clip-path=\"url(#pe5dc507ec0)\" d=\"M 85.99375 539.825325 \nL 126.16975 539.825325 \nL 126.16975 570.266925 \nL 85.99375 570.266925 \nL 85.99375 539.825325 \n\" style=\"fill:#081d58;\"/>\n    <path clip-path=\"url(#pe5dc507ec0)\" d=\"M 126.16975 539.825325 \nL 166.34575 539.825325 \nL 166.34575 570.266925 \nL 126.16975 570.266925 \nL 126.16975 539.825325 \n\" style=\"fill:#73c8bd;\"/>\n    <path clip-path=\"url(#pe5dc507ec0)\" d=\"M 166.34575 539.825325 \nL 206.52175 539.825325 \nL 206.52175 570.266925 \nL 166.34575 570.266925 \nL 166.34575 539.825325 \n\" style=\"fill:#73c8bd;\"/>\n    <path clip-path=\"url(#pe5dc507ec0)\" d=\"M 206.52175 539.825325 \nL 246.69775 539.825325 \nL 246.69775 570.266925 \nL 206.52175 570.266925 \nL 206.52175 539.825325 \n\" style=\"fill:#73c8bd;\"/>\n    <path clip-path=\"url(#pe5dc507ec0)\" d=\"M 246.69775 539.825325 \nL 286.87375 539.825325 \nL 286.87375 570.266925 \nL 246.69775 570.266925 \nL 246.69775 539.825325 \n\" style=\"fill:#ffffd9;\"/>\n    <path clip-path=\"url(#pe5dc507ec0)\" d=\"M 286.87375 539.825325 \nL 327.04975 539.825325 \nL 327.04975 570.266925 \nL 286.87375 570.266925 \nL 286.87375 539.825325 \n\" style=\"fill:none;\"/>\n    <path clip-path=\"url(#pe5dc507ec0)\" d=\"M 327.04975 539.825325 \nL 367.22575 539.825325 \nL 367.22575 570.266925 \nL 327.04975 570.266925 \nL 327.04975 539.825325 \n\" style=\"fill:none;\"/>\n    <path clip-path=\"url(#pe5dc507ec0)\" d=\"M 367.22575 539.825325 \nL 407.40175 539.825325 \nL 407.40175 570.266925 \nL 367.22575 570.266925 \nL 367.22575 539.825325 \n\" style=\"fill:none;\"/>\n    <path clip-path=\"url(#pe5dc507ec0)\" d=\"M 407.40175 539.825325 \nL 447.57775 539.825325 \nL 447.57775 570.266925 \nL 407.40175 570.266925 \nL 407.40175 539.825325 \n\" style=\"fill:none;\"/>\n    <path clip-path=\"url(#pe5dc507ec0)\" d=\"M 447.57775 539.825325 \nL 487.75375 539.825325 \nL 487.75375 570.266925 \nL 447.57775 570.266925 \nL 447.57775 539.825325 \n\" style=\"fill:none;\"/>\n    <path clip-path=\"url(#pe5dc507ec0)\" d=\"M 487.75375 539.825325 \nL 527.92975 539.825325 \nL 527.92975 570.266925 \nL 487.75375 570.266925 \nL 487.75375 539.825325 \n\" style=\"fill:none;\"/>\n    <path clip-path=\"url(#pe5dc507ec0)\" d=\"M 527.92975 539.825325 \nL 568.10575 539.825325 \nL 568.10575 570.266925 \nL 527.92975 570.266925 \nL 527.92975 539.825325 \n\" style=\"fill:none;\"/>\n    <path clip-path=\"url(#pe5dc507ec0)\" d=\"M 568.10575 539.825325 \nL 608.28175 539.825325 \nL 608.28175 570.266925 \nL 568.10575 570.266925 \nL 568.10575 539.825325 \n\" style=\"fill:none;\"/>\n    <path clip-path=\"url(#pe5dc507ec0)\" d=\"M 608.28175 539.825325 \nL 648.45775 539.825325 \nL 648.45775 570.266925 \nL 608.28175 570.266925 \nL 608.28175 539.825325 \n\" style=\"fill:none;\"/>\n    <path clip-path=\"url(#pe5dc507ec0)\" d=\"M 648.45775 539.825325 \nL 688.63375 539.825325 \nL 688.63375 570.266925 \nL 648.45775 570.266925 \nL 648.45775 539.825325 \n\" style=\"fill:none;\"/>\n    <path clip-path=\"url(#pe5dc507ec0)\" d=\"M 688.63375 539.825325 \nL 728.80975 539.825325 \nL 728.80975 570.266925 \nL 688.63375 570.266925 \nL 688.63375 539.825325 \n\" style=\"fill:none;\"/>\n    <path clip-path=\"url(#pe5dc507ec0)\" d=\"M 728.80975 539.825325 \nL 768.98575 539.825325 \nL 768.98575 570.266925 \nL 728.80975 570.266925 \nL 728.80975 539.825325 \n\" style=\"fill:none;\"/>\n    <path clip-path=\"url(#pe5dc507ec0)\" d=\"M 768.98575 539.825325 \nL 809.16175 539.825325 \nL 809.16175 570.266925 \nL 768.98575 570.266925 \nL 768.98575 539.825325 \n\" style=\"fill:none;\"/>\n    <path clip-path=\"url(#pe5dc507ec0)\" d=\"M 809.16175 539.825325 \nL 849.33775 539.825325 \nL 849.33775 570.266925 \nL 809.16175 570.266925 \nL 809.16175 539.825325 \n\" style=\"fill:none;\"/>\n    <path clip-path=\"url(#pe5dc507ec0)\" d=\"M 849.33775 539.825325 \nL 889.51375 539.825325 \nL 889.51375 570.266925 \nL 849.33775 570.266925 \nL 849.33775 539.825325 \n\" style=\"fill:none;\"/>\n    <path clip-path=\"url(#pe5dc507ec0)\" d=\"M 85.99375 570.266925 \nL 126.16975 570.266925 \nL 126.16975 600.708525 \nL 85.99375 600.708525 \nL 85.99375 570.266925 \n\" style=\"fill:#081d58;\"/>\n    <path clip-path=\"url(#pe5dc507ec0)\" d=\"M 126.16975 570.266925 \nL 166.34575 570.266925 \nL 166.34575 600.708525 \nL 126.16975 600.708525 \nL 126.16975 570.266925 \n\" style=\"fill:#73c8bd;\"/>\n    <path clip-path=\"url(#pe5dc507ec0)\" d=\"M 166.34575 570.266925 \nL 206.52175 570.266925 \nL 206.52175 600.708525 \nL 166.34575 600.708525 \nL 166.34575 570.266925 \n\" style=\"fill:#73c8bd;\"/>\n    <path clip-path=\"url(#pe5dc507ec0)\" d=\"M 206.52175 570.266925 \nL 246.69775 570.266925 \nL 246.69775 600.708525 \nL 206.52175 600.708525 \nL 206.52175 570.266925 \n\" style=\"fill:#d6efb3;\"/>\n    <path clip-path=\"url(#pe5dc507ec0)\" d=\"M 246.69775 570.266925 \nL 286.87375 570.266925 \nL 286.87375 600.708525 \nL 246.69775 600.708525 \nL 246.69775 570.266925 \n\" style=\"fill:none;\"/>\n    <path clip-path=\"url(#pe5dc507ec0)\" d=\"M 286.87375 570.266925 \nL 327.04975 570.266925 \nL 327.04975 600.708525 \nL 286.87375 600.708525 \nL 286.87375 570.266925 \n\" style=\"fill:none;\"/>\n    <path clip-path=\"url(#pe5dc507ec0)\" d=\"M 327.04975 570.266925 \nL 367.22575 570.266925 \nL 367.22575 600.708525 \nL 327.04975 600.708525 \nL 327.04975 570.266925 \n\" style=\"fill:none;\"/>\n    <path clip-path=\"url(#pe5dc507ec0)\" d=\"M 367.22575 570.266925 \nL 407.40175 570.266925 \nL 407.40175 600.708525 \nL 367.22575 600.708525 \nL 367.22575 570.266925 \n\" style=\"fill:none;\"/>\n    <path clip-path=\"url(#pe5dc507ec0)\" d=\"M 407.40175 570.266925 \nL 447.57775 570.266925 \nL 447.57775 600.708525 \nL 407.40175 600.708525 \nL 407.40175 570.266925 \n\" style=\"fill:none;\"/>\n    <path clip-path=\"url(#pe5dc507ec0)\" d=\"M 447.57775 570.266925 \nL 487.75375 570.266925 \nL 487.75375 600.708525 \nL 447.57775 600.708525 \nL 447.57775 570.266925 \n\" style=\"fill:none;\"/>\n    <path clip-path=\"url(#pe5dc507ec0)\" d=\"M 487.75375 570.266925 \nL 527.92975 570.266925 \nL 527.92975 600.708525 \nL 487.75375 600.708525 \nL 487.75375 570.266925 \n\" style=\"fill:none;\"/>\n    <path clip-path=\"url(#pe5dc507ec0)\" d=\"M 527.92975 570.266925 \nL 568.10575 570.266925 \nL 568.10575 600.708525 \nL 527.92975 600.708525 \nL 527.92975 570.266925 \n\" style=\"fill:none;\"/>\n    <path clip-path=\"url(#pe5dc507ec0)\" d=\"M 568.10575 570.266925 \nL 608.28175 570.266925 \nL 608.28175 600.708525 \nL 568.10575 600.708525 \nL 568.10575 570.266925 \n\" style=\"fill:none;\"/>\n    <path clip-path=\"url(#pe5dc507ec0)\" d=\"M 608.28175 570.266925 \nL 648.45775 570.266925 \nL 648.45775 600.708525 \nL 608.28175 600.708525 \nL 608.28175 570.266925 \n\" style=\"fill:none;\"/>\n    <path clip-path=\"url(#pe5dc507ec0)\" d=\"M 648.45775 570.266925 \nL 688.63375 570.266925 \nL 688.63375 600.708525 \nL 648.45775 600.708525 \nL 648.45775 570.266925 \n\" style=\"fill:none;\"/>\n    <path clip-path=\"url(#pe5dc507ec0)\" d=\"M 688.63375 570.266925 \nL 728.80975 570.266925 \nL 728.80975 600.708525 \nL 688.63375 600.708525 \nL 688.63375 570.266925 \n\" style=\"fill:none;\"/>\n    <path clip-path=\"url(#pe5dc507ec0)\" d=\"M 728.80975 570.266925 \nL 768.98575 570.266925 \nL 768.98575 600.708525 \nL 728.80975 600.708525 \nL 728.80975 570.266925 \n\" style=\"fill:none;\"/>\n    <path clip-path=\"url(#pe5dc507ec0)\" d=\"M 768.98575 570.266925 \nL 809.16175 570.266925 \nL 809.16175 600.708525 \nL 768.98575 600.708525 \nL 768.98575 570.266925 \n\" style=\"fill:none;\"/>\n    <path clip-path=\"url(#pe5dc507ec0)\" d=\"M 809.16175 570.266925 \nL 849.33775 570.266925 \nL 849.33775 600.708525 \nL 809.16175 600.708525 \nL 809.16175 570.266925 \n\" style=\"fill:none;\"/>\n    <path clip-path=\"url(#pe5dc507ec0)\" d=\"M 849.33775 570.266925 \nL 889.51375 570.266925 \nL 889.51375 600.708525 \nL 849.33775 600.708525 \nL 849.33775 570.266925 \n\" style=\"fill:none;\"/>\n    <path clip-path=\"url(#pe5dc507ec0)\" d=\"M 85.99375 600.708525 \nL 126.16975 600.708525 \nL 126.16975 631.150125 \nL 85.99375 631.150125 \nL 85.99375 600.708525 \n\" style=\"fill:#2498c1;\"/>\n    <path clip-path=\"url(#pe5dc507ec0)\" d=\"M 126.16975 600.708525 \nL 166.34575 600.708525 \nL 166.34575 631.150125 \nL 126.16975 631.150125 \nL 126.16975 600.708525 \n\" style=\"fill:#234da0;\"/>\n    <path clip-path=\"url(#pe5dc507ec0)\" d=\"M 166.34575 600.708525 \nL 206.52175 600.708525 \nL 206.52175 631.150125 \nL 166.34575 631.150125 \nL 166.34575 600.708525 \n\" style=\"fill:#ffffd9;\"/>\n    <path clip-path=\"url(#pe5dc507ec0)\" d=\"M 206.52175 600.708525 \nL 246.69775 600.708525 \nL 246.69775 631.150125 \nL 206.52175 631.150125 \nL 206.52175 600.708525 \n\" style=\"fill:none;\"/>\n    <path clip-path=\"url(#pe5dc507ec0)\" d=\"M 246.69775 600.708525 \nL 286.87375 600.708525 \nL 286.87375 631.150125 \nL 246.69775 631.150125 \nL 246.69775 600.708525 \n\" style=\"fill:none;\"/>\n    <path clip-path=\"url(#pe5dc507ec0)\" d=\"M 286.87375 600.708525 \nL 327.04975 600.708525 \nL 327.04975 631.150125 \nL 286.87375 631.150125 \nL 286.87375 600.708525 \n\" style=\"fill:none;\"/>\n    <path clip-path=\"url(#pe5dc507ec0)\" d=\"M 327.04975 600.708525 \nL 367.22575 600.708525 \nL 367.22575 631.150125 \nL 327.04975 631.150125 \nL 327.04975 600.708525 \n\" style=\"fill:none;\"/>\n    <path clip-path=\"url(#pe5dc507ec0)\" d=\"M 367.22575 600.708525 \nL 407.40175 600.708525 \nL 407.40175 631.150125 \nL 367.22575 631.150125 \nL 367.22575 600.708525 \n\" style=\"fill:none;\"/>\n    <path clip-path=\"url(#pe5dc507ec0)\" d=\"M 407.40175 600.708525 \nL 447.57775 600.708525 \nL 447.57775 631.150125 \nL 407.40175 631.150125 \nL 407.40175 600.708525 \n\" style=\"fill:none;\"/>\n    <path clip-path=\"url(#pe5dc507ec0)\" d=\"M 447.57775 600.708525 \nL 487.75375 600.708525 \nL 487.75375 631.150125 \nL 447.57775 631.150125 \nL 447.57775 600.708525 \n\" style=\"fill:none;\"/>\n    <path clip-path=\"url(#pe5dc507ec0)\" d=\"M 487.75375 600.708525 \nL 527.92975 600.708525 \nL 527.92975 631.150125 \nL 487.75375 631.150125 \nL 487.75375 600.708525 \n\" style=\"fill:none;\"/>\n    <path clip-path=\"url(#pe5dc507ec0)\" d=\"M 527.92975 600.708525 \nL 568.10575 600.708525 \nL 568.10575 631.150125 \nL 527.92975 631.150125 \nL 527.92975 600.708525 \n\" style=\"fill:none;\"/>\n    <path clip-path=\"url(#pe5dc507ec0)\" d=\"M 568.10575 600.708525 \nL 608.28175 600.708525 \nL 608.28175 631.150125 \nL 568.10575 631.150125 \nL 568.10575 600.708525 \n\" style=\"fill:none;\"/>\n    <path clip-path=\"url(#pe5dc507ec0)\" d=\"M 608.28175 600.708525 \nL 648.45775 600.708525 \nL 648.45775 631.150125 \nL 608.28175 631.150125 \nL 608.28175 600.708525 \n\" style=\"fill:none;\"/>\n    <path clip-path=\"url(#pe5dc507ec0)\" d=\"M 648.45775 600.708525 \nL 688.63375 600.708525 \nL 688.63375 631.150125 \nL 648.45775 631.150125 \nL 648.45775 600.708525 \n\" style=\"fill:none;\"/>\n    <path clip-path=\"url(#pe5dc507ec0)\" d=\"M 688.63375 600.708525 \nL 728.80975 600.708525 \nL 728.80975 631.150125 \nL 688.63375 631.150125 \nL 688.63375 600.708525 \n\" style=\"fill:none;\"/>\n    <path clip-path=\"url(#pe5dc507ec0)\" d=\"M 728.80975 600.708525 \nL 768.98575 600.708525 \nL 768.98575 631.150125 \nL 728.80975 631.150125 \nL 728.80975 600.708525 \n\" style=\"fill:none;\"/>\n    <path clip-path=\"url(#pe5dc507ec0)\" d=\"M 768.98575 600.708525 \nL 809.16175 600.708525 \nL 809.16175 631.150125 \nL 768.98575 631.150125 \nL 768.98575 600.708525 \n\" style=\"fill:none;\"/>\n    <path clip-path=\"url(#pe5dc507ec0)\" d=\"M 809.16175 600.708525 \nL 849.33775 600.708525 \nL 849.33775 631.150125 \nL 809.16175 631.150125 \nL 809.16175 600.708525 \n\" style=\"fill:none;\"/>\n    <path clip-path=\"url(#pe5dc507ec0)\" d=\"M 849.33775 600.708525 \nL 889.51375 600.708525 \nL 889.51375 631.150125 \nL 849.33775 631.150125 \nL 849.33775 600.708525 \n\" style=\"fill:none;\"/>\n    <path clip-path=\"url(#pe5dc507ec0)\" d=\"M 85.99375 631.150125 \nL 126.16975 631.150125 \nL 126.16975 661.591725 \nL 85.99375 661.591725 \nL 85.99375 631.150125 \n\" style=\"fill:#234da0;\"/>\n    <path clip-path=\"url(#pe5dc507ec0)\" d=\"M 126.16975 631.150125 \nL 166.34575 631.150125 \nL 166.34575 661.591725 \nL 126.16975 661.591725 \nL 126.16975 631.150125 \n\" style=\"fill:#d6efb3;\"/>\n    <path clip-path=\"url(#pe5dc507ec0)\" d=\"M 166.34575 631.150125 \nL 206.52175 631.150125 \nL 206.52175 661.591725 \nL 166.34575 661.591725 \nL 166.34575 631.150125 \n\" style=\"fill:none;\"/>\n    <path clip-path=\"url(#pe5dc507ec0)\" d=\"M 206.52175 631.150125 \nL 246.69775 631.150125 \nL 246.69775 661.591725 \nL 206.52175 661.591725 \nL 206.52175 631.150125 \n\" style=\"fill:#ffffd9;\"/>\n    <path clip-path=\"url(#pe5dc507ec0)\" d=\"M 246.69775 631.150125 \nL 286.87375 631.150125 \nL 286.87375 661.591725 \nL 246.69775 661.591725 \nL 246.69775 631.150125 \n\" style=\"fill:none;\"/>\n    <path clip-path=\"url(#pe5dc507ec0)\" d=\"M 286.87375 631.150125 \nL 327.04975 631.150125 \nL 327.04975 661.591725 \nL 286.87375 661.591725 \nL 286.87375 631.150125 \n\" style=\"fill:none;\"/>\n    <path clip-path=\"url(#pe5dc507ec0)\" d=\"M 327.04975 631.150125 \nL 367.22575 631.150125 \nL 367.22575 661.591725 \nL 327.04975 661.591725 \nL 327.04975 631.150125 \n\" style=\"fill:none;\"/>\n    <path clip-path=\"url(#pe5dc507ec0)\" d=\"M 367.22575 631.150125 \nL 407.40175 631.150125 \nL 407.40175 661.591725 \nL 367.22575 661.591725 \nL 367.22575 631.150125 \n\" style=\"fill:none;\"/>\n    <path clip-path=\"url(#pe5dc507ec0)\" d=\"M 407.40175 631.150125 \nL 447.57775 631.150125 \nL 447.57775 661.591725 \nL 407.40175 661.591725 \nL 407.40175 631.150125 \n\" style=\"fill:none;\"/>\n    <path clip-path=\"url(#pe5dc507ec0)\" d=\"M 447.57775 631.150125 \nL 487.75375 631.150125 \nL 487.75375 661.591725 \nL 447.57775 661.591725 \nL 447.57775 631.150125 \n\" style=\"fill:none;\"/>\n    <path clip-path=\"url(#pe5dc507ec0)\" d=\"M 487.75375 631.150125 \nL 527.92975 631.150125 \nL 527.92975 661.591725 \nL 487.75375 661.591725 \nL 487.75375 631.150125 \n\" style=\"fill:none;\"/>\n    <path clip-path=\"url(#pe5dc507ec0)\" d=\"M 527.92975 631.150125 \nL 568.10575 631.150125 \nL 568.10575 661.591725 \nL 527.92975 661.591725 \nL 527.92975 631.150125 \n\" style=\"fill:none;\"/>\n    <path clip-path=\"url(#pe5dc507ec0)\" d=\"M 568.10575 631.150125 \nL 608.28175 631.150125 \nL 608.28175 661.591725 \nL 568.10575 661.591725 \nL 568.10575 631.150125 \n\" style=\"fill:none;\"/>\n    <path clip-path=\"url(#pe5dc507ec0)\" d=\"M 608.28175 631.150125 \nL 648.45775 631.150125 \nL 648.45775 661.591725 \nL 608.28175 661.591725 \nL 608.28175 631.150125 \n\" style=\"fill:none;\"/>\n    <path clip-path=\"url(#pe5dc507ec0)\" d=\"M 648.45775 631.150125 \nL 688.63375 631.150125 \nL 688.63375 661.591725 \nL 648.45775 661.591725 \nL 648.45775 631.150125 \n\" style=\"fill:none;\"/>\n    <path clip-path=\"url(#pe5dc507ec0)\" d=\"M 688.63375 631.150125 \nL 728.80975 631.150125 \nL 728.80975 661.591725 \nL 688.63375 661.591725 \nL 688.63375 631.150125 \n\" style=\"fill:none;\"/>\n    <path clip-path=\"url(#pe5dc507ec0)\" d=\"M 728.80975 631.150125 \nL 768.98575 631.150125 \nL 768.98575 661.591725 \nL 728.80975 661.591725 \nL 728.80975 631.150125 \n\" style=\"fill:none;\"/>\n    <path clip-path=\"url(#pe5dc507ec0)\" d=\"M 768.98575 631.150125 \nL 809.16175 631.150125 \nL 809.16175 661.591725 \nL 768.98575 661.591725 \nL 768.98575 631.150125 \n\" style=\"fill:none;\"/>\n    <path clip-path=\"url(#pe5dc507ec0)\" d=\"M 809.16175 631.150125 \nL 849.33775 631.150125 \nL 849.33775 661.591725 \nL 809.16175 661.591725 \nL 809.16175 631.150125 \n\" style=\"fill:none;\"/>\n    <path clip-path=\"url(#pe5dc507ec0)\" d=\"M 849.33775 631.150125 \nL 889.51375 631.150125 \nL 889.51375 661.591725 \nL 849.33775 661.591725 \nL 849.33775 631.150125 \n\" style=\"fill:none;\"/>\n    <path clip-path=\"url(#pe5dc507ec0)\" d=\"M 85.99375 661.591725 \nL 126.16975 661.591725 \nL 126.16975 692.033325 \nL 85.99375 692.033325 \nL 85.99375 661.591725 \n\" style=\"fill:#d6efb3;\"/>\n    <path clip-path=\"url(#pe5dc507ec0)\" d=\"M 126.16975 661.591725 \nL 166.34575 661.591725 \nL 166.34575 692.033325 \nL 126.16975 692.033325 \nL 126.16975 661.591725 \n\" style=\"fill:#ffffd9;\"/>\n    <path clip-path=\"url(#pe5dc507ec0)\" d=\"M 166.34575 661.591725 \nL 206.52175 661.591725 \nL 206.52175 692.033325 \nL 166.34575 692.033325 \nL 166.34575 661.591725 \n\" style=\"fill:none;\"/>\n    <path clip-path=\"url(#pe5dc507ec0)\" d=\"M 206.52175 661.591725 \nL 246.69775 661.591725 \nL 246.69775 692.033325 \nL 206.52175 692.033325 \nL 206.52175 661.591725 \n\" style=\"fill:none;\"/>\n    <path clip-path=\"url(#pe5dc507ec0)\" d=\"M 246.69775 661.591725 \nL 286.87375 661.591725 \nL 286.87375 692.033325 \nL 246.69775 692.033325 \nL 246.69775 661.591725 \n\" style=\"fill:none;\"/>\n    <path clip-path=\"url(#pe5dc507ec0)\" d=\"M 286.87375 661.591725 \nL 327.04975 661.591725 \nL 327.04975 692.033325 \nL 286.87375 692.033325 \nL 286.87375 661.591725 \n\" style=\"fill:none;\"/>\n    <path clip-path=\"url(#pe5dc507ec0)\" d=\"M 327.04975 661.591725 \nL 367.22575 661.591725 \nL 367.22575 692.033325 \nL 327.04975 692.033325 \nL 327.04975 661.591725 \n\" style=\"fill:none;\"/>\n    <path clip-path=\"url(#pe5dc507ec0)\" d=\"M 367.22575 661.591725 \nL 407.40175 661.591725 \nL 407.40175 692.033325 \nL 367.22575 692.033325 \nL 367.22575 661.591725 \n\" style=\"fill:none;\"/>\n    <path clip-path=\"url(#pe5dc507ec0)\" d=\"M 407.40175 661.591725 \nL 447.57775 661.591725 \nL 447.57775 692.033325 \nL 407.40175 692.033325 \nL 407.40175 661.591725 \n\" style=\"fill:none;\"/>\n    <path clip-path=\"url(#pe5dc507ec0)\" d=\"M 447.57775 661.591725 \nL 487.75375 661.591725 \nL 487.75375 692.033325 \nL 447.57775 692.033325 \nL 447.57775 661.591725 \n\" style=\"fill:none;\"/>\n    <path clip-path=\"url(#pe5dc507ec0)\" d=\"M 487.75375 661.591725 \nL 527.92975 661.591725 \nL 527.92975 692.033325 \nL 487.75375 692.033325 \nL 487.75375 661.591725 \n\" style=\"fill:none;\"/>\n    <path clip-path=\"url(#pe5dc507ec0)\" d=\"M 527.92975 661.591725 \nL 568.10575 661.591725 \nL 568.10575 692.033325 \nL 527.92975 692.033325 \nL 527.92975 661.591725 \n\" style=\"fill:none;\"/>\n    <path clip-path=\"url(#pe5dc507ec0)\" d=\"M 568.10575 661.591725 \nL 608.28175 661.591725 \nL 608.28175 692.033325 \nL 568.10575 692.033325 \nL 568.10575 661.591725 \n\" style=\"fill:none;\"/>\n    <path clip-path=\"url(#pe5dc507ec0)\" d=\"M 608.28175 661.591725 \nL 648.45775 661.591725 \nL 648.45775 692.033325 \nL 608.28175 692.033325 \nL 608.28175 661.591725 \n\" style=\"fill:none;\"/>\n    <path clip-path=\"url(#pe5dc507ec0)\" d=\"M 648.45775 661.591725 \nL 688.63375 661.591725 \nL 688.63375 692.033325 \nL 648.45775 692.033325 \nL 648.45775 661.591725 \n\" style=\"fill:none;\"/>\n    <path clip-path=\"url(#pe5dc507ec0)\" d=\"M 688.63375 661.591725 \nL 728.80975 661.591725 \nL 728.80975 692.033325 \nL 688.63375 692.033325 \nL 688.63375 661.591725 \n\" style=\"fill:none;\"/>\n    <path clip-path=\"url(#pe5dc507ec0)\" d=\"M 728.80975 661.591725 \nL 768.98575 661.591725 \nL 768.98575 692.033325 \nL 728.80975 692.033325 \nL 728.80975 661.591725 \n\" style=\"fill:none;\"/>\n    <path clip-path=\"url(#pe5dc507ec0)\" d=\"M 768.98575 661.591725 \nL 809.16175 661.591725 \nL 809.16175 692.033325 \nL 768.98575 692.033325 \nL 768.98575 661.591725 \n\" style=\"fill:none;\"/>\n    <path clip-path=\"url(#pe5dc507ec0)\" d=\"M 809.16175 661.591725 \nL 849.33775 661.591725 \nL 849.33775 692.033325 \nL 809.16175 692.033325 \nL 809.16175 661.591725 \n\" style=\"fill:none;\"/>\n    <path clip-path=\"url(#pe5dc507ec0)\" d=\"M 849.33775 661.591725 \nL 889.51375 661.591725 \nL 889.51375 692.033325 \nL 849.33775 692.033325 \nL 849.33775 661.591725 \n\" style=\"fill:none;\"/>\n    <path clip-path=\"url(#pe5dc507ec0)\" d=\"M 85.99375 692.033325 \nL 126.16975 692.033325 \nL 126.16975 722.474925 \nL 85.99375 722.474925 \nL 85.99375 692.033325 \n\" style=\"fill:#ffffd9;\"/>\n    <path clip-path=\"url(#pe5dc507ec0)\" d=\"M 126.16975 692.033325 \nL 166.34575 692.033325 \nL 166.34575 722.474925 \nL 126.16975 722.474925 \nL 126.16975 692.033325 \n\" style=\"fill:none;\"/>\n    <path clip-path=\"url(#pe5dc507ec0)\" d=\"M 166.34575 692.033325 \nL 206.52175 692.033325 \nL 206.52175 722.474925 \nL 166.34575 722.474925 \nL 166.34575 692.033325 \n\" style=\"fill:none;\"/>\n    <path clip-path=\"url(#pe5dc507ec0)\" d=\"M 206.52175 692.033325 \nL 246.69775 692.033325 \nL 246.69775 722.474925 \nL 206.52175 722.474925 \nL 206.52175 692.033325 \n\" style=\"fill:none;\"/>\n    <path clip-path=\"url(#pe5dc507ec0)\" d=\"M 246.69775 692.033325 \nL 286.87375 692.033325 \nL 286.87375 722.474925 \nL 246.69775 722.474925 \nL 246.69775 692.033325 \n\" style=\"fill:none;\"/>\n    <path clip-path=\"url(#pe5dc507ec0)\" d=\"M 286.87375 692.033325 \nL 327.04975 692.033325 \nL 327.04975 722.474925 \nL 286.87375 722.474925 \nL 286.87375 692.033325 \n\" style=\"fill:none;\"/>\n    <path clip-path=\"url(#pe5dc507ec0)\" d=\"M 327.04975 692.033325 \nL 367.22575 692.033325 \nL 367.22575 722.474925 \nL 327.04975 722.474925 \nL 327.04975 692.033325 \n\" style=\"fill:none;\"/>\n    <path clip-path=\"url(#pe5dc507ec0)\" d=\"M 367.22575 692.033325 \nL 407.40175 692.033325 \nL 407.40175 722.474925 \nL 367.22575 722.474925 \nL 367.22575 692.033325 \n\" style=\"fill:none;\"/>\n    <path clip-path=\"url(#pe5dc507ec0)\" d=\"M 407.40175 692.033325 \nL 447.57775 692.033325 \nL 447.57775 722.474925 \nL 407.40175 722.474925 \nL 407.40175 692.033325 \n\" style=\"fill:none;\"/>\n    <path clip-path=\"url(#pe5dc507ec0)\" d=\"M 447.57775 692.033325 \nL 487.75375 692.033325 \nL 487.75375 722.474925 \nL 447.57775 722.474925 \nL 447.57775 692.033325 \n\" style=\"fill:none;\"/>\n    <path clip-path=\"url(#pe5dc507ec0)\" d=\"M 487.75375 692.033325 \nL 527.92975 692.033325 \nL 527.92975 722.474925 \nL 487.75375 722.474925 \nL 487.75375 692.033325 \n\" style=\"fill:none;\"/>\n    <path clip-path=\"url(#pe5dc507ec0)\" d=\"M 527.92975 692.033325 \nL 568.10575 692.033325 \nL 568.10575 722.474925 \nL 527.92975 722.474925 \nL 527.92975 692.033325 \n\" style=\"fill:none;\"/>\n    <path clip-path=\"url(#pe5dc507ec0)\" d=\"M 568.10575 692.033325 \nL 608.28175 692.033325 \nL 608.28175 722.474925 \nL 568.10575 722.474925 \nL 568.10575 692.033325 \n\" style=\"fill:none;\"/>\n    <path clip-path=\"url(#pe5dc507ec0)\" d=\"M 608.28175 692.033325 \nL 648.45775 692.033325 \nL 648.45775 722.474925 \nL 608.28175 722.474925 \nL 608.28175 692.033325 \n\" style=\"fill:none;\"/>\n    <path clip-path=\"url(#pe5dc507ec0)\" d=\"M 648.45775 692.033325 \nL 688.63375 692.033325 \nL 688.63375 722.474925 \nL 648.45775 722.474925 \nL 648.45775 692.033325 \n\" style=\"fill:none;\"/>\n    <path clip-path=\"url(#pe5dc507ec0)\" d=\"M 688.63375 692.033325 \nL 728.80975 692.033325 \nL 728.80975 722.474925 \nL 688.63375 722.474925 \nL 688.63375 692.033325 \n\" style=\"fill:none;\"/>\n    <path clip-path=\"url(#pe5dc507ec0)\" d=\"M 728.80975 692.033325 \nL 768.98575 692.033325 \nL 768.98575 722.474925 \nL 728.80975 722.474925 \nL 728.80975 692.033325 \n\" style=\"fill:none;\"/>\n    <path clip-path=\"url(#pe5dc507ec0)\" d=\"M 768.98575 692.033325 \nL 809.16175 692.033325 \nL 809.16175 722.474925 \nL 768.98575 722.474925 \nL 768.98575 692.033325 \n\" style=\"fill:none;\"/>\n    <path clip-path=\"url(#pe5dc507ec0)\" d=\"M 809.16175 692.033325 \nL 849.33775 692.033325 \nL 849.33775 722.474925 \nL 809.16175 722.474925 \nL 809.16175 692.033325 \n\" style=\"fill:none;\"/>\n    <path clip-path=\"url(#pe5dc507ec0)\" d=\"M 849.33775 692.033325 \nL 889.51375 692.033325 \nL 889.51375 722.474925 \nL 849.33775 722.474925 \nL 849.33775 692.033325 \n\" style=\"fill:none;\"/>\n    <path clip-path=\"url(#pe5dc507ec0)\" d=\"M 85.99375 722.474925 \nL 126.16975 722.474925 \nL 126.16975 752.916525 \nL 85.99375 752.916525 \nL 85.99375 722.474925 \n\" style=\"fill:none;\"/>\n    <path clip-path=\"url(#pe5dc507ec0)\" d=\"M 126.16975 722.474925 \nL 166.34575 722.474925 \nL 166.34575 752.916525 \nL 126.16975 752.916525 \nL 126.16975 722.474925 \n\" style=\"fill:none;\"/>\n    <path clip-path=\"url(#pe5dc507ec0)\" d=\"M 166.34575 722.474925 \nL 206.52175 722.474925 \nL 206.52175 752.916525 \nL 166.34575 752.916525 \nL 166.34575 722.474925 \n\" style=\"fill:none;\"/>\n    <path clip-path=\"url(#pe5dc507ec0)\" d=\"M 206.52175 722.474925 \nL 246.69775 722.474925 \nL 246.69775 752.916525 \nL 206.52175 752.916525 \nL 206.52175 722.474925 \n\" style=\"fill:none;\"/>\n    <path clip-path=\"url(#pe5dc507ec0)\" d=\"M 246.69775 722.474925 \nL 286.87375 722.474925 \nL 286.87375 752.916525 \nL 246.69775 752.916525 \nL 246.69775 722.474925 \n\" style=\"fill:none;\"/>\n    <path clip-path=\"url(#pe5dc507ec0)\" d=\"M 286.87375 722.474925 \nL 327.04975 722.474925 \nL 327.04975 752.916525 \nL 286.87375 752.916525 \nL 286.87375 722.474925 \n\" style=\"fill:none;\"/>\n    <path clip-path=\"url(#pe5dc507ec0)\" d=\"M 327.04975 722.474925 \nL 367.22575 722.474925 \nL 367.22575 752.916525 \nL 327.04975 752.916525 \nL 327.04975 722.474925 \n\" style=\"fill:none;\"/>\n    <path clip-path=\"url(#pe5dc507ec0)\" d=\"M 367.22575 722.474925 \nL 407.40175 722.474925 \nL 407.40175 752.916525 \nL 367.22575 752.916525 \nL 367.22575 722.474925 \n\" style=\"fill:none;\"/>\n    <path clip-path=\"url(#pe5dc507ec0)\" d=\"M 407.40175 722.474925 \nL 447.57775 722.474925 \nL 447.57775 752.916525 \nL 407.40175 752.916525 \nL 407.40175 722.474925 \n\" style=\"fill:none;\"/>\n    <path clip-path=\"url(#pe5dc507ec0)\" d=\"M 447.57775 722.474925 \nL 487.75375 722.474925 \nL 487.75375 752.916525 \nL 447.57775 752.916525 \nL 447.57775 722.474925 \n\" style=\"fill:none;\"/>\n    <path clip-path=\"url(#pe5dc507ec0)\" d=\"M 487.75375 722.474925 \nL 527.92975 722.474925 \nL 527.92975 752.916525 \nL 487.75375 752.916525 \nL 487.75375 722.474925 \n\" style=\"fill:none;\"/>\n    <path clip-path=\"url(#pe5dc507ec0)\" d=\"M 527.92975 722.474925 \nL 568.10575 722.474925 \nL 568.10575 752.916525 \nL 527.92975 752.916525 \nL 527.92975 722.474925 \n\" style=\"fill:none;\"/>\n    <path clip-path=\"url(#pe5dc507ec0)\" d=\"M 568.10575 722.474925 \nL 608.28175 722.474925 \nL 608.28175 752.916525 \nL 568.10575 752.916525 \nL 568.10575 722.474925 \n\" style=\"fill:none;\"/>\n    <path clip-path=\"url(#pe5dc507ec0)\" d=\"M 608.28175 722.474925 \nL 648.45775 722.474925 \nL 648.45775 752.916525 \nL 608.28175 752.916525 \nL 608.28175 722.474925 \n\" style=\"fill:none;\"/>\n    <path clip-path=\"url(#pe5dc507ec0)\" d=\"M 648.45775 722.474925 \nL 688.63375 722.474925 \nL 688.63375 752.916525 \nL 648.45775 752.916525 \nL 648.45775 722.474925 \n\" style=\"fill:none;\"/>\n    <path clip-path=\"url(#pe5dc507ec0)\" d=\"M 688.63375 722.474925 \nL 728.80975 722.474925 \nL 728.80975 752.916525 \nL 688.63375 752.916525 \nL 688.63375 722.474925 \n\" style=\"fill:none;\"/>\n    <path clip-path=\"url(#pe5dc507ec0)\" d=\"M 728.80975 722.474925 \nL 768.98575 722.474925 \nL 768.98575 752.916525 \nL 728.80975 752.916525 \nL 728.80975 722.474925 \n\" style=\"fill:none;\"/>\n    <path clip-path=\"url(#pe5dc507ec0)\" d=\"M 768.98575 722.474925 \nL 809.16175 722.474925 \nL 809.16175 752.916525 \nL 768.98575 752.916525 \nL 768.98575 722.474925 \n\" style=\"fill:none;\"/>\n    <path clip-path=\"url(#pe5dc507ec0)\" d=\"M 809.16175 722.474925 \nL 849.33775 722.474925 \nL 849.33775 752.916525 \nL 809.16175 752.916525 \nL 809.16175 722.474925 \n\" style=\"fill:none;\"/>\n    <path clip-path=\"url(#pe5dc507ec0)\" d=\"M 849.33775 722.474925 \nL 889.51375 722.474925 \nL 889.51375 752.916525 \nL 849.33775 752.916525 \nL 849.33775 722.474925 \n\" style=\"fill:none;\"/>\n    <path clip-path=\"url(#pe5dc507ec0)\" d=\"M 85.99375 752.916525 \nL 126.16975 752.916525 \nL 126.16975 783.358125 \nL 85.99375 783.358125 \nL 85.99375 752.916525 \n\" style=\"fill:none;\"/>\n    <path clip-path=\"url(#pe5dc507ec0)\" d=\"M 126.16975 752.916525 \nL 166.34575 752.916525 \nL 166.34575 783.358125 \nL 126.16975 783.358125 \nL 126.16975 752.916525 \n\" style=\"fill:none;\"/>\n    <path clip-path=\"url(#pe5dc507ec0)\" d=\"M 166.34575 752.916525 \nL 206.52175 752.916525 \nL 206.52175 783.358125 \nL 166.34575 783.358125 \nL 166.34575 752.916525 \n\" style=\"fill:none;\"/>\n    <path clip-path=\"url(#pe5dc507ec0)\" d=\"M 206.52175 752.916525 \nL 246.69775 752.916525 \nL 246.69775 783.358125 \nL 206.52175 783.358125 \nL 206.52175 752.916525 \n\" style=\"fill:none;\"/>\n    <path clip-path=\"url(#pe5dc507ec0)\" d=\"M 246.69775 752.916525 \nL 286.87375 752.916525 \nL 286.87375 783.358125 \nL 246.69775 783.358125 \nL 246.69775 752.916525 \n\" style=\"fill:none;\"/>\n    <path clip-path=\"url(#pe5dc507ec0)\" d=\"M 286.87375 752.916525 \nL 327.04975 752.916525 \nL 327.04975 783.358125 \nL 286.87375 783.358125 \nL 286.87375 752.916525 \n\" style=\"fill:none;\"/>\n    <path clip-path=\"url(#pe5dc507ec0)\" d=\"M 327.04975 752.916525 \nL 367.22575 752.916525 \nL 367.22575 783.358125 \nL 327.04975 783.358125 \nL 327.04975 752.916525 \n\" style=\"fill:none;\"/>\n    <path clip-path=\"url(#pe5dc507ec0)\" d=\"M 367.22575 752.916525 \nL 407.40175 752.916525 \nL 407.40175 783.358125 \nL 367.22575 783.358125 \nL 367.22575 752.916525 \n\" style=\"fill:none;\"/>\n    <path clip-path=\"url(#pe5dc507ec0)\" d=\"M 407.40175 752.916525 \nL 447.57775 752.916525 \nL 447.57775 783.358125 \nL 407.40175 783.358125 \nL 407.40175 752.916525 \n\" style=\"fill:none;\"/>\n    <path clip-path=\"url(#pe5dc507ec0)\" d=\"M 447.57775 752.916525 \nL 487.75375 752.916525 \nL 487.75375 783.358125 \nL 447.57775 783.358125 \nL 447.57775 752.916525 \n\" style=\"fill:none;\"/>\n    <path clip-path=\"url(#pe5dc507ec0)\" d=\"M 487.75375 752.916525 \nL 527.92975 752.916525 \nL 527.92975 783.358125 \nL 487.75375 783.358125 \nL 487.75375 752.916525 \n\" style=\"fill:none;\"/>\n    <path clip-path=\"url(#pe5dc507ec0)\" d=\"M 527.92975 752.916525 \nL 568.10575 752.916525 \nL 568.10575 783.358125 \nL 527.92975 783.358125 \nL 527.92975 752.916525 \n\" style=\"fill:none;\"/>\n    <path clip-path=\"url(#pe5dc507ec0)\" d=\"M 568.10575 752.916525 \nL 608.28175 752.916525 \nL 608.28175 783.358125 \nL 568.10575 783.358125 \nL 568.10575 752.916525 \n\" style=\"fill:none;\"/>\n    <path clip-path=\"url(#pe5dc507ec0)\" d=\"M 608.28175 752.916525 \nL 648.45775 752.916525 \nL 648.45775 783.358125 \nL 608.28175 783.358125 \nL 608.28175 752.916525 \n\" style=\"fill:none;\"/>\n    <path clip-path=\"url(#pe5dc507ec0)\" d=\"M 648.45775 752.916525 \nL 688.63375 752.916525 \nL 688.63375 783.358125 \nL 648.45775 783.358125 \nL 648.45775 752.916525 \n\" style=\"fill:none;\"/>\n    <path clip-path=\"url(#pe5dc507ec0)\" d=\"M 688.63375 752.916525 \nL 728.80975 752.916525 \nL 728.80975 783.358125 \nL 688.63375 783.358125 \nL 688.63375 752.916525 \n\" style=\"fill:none;\"/>\n    <path clip-path=\"url(#pe5dc507ec0)\" d=\"M 728.80975 752.916525 \nL 768.98575 752.916525 \nL 768.98575 783.358125 \nL 728.80975 783.358125 \nL 728.80975 752.916525 \n\" style=\"fill:none;\"/>\n    <path clip-path=\"url(#pe5dc507ec0)\" d=\"M 768.98575 752.916525 \nL 809.16175 752.916525 \nL 809.16175 783.358125 \nL 768.98575 783.358125 \nL 768.98575 752.916525 \n\" style=\"fill:none;\"/>\n    <path clip-path=\"url(#pe5dc507ec0)\" d=\"M 809.16175 752.916525 \nL 849.33775 752.916525 \nL 849.33775 783.358125 \nL 809.16175 783.358125 \nL 809.16175 752.916525 \n\" style=\"fill:none;\"/>\n    <path clip-path=\"url(#pe5dc507ec0)\" d=\"M 849.33775 752.916525 \nL 889.51375 752.916525 \nL 889.51375 783.358125 \nL 849.33775 783.358125 \nL 849.33775 752.916525 \n\" style=\"fill:none;\"/>\n   </g>\n   <g id=\"matplotlib.axis_1\">\n    <g id=\"xtick_1\">\n     <g id=\"line2d_1\">\n      <defs>\n       <path d=\"M 0 0 \nL 0 3.5 \n\" id=\"m3910f91d4f\" style=\"stroke:#000000;stroke-width:0.8;\"/>\n      </defs>\n      <g>\n       <use style=\"stroke:#000000;stroke-width:0.8;\" x=\"106.08175\" xlink:href=\"#m3910f91d4f\" y=\"783.358125\"/>\n      </g>\n     </g>\n     <g id=\"text_1\">\n      <!-- 1 -->\n      <defs>\n       <path d=\"M 12.40625 8.296875 \nL 28.515625 8.296875 \nL 28.515625 63.921875 \nL 10.984375 60.40625 \nL 10.984375 69.390625 \nL 28.421875 72.90625 \nL 38.28125 72.90625 \nL 38.28125 8.296875 \nL 54.390625 8.296875 \nL 54.390625 0 \nL 12.40625 0 \nz\n\" id=\"DejaVuSans-49\"/>\n      </defs>\n      <g transform=\"translate(102.9005 797.956562)scale(0.1 -0.1)\">\n       <use xlink:href=\"#DejaVuSans-49\"/>\n      </g>\n     </g>\n    </g>\n    <g id=\"xtick_2\">\n     <g id=\"line2d_2\">\n      <g>\n       <use style=\"stroke:#000000;stroke-width:0.8;\" x=\"146.25775\" xlink:href=\"#m3910f91d4f\" y=\"783.358125\"/>\n      </g>\n     </g>\n     <g id=\"text_2\">\n      <!-- 2 -->\n      <defs>\n       <path d=\"M 19.1875 8.296875 \nL 53.609375 8.296875 \nL 53.609375 0 \nL 7.328125 0 \nL 7.328125 8.296875 \nQ 12.9375 14.109375 22.625 23.890625 \nQ 32.328125 33.6875 34.8125 36.53125 \nQ 39.546875 41.84375 41.421875 45.53125 \nQ 43.3125 49.21875 43.3125 52.78125 \nQ 43.3125 58.59375 39.234375 62.25 \nQ 35.15625 65.921875 28.609375 65.921875 \nQ 23.96875 65.921875 18.8125 64.3125 \nQ 13.671875 62.703125 7.8125 59.421875 \nL 7.8125 69.390625 \nQ 13.765625 71.78125 18.9375 73 \nQ 24.125 74.21875 28.421875 74.21875 \nQ 39.75 74.21875 46.484375 68.546875 \nQ 53.21875 62.890625 53.21875 53.421875 \nQ 53.21875 48.921875 51.53125 44.890625 \nQ 49.859375 40.875 45.40625 35.40625 \nQ 44.1875 33.984375 37.640625 27.21875 \nQ 31.109375 20.453125 19.1875 8.296875 \nz\n\" id=\"DejaVuSans-50\"/>\n      </defs>\n      <g transform=\"translate(143.0765 797.956562)scale(0.1 -0.1)\">\n       <use xlink:href=\"#DejaVuSans-50\"/>\n      </g>\n     </g>\n    </g>\n    <g id=\"xtick_3\">\n     <g id=\"line2d_3\">\n      <g>\n       <use style=\"stroke:#000000;stroke-width:0.8;\" x=\"186.43375\" xlink:href=\"#m3910f91d4f\" y=\"783.358125\"/>\n      </g>\n     </g>\n     <g id=\"text_3\">\n      <!-- 3 -->\n      <defs>\n       <path d=\"M 40.578125 39.3125 \nQ 47.65625 37.796875 51.625 33 \nQ 55.609375 28.21875 55.609375 21.1875 \nQ 55.609375 10.40625 48.1875 4.484375 \nQ 40.765625 -1.421875 27.09375 -1.421875 \nQ 22.515625 -1.421875 17.65625 -0.515625 \nQ 12.796875 0.390625 7.625 2.203125 \nL 7.625 11.71875 \nQ 11.71875 9.328125 16.59375 8.109375 \nQ 21.484375 6.890625 26.8125 6.890625 \nQ 36.078125 6.890625 40.9375 10.546875 \nQ 45.796875 14.203125 45.796875 21.1875 \nQ 45.796875 27.640625 41.28125 31.265625 \nQ 36.765625 34.90625 28.71875 34.90625 \nL 20.21875 34.90625 \nL 20.21875 43.015625 \nL 29.109375 43.015625 \nQ 36.375 43.015625 40.234375 45.921875 \nQ 44.09375 48.828125 44.09375 54.296875 \nQ 44.09375 59.90625 40.109375 62.90625 \nQ 36.140625 65.921875 28.71875 65.921875 \nQ 24.65625 65.921875 20.015625 65.03125 \nQ 15.375 64.15625 9.8125 62.3125 \nL 9.8125 71.09375 \nQ 15.4375 72.65625 20.34375 73.4375 \nQ 25.25 74.21875 29.59375 74.21875 \nQ 40.828125 74.21875 47.359375 69.109375 \nQ 53.90625 64.015625 53.90625 55.328125 \nQ 53.90625 49.265625 50.4375 45.09375 \nQ 46.96875 40.921875 40.578125 39.3125 \nz\n\" id=\"DejaVuSans-51\"/>\n      </defs>\n      <g transform=\"translate(183.2525 797.956562)scale(0.1 -0.1)\">\n       <use xlink:href=\"#DejaVuSans-51\"/>\n      </g>\n     </g>\n    </g>\n    <g id=\"xtick_4\">\n     <g id=\"line2d_4\">\n      <g>\n       <use style=\"stroke:#000000;stroke-width:0.8;\" x=\"226.60975\" xlink:href=\"#m3910f91d4f\" y=\"783.358125\"/>\n      </g>\n     </g>\n     <g id=\"text_4\">\n      <!-- 4 -->\n      <defs>\n       <path d=\"M 37.796875 64.3125 \nL 12.890625 25.390625 \nL 37.796875 25.390625 \nz\nM 35.203125 72.90625 \nL 47.609375 72.90625 \nL 47.609375 25.390625 \nL 58.015625 25.390625 \nL 58.015625 17.1875 \nL 47.609375 17.1875 \nL 47.609375 0 \nL 37.796875 0 \nL 37.796875 17.1875 \nL 4.890625 17.1875 \nL 4.890625 26.703125 \nz\n\" id=\"DejaVuSans-52\"/>\n      </defs>\n      <g transform=\"translate(223.4285 797.956562)scale(0.1 -0.1)\">\n       <use xlink:href=\"#DejaVuSans-52\"/>\n      </g>\n     </g>\n    </g>\n    <g id=\"xtick_5\">\n     <g id=\"line2d_5\">\n      <g>\n       <use style=\"stroke:#000000;stroke-width:0.8;\" x=\"266.78575\" xlink:href=\"#m3910f91d4f\" y=\"783.358125\"/>\n      </g>\n     </g>\n     <g id=\"text_5\">\n      <!-- 5 -->\n      <defs>\n       <path d=\"M 10.796875 72.90625 \nL 49.515625 72.90625 \nL 49.515625 64.59375 \nL 19.828125 64.59375 \nL 19.828125 46.734375 \nQ 21.96875 47.46875 24.109375 47.828125 \nQ 26.265625 48.1875 28.421875 48.1875 \nQ 40.625 48.1875 47.75 41.5 \nQ 54.890625 34.8125 54.890625 23.390625 \nQ 54.890625 11.625 47.5625 5.09375 \nQ 40.234375 -1.421875 26.90625 -1.421875 \nQ 22.3125 -1.421875 17.546875 -0.640625 \nQ 12.796875 0.140625 7.71875 1.703125 \nL 7.71875 11.625 \nQ 12.109375 9.234375 16.796875 8.0625 \nQ 21.484375 6.890625 26.703125 6.890625 \nQ 35.15625 6.890625 40.078125 11.328125 \nQ 45.015625 15.765625 45.015625 23.390625 \nQ 45.015625 31 40.078125 35.4375 \nQ 35.15625 39.890625 26.703125 39.890625 \nQ 22.75 39.890625 18.8125 39.015625 \nQ 14.890625 38.140625 10.796875 36.28125 \nz\n\" id=\"DejaVuSans-53\"/>\n      </defs>\n      <g transform=\"translate(263.6045 797.956562)scale(0.1 -0.1)\">\n       <use xlink:href=\"#DejaVuSans-53\"/>\n      </g>\n     </g>\n    </g>\n    <g id=\"xtick_6\">\n     <g id=\"line2d_6\">\n      <g>\n       <use style=\"stroke:#000000;stroke-width:0.8;\" x=\"306.96175\" xlink:href=\"#m3910f91d4f\" y=\"783.358125\"/>\n      </g>\n     </g>\n     <g id=\"text_6\">\n      <!-- 6 -->\n      <defs>\n       <path d=\"M 33.015625 40.375 \nQ 26.375 40.375 22.484375 35.828125 \nQ 18.609375 31.296875 18.609375 23.390625 \nQ 18.609375 15.53125 22.484375 10.953125 \nQ 26.375 6.390625 33.015625 6.390625 \nQ 39.65625 6.390625 43.53125 10.953125 \nQ 47.40625 15.53125 47.40625 23.390625 \nQ 47.40625 31.296875 43.53125 35.828125 \nQ 39.65625 40.375 33.015625 40.375 \nz\nM 52.59375 71.296875 \nL 52.59375 62.3125 \nQ 48.875 64.0625 45.09375 64.984375 \nQ 41.3125 65.921875 37.59375 65.921875 \nQ 27.828125 65.921875 22.671875 59.328125 \nQ 17.53125 52.734375 16.796875 39.40625 \nQ 19.671875 43.65625 24.015625 45.921875 \nQ 28.375 48.1875 33.59375 48.1875 \nQ 44.578125 48.1875 50.953125 41.515625 \nQ 57.328125 34.859375 57.328125 23.390625 \nQ 57.328125 12.15625 50.6875 5.359375 \nQ 44.046875 -1.421875 33.015625 -1.421875 \nQ 20.359375 -1.421875 13.671875 8.265625 \nQ 6.984375 17.96875 6.984375 36.375 \nQ 6.984375 53.65625 15.1875 63.9375 \nQ 23.390625 74.21875 37.203125 74.21875 \nQ 40.921875 74.21875 44.703125 73.484375 \nQ 48.484375 72.75 52.59375 71.296875 \nz\n\" id=\"DejaVuSans-54\"/>\n      </defs>\n      <g transform=\"translate(303.7805 797.956562)scale(0.1 -0.1)\">\n       <use xlink:href=\"#DejaVuSans-54\"/>\n      </g>\n     </g>\n    </g>\n    <g id=\"xtick_7\">\n     <g id=\"line2d_7\">\n      <g>\n       <use style=\"stroke:#000000;stroke-width:0.8;\" x=\"347.13775\" xlink:href=\"#m3910f91d4f\" y=\"783.358125\"/>\n      </g>\n     </g>\n     <g id=\"text_7\">\n      <!-- 7 -->\n      <defs>\n       <path d=\"M 8.203125 72.90625 \nL 55.078125 72.90625 \nL 55.078125 68.703125 \nL 28.609375 0 \nL 18.3125 0 \nL 43.21875 64.59375 \nL 8.203125 64.59375 \nz\n\" id=\"DejaVuSans-55\"/>\n      </defs>\n      <g transform=\"translate(343.9565 797.956562)scale(0.1 -0.1)\">\n       <use xlink:href=\"#DejaVuSans-55\"/>\n      </g>\n     </g>\n    </g>\n    <g id=\"xtick_8\">\n     <g id=\"line2d_8\">\n      <g>\n       <use style=\"stroke:#000000;stroke-width:0.8;\" x=\"387.31375\" xlink:href=\"#m3910f91d4f\" y=\"783.358125\"/>\n      </g>\n     </g>\n     <g id=\"text_8\">\n      <!-- 8 -->\n      <defs>\n       <path d=\"M 31.78125 34.625 \nQ 24.75 34.625 20.71875 30.859375 \nQ 16.703125 27.09375 16.703125 20.515625 \nQ 16.703125 13.921875 20.71875 10.15625 \nQ 24.75 6.390625 31.78125 6.390625 \nQ 38.8125 6.390625 42.859375 10.171875 \nQ 46.921875 13.96875 46.921875 20.515625 \nQ 46.921875 27.09375 42.890625 30.859375 \nQ 38.875 34.625 31.78125 34.625 \nz\nM 21.921875 38.8125 \nQ 15.578125 40.375 12.03125 44.71875 \nQ 8.5 49.078125 8.5 55.328125 \nQ 8.5 64.0625 14.71875 69.140625 \nQ 20.953125 74.21875 31.78125 74.21875 \nQ 42.671875 74.21875 48.875 69.140625 \nQ 55.078125 64.0625 55.078125 55.328125 \nQ 55.078125 49.078125 51.53125 44.71875 \nQ 48 40.375 41.703125 38.8125 \nQ 48.828125 37.15625 52.796875 32.3125 \nQ 56.78125 27.484375 56.78125 20.515625 \nQ 56.78125 9.90625 50.3125 4.234375 \nQ 43.84375 -1.421875 31.78125 -1.421875 \nQ 19.734375 -1.421875 13.25 4.234375 \nQ 6.78125 9.90625 6.78125 20.515625 \nQ 6.78125 27.484375 10.78125 32.3125 \nQ 14.796875 37.15625 21.921875 38.8125 \nz\nM 18.3125 54.390625 \nQ 18.3125 48.734375 21.84375 45.5625 \nQ 25.390625 42.390625 31.78125 42.390625 \nQ 38.140625 42.390625 41.71875 45.5625 \nQ 45.3125 48.734375 45.3125 54.390625 \nQ 45.3125 60.0625 41.71875 63.234375 \nQ 38.140625 66.40625 31.78125 66.40625 \nQ 25.390625 66.40625 21.84375 63.234375 \nQ 18.3125 60.0625 18.3125 54.390625 \nz\n\" id=\"DejaVuSans-56\"/>\n      </defs>\n      <g transform=\"translate(384.1325 797.956562)scale(0.1 -0.1)\">\n       <use xlink:href=\"#DejaVuSans-56\"/>\n      </g>\n     </g>\n    </g>\n    <g id=\"xtick_9\">\n     <g id=\"line2d_9\">\n      <g>\n       <use style=\"stroke:#000000;stroke-width:0.8;\" x=\"427.48975\" xlink:href=\"#m3910f91d4f\" y=\"783.358125\"/>\n      </g>\n     </g>\n     <g id=\"text_9\">\n      <!-- 9 -->\n      <defs>\n       <path d=\"M 10.984375 1.515625 \nL 10.984375 10.5 \nQ 14.703125 8.734375 18.5 7.8125 \nQ 22.3125 6.890625 25.984375 6.890625 \nQ 35.75 6.890625 40.890625 13.453125 \nQ 46.046875 20.015625 46.78125 33.40625 \nQ 43.953125 29.203125 39.59375 26.953125 \nQ 35.25 24.703125 29.984375 24.703125 \nQ 19.046875 24.703125 12.671875 31.3125 \nQ 6.296875 37.9375 6.296875 49.421875 \nQ 6.296875 60.640625 12.9375 67.421875 \nQ 19.578125 74.21875 30.609375 74.21875 \nQ 43.265625 74.21875 49.921875 64.515625 \nQ 56.59375 54.828125 56.59375 36.375 \nQ 56.59375 19.140625 48.40625 8.859375 \nQ 40.234375 -1.421875 26.421875 -1.421875 \nQ 22.703125 -1.421875 18.890625 -0.6875 \nQ 15.09375 0.046875 10.984375 1.515625 \nz\nM 30.609375 32.421875 \nQ 37.25 32.421875 41.125 36.953125 \nQ 45.015625 41.5 45.015625 49.421875 \nQ 45.015625 57.28125 41.125 61.84375 \nQ 37.25 66.40625 30.609375 66.40625 \nQ 23.96875 66.40625 20.09375 61.84375 \nQ 16.21875 57.28125 16.21875 49.421875 \nQ 16.21875 41.5 20.09375 36.953125 \nQ 23.96875 32.421875 30.609375 32.421875 \nz\n\" id=\"DejaVuSans-57\"/>\n      </defs>\n      <g transform=\"translate(424.3085 797.956562)scale(0.1 -0.1)\">\n       <use xlink:href=\"#DejaVuSans-57\"/>\n      </g>\n     </g>\n    </g>\n    <g id=\"xtick_10\">\n     <g id=\"line2d_10\">\n      <g>\n       <use style=\"stroke:#000000;stroke-width:0.8;\" x=\"467.66575\" xlink:href=\"#m3910f91d4f\" y=\"783.358125\"/>\n      </g>\n     </g>\n     <g id=\"text_10\">\n      <!-- 10 -->\n      <defs>\n       <path d=\"M 31.78125 66.40625 \nQ 24.171875 66.40625 20.328125 58.90625 \nQ 16.5 51.421875 16.5 36.375 \nQ 16.5 21.390625 20.328125 13.890625 \nQ 24.171875 6.390625 31.78125 6.390625 \nQ 39.453125 6.390625 43.28125 13.890625 \nQ 47.125 21.390625 47.125 36.375 \nQ 47.125 51.421875 43.28125 58.90625 \nQ 39.453125 66.40625 31.78125 66.40625 \nz\nM 31.78125 74.21875 \nQ 44.046875 74.21875 50.515625 64.515625 \nQ 56.984375 54.828125 56.984375 36.375 \nQ 56.984375 17.96875 50.515625 8.265625 \nQ 44.046875 -1.421875 31.78125 -1.421875 \nQ 19.53125 -1.421875 13.0625 8.265625 \nQ 6.59375 17.96875 6.59375 36.375 \nQ 6.59375 54.828125 13.0625 64.515625 \nQ 19.53125 74.21875 31.78125 74.21875 \nz\n\" id=\"DejaVuSans-48\"/>\n      </defs>\n      <g transform=\"translate(461.30325 797.956562)scale(0.1 -0.1)\">\n       <use xlink:href=\"#DejaVuSans-49\"/>\n       <use x=\"63.623047\" xlink:href=\"#DejaVuSans-48\"/>\n      </g>\n     </g>\n    </g>\n    <g id=\"xtick_11\">\n     <g id=\"line2d_11\">\n      <g>\n       <use style=\"stroke:#000000;stroke-width:0.8;\" x=\"507.84175\" xlink:href=\"#m3910f91d4f\" y=\"783.358125\"/>\n      </g>\n     </g>\n     <g id=\"text_11\">\n      <!-- 11 -->\n      <g transform=\"translate(501.47925 797.956562)scale(0.1 -0.1)\">\n       <use xlink:href=\"#DejaVuSans-49\"/>\n       <use x=\"63.623047\" xlink:href=\"#DejaVuSans-49\"/>\n      </g>\n     </g>\n    </g>\n    <g id=\"xtick_12\">\n     <g id=\"line2d_12\">\n      <g>\n       <use style=\"stroke:#000000;stroke-width:0.8;\" x=\"548.01775\" xlink:href=\"#m3910f91d4f\" y=\"783.358125\"/>\n      </g>\n     </g>\n     <g id=\"text_12\">\n      <!-- 12 -->\n      <g transform=\"translate(541.65525 797.956562)scale(0.1 -0.1)\">\n       <use xlink:href=\"#DejaVuSans-49\"/>\n       <use x=\"63.623047\" xlink:href=\"#DejaVuSans-50\"/>\n      </g>\n     </g>\n    </g>\n    <g id=\"xtick_13\">\n     <g id=\"line2d_13\">\n      <g>\n       <use style=\"stroke:#000000;stroke-width:0.8;\" x=\"588.19375\" xlink:href=\"#m3910f91d4f\" y=\"783.358125\"/>\n      </g>\n     </g>\n     <g id=\"text_13\">\n      <!-- 13 -->\n      <g transform=\"translate(581.83125 797.956562)scale(0.1 -0.1)\">\n       <use xlink:href=\"#DejaVuSans-49\"/>\n       <use x=\"63.623047\" xlink:href=\"#DejaVuSans-51\"/>\n      </g>\n     </g>\n    </g>\n    <g id=\"xtick_14\">\n     <g id=\"line2d_14\">\n      <g>\n       <use style=\"stroke:#000000;stroke-width:0.8;\" x=\"628.36975\" xlink:href=\"#m3910f91d4f\" y=\"783.358125\"/>\n      </g>\n     </g>\n     <g id=\"text_14\">\n      <!-- 14 -->\n      <g transform=\"translate(622.00725 797.956562)scale(0.1 -0.1)\">\n       <use xlink:href=\"#DejaVuSans-49\"/>\n       <use x=\"63.623047\" xlink:href=\"#DejaVuSans-52\"/>\n      </g>\n     </g>\n    </g>\n    <g id=\"xtick_15\">\n     <g id=\"line2d_15\">\n      <g>\n       <use style=\"stroke:#000000;stroke-width:0.8;\" x=\"668.54575\" xlink:href=\"#m3910f91d4f\" y=\"783.358125\"/>\n      </g>\n     </g>\n     <g id=\"text_15\">\n      <!-- 15 -->\n      <g transform=\"translate(662.18325 797.956562)scale(0.1 -0.1)\">\n       <use xlink:href=\"#DejaVuSans-49\"/>\n       <use x=\"63.623047\" xlink:href=\"#DejaVuSans-53\"/>\n      </g>\n     </g>\n    </g>\n    <g id=\"xtick_16\">\n     <g id=\"line2d_16\">\n      <g>\n       <use style=\"stroke:#000000;stroke-width:0.8;\" x=\"708.72175\" xlink:href=\"#m3910f91d4f\" y=\"783.358125\"/>\n      </g>\n     </g>\n     <g id=\"text_16\">\n      <!-- 16 -->\n      <g transform=\"translate(702.35925 797.956562)scale(0.1 -0.1)\">\n       <use xlink:href=\"#DejaVuSans-49\"/>\n       <use x=\"63.623047\" xlink:href=\"#DejaVuSans-54\"/>\n      </g>\n     </g>\n    </g>\n    <g id=\"xtick_17\">\n     <g id=\"line2d_17\">\n      <g>\n       <use style=\"stroke:#000000;stroke-width:0.8;\" x=\"748.89775\" xlink:href=\"#m3910f91d4f\" y=\"783.358125\"/>\n      </g>\n     </g>\n     <g id=\"text_17\">\n      <!-- 17 -->\n      <g transform=\"translate(742.53525 797.956562)scale(0.1 -0.1)\">\n       <use xlink:href=\"#DejaVuSans-49\"/>\n       <use x=\"63.623047\" xlink:href=\"#DejaVuSans-55\"/>\n      </g>\n     </g>\n    </g>\n    <g id=\"xtick_18\">\n     <g id=\"line2d_18\">\n      <g>\n       <use style=\"stroke:#000000;stroke-width:0.8;\" x=\"789.07375\" xlink:href=\"#m3910f91d4f\" y=\"783.358125\"/>\n      </g>\n     </g>\n     <g id=\"text_18\">\n      <!-- 18 -->\n      <g transform=\"translate(782.71125 797.956562)scale(0.1 -0.1)\">\n       <use xlink:href=\"#DejaVuSans-49\"/>\n       <use x=\"63.623047\" xlink:href=\"#DejaVuSans-56\"/>\n      </g>\n     </g>\n    </g>\n    <g id=\"xtick_19\">\n     <g id=\"line2d_19\">\n      <g>\n       <use style=\"stroke:#000000;stroke-width:0.8;\" x=\"829.24975\" xlink:href=\"#m3910f91d4f\" y=\"783.358125\"/>\n      </g>\n     </g>\n     <g id=\"text_19\">\n      <!-- 19 -->\n      <g transform=\"translate(822.88725 797.956562)scale(0.1 -0.1)\">\n       <use xlink:href=\"#DejaVuSans-49\"/>\n       <use x=\"63.623047\" xlink:href=\"#DejaVuSans-57\"/>\n      </g>\n     </g>\n    </g>\n    <g id=\"xtick_20\">\n     <g id=\"line2d_20\">\n      <g>\n       <use style=\"stroke:#000000;stroke-width:0.8;\" x=\"869.42575\" xlink:href=\"#m3910f91d4f\" y=\"783.358125\"/>\n      </g>\n     </g>\n     <g id=\"text_20\">\n      <!-- 20 -->\n      <g transform=\"translate(863.06325 797.956562)scale(0.1 -0.1)\">\n       <use xlink:href=\"#DejaVuSans-50\"/>\n       <use x=\"63.623047\" xlink:href=\"#DejaVuSans-48\"/>\n      </g>\n     </g>\n    </g>\n    <g id=\"text_21\">\n     <!-- chort -->\n     <defs>\n      <path d=\"M 48.78125 52.59375 \nL 48.78125 44.1875 \nQ 44.96875 46.296875 41.140625 47.34375 \nQ 37.3125 48.390625 33.40625 48.390625 \nQ 24.65625 48.390625 19.8125 42.84375 \nQ 14.984375 37.3125 14.984375 27.296875 \nQ 14.984375 17.28125 19.8125 11.734375 \nQ 24.65625 6.203125 33.40625 6.203125 \nQ 37.3125 6.203125 41.140625 7.25 \nQ 44.96875 8.296875 48.78125 10.40625 \nL 48.78125 2.09375 \nQ 45.015625 0.34375 40.984375 -0.53125 \nQ 36.96875 -1.421875 32.421875 -1.421875 \nQ 20.0625 -1.421875 12.78125 6.34375 \nQ 5.515625 14.109375 5.515625 27.296875 \nQ 5.515625 40.671875 12.859375 48.328125 \nQ 20.21875 56 33.015625 56 \nQ 37.15625 56 41.109375 55.140625 \nQ 45.0625 54.296875 48.78125 52.59375 \nz\n\" id=\"DejaVuSans-99\"/>\n      <path d=\"M 54.890625 33.015625 \nL 54.890625 0 \nL 45.90625 0 \nL 45.90625 32.71875 \nQ 45.90625 40.484375 42.875 44.328125 \nQ 39.84375 48.1875 33.796875 48.1875 \nQ 26.515625 48.1875 22.3125 43.546875 \nQ 18.109375 38.921875 18.109375 30.90625 \nL 18.109375 0 \nL 9.078125 0 \nL 9.078125 75.984375 \nL 18.109375 75.984375 \nL 18.109375 46.1875 \nQ 21.34375 51.125 25.703125 53.5625 \nQ 30.078125 56 35.796875 56 \nQ 45.21875 56 50.046875 50.171875 \nQ 54.890625 44.34375 54.890625 33.015625 \nz\n\" id=\"DejaVuSans-104\"/>\n      <path d=\"M 30.609375 48.390625 \nQ 23.390625 48.390625 19.1875 42.75 \nQ 14.984375 37.109375 14.984375 27.296875 \nQ 14.984375 17.484375 19.15625 11.84375 \nQ 23.34375 6.203125 30.609375 6.203125 \nQ 37.796875 6.203125 41.984375 11.859375 \nQ 46.1875 17.53125 46.1875 27.296875 \nQ 46.1875 37.015625 41.984375 42.703125 \nQ 37.796875 48.390625 30.609375 48.390625 \nz\nM 30.609375 56 \nQ 42.328125 56 49.015625 48.375 \nQ 55.71875 40.765625 55.71875 27.296875 \nQ 55.71875 13.875 49.015625 6.21875 \nQ 42.328125 -1.421875 30.609375 -1.421875 \nQ 18.84375 -1.421875 12.171875 6.21875 \nQ 5.515625 13.875 5.515625 27.296875 \nQ 5.515625 40.765625 12.171875 48.375 \nQ 18.84375 56 30.609375 56 \nz\n\" id=\"DejaVuSans-111\"/>\n      <path d=\"M 41.109375 46.296875 \nQ 39.59375 47.171875 37.8125 47.578125 \nQ 36.03125 48 33.890625 48 \nQ 26.265625 48 22.1875 43.046875 \nQ 18.109375 38.09375 18.109375 28.8125 \nL 18.109375 0 \nL 9.078125 0 \nL 9.078125 54.6875 \nL 18.109375 54.6875 \nL 18.109375 46.1875 \nQ 20.953125 51.171875 25.484375 53.578125 \nQ 30.03125 56 36.53125 56 \nQ 37.453125 56 38.578125 55.875 \nQ 39.703125 55.765625 41.0625 55.515625 \nz\n\" id=\"DejaVuSans-114\"/>\n      <path d=\"M 18.3125 70.21875 \nL 18.3125 54.6875 \nL 36.8125 54.6875 \nL 36.8125 47.703125 \nL 18.3125 47.703125 \nL 18.3125 18.015625 \nQ 18.3125 11.328125 20.140625 9.421875 \nQ 21.96875 7.515625 27.59375 7.515625 \nL 36.8125 7.515625 \nL 36.8125 0 \nL 27.59375 0 \nQ 17.1875 0 13.234375 3.875 \nQ 9.28125 7.765625 9.28125 18.015625 \nL 9.28125 47.703125 \nL 2.6875 47.703125 \nL 2.6875 54.6875 \nL 9.28125 54.6875 \nL 9.28125 70.21875 \nz\n\" id=\"DejaVuSans-116\"/>\n     </defs>\n     <g transform=\"translate(474.760781 811.634687)scale(0.1 -0.1)\">\n      <use xlink:href=\"#DejaVuSans-99\"/>\n      <use x=\"54.980469\" xlink:href=\"#DejaVuSans-104\"/>\n      <use x=\"118.359375\" xlink:href=\"#DejaVuSans-111\"/>\n      <use x=\"179.541016\" xlink:href=\"#DejaVuSans-114\"/>\n      <use x=\"220.654297\" xlink:href=\"#DejaVuSans-116\"/>\n     </g>\n    </g>\n   </g>\n   <g id=\"matplotlib.axis_2\">\n    <g id=\"ytick_1\">\n     <g id=\"line2d_21\">\n      <defs>\n       <path d=\"M 0 0 \nL -3.5 0 \n\" id=\"me9a6bdb28a\" style=\"stroke:#000000;stroke-width:0.8;\"/>\n      </defs>\n      <g>\n       <use style=\"stroke:#000000;stroke-width:0.8;\" x=\"85.99375\" xlink:href=\"#me9a6bdb28a\" y=\"37.538925\"/>\n      </g>\n     </g>\n     <g id=\"text_22\">\n      <!-- 2016-09-01 -->\n      <defs>\n       <path d=\"M 4.890625 31.390625 \nL 31.203125 31.390625 \nL 31.203125 23.390625 \nL 4.890625 23.390625 \nz\n\" id=\"DejaVuSans-45\"/>\n      </defs>\n      <g transform=\"translate(20.878125 40.2983)scale(0.1 -0.1)\">\n       <use xlink:href=\"#DejaVuSans-50\"/>\n       <use x=\"63.623047\" xlink:href=\"#DejaVuSans-48\"/>\n       <use x=\"127.246094\" xlink:href=\"#DejaVuSans-49\"/>\n       <use x=\"190.869141\" xlink:href=\"#DejaVuSans-54\"/>\n       <use x=\"254.492188\" xlink:href=\"#DejaVuSans-45\"/>\n       <use x=\"290.576172\" xlink:href=\"#DejaVuSans-48\"/>\n       <use x=\"354.199219\" xlink:href=\"#DejaVuSans-57\"/>\n       <use x=\"417.822266\" xlink:href=\"#DejaVuSans-45\"/>\n       <use x=\"453.90625\" xlink:href=\"#DejaVuSans-48\"/>\n       <use x=\"517.529297\" xlink:href=\"#DejaVuSans-49\"/>\n      </g>\n     </g>\n    </g>\n    <g id=\"ytick_2\">\n     <g id=\"line2d_22\">\n      <g>\n       <use style=\"stroke:#000000;stroke-width:0.8;\" x=\"85.99375\" xlink:href=\"#me9a6bdb28a\" y=\"67.980525\"/>\n      </g>\n     </g>\n     <g id=\"text_23\">\n      <!-- 2016-10-01 -->\n      <g transform=\"translate(20.878125 70.7399)scale(0.1 -0.1)\">\n       <use xlink:href=\"#DejaVuSans-50\"/>\n       <use x=\"63.623047\" xlink:href=\"#DejaVuSans-48\"/>\n       <use x=\"127.246094\" xlink:href=\"#DejaVuSans-49\"/>\n       <use x=\"190.869141\" xlink:href=\"#DejaVuSans-54\"/>\n       <use x=\"254.492188\" xlink:href=\"#DejaVuSans-45\"/>\n       <use x=\"290.576172\" xlink:href=\"#DejaVuSans-49\"/>\n       <use x=\"354.199219\" xlink:href=\"#DejaVuSans-48\"/>\n       <use x=\"417.822266\" xlink:href=\"#DejaVuSans-45\"/>\n       <use x=\"453.90625\" xlink:href=\"#DejaVuSans-48\"/>\n       <use x=\"517.529297\" xlink:href=\"#DejaVuSans-49\"/>\n      </g>\n     </g>\n    </g>\n    <g id=\"ytick_3\">\n     <g id=\"line2d_23\">\n      <g>\n       <use style=\"stroke:#000000;stroke-width:0.8;\" x=\"85.99375\" xlink:href=\"#me9a6bdb28a\" y=\"98.422125\"/>\n      </g>\n     </g>\n     <g id=\"text_24\">\n      <!-- 2016-12-01 -->\n      <g transform=\"translate(20.878125 101.1815)scale(0.1 -0.1)\">\n       <use xlink:href=\"#DejaVuSans-50\"/>\n       <use x=\"63.623047\" xlink:href=\"#DejaVuSans-48\"/>\n       <use x=\"127.246094\" xlink:href=\"#DejaVuSans-49\"/>\n       <use x=\"190.869141\" xlink:href=\"#DejaVuSans-54\"/>\n       <use x=\"254.492188\" xlink:href=\"#DejaVuSans-45\"/>\n       <use x=\"290.576172\" xlink:href=\"#DejaVuSans-49\"/>\n       <use x=\"354.199219\" xlink:href=\"#DejaVuSans-50\"/>\n       <use x=\"417.822266\" xlink:href=\"#DejaVuSans-45\"/>\n       <use x=\"453.90625\" xlink:href=\"#DejaVuSans-48\"/>\n       <use x=\"517.529297\" xlink:href=\"#DejaVuSans-49\"/>\n      </g>\n     </g>\n    </g>\n    <g id=\"ytick_4\">\n     <g id=\"line2d_24\">\n      <g>\n       <use style=\"stroke:#000000;stroke-width:0.8;\" x=\"85.99375\" xlink:href=\"#me9a6bdb28a\" y=\"128.863725\"/>\n      </g>\n     </g>\n     <g id=\"text_25\">\n      <!-- 2017-01-01 -->\n      <g transform=\"translate(20.878125 131.6231)scale(0.1 -0.1)\">\n       <use xlink:href=\"#DejaVuSans-50\"/>\n       <use x=\"63.623047\" xlink:href=\"#DejaVuSans-48\"/>\n       <use x=\"127.246094\" xlink:href=\"#DejaVuSans-49\"/>\n       <use x=\"190.869141\" xlink:href=\"#DejaVuSans-55\"/>\n       <use x=\"254.492188\" xlink:href=\"#DejaVuSans-45\"/>\n       <use x=\"290.576172\" xlink:href=\"#DejaVuSans-48\"/>\n       <use x=\"354.199219\" xlink:href=\"#DejaVuSans-49\"/>\n       <use x=\"417.822266\" xlink:href=\"#DejaVuSans-45\"/>\n       <use x=\"453.90625\" xlink:href=\"#DejaVuSans-48\"/>\n       <use x=\"517.529297\" xlink:href=\"#DejaVuSans-49\"/>\n      </g>\n     </g>\n    </g>\n    <g id=\"ytick_5\">\n     <g id=\"line2d_25\">\n      <g>\n       <use style=\"stroke:#000000;stroke-width:0.8;\" x=\"85.99375\" xlink:href=\"#me9a6bdb28a\" y=\"159.305325\"/>\n      </g>\n     </g>\n     <g id=\"text_26\">\n      <!-- 2017-02-01 -->\n      <g transform=\"translate(20.878125 162.0647)scale(0.1 -0.1)\">\n       <use xlink:href=\"#DejaVuSans-50\"/>\n       <use x=\"63.623047\" xlink:href=\"#DejaVuSans-48\"/>\n       <use x=\"127.246094\" xlink:href=\"#DejaVuSans-49\"/>\n       <use x=\"190.869141\" xlink:href=\"#DejaVuSans-55\"/>\n       <use x=\"254.492188\" xlink:href=\"#DejaVuSans-45\"/>\n       <use x=\"290.576172\" xlink:href=\"#DejaVuSans-48\"/>\n       <use x=\"354.199219\" xlink:href=\"#DejaVuSans-50\"/>\n       <use x=\"417.822266\" xlink:href=\"#DejaVuSans-45\"/>\n       <use x=\"453.90625\" xlink:href=\"#DejaVuSans-48\"/>\n       <use x=\"517.529297\" xlink:href=\"#DejaVuSans-49\"/>\n      </g>\n     </g>\n    </g>\n    <g id=\"ytick_6\">\n     <g id=\"line2d_26\">\n      <g>\n       <use style=\"stroke:#000000;stroke-width:0.8;\" x=\"85.99375\" xlink:href=\"#me9a6bdb28a\" y=\"189.746925\"/>\n      </g>\n     </g>\n     <g id=\"text_27\">\n      <!-- 2017-03-01 -->\n      <g transform=\"translate(20.878125 192.5063)scale(0.1 -0.1)\">\n       <use xlink:href=\"#DejaVuSans-50\"/>\n       <use x=\"63.623047\" xlink:href=\"#DejaVuSans-48\"/>\n       <use x=\"127.246094\" xlink:href=\"#DejaVuSans-49\"/>\n       <use x=\"190.869141\" xlink:href=\"#DejaVuSans-55\"/>\n       <use x=\"254.492188\" xlink:href=\"#DejaVuSans-45\"/>\n       <use x=\"290.576172\" xlink:href=\"#DejaVuSans-48\"/>\n       <use x=\"354.199219\" xlink:href=\"#DejaVuSans-51\"/>\n       <use x=\"417.822266\" xlink:href=\"#DejaVuSans-45\"/>\n       <use x=\"453.90625\" xlink:href=\"#DejaVuSans-48\"/>\n       <use x=\"517.529297\" xlink:href=\"#DejaVuSans-49\"/>\n      </g>\n     </g>\n    </g>\n    <g id=\"ytick_7\">\n     <g id=\"line2d_27\">\n      <g>\n       <use style=\"stroke:#000000;stroke-width:0.8;\" x=\"85.99375\" xlink:href=\"#me9a6bdb28a\" y=\"220.188525\"/>\n      </g>\n     </g>\n     <g id=\"text_28\">\n      <!-- 2017-04-01 -->\n      <g transform=\"translate(20.878125 222.9479)scale(0.1 -0.1)\">\n       <use xlink:href=\"#DejaVuSans-50\"/>\n       <use x=\"63.623047\" xlink:href=\"#DejaVuSans-48\"/>\n       <use x=\"127.246094\" xlink:href=\"#DejaVuSans-49\"/>\n       <use x=\"190.869141\" xlink:href=\"#DejaVuSans-55\"/>\n       <use x=\"254.492188\" xlink:href=\"#DejaVuSans-45\"/>\n       <use x=\"290.576172\" xlink:href=\"#DejaVuSans-48\"/>\n       <use x=\"354.199219\" xlink:href=\"#DejaVuSans-52\"/>\n       <use x=\"417.822266\" xlink:href=\"#DejaVuSans-45\"/>\n       <use x=\"453.90625\" xlink:href=\"#DejaVuSans-48\"/>\n       <use x=\"517.529297\" xlink:href=\"#DejaVuSans-49\"/>\n      </g>\n     </g>\n    </g>\n    <g id=\"ytick_8\">\n     <g id=\"line2d_28\">\n      <g>\n       <use style=\"stroke:#000000;stroke-width:0.8;\" x=\"85.99375\" xlink:href=\"#me9a6bdb28a\" y=\"250.630125\"/>\n      </g>\n     </g>\n     <g id=\"text_29\">\n      <!-- 2017-05-01 -->\n      <g transform=\"translate(20.878125 253.3895)scale(0.1 -0.1)\">\n       <use xlink:href=\"#DejaVuSans-50\"/>\n       <use x=\"63.623047\" xlink:href=\"#DejaVuSans-48\"/>\n       <use x=\"127.246094\" xlink:href=\"#DejaVuSans-49\"/>\n       <use x=\"190.869141\" xlink:href=\"#DejaVuSans-55\"/>\n       <use x=\"254.492188\" xlink:href=\"#DejaVuSans-45\"/>\n       <use x=\"290.576172\" xlink:href=\"#DejaVuSans-48\"/>\n       <use x=\"354.199219\" xlink:href=\"#DejaVuSans-53\"/>\n       <use x=\"417.822266\" xlink:href=\"#DejaVuSans-45\"/>\n       <use x=\"453.90625\" xlink:href=\"#DejaVuSans-48\"/>\n       <use x=\"517.529297\" xlink:href=\"#DejaVuSans-49\"/>\n      </g>\n     </g>\n    </g>\n    <g id=\"ytick_9\">\n     <g id=\"line2d_29\">\n      <g>\n       <use style=\"stroke:#000000;stroke-width:0.8;\" x=\"85.99375\" xlink:href=\"#me9a6bdb28a\" y=\"281.071725\"/>\n      </g>\n     </g>\n     <g id=\"text_30\">\n      <!-- 2017-06-01 -->\n      <g transform=\"translate(20.878125 283.8311)scale(0.1 -0.1)\">\n       <use xlink:href=\"#DejaVuSans-50\"/>\n       <use x=\"63.623047\" xlink:href=\"#DejaVuSans-48\"/>\n       <use x=\"127.246094\" xlink:href=\"#DejaVuSans-49\"/>\n       <use x=\"190.869141\" xlink:href=\"#DejaVuSans-55\"/>\n       <use x=\"254.492188\" xlink:href=\"#DejaVuSans-45\"/>\n       <use x=\"290.576172\" xlink:href=\"#DejaVuSans-48\"/>\n       <use x=\"354.199219\" xlink:href=\"#DejaVuSans-54\"/>\n       <use x=\"417.822266\" xlink:href=\"#DejaVuSans-45\"/>\n       <use x=\"453.90625\" xlink:href=\"#DejaVuSans-48\"/>\n       <use x=\"517.529297\" xlink:href=\"#DejaVuSans-49\"/>\n      </g>\n     </g>\n    </g>\n    <g id=\"ytick_10\">\n     <g id=\"line2d_30\">\n      <g>\n       <use style=\"stroke:#000000;stroke-width:0.8;\" x=\"85.99375\" xlink:href=\"#me9a6bdb28a\" y=\"311.513325\"/>\n      </g>\n     </g>\n     <g id=\"text_31\">\n      <!-- 2017-07-01 -->\n      <g transform=\"translate(20.878125 314.2727)scale(0.1 -0.1)\">\n       <use xlink:href=\"#DejaVuSans-50\"/>\n       <use x=\"63.623047\" xlink:href=\"#DejaVuSans-48\"/>\n       <use x=\"127.246094\" xlink:href=\"#DejaVuSans-49\"/>\n       <use x=\"190.869141\" xlink:href=\"#DejaVuSans-55\"/>\n       <use x=\"254.492188\" xlink:href=\"#DejaVuSans-45\"/>\n       <use x=\"290.576172\" xlink:href=\"#DejaVuSans-48\"/>\n       <use x=\"354.199219\" xlink:href=\"#DejaVuSans-55\"/>\n       <use x=\"417.822266\" xlink:href=\"#DejaVuSans-45\"/>\n       <use x=\"453.90625\" xlink:href=\"#DejaVuSans-48\"/>\n       <use x=\"517.529297\" xlink:href=\"#DejaVuSans-49\"/>\n      </g>\n     </g>\n    </g>\n    <g id=\"ytick_11\">\n     <g id=\"line2d_31\">\n      <g>\n       <use style=\"stroke:#000000;stroke-width:0.8;\" x=\"85.99375\" xlink:href=\"#me9a6bdb28a\" y=\"341.954925\"/>\n      </g>\n     </g>\n     <g id=\"text_32\">\n      <!-- 2017-08-01 -->\n      <g transform=\"translate(20.878125 344.7143)scale(0.1 -0.1)\">\n       <use xlink:href=\"#DejaVuSans-50\"/>\n       <use x=\"63.623047\" xlink:href=\"#DejaVuSans-48\"/>\n       <use x=\"127.246094\" xlink:href=\"#DejaVuSans-49\"/>\n       <use x=\"190.869141\" xlink:href=\"#DejaVuSans-55\"/>\n       <use x=\"254.492188\" xlink:href=\"#DejaVuSans-45\"/>\n       <use x=\"290.576172\" xlink:href=\"#DejaVuSans-48\"/>\n       <use x=\"354.199219\" xlink:href=\"#DejaVuSans-56\"/>\n       <use x=\"417.822266\" xlink:href=\"#DejaVuSans-45\"/>\n       <use x=\"453.90625\" xlink:href=\"#DejaVuSans-48\"/>\n       <use x=\"517.529297\" xlink:href=\"#DejaVuSans-49\"/>\n      </g>\n     </g>\n    </g>\n    <g id=\"ytick_12\">\n     <g id=\"line2d_32\">\n      <g>\n       <use style=\"stroke:#000000;stroke-width:0.8;\" x=\"85.99375\" xlink:href=\"#me9a6bdb28a\" y=\"372.396525\"/>\n      </g>\n     </g>\n     <g id=\"text_33\">\n      <!-- 2017-09-01 -->\n      <g transform=\"translate(20.878125 375.1559)scale(0.1 -0.1)\">\n       <use xlink:href=\"#DejaVuSans-50\"/>\n       <use x=\"63.623047\" xlink:href=\"#DejaVuSans-48\"/>\n       <use x=\"127.246094\" xlink:href=\"#DejaVuSans-49\"/>\n       <use x=\"190.869141\" xlink:href=\"#DejaVuSans-55\"/>\n       <use x=\"254.492188\" xlink:href=\"#DejaVuSans-45\"/>\n       <use x=\"290.576172\" xlink:href=\"#DejaVuSans-48\"/>\n       <use x=\"354.199219\" xlink:href=\"#DejaVuSans-57\"/>\n       <use x=\"417.822266\" xlink:href=\"#DejaVuSans-45\"/>\n       <use x=\"453.90625\" xlink:href=\"#DejaVuSans-48\"/>\n       <use x=\"517.529297\" xlink:href=\"#DejaVuSans-49\"/>\n      </g>\n     </g>\n    </g>\n    <g id=\"ytick_13\">\n     <g id=\"line2d_33\">\n      <g>\n       <use style=\"stroke:#000000;stroke-width:0.8;\" x=\"85.99375\" xlink:href=\"#me9a6bdb28a\" y=\"402.838125\"/>\n      </g>\n     </g>\n     <g id=\"text_34\">\n      <!-- 2017-10-01 -->\n      <g transform=\"translate(20.878125 405.5975)scale(0.1 -0.1)\">\n       <use xlink:href=\"#DejaVuSans-50\"/>\n       <use x=\"63.623047\" xlink:href=\"#DejaVuSans-48\"/>\n       <use x=\"127.246094\" xlink:href=\"#DejaVuSans-49\"/>\n       <use x=\"190.869141\" xlink:href=\"#DejaVuSans-55\"/>\n       <use x=\"254.492188\" xlink:href=\"#DejaVuSans-45\"/>\n       <use x=\"290.576172\" xlink:href=\"#DejaVuSans-49\"/>\n       <use x=\"354.199219\" xlink:href=\"#DejaVuSans-48\"/>\n       <use x=\"417.822266\" xlink:href=\"#DejaVuSans-45\"/>\n       <use x=\"453.90625\" xlink:href=\"#DejaVuSans-48\"/>\n       <use x=\"517.529297\" xlink:href=\"#DejaVuSans-49\"/>\n      </g>\n     </g>\n    </g>\n    <g id=\"ytick_14\">\n     <g id=\"line2d_34\">\n      <g>\n       <use style=\"stroke:#000000;stroke-width:0.8;\" x=\"85.99375\" xlink:href=\"#me9a6bdb28a\" y=\"433.279725\"/>\n      </g>\n     </g>\n     <g id=\"text_35\">\n      <!-- 2017-11-01 -->\n      <g transform=\"translate(20.878125 436.0391)scale(0.1 -0.1)\">\n       <use xlink:href=\"#DejaVuSans-50\"/>\n       <use x=\"63.623047\" xlink:href=\"#DejaVuSans-48\"/>\n       <use x=\"127.246094\" xlink:href=\"#DejaVuSans-49\"/>\n       <use x=\"190.869141\" xlink:href=\"#DejaVuSans-55\"/>\n       <use x=\"254.492188\" xlink:href=\"#DejaVuSans-45\"/>\n       <use x=\"290.576172\" xlink:href=\"#DejaVuSans-49\"/>\n       <use x=\"354.199219\" xlink:href=\"#DejaVuSans-49\"/>\n       <use x=\"417.822266\" xlink:href=\"#DejaVuSans-45\"/>\n       <use x=\"453.90625\" xlink:href=\"#DejaVuSans-48\"/>\n       <use x=\"517.529297\" xlink:href=\"#DejaVuSans-49\"/>\n      </g>\n     </g>\n    </g>\n    <g id=\"ytick_15\">\n     <g id=\"line2d_35\">\n      <g>\n       <use style=\"stroke:#000000;stroke-width:0.8;\" x=\"85.99375\" xlink:href=\"#me9a6bdb28a\" y=\"463.721325\"/>\n      </g>\n     </g>\n     <g id=\"text_36\">\n      <!-- 2017-12-01 -->\n      <g transform=\"translate(20.878125 466.4807)scale(0.1 -0.1)\">\n       <use xlink:href=\"#DejaVuSans-50\"/>\n       <use x=\"63.623047\" xlink:href=\"#DejaVuSans-48\"/>\n       <use x=\"127.246094\" xlink:href=\"#DejaVuSans-49\"/>\n       <use x=\"190.869141\" xlink:href=\"#DejaVuSans-55\"/>\n       <use x=\"254.492188\" xlink:href=\"#DejaVuSans-45\"/>\n       <use x=\"290.576172\" xlink:href=\"#DejaVuSans-49\"/>\n       <use x=\"354.199219\" xlink:href=\"#DejaVuSans-50\"/>\n       <use x=\"417.822266\" xlink:href=\"#DejaVuSans-45\"/>\n       <use x=\"453.90625\" xlink:href=\"#DejaVuSans-48\"/>\n       <use x=\"517.529297\" xlink:href=\"#DejaVuSans-49\"/>\n      </g>\n     </g>\n    </g>\n    <g id=\"ytick_16\">\n     <g id=\"line2d_36\">\n      <g>\n       <use style=\"stroke:#000000;stroke-width:0.8;\" x=\"85.99375\" xlink:href=\"#me9a6bdb28a\" y=\"494.162925\"/>\n      </g>\n     </g>\n     <g id=\"text_37\">\n      <!-- 2018-01-01 -->\n      <g transform=\"translate(20.878125 496.9223)scale(0.1 -0.1)\">\n       <use xlink:href=\"#DejaVuSans-50\"/>\n       <use x=\"63.623047\" xlink:href=\"#DejaVuSans-48\"/>\n       <use x=\"127.246094\" xlink:href=\"#DejaVuSans-49\"/>\n       <use x=\"190.869141\" xlink:href=\"#DejaVuSans-56\"/>\n       <use x=\"254.492188\" xlink:href=\"#DejaVuSans-45\"/>\n       <use x=\"290.576172\" xlink:href=\"#DejaVuSans-48\"/>\n       <use x=\"354.199219\" xlink:href=\"#DejaVuSans-49\"/>\n       <use x=\"417.822266\" xlink:href=\"#DejaVuSans-45\"/>\n       <use x=\"453.90625\" xlink:href=\"#DejaVuSans-48\"/>\n       <use x=\"517.529297\" xlink:href=\"#DejaVuSans-49\"/>\n      </g>\n     </g>\n    </g>\n    <g id=\"ytick_17\">\n     <g id=\"line2d_37\">\n      <g>\n       <use style=\"stroke:#000000;stroke-width:0.8;\" x=\"85.99375\" xlink:href=\"#me9a6bdb28a\" y=\"524.604525\"/>\n      </g>\n     </g>\n     <g id=\"text_38\">\n      <!-- 2018-02-01 -->\n      <g transform=\"translate(20.878125 527.3639)scale(0.1 -0.1)\">\n       <use xlink:href=\"#DejaVuSans-50\"/>\n       <use x=\"63.623047\" xlink:href=\"#DejaVuSans-48\"/>\n       <use x=\"127.246094\" xlink:href=\"#DejaVuSans-49\"/>\n       <use x=\"190.869141\" xlink:href=\"#DejaVuSans-56\"/>\n       <use x=\"254.492188\" xlink:href=\"#DejaVuSans-45\"/>\n       <use x=\"290.576172\" xlink:href=\"#DejaVuSans-48\"/>\n       <use x=\"354.199219\" xlink:href=\"#DejaVuSans-50\"/>\n       <use x=\"417.822266\" xlink:href=\"#DejaVuSans-45\"/>\n       <use x=\"453.90625\" xlink:href=\"#DejaVuSans-48\"/>\n       <use x=\"517.529297\" xlink:href=\"#DejaVuSans-49\"/>\n      </g>\n     </g>\n    </g>\n    <g id=\"ytick_18\">\n     <g id=\"line2d_38\">\n      <g>\n       <use style=\"stroke:#000000;stroke-width:0.8;\" x=\"85.99375\" xlink:href=\"#me9a6bdb28a\" y=\"555.046125\"/>\n      </g>\n     </g>\n     <g id=\"text_39\">\n      <!-- 2018-03-01 -->\n      <g transform=\"translate(20.878125 557.8055)scale(0.1 -0.1)\">\n       <use xlink:href=\"#DejaVuSans-50\"/>\n       <use x=\"63.623047\" xlink:href=\"#DejaVuSans-48\"/>\n       <use x=\"127.246094\" xlink:href=\"#DejaVuSans-49\"/>\n       <use x=\"190.869141\" xlink:href=\"#DejaVuSans-56\"/>\n       <use x=\"254.492188\" xlink:href=\"#DejaVuSans-45\"/>\n       <use x=\"290.576172\" xlink:href=\"#DejaVuSans-48\"/>\n       <use x=\"354.199219\" xlink:href=\"#DejaVuSans-51\"/>\n       <use x=\"417.822266\" xlink:href=\"#DejaVuSans-45\"/>\n       <use x=\"453.90625\" xlink:href=\"#DejaVuSans-48\"/>\n       <use x=\"517.529297\" xlink:href=\"#DejaVuSans-49\"/>\n      </g>\n     </g>\n    </g>\n    <g id=\"ytick_19\">\n     <g id=\"line2d_39\">\n      <g>\n       <use style=\"stroke:#000000;stroke-width:0.8;\" x=\"85.99375\" xlink:href=\"#me9a6bdb28a\" y=\"585.487725\"/>\n      </g>\n     </g>\n     <g id=\"text_40\">\n      <!-- 2018-04-01 -->\n      <g transform=\"translate(20.878125 588.2471)scale(0.1 -0.1)\">\n       <use xlink:href=\"#DejaVuSans-50\"/>\n       <use x=\"63.623047\" xlink:href=\"#DejaVuSans-48\"/>\n       <use x=\"127.246094\" xlink:href=\"#DejaVuSans-49\"/>\n       <use x=\"190.869141\" xlink:href=\"#DejaVuSans-56\"/>\n       <use x=\"254.492188\" xlink:href=\"#DejaVuSans-45\"/>\n       <use x=\"290.576172\" xlink:href=\"#DejaVuSans-48\"/>\n       <use x=\"354.199219\" xlink:href=\"#DejaVuSans-52\"/>\n       <use x=\"417.822266\" xlink:href=\"#DejaVuSans-45\"/>\n       <use x=\"453.90625\" xlink:href=\"#DejaVuSans-48\"/>\n       <use x=\"517.529297\" xlink:href=\"#DejaVuSans-49\"/>\n      </g>\n     </g>\n    </g>\n    <g id=\"ytick_20\">\n     <g id=\"line2d_40\">\n      <g>\n       <use style=\"stroke:#000000;stroke-width:0.8;\" x=\"85.99375\" xlink:href=\"#me9a6bdb28a\" y=\"615.929325\"/>\n      </g>\n     </g>\n     <g id=\"text_41\">\n      <!-- 2018-05-01 -->\n      <g transform=\"translate(20.878125 618.6887)scale(0.1 -0.1)\">\n       <use xlink:href=\"#DejaVuSans-50\"/>\n       <use x=\"63.623047\" xlink:href=\"#DejaVuSans-48\"/>\n       <use x=\"127.246094\" xlink:href=\"#DejaVuSans-49\"/>\n       <use x=\"190.869141\" xlink:href=\"#DejaVuSans-56\"/>\n       <use x=\"254.492188\" xlink:href=\"#DejaVuSans-45\"/>\n       <use x=\"290.576172\" xlink:href=\"#DejaVuSans-48\"/>\n       <use x=\"354.199219\" xlink:href=\"#DejaVuSans-53\"/>\n       <use x=\"417.822266\" xlink:href=\"#DejaVuSans-45\"/>\n       <use x=\"453.90625\" xlink:href=\"#DejaVuSans-48\"/>\n       <use x=\"517.529297\" xlink:href=\"#DejaVuSans-49\"/>\n      </g>\n     </g>\n    </g>\n    <g id=\"ytick_21\">\n     <g id=\"line2d_41\">\n      <g>\n       <use style=\"stroke:#000000;stroke-width:0.8;\" x=\"85.99375\" xlink:href=\"#me9a6bdb28a\" y=\"646.370925\"/>\n      </g>\n     </g>\n     <g id=\"text_42\">\n      <!-- 2018-06-01 -->\n      <g transform=\"translate(20.878125 649.1303)scale(0.1 -0.1)\">\n       <use xlink:href=\"#DejaVuSans-50\"/>\n       <use x=\"63.623047\" xlink:href=\"#DejaVuSans-48\"/>\n       <use x=\"127.246094\" xlink:href=\"#DejaVuSans-49\"/>\n       <use x=\"190.869141\" xlink:href=\"#DejaVuSans-56\"/>\n       <use x=\"254.492188\" xlink:href=\"#DejaVuSans-45\"/>\n       <use x=\"290.576172\" xlink:href=\"#DejaVuSans-48\"/>\n       <use x=\"354.199219\" xlink:href=\"#DejaVuSans-54\"/>\n       <use x=\"417.822266\" xlink:href=\"#DejaVuSans-45\"/>\n       <use x=\"453.90625\" xlink:href=\"#DejaVuSans-48\"/>\n       <use x=\"517.529297\" xlink:href=\"#DejaVuSans-49\"/>\n      </g>\n     </g>\n    </g>\n    <g id=\"ytick_22\">\n     <g id=\"line2d_42\">\n      <g>\n       <use style=\"stroke:#000000;stroke-width:0.8;\" x=\"85.99375\" xlink:href=\"#me9a6bdb28a\" y=\"676.812525\"/>\n      </g>\n     </g>\n     <g id=\"text_43\">\n      <!-- 2018-07-01 -->\n      <g transform=\"translate(20.878125 679.5719)scale(0.1 -0.1)\">\n       <use xlink:href=\"#DejaVuSans-50\"/>\n       <use x=\"63.623047\" xlink:href=\"#DejaVuSans-48\"/>\n       <use x=\"127.246094\" xlink:href=\"#DejaVuSans-49\"/>\n       <use x=\"190.869141\" xlink:href=\"#DejaVuSans-56\"/>\n       <use x=\"254.492188\" xlink:href=\"#DejaVuSans-45\"/>\n       <use x=\"290.576172\" xlink:href=\"#DejaVuSans-48\"/>\n       <use x=\"354.199219\" xlink:href=\"#DejaVuSans-55\"/>\n       <use x=\"417.822266\" xlink:href=\"#DejaVuSans-45\"/>\n       <use x=\"453.90625\" xlink:href=\"#DejaVuSans-48\"/>\n       <use x=\"517.529297\" xlink:href=\"#DejaVuSans-49\"/>\n      </g>\n     </g>\n    </g>\n    <g id=\"ytick_23\">\n     <g id=\"line2d_43\">\n      <g>\n       <use style=\"stroke:#000000;stroke-width:0.8;\" x=\"85.99375\" xlink:href=\"#me9a6bdb28a\" y=\"707.254125\"/>\n      </g>\n     </g>\n     <g id=\"text_44\">\n      <!-- 2018-08-01 -->\n      <g transform=\"translate(20.878125 710.0135)scale(0.1 -0.1)\">\n       <use xlink:href=\"#DejaVuSans-50\"/>\n       <use x=\"63.623047\" xlink:href=\"#DejaVuSans-48\"/>\n       <use x=\"127.246094\" xlink:href=\"#DejaVuSans-49\"/>\n       <use x=\"190.869141\" xlink:href=\"#DejaVuSans-56\"/>\n       <use x=\"254.492188\" xlink:href=\"#DejaVuSans-45\"/>\n       <use x=\"290.576172\" xlink:href=\"#DejaVuSans-48\"/>\n       <use x=\"354.199219\" xlink:href=\"#DejaVuSans-56\"/>\n       <use x=\"417.822266\" xlink:href=\"#DejaVuSans-45\"/>\n       <use x=\"453.90625\" xlink:href=\"#DejaVuSans-48\"/>\n       <use x=\"517.529297\" xlink:href=\"#DejaVuSans-49\"/>\n      </g>\n     </g>\n    </g>\n    <g id=\"ytick_24\">\n     <g id=\"line2d_44\">\n      <g>\n       <use style=\"stroke:#000000;stroke-width:0.8;\" x=\"85.99375\" xlink:href=\"#me9a6bdb28a\" y=\"737.695725\"/>\n      </g>\n     </g>\n     <g id=\"text_45\">\n      <!-- 2018-09-01 -->\n      <g transform=\"translate(20.878125 740.4551)scale(0.1 -0.1)\">\n       <use xlink:href=\"#DejaVuSans-50\"/>\n       <use x=\"63.623047\" xlink:href=\"#DejaVuSans-48\"/>\n       <use x=\"127.246094\" xlink:href=\"#DejaVuSans-49\"/>\n       <use x=\"190.869141\" xlink:href=\"#DejaVuSans-56\"/>\n       <use x=\"254.492188\" xlink:href=\"#DejaVuSans-45\"/>\n       <use x=\"290.576172\" xlink:href=\"#DejaVuSans-48\"/>\n       <use x=\"354.199219\" xlink:href=\"#DejaVuSans-57\"/>\n       <use x=\"417.822266\" xlink:href=\"#DejaVuSans-45\"/>\n       <use x=\"453.90625\" xlink:href=\"#DejaVuSans-48\"/>\n       <use x=\"517.529297\" xlink:href=\"#DejaVuSans-49\"/>\n      </g>\n     </g>\n    </g>\n    <g id=\"ytick_25\">\n     <g id=\"line2d_45\">\n      <g>\n       <use style=\"stroke:#000000;stroke-width:0.8;\" x=\"85.99375\" xlink:href=\"#me9a6bdb28a\" y=\"768.137325\"/>\n      </g>\n     </g>\n     <g id=\"text_46\">\n      <!-- 2018-10-01 -->\n      <g transform=\"translate(20.878125 770.8967)scale(0.1 -0.1)\">\n       <use xlink:href=\"#DejaVuSans-50\"/>\n       <use x=\"63.623047\" xlink:href=\"#DejaVuSans-48\"/>\n       <use x=\"127.246094\" xlink:href=\"#DejaVuSans-49\"/>\n       <use x=\"190.869141\" xlink:href=\"#DejaVuSans-56\"/>\n       <use x=\"254.492188\" xlink:href=\"#DejaVuSans-45\"/>\n       <use x=\"290.576172\" xlink:href=\"#DejaVuSans-49\"/>\n       <use x=\"354.199219\" xlink:href=\"#DejaVuSans-48\"/>\n       <use x=\"417.822266\" xlink:href=\"#DejaVuSans-45\"/>\n       <use x=\"453.90625\" xlink:href=\"#DejaVuSans-48\"/>\n       <use x=\"517.529297\" xlink:href=\"#DejaVuSans-49\"/>\n      </g>\n     </g>\n    </g>\n    <g id=\"text_47\">\n     <!-- month -->\n     <defs>\n      <path d=\"M 52 44.1875 \nQ 55.375 50.25 60.0625 53.125 \nQ 64.75 56 71.09375 56 \nQ 79.640625 56 84.28125 50.015625 \nQ 88.921875 44.046875 88.921875 33.015625 \nL 88.921875 0 \nL 79.890625 0 \nL 79.890625 32.71875 \nQ 79.890625 40.578125 77.09375 44.375 \nQ 74.3125 48.1875 68.609375 48.1875 \nQ 61.625 48.1875 57.5625 43.546875 \nQ 53.515625 38.921875 53.515625 30.90625 \nL 53.515625 0 \nL 44.484375 0 \nL 44.484375 32.71875 \nQ 44.484375 40.625 41.703125 44.40625 \nQ 38.921875 48.1875 33.109375 48.1875 \nQ 26.21875 48.1875 22.15625 43.53125 \nQ 18.109375 38.875 18.109375 30.90625 \nL 18.109375 0 \nL 9.078125 0 \nL 9.078125 54.6875 \nL 18.109375 54.6875 \nL 18.109375 46.1875 \nQ 21.1875 51.21875 25.484375 53.609375 \nQ 29.78125 56 35.6875 56 \nQ 41.65625 56 45.828125 52.96875 \nQ 50 49.953125 52 44.1875 \nz\n\" id=\"DejaVuSans-109\"/>\n      <path d=\"M 54.890625 33.015625 \nL 54.890625 0 \nL 45.90625 0 \nL 45.90625 32.71875 \nQ 45.90625 40.484375 42.875 44.328125 \nQ 39.84375 48.1875 33.796875 48.1875 \nQ 26.515625 48.1875 22.3125 43.546875 \nQ 18.109375 38.921875 18.109375 30.90625 \nL 18.109375 0 \nL 9.078125 0 \nL 9.078125 54.6875 \nL 18.109375 54.6875 \nL 18.109375 46.1875 \nQ 21.34375 51.125 25.703125 53.5625 \nQ 30.078125 56 35.796875 56 \nQ 45.21875 56 50.046875 50.171875 \nQ 54.890625 44.34375 54.890625 33.015625 \nz\n\" id=\"DejaVuSans-110\"/>\n     </defs>\n     <g transform=\"translate(14.798438 419.065469)rotate(-90)scale(0.1 -0.1)\">\n      <use xlink:href=\"#DejaVuSans-109\"/>\n      <use x=\"97.412109\" xlink:href=\"#DejaVuSans-111\"/>\n      <use x=\"158.59375\" xlink:href=\"#DejaVuSans-110\"/>\n      <use x=\"221.972656\" xlink:href=\"#DejaVuSans-116\"/>\n      <use x=\"261.181641\" xlink:href=\"#DejaVuSans-104\"/>\n     </g>\n    </g>\n   </g>\n   <g id=\"text_48\">\n    <!-- 0.003 -->\n    <defs>\n     <path d=\"M 10.6875 12.40625 \nL 21 12.40625 \nL 21 0 \nL 10.6875 0 \nz\n\" id=\"DejaVuSans-46\"/>\n    </defs>\n    <g style=\"fill:#ffffff;\" transform=\"translate(252.471688 70.7399)scale(0.1 -0.1)\">\n     <use xlink:href=\"#DejaVuSans-48\"/>\n     <use x=\"63.623047\" xlink:href=\"#DejaVuSans-46\"/>\n     <use x=\"95.410156\" xlink:href=\"#DejaVuSans-48\"/>\n     <use x=\"159.033203\" xlink:href=\"#DejaVuSans-48\"/>\n     <use x=\"222.65625\" xlink:href=\"#DejaVuSans-51\"/>\n    </g>\n   </g>\n   <g id=\"text_49\">\n    <!-- 0.003 -->\n    <g style=\"fill:#ffffff;\" transform=\"translate(413.175688 70.7399)scale(0.1 -0.1)\">\n     <use xlink:href=\"#DejaVuSans-48\"/>\n     <use x=\"63.623047\" xlink:href=\"#DejaVuSans-46\"/>\n     <use x=\"95.410156\" xlink:href=\"#DejaVuSans-48\"/>\n     <use x=\"159.033203\" xlink:href=\"#DejaVuSans-48\"/>\n     <use x=\"222.65625\" xlink:href=\"#DejaVuSans-51\"/>\n    </g>\n   </g>\n   <g id=\"text_50\">\n    <!-- 0.003 -->\n    <g style=\"fill:#ffffff;\" transform=\"translate(493.527688 70.7399)scale(0.1 -0.1)\">\n     <use xlink:href=\"#DejaVuSans-48\"/>\n     <use x=\"63.623047\" xlink:href=\"#DejaVuSans-46\"/>\n     <use x=\"95.410156\" xlink:href=\"#DejaVuSans-48\"/>\n     <use x=\"159.033203\" xlink:href=\"#DejaVuSans-48\"/>\n     <use x=\"222.65625\" xlink:href=\"#DejaVuSans-51\"/>\n    </g>\n   </g>\n   <g id=\"text_51\">\n    <!-- 0.003 -->\n    <g style=\"fill:#ffffff;\" transform=\"translate(533.703688 70.7399)scale(0.1 -0.1)\">\n     <use xlink:href=\"#DejaVuSans-48\"/>\n     <use x=\"63.623047\" xlink:href=\"#DejaVuSans-46\"/>\n     <use x=\"95.410156\" xlink:href=\"#DejaVuSans-48\"/>\n     <use x=\"159.033203\" xlink:href=\"#DejaVuSans-48\"/>\n     <use x=\"222.65625\" xlink:href=\"#DejaVuSans-51\"/>\n    </g>\n   </g>\n   <g id=\"text_52\">\n    <!-- 0.003 -->\n    <g style=\"fill:#ffffff;\" transform=\"translate(614.055688 70.7399)scale(0.1 -0.1)\">\n     <use xlink:href=\"#DejaVuSans-48\"/>\n     <use x=\"63.623047\" xlink:href=\"#DejaVuSans-46\"/>\n     <use x=\"95.410156\" xlink:href=\"#DejaVuSans-48\"/>\n     <use x=\"159.033203\" xlink:href=\"#DejaVuSans-48\"/>\n     <use x=\"222.65625\" xlink:href=\"#DejaVuSans-51\"/>\n    </g>\n   </g>\n   <g id=\"text_53\">\n    <!-- 0.003 -->\n    <g style=\"fill:#ffffff;\" transform=\"translate(734.583688 70.7399)scale(0.1 -0.1)\">\n     <use xlink:href=\"#DejaVuSans-48\"/>\n     <use x=\"63.623047\" xlink:href=\"#DejaVuSans-46\"/>\n     <use x=\"95.410156\" xlink:href=\"#DejaVuSans-48\"/>\n     <use x=\"159.033203\" xlink:href=\"#DejaVuSans-48\"/>\n     <use x=\"222.65625\" xlink:href=\"#DejaVuSans-51\"/>\n    </g>\n   </g>\n   <g id=\"text_54\">\n    <!-- 0.006 -->\n    <g style=\"fill:#ffffff;\" transform=\"translate(774.759688 70.7399)scale(0.1 -0.1)\">\n     <use xlink:href=\"#DejaVuSans-48\"/>\n     <use x=\"63.623047\" xlink:href=\"#DejaVuSans-46\"/>\n     <use x=\"95.410156\" xlink:href=\"#DejaVuSans-48\"/>\n     <use x=\"159.033203\" xlink:href=\"#DejaVuSans-48\"/>\n     <use x=\"222.65625\" xlink:href=\"#DejaVuSans-54\"/>\n    </g>\n   </g>\n   <g id=\"text_55\">\n    <!-- 0.006 -->\n    <g style=\"fill:#ffffff;\" transform=\"translate(855.111688 70.7399)scale(0.1 -0.1)\">\n     <use xlink:href=\"#DejaVuSans-48\"/>\n     <use x=\"63.623047\" xlink:href=\"#DejaVuSans-46\"/>\n     <use x=\"95.410156\" xlink:href=\"#DejaVuSans-48\"/>\n     <use x=\"159.033203\" xlink:href=\"#DejaVuSans-48\"/>\n     <use x=\"222.65625\" xlink:href=\"#DejaVuSans-54\"/>\n    </g>\n   </g>\n   <g id=\"text_56\">\n    <!-- 0.002 -->\n    <g style=\"fill:#262626;\" transform=\"translate(91.767688 131.6231)scale(0.1 -0.1)\">\n     <use xlink:href=\"#DejaVuSans-48\"/>\n     <use x=\"63.623047\" xlink:href=\"#DejaVuSans-46\"/>\n     <use x=\"95.410156\" xlink:href=\"#DejaVuSans-48\"/>\n     <use x=\"159.033203\" xlink:href=\"#DejaVuSans-48\"/>\n     <use x=\"222.65625\" xlink:href=\"#DejaVuSans-50\"/>\n    </g>\n   </g>\n   <g id=\"text_57\">\n    <!-- 0.005 -->\n    <g style=\"fill:#ffffff;\" transform=\"translate(172.119688 131.6231)scale(0.1 -0.1)\">\n     <use xlink:href=\"#DejaVuSans-48\"/>\n     <use x=\"63.623047\" xlink:href=\"#DejaVuSans-46\"/>\n     <use x=\"95.410156\" xlink:href=\"#DejaVuSans-48\"/>\n     <use x=\"159.033203\" xlink:href=\"#DejaVuSans-48\"/>\n     <use x=\"222.65625\" xlink:href=\"#DejaVuSans-53\"/>\n    </g>\n   </g>\n   <g id=\"text_58\">\n    <!-- 0.001 -->\n    <g style=\"fill:#262626;\" transform=\"translate(212.295688 131.6231)scale(0.1 -0.1)\">\n     <use xlink:href=\"#DejaVuSans-48\"/>\n     <use x=\"63.623047\" xlink:href=\"#DejaVuSans-46\"/>\n     <use x=\"95.410156\" xlink:href=\"#DejaVuSans-48\"/>\n     <use x=\"159.033203\" xlink:href=\"#DejaVuSans-48\"/>\n     <use x=\"222.65625\" xlink:href=\"#DejaVuSans-49\"/>\n    </g>\n   </g>\n   <g id=\"text_59\">\n    <!-- 0.001 -->\n    <g style=\"fill:#262626;\" transform=\"translate(252.471688 131.6231)scale(0.1 -0.1)\">\n     <use xlink:href=\"#DejaVuSans-48\"/>\n     <use x=\"63.623047\" xlink:href=\"#DejaVuSans-46\"/>\n     <use x=\"95.410156\" xlink:href=\"#DejaVuSans-48\"/>\n     <use x=\"159.033203\" xlink:href=\"#DejaVuSans-48\"/>\n     <use x=\"222.65625\" xlink:href=\"#DejaVuSans-49\"/>\n    </g>\n   </g>\n   <g id=\"text_60\">\n    <!-- 0.005 -->\n    <g style=\"fill:#ffffff;\" transform=\"translate(292.647688 131.6231)scale(0.1 -0.1)\">\n     <use xlink:href=\"#DejaVuSans-48\"/>\n     <use x=\"63.623047\" xlink:href=\"#DejaVuSans-46\"/>\n     <use x=\"95.410156\" xlink:href=\"#DejaVuSans-48\"/>\n     <use x=\"159.033203\" xlink:href=\"#DejaVuSans-48\"/>\n     <use x=\"222.65625\" xlink:href=\"#DejaVuSans-53\"/>\n    </g>\n   </g>\n   <g id=\"text_61\">\n    <!-- 0.001 -->\n    <g style=\"fill:#262626;\" transform=\"translate(332.823688 131.6231)scale(0.1 -0.1)\">\n     <use xlink:href=\"#DejaVuSans-48\"/>\n     <use x=\"63.623047\" xlink:href=\"#DejaVuSans-46\"/>\n     <use x=\"95.410156\" xlink:href=\"#DejaVuSans-48\"/>\n     <use x=\"159.033203\" xlink:href=\"#DejaVuSans-48\"/>\n     <use x=\"222.65625\" xlink:href=\"#DejaVuSans-49\"/>\n    </g>\n   </g>\n   <g id=\"text_62\">\n    <!-- 0.005 -->\n    <g style=\"fill:#ffffff;\" transform=\"translate(453.351688 131.6231)scale(0.1 -0.1)\">\n     <use xlink:href=\"#DejaVuSans-48\"/>\n     <use x=\"63.623047\" xlink:href=\"#DejaVuSans-46\"/>\n     <use x=\"95.410156\" xlink:href=\"#DejaVuSans-48\"/>\n     <use x=\"159.033203\" xlink:href=\"#DejaVuSans-48\"/>\n     <use x=\"222.65625\" xlink:href=\"#DejaVuSans-53\"/>\n    </g>\n   </g>\n   <g id=\"text_63\">\n    <!-- 0.006 -->\n    <g style=\"fill:#ffffff;\" transform=\"translate(493.527688 131.6231)scale(0.1 -0.1)\">\n     <use xlink:href=\"#DejaVuSans-48\"/>\n     <use x=\"63.623047\" xlink:href=\"#DejaVuSans-46\"/>\n     <use x=\"95.410156\" xlink:href=\"#DejaVuSans-48\"/>\n     <use x=\"159.033203\" xlink:href=\"#DejaVuSans-48\"/>\n     <use x=\"222.65625\" xlink:href=\"#DejaVuSans-54\"/>\n    </g>\n   </g>\n   <g id=\"text_64\">\n    <!-- 0.004 -->\n    <g style=\"fill:#ffffff;\" transform=\"translate(533.703688 131.6231)scale(0.1 -0.1)\">\n     <use xlink:href=\"#DejaVuSans-48\"/>\n     <use x=\"63.623047\" xlink:href=\"#DejaVuSans-46\"/>\n     <use x=\"95.410156\" xlink:href=\"#DejaVuSans-48\"/>\n     <use x=\"159.033203\" xlink:href=\"#DejaVuSans-48\"/>\n     <use x=\"222.65625\" xlink:href=\"#DejaVuSans-52\"/>\n    </g>\n   </g>\n   <g id=\"text_65\">\n    <!-- 0.002 -->\n    <g style=\"fill:#262626;\" transform=\"translate(573.879688 131.6231)scale(0.1 -0.1)\">\n     <use xlink:href=\"#DejaVuSans-48\"/>\n     <use x=\"63.623047\" xlink:href=\"#DejaVuSans-46\"/>\n     <use x=\"95.410156\" xlink:href=\"#DejaVuSans-48\"/>\n     <use x=\"159.033203\" xlink:href=\"#DejaVuSans-48\"/>\n     <use x=\"222.65625\" xlink:href=\"#DejaVuSans-50\"/>\n    </g>\n   </g>\n   <g id=\"text_66\">\n    <!-- 0.001 -->\n    <g style=\"fill:#262626;\" transform=\"translate(614.055688 131.6231)scale(0.1 -0.1)\">\n     <use xlink:href=\"#DejaVuSans-48\"/>\n     <use x=\"63.623047\" xlink:href=\"#DejaVuSans-46\"/>\n     <use x=\"95.410156\" xlink:href=\"#DejaVuSans-48\"/>\n     <use x=\"159.033203\" xlink:href=\"#DejaVuSans-48\"/>\n     <use x=\"222.65625\" xlink:href=\"#DejaVuSans-49\"/>\n    </g>\n   </g>\n   <g id=\"text_67\">\n    <!-- 0.001 -->\n    <g style=\"fill:#262626;\" transform=\"translate(654.231688 131.6231)scale(0.1 -0.1)\">\n     <use xlink:href=\"#DejaVuSans-48\"/>\n     <use x=\"63.623047\" xlink:href=\"#DejaVuSans-46\"/>\n     <use x=\"95.410156\" xlink:href=\"#DejaVuSans-48\"/>\n     <use x=\"159.033203\" xlink:href=\"#DejaVuSans-48\"/>\n     <use x=\"222.65625\" xlink:href=\"#DejaVuSans-49\"/>\n    </g>\n   </g>\n   <g id=\"text_68\">\n    <!-- 0.004 -->\n    <g style=\"fill:#ffffff;\" transform=\"translate(694.407688 131.6231)scale(0.1 -0.1)\">\n     <use xlink:href=\"#DejaVuSans-48\"/>\n     <use x=\"63.623047\" xlink:href=\"#DejaVuSans-46\"/>\n     <use x=\"95.410156\" xlink:href=\"#DejaVuSans-48\"/>\n     <use x=\"159.033203\" xlink:href=\"#DejaVuSans-48\"/>\n     <use x=\"222.65625\" xlink:href=\"#DejaVuSans-52\"/>\n    </g>\n   </g>\n   <g id=\"text_69\">\n    <!-- 0.001 -->\n    <g style=\"fill:#262626;\" transform=\"translate(734.583688 131.6231)scale(0.1 -0.1)\">\n     <use xlink:href=\"#DejaVuSans-48\"/>\n     <use x=\"63.623047\" xlink:href=\"#DejaVuSans-46\"/>\n     <use x=\"95.410156\" xlink:href=\"#DejaVuSans-48\"/>\n     <use x=\"159.033203\" xlink:href=\"#DejaVuSans-48\"/>\n     <use x=\"222.65625\" xlink:href=\"#DejaVuSans-49\"/>\n    </g>\n   </g>\n   <g id=\"text_70\">\n    <!-- 0.001 -->\n    <g style=\"fill:#262626;\" transform=\"translate(814.935688 131.6231)scale(0.1 -0.1)\">\n     <use xlink:href=\"#DejaVuSans-48\"/>\n     <use x=\"63.623047\" xlink:href=\"#DejaVuSans-46\"/>\n     <use x=\"95.410156\" xlink:href=\"#DejaVuSans-48\"/>\n     <use x=\"159.033203\" xlink:href=\"#DejaVuSans-48\"/>\n     <use x=\"222.65625\" xlink:href=\"#DejaVuSans-49\"/>\n    </g>\n   </g>\n   <g id=\"text_71\">\n    <!-- 0.002 -->\n    <g style=\"fill:#262626;\" transform=\"translate(91.767688 162.0647)scale(0.1 -0.1)\">\n     <use xlink:href=\"#DejaVuSans-48\"/>\n     <use x=\"63.623047\" xlink:href=\"#DejaVuSans-46\"/>\n     <use x=\"95.410156\" xlink:href=\"#DejaVuSans-48\"/>\n     <use x=\"159.033203\" xlink:href=\"#DejaVuSans-48\"/>\n     <use x=\"222.65625\" xlink:href=\"#DejaVuSans-50\"/>\n    </g>\n   </g>\n   <g id=\"text_72\">\n    <!-- 0.002 -->\n    <g style=\"fill:#262626;\" transform=\"translate(131.943688 162.0647)scale(0.1 -0.1)\">\n     <use xlink:href=\"#DejaVuSans-48\"/>\n     <use x=\"63.623047\" xlink:href=\"#DejaVuSans-46\"/>\n     <use x=\"95.410156\" xlink:href=\"#DejaVuSans-48\"/>\n     <use x=\"159.033203\" xlink:href=\"#DejaVuSans-48\"/>\n     <use x=\"222.65625\" xlink:href=\"#DejaVuSans-50\"/>\n    </g>\n   </g>\n   <g id=\"text_73\">\n    <!-- 0.003 -->\n    <g style=\"fill:#ffffff;\" transform=\"translate(172.119688 162.0647)scale(0.1 -0.1)\">\n     <use xlink:href=\"#DejaVuSans-48\"/>\n     <use x=\"63.623047\" xlink:href=\"#DejaVuSans-46\"/>\n     <use x=\"95.410156\" xlink:href=\"#DejaVuSans-48\"/>\n     <use x=\"159.033203\" xlink:href=\"#DejaVuSans-48\"/>\n     <use x=\"222.65625\" xlink:href=\"#DejaVuSans-51\"/>\n    </g>\n   </g>\n   <g id=\"text_74\">\n    <!-- 0.002 -->\n    <g style=\"fill:#262626;\" transform=\"translate(212.295688 162.0647)scale(0.1 -0.1)\">\n     <use xlink:href=\"#DejaVuSans-48\"/>\n     <use x=\"63.623047\" xlink:href=\"#DejaVuSans-46\"/>\n     <use x=\"95.410156\" xlink:href=\"#DejaVuSans-48\"/>\n     <use x=\"159.033203\" xlink:href=\"#DejaVuSans-48\"/>\n     <use x=\"222.65625\" xlink:href=\"#DejaVuSans-50\"/>\n    </g>\n   </g>\n   <g id=\"text_75\">\n    <!-- 0.002 -->\n    <g style=\"fill:#262626;\" transform=\"translate(252.471688 162.0647)scale(0.1 -0.1)\">\n     <use xlink:href=\"#DejaVuSans-48\"/>\n     <use x=\"63.623047\" xlink:href=\"#DejaVuSans-46\"/>\n     <use x=\"95.410156\" xlink:href=\"#DejaVuSans-48\"/>\n     <use x=\"159.033203\" xlink:href=\"#DejaVuSans-48\"/>\n     <use x=\"222.65625\" xlink:href=\"#DejaVuSans-50\"/>\n    </g>\n   </g>\n   <g id=\"text_76\">\n    <!-- 0.002 -->\n    <g style=\"fill:#262626;\" transform=\"translate(292.647688 162.0647)scale(0.1 -0.1)\">\n     <use xlink:href=\"#DejaVuSans-48\"/>\n     <use x=\"63.623047\" xlink:href=\"#DejaVuSans-46\"/>\n     <use x=\"95.410156\" xlink:href=\"#DejaVuSans-48\"/>\n     <use x=\"159.033203\" xlink:href=\"#DejaVuSans-48\"/>\n     <use x=\"222.65625\" xlink:href=\"#DejaVuSans-50\"/>\n    </g>\n   </g>\n   <g id=\"text_77\">\n    <!-- 0.001 -->\n    <g style=\"fill:#262626;\" transform=\"translate(332.823688 162.0647)scale(0.1 -0.1)\">\n     <use xlink:href=\"#DejaVuSans-48\"/>\n     <use x=\"63.623047\" xlink:href=\"#DejaVuSans-46\"/>\n     <use x=\"95.410156\" xlink:href=\"#DejaVuSans-48\"/>\n     <use x=\"159.033203\" xlink:href=\"#DejaVuSans-48\"/>\n     <use x=\"222.65625\" xlink:href=\"#DejaVuSans-49\"/>\n    </g>\n   </g>\n   <g id=\"text_78\">\n    <!-- 0.001 -->\n    <g style=\"fill:#262626;\" transform=\"translate(372.999688 162.0647)scale(0.1 -0.1)\">\n     <use xlink:href=\"#DejaVuSans-48\"/>\n     <use x=\"63.623047\" xlink:href=\"#DejaVuSans-46\"/>\n     <use x=\"95.410156\" xlink:href=\"#DejaVuSans-48\"/>\n     <use x=\"159.033203\" xlink:href=\"#DejaVuSans-48\"/>\n     <use x=\"222.65625\" xlink:href=\"#DejaVuSans-49\"/>\n    </g>\n   </g>\n   <g id=\"text_79\">\n    <!-- 0.003 -->\n    <g style=\"fill:#ffffff;\" transform=\"translate(413.175688 162.0647)scale(0.1 -0.1)\">\n     <use xlink:href=\"#DejaVuSans-48\"/>\n     <use x=\"63.623047\" xlink:href=\"#DejaVuSans-46\"/>\n     <use x=\"95.410156\" xlink:href=\"#DejaVuSans-48\"/>\n     <use x=\"159.033203\" xlink:href=\"#DejaVuSans-48\"/>\n     <use x=\"222.65625\" xlink:href=\"#DejaVuSans-51\"/>\n    </g>\n   </g>\n   <g id=\"text_80\">\n    <!-- 0.001 -->\n    <g style=\"fill:#262626;\" transform=\"translate(453.351688 162.0647)scale(0.1 -0.1)\">\n     <use xlink:href=\"#DejaVuSans-48\"/>\n     <use x=\"63.623047\" xlink:href=\"#DejaVuSans-46\"/>\n     <use x=\"95.410156\" xlink:href=\"#DejaVuSans-48\"/>\n     <use x=\"159.033203\" xlink:href=\"#DejaVuSans-48\"/>\n     <use x=\"222.65625\" xlink:href=\"#DejaVuSans-49\"/>\n    </g>\n   </g>\n   <g id=\"text_81\">\n    <!-- 0.002 -->\n    <g style=\"fill:#262626;\" transform=\"translate(493.527688 162.0647)scale(0.1 -0.1)\">\n     <use xlink:href=\"#DejaVuSans-48\"/>\n     <use x=\"63.623047\" xlink:href=\"#DejaVuSans-46\"/>\n     <use x=\"95.410156\" xlink:href=\"#DejaVuSans-48\"/>\n     <use x=\"159.033203\" xlink:href=\"#DejaVuSans-48\"/>\n     <use x=\"222.65625\" xlink:href=\"#DejaVuSans-50\"/>\n    </g>\n   </g>\n   <g id=\"text_82\">\n    <!-- 0.001 -->\n    <g style=\"fill:#262626;\" transform=\"translate(533.703688 162.0647)scale(0.1 -0.1)\">\n     <use xlink:href=\"#DejaVuSans-48\"/>\n     <use x=\"63.623047\" xlink:href=\"#DejaVuSans-46\"/>\n     <use x=\"95.410156\" xlink:href=\"#DejaVuSans-48\"/>\n     <use x=\"159.033203\" xlink:href=\"#DejaVuSans-48\"/>\n     <use x=\"222.65625\" xlink:href=\"#DejaVuSans-49\"/>\n    </g>\n   </g>\n   <g id=\"text_83\">\n    <!-- 0.003 -->\n    <g style=\"fill:#ffffff;\" transform=\"translate(573.879688 162.0647)scale(0.1 -0.1)\">\n     <use xlink:href=\"#DejaVuSans-48\"/>\n     <use x=\"63.623047\" xlink:href=\"#DejaVuSans-46\"/>\n     <use x=\"95.410156\" xlink:href=\"#DejaVuSans-48\"/>\n     <use x=\"159.033203\" xlink:href=\"#DejaVuSans-48\"/>\n     <use x=\"222.65625\" xlink:href=\"#DejaVuSans-51\"/>\n    </g>\n   </g>\n   <g id=\"text_84\">\n    <!-- 0.001 -->\n    <g style=\"fill:#262626;\" transform=\"translate(614.055688 162.0647)scale(0.1 -0.1)\">\n     <use xlink:href=\"#DejaVuSans-48\"/>\n     <use x=\"63.623047\" xlink:href=\"#DejaVuSans-46\"/>\n     <use x=\"95.410156\" xlink:href=\"#DejaVuSans-48\"/>\n     <use x=\"159.033203\" xlink:href=\"#DejaVuSans-48\"/>\n     <use x=\"222.65625\" xlink:href=\"#DejaVuSans-49\"/>\n    </g>\n   </g>\n   <g id=\"text_85\">\n    <!-- 0.001 -->\n    <g style=\"fill:#262626;\" transform=\"translate(654.231688 162.0647)scale(0.1 -0.1)\">\n     <use xlink:href=\"#DejaVuSans-48\"/>\n     <use x=\"63.623047\" xlink:href=\"#DejaVuSans-46\"/>\n     <use x=\"95.410156\" xlink:href=\"#DejaVuSans-48\"/>\n     <use x=\"159.033203\" xlink:href=\"#DejaVuSans-48\"/>\n     <use x=\"222.65625\" xlink:href=\"#DejaVuSans-49\"/>\n    </g>\n   </g>\n   <g id=\"text_86\">\n    <!-- 0.002 -->\n    <g style=\"fill:#262626;\" transform=\"translate(694.407688 162.0647)scale(0.1 -0.1)\">\n     <use xlink:href=\"#DejaVuSans-48\"/>\n     <use x=\"63.623047\" xlink:href=\"#DejaVuSans-46\"/>\n     <use x=\"95.410156\" xlink:href=\"#DejaVuSans-48\"/>\n     <use x=\"159.033203\" xlink:href=\"#DejaVuSans-48\"/>\n     <use x=\"222.65625\" xlink:href=\"#DejaVuSans-50\"/>\n    </g>\n   </g>\n   <g id=\"text_87\">\n    <!-- 0.001 -->\n    <g style=\"fill:#262626;\" transform=\"translate(734.583688 162.0647)scale(0.1 -0.1)\">\n     <use xlink:href=\"#DejaVuSans-48\"/>\n     <use x=\"63.623047\" xlink:href=\"#DejaVuSans-46\"/>\n     <use x=\"95.410156\" xlink:href=\"#DejaVuSans-48\"/>\n     <use x=\"159.033203\" xlink:href=\"#DejaVuSans-48\"/>\n     <use x=\"222.65625\" xlink:href=\"#DejaVuSans-49\"/>\n    </g>\n   </g>\n   <g id=\"text_88\">\n    <!-- 0.003 -->\n    <g style=\"fill:#ffffff;\" transform=\"translate(91.767688 192.5063)scale(0.1 -0.1)\">\n     <use xlink:href=\"#DejaVuSans-48\"/>\n     <use x=\"63.623047\" xlink:href=\"#DejaVuSans-46\"/>\n     <use x=\"95.410156\" xlink:href=\"#DejaVuSans-48\"/>\n     <use x=\"159.033203\" xlink:href=\"#DejaVuSans-48\"/>\n     <use x=\"222.65625\" xlink:href=\"#DejaVuSans-51\"/>\n    </g>\n   </g>\n   <g id=\"text_89\">\n    <!-- 0.007 -->\n    <g style=\"fill:#ffffff;\" transform=\"translate(131.943688 192.5063)scale(0.1 -0.1)\">\n     <use xlink:href=\"#DejaVuSans-48\"/>\n     <use x=\"63.623047\" xlink:href=\"#DejaVuSans-46\"/>\n     <use x=\"95.410156\" xlink:href=\"#DejaVuSans-48\"/>\n     <use x=\"159.033203\" xlink:href=\"#DejaVuSans-48\"/>\n     <use x=\"222.65625\" xlink:href=\"#DejaVuSans-55\"/>\n    </g>\n   </g>\n   <g id=\"text_90\">\n    <!-- 0.003 -->\n    <g style=\"fill:#ffffff;\" transform=\"translate(172.119688 192.5063)scale(0.1 -0.1)\">\n     <use xlink:href=\"#DejaVuSans-48\"/>\n     <use x=\"63.623047\" xlink:href=\"#DejaVuSans-46\"/>\n     <use x=\"95.410156\" xlink:href=\"#DejaVuSans-48\"/>\n     <use x=\"159.033203\" xlink:href=\"#DejaVuSans-48\"/>\n     <use x=\"222.65625\" xlink:href=\"#DejaVuSans-51\"/>\n    </g>\n   </g>\n   <g id=\"text_91\">\n    <!-- 0.002 -->\n    <g style=\"fill:#262626;\" transform=\"translate(212.295688 192.5063)scale(0.1 -0.1)\">\n     <use xlink:href=\"#DejaVuSans-48\"/>\n     <use x=\"63.623047\" xlink:href=\"#DejaVuSans-46\"/>\n     <use x=\"95.410156\" xlink:href=\"#DejaVuSans-48\"/>\n     <use x=\"159.033203\" xlink:href=\"#DejaVuSans-48\"/>\n     <use x=\"222.65625\" xlink:href=\"#DejaVuSans-50\"/>\n    </g>\n   </g>\n   <g id=\"text_92\">\n    <!-- 0.001 -->\n    <g style=\"fill:#262626;\" transform=\"translate(252.471688 192.5063)scale(0.1 -0.1)\">\n     <use xlink:href=\"#DejaVuSans-48\"/>\n     <use x=\"63.623047\" xlink:href=\"#DejaVuSans-46\"/>\n     <use x=\"95.410156\" xlink:href=\"#DejaVuSans-48\"/>\n     <use x=\"159.033203\" xlink:href=\"#DejaVuSans-48\"/>\n     <use x=\"222.65625\" xlink:href=\"#DejaVuSans-49\"/>\n    </g>\n   </g>\n   <g id=\"text_93\">\n    <!-- 0.003 -->\n    <g style=\"fill:#ffffff;\" transform=\"translate(292.647688 192.5063)scale(0.1 -0.1)\">\n     <use xlink:href=\"#DejaVuSans-48\"/>\n     <use x=\"63.623047\" xlink:href=\"#DejaVuSans-46\"/>\n     <use x=\"95.410156\" xlink:href=\"#DejaVuSans-48\"/>\n     <use x=\"159.033203\" xlink:href=\"#DejaVuSans-48\"/>\n     <use x=\"222.65625\" xlink:href=\"#DejaVuSans-51\"/>\n    </g>\n   </g>\n   <g id=\"text_94\">\n    <!-- 0.003 -->\n    <g style=\"fill:#ffffff;\" transform=\"translate(332.823688 192.5063)scale(0.1 -0.1)\">\n     <use xlink:href=\"#DejaVuSans-48\"/>\n     <use x=\"63.623047\" xlink:href=\"#DejaVuSans-46\"/>\n     <use x=\"95.410156\" xlink:href=\"#DejaVuSans-48\"/>\n     <use x=\"159.033203\" xlink:href=\"#DejaVuSans-48\"/>\n     <use x=\"222.65625\" xlink:href=\"#DejaVuSans-51\"/>\n    </g>\n   </g>\n   <g id=\"text_95\">\n    <!-- 0.002 -->\n    <g style=\"fill:#262626;\" transform=\"translate(372.999688 192.5063)scale(0.1 -0.1)\">\n     <use xlink:href=\"#DejaVuSans-48\"/>\n     <use x=\"63.623047\" xlink:href=\"#DejaVuSans-46\"/>\n     <use x=\"95.410156\" xlink:href=\"#DejaVuSans-48\"/>\n     <use x=\"159.033203\" xlink:href=\"#DejaVuSans-48\"/>\n     <use x=\"222.65625\" xlink:href=\"#DejaVuSans-50\"/>\n    </g>\n   </g>\n   <g id=\"text_96\">\n    <!-- 0.003 -->\n    <g style=\"fill:#ffffff;\" transform=\"translate(413.175688 192.5063)scale(0.1 -0.1)\">\n     <use xlink:href=\"#DejaVuSans-48\"/>\n     <use x=\"63.623047\" xlink:href=\"#DejaVuSans-46\"/>\n     <use x=\"95.410156\" xlink:href=\"#DejaVuSans-48\"/>\n     <use x=\"159.033203\" xlink:href=\"#DejaVuSans-48\"/>\n     <use x=\"222.65625\" xlink:href=\"#DejaVuSans-51\"/>\n    </g>\n   </g>\n   <g id=\"text_97\">\n    <!-- 0.001 -->\n    <g style=\"fill:#262626;\" transform=\"translate(453.351688 192.5063)scale(0.1 -0.1)\">\n     <use xlink:href=\"#DejaVuSans-48\"/>\n     <use x=\"63.623047\" xlink:href=\"#DejaVuSans-46\"/>\n     <use x=\"95.410156\" xlink:href=\"#DejaVuSans-48\"/>\n     <use x=\"159.033203\" xlink:href=\"#DejaVuSans-48\"/>\n     <use x=\"222.65625\" xlink:href=\"#DejaVuSans-49\"/>\n    </g>\n   </g>\n   <g id=\"text_98\">\n    <!-- 0.003 -->\n    <g style=\"fill:#ffffff;\" transform=\"translate(493.527688 192.5063)scale(0.1 -0.1)\">\n     <use xlink:href=\"#DejaVuSans-48\"/>\n     <use x=\"63.623047\" xlink:href=\"#DejaVuSans-46\"/>\n     <use x=\"95.410156\" xlink:href=\"#DejaVuSans-48\"/>\n     <use x=\"159.033203\" xlink:href=\"#DejaVuSans-48\"/>\n     <use x=\"222.65625\" xlink:href=\"#DejaVuSans-51\"/>\n    </g>\n   </g>\n   <g id=\"text_99\">\n    <!-- 0.001 -->\n    <g style=\"fill:#262626;\" transform=\"translate(533.703688 192.5063)scale(0.1 -0.1)\">\n     <use xlink:href=\"#DejaVuSans-48\"/>\n     <use x=\"63.623047\" xlink:href=\"#DejaVuSans-46\"/>\n     <use x=\"95.410156\" xlink:href=\"#DejaVuSans-48\"/>\n     <use x=\"159.033203\" xlink:href=\"#DejaVuSans-48\"/>\n     <use x=\"222.65625\" xlink:href=\"#DejaVuSans-49\"/>\n    </g>\n   </g>\n   <g id=\"text_100\">\n    <!-- 0.001 -->\n    <g style=\"fill:#262626;\" transform=\"translate(573.879688 192.5063)scale(0.1 -0.1)\">\n     <use xlink:href=\"#DejaVuSans-48\"/>\n     <use x=\"63.623047\" xlink:href=\"#DejaVuSans-46\"/>\n     <use x=\"95.410156\" xlink:href=\"#DejaVuSans-48\"/>\n     <use x=\"159.033203\" xlink:href=\"#DejaVuSans-48\"/>\n     <use x=\"222.65625\" xlink:href=\"#DejaVuSans-49\"/>\n    </g>\n   </g>\n   <g id=\"text_101\">\n    <!-- 0.002 -->\n    <g style=\"fill:#262626;\" transform=\"translate(614.055688 192.5063)scale(0.1 -0.1)\">\n     <use xlink:href=\"#DejaVuSans-48\"/>\n     <use x=\"63.623047\" xlink:href=\"#DejaVuSans-46\"/>\n     <use x=\"95.410156\" xlink:href=\"#DejaVuSans-48\"/>\n     <use x=\"159.033203\" xlink:href=\"#DejaVuSans-48\"/>\n     <use x=\"222.65625\" xlink:href=\"#DejaVuSans-50\"/>\n    </g>\n   </g>\n   <g id=\"text_102\">\n    <!-- 0.001 -->\n    <g style=\"fill:#262626;\" transform=\"translate(654.231688 192.5063)scale(0.1 -0.1)\">\n     <use xlink:href=\"#DejaVuSans-48\"/>\n     <use x=\"63.623047\" xlink:href=\"#DejaVuSans-46\"/>\n     <use x=\"95.410156\" xlink:href=\"#DejaVuSans-48\"/>\n     <use x=\"159.033203\" xlink:href=\"#DejaVuSans-48\"/>\n     <use x=\"222.65625\" xlink:href=\"#DejaVuSans-49\"/>\n    </g>\n   </g>\n   <g id=\"text_103\">\n    <!-- 0.001 -->\n    <g style=\"fill:#262626;\" transform=\"translate(694.407688 192.5063)scale(0.1 -0.1)\">\n     <use xlink:href=\"#DejaVuSans-48\"/>\n     <use x=\"63.623047\" xlink:href=\"#DejaVuSans-46\"/>\n     <use x=\"95.410156\" xlink:href=\"#DejaVuSans-48\"/>\n     <use x=\"159.033203\" xlink:href=\"#DejaVuSans-48\"/>\n     <use x=\"222.65625\" xlink:href=\"#DejaVuSans-49\"/>\n    </g>\n   </g>\n   <g id=\"text_104\">\n    <!-- 0 -->\n    <g style=\"fill:#262626;\" transform=\"translate(745.7165 192.5063)scale(0.1 -0.1)\">\n     <use xlink:href=\"#DejaVuSans-48\"/>\n    </g>\n   </g>\n   <g id=\"text_105\">\n    <!-- 0.004 -->\n    <g style=\"fill:#ffffff;\" transform=\"translate(91.767688 222.9479)scale(0.1 -0.1)\">\n     <use xlink:href=\"#DejaVuSans-48\"/>\n     <use x=\"63.623047\" xlink:href=\"#DejaVuSans-46\"/>\n     <use x=\"95.410156\" xlink:href=\"#DejaVuSans-48\"/>\n     <use x=\"159.033203\" xlink:href=\"#DejaVuSans-48\"/>\n     <use x=\"222.65625\" xlink:href=\"#DejaVuSans-52\"/>\n    </g>\n   </g>\n   <g id=\"text_106\">\n    <!-- 0.003 -->\n    <g style=\"fill:#ffffff;\" transform=\"translate(131.943688 222.9479)scale(0.1 -0.1)\">\n     <use xlink:href=\"#DejaVuSans-48\"/>\n     <use x=\"63.623047\" xlink:href=\"#DejaVuSans-46\"/>\n     <use x=\"95.410156\" xlink:href=\"#DejaVuSans-48\"/>\n     <use x=\"159.033203\" xlink:href=\"#DejaVuSans-48\"/>\n     <use x=\"222.65625\" xlink:href=\"#DejaVuSans-51\"/>\n    </g>\n   </g>\n   <g id=\"text_107\">\n    <!-- 0 -->\n    <g style=\"fill:#262626;\" transform=\"translate(183.2525 222.9479)scale(0.1 -0.1)\">\n     <use xlink:href=\"#DejaVuSans-48\"/>\n    </g>\n   </g>\n   <g id=\"text_108\">\n    <!-- 0.004 -->\n    <g style=\"fill:#ffffff;\" transform=\"translate(212.295688 222.9479)scale(0.1 -0.1)\">\n     <use xlink:href=\"#DejaVuSans-48\"/>\n     <use x=\"63.623047\" xlink:href=\"#DejaVuSans-46\"/>\n     <use x=\"95.410156\" xlink:href=\"#DejaVuSans-48\"/>\n     <use x=\"159.033203\" xlink:href=\"#DejaVuSans-48\"/>\n     <use x=\"222.65625\" xlink:href=\"#DejaVuSans-52\"/>\n    </g>\n   </g>\n   <g id=\"text_109\">\n    <!-- 0.004 -->\n    <g style=\"fill:#ffffff;\" transform=\"translate(252.471688 222.9479)scale(0.1 -0.1)\">\n     <use xlink:href=\"#DejaVuSans-48\"/>\n     <use x=\"63.623047\" xlink:href=\"#DejaVuSans-46\"/>\n     <use x=\"95.410156\" xlink:href=\"#DejaVuSans-48\"/>\n     <use x=\"159.033203\" xlink:href=\"#DejaVuSans-48\"/>\n     <use x=\"222.65625\" xlink:href=\"#DejaVuSans-52\"/>\n    </g>\n   </g>\n   <g id=\"text_110\">\n    <!-- 0.002 -->\n    <g style=\"fill:#262626;\" transform=\"translate(292.647688 222.9479)scale(0.1 -0.1)\">\n     <use xlink:href=\"#DejaVuSans-48\"/>\n     <use x=\"63.623047\" xlink:href=\"#DejaVuSans-46\"/>\n     <use x=\"95.410156\" xlink:href=\"#DejaVuSans-48\"/>\n     <use x=\"159.033203\" xlink:href=\"#DejaVuSans-48\"/>\n     <use x=\"222.65625\" xlink:href=\"#DejaVuSans-50\"/>\n    </g>\n   </g>\n   <g id=\"text_111\">\n    <!-- 0.003 -->\n    <g style=\"fill:#ffffff;\" transform=\"translate(332.823688 222.9479)scale(0.1 -0.1)\">\n     <use xlink:href=\"#DejaVuSans-48\"/>\n     <use x=\"63.623047\" xlink:href=\"#DejaVuSans-46\"/>\n     <use x=\"95.410156\" xlink:href=\"#DejaVuSans-48\"/>\n     <use x=\"159.033203\" xlink:href=\"#DejaVuSans-48\"/>\n     <use x=\"222.65625\" xlink:href=\"#DejaVuSans-51\"/>\n    </g>\n   </g>\n   <g id=\"text_112\">\n    <!-- 0.002 -->\n    <g style=\"fill:#262626;\" transform=\"translate(372.999688 222.9479)scale(0.1 -0.1)\">\n     <use xlink:href=\"#DejaVuSans-48\"/>\n     <use x=\"63.623047\" xlink:href=\"#DejaVuSans-46\"/>\n     <use x=\"95.410156\" xlink:href=\"#DejaVuSans-48\"/>\n     <use x=\"159.033203\" xlink:href=\"#DejaVuSans-48\"/>\n     <use x=\"222.65625\" xlink:href=\"#DejaVuSans-50\"/>\n    </g>\n   </g>\n   <g id=\"text_113\">\n    <!-- 0.003 -->\n    <g style=\"fill:#ffffff;\" transform=\"translate(413.175688 222.9479)scale(0.1 -0.1)\">\n     <use xlink:href=\"#DejaVuSans-48\"/>\n     <use x=\"63.623047\" xlink:href=\"#DejaVuSans-46\"/>\n     <use x=\"95.410156\" xlink:href=\"#DejaVuSans-48\"/>\n     <use x=\"159.033203\" xlink:href=\"#DejaVuSans-48\"/>\n     <use x=\"222.65625\" xlink:href=\"#DejaVuSans-51\"/>\n    </g>\n   </g>\n   <g id=\"text_114\">\n    <!-- 0.001 -->\n    <g style=\"fill:#262626;\" transform=\"translate(453.351688 222.9479)scale(0.1 -0.1)\">\n     <use xlink:href=\"#DejaVuSans-48\"/>\n     <use x=\"63.623047\" xlink:href=\"#DejaVuSans-46\"/>\n     <use x=\"95.410156\" xlink:href=\"#DejaVuSans-48\"/>\n     <use x=\"159.033203\" xlink:href=\"#DejaVuSans-48\"/>\n     <use x=\"222.65625\" xlink:href=\"#DejaVuSans-49\"/>\n    </g>\n   </g>\n   <g id=\"text_115\">\n    <!-- 0 -->\n    <g style=\"fill:#262626;\" transform=\"translate(504.6605 222.9479)scale(0.1 -0.1)\">\n     <use xlink:href=\"#DejaVuSans-48\"/>\n    </g>\n   </g>\n   <g id=\"text_116\">\n    <!-- 0 -->\n    <g style=\"fill:#262626;\" transform=\"translate(544.8365 222.9479)scale(0.1 -0.1)\">\n     <use xlink:href=\"#DejaVuSans-48\"/>\n    </g>\n   </g>\n   <g id=\"text_117\">\n    <!-- 0.001 -->\n    <g style=\"fill:#262626;\" transform=\"translate(573.879688 222.9479)scale(0.1 -0.1)\">\n     <use xlink:href=\"#DejaVuSans-48\"/>\n     <use x=\"63.623047\" xlink:href=\"#DejaVuSans-46\"/>\n     <use x=\"95.410156\" xlink:href=\"#DejaVuSans-48\"/>\n     <use x=\"159.033203\" xlink:href=\"#DejaVuSans-48\"/>\n     <use x=\"222.65625\" xlink:href=\"#DejaVuSans-49\"/>\n    </g>\n   </g>\n   <g id=\"text_118\">\n    <!-- 0 -->\n    <g style=\"fill:#262626;\" transform=\"translate(625.1885 222.9479)scale(0.1 -0.1)\">\n     <use xlink:href=\"#DejaVuSans-48\"/>\n    </g>\n   </g>\n   <g id=\"text_119\">\n    <!-- 0.003 -->\n    <g style=\"fill:#ffffff;\" transform=\"translate(654.231688 222.9479)scale(0.1 -0.1)\">\n     <use xlink:href=\"#DejaVuSans-48\"/>\n     <use x=\"63.623047\" xlink:href=\"#DejaVuSans-46\"/>\n     <use x=\"95.410156\" xlink:href=\"#DejaVuSans-48\"/>\n     <use x=\"159.033203\" xlink:href=\"#DejaVuSans-48\"/>\n     <use x=\"222.65625\" xlink:href=\"#DejaVuSans-51\"/>\n    </g>\n   </g>\n   <g id=\"text_120\">\n    <!-- 0 -->\n    <g style=\"fill:#262626;\" transform=\"translate(705.5405 222.9479)scale(0.1 -0.1)\">\n     <use xlink:href=\"#DejaVuSans-48\"/>\n    </g>\n   </g>\n   <g id=\"text_121\">\n    <!-- 0.005 -->\n    <g style=\"fill:#ffffff;\" transform=\"translate(91.767688 253.3895)scale(0.1 -0.1)\">\n     <use xlink:href=\"#DejaVuSans-48\"/>\n     <use x=\"63.623047\" xlink:href=\"#DejaVuSans-46\"/>\n     <use x=\"95.410156\" xlink:href=\"#DejaVuSans-48\"/>\n     <use x=\"159.033203\" xlink:href=\"#DejaVuSans-48\"/>\n     <use x=\"222.65625\" xlink:href=\"#DejaVuSans-53\"/>\n    </g>\n   </g>\n   <g id=\"text_122\">\n    <!-- 0.005 -->\n    <g style=\"fill:#ffffff;\" transform=\"translate(131.943688 253.3895)scale(0.1 -0.1)\">\n     <use xlink:href=\"#DejaVuSans-48\"/>\n     <use x=\"63.623047\" xlink:href=\"#DejaVuSans-46\"/>\n     <use x=\"95.410156\" xlink:href=\"#DejaVuSans-48\"/>\n     <use x=\"159.033203\" xlink:href=\"#DejaVuSans-48\"/>\n     <use x=\"222.65625\" xlink:href=\"#DejaVuSans-53\"/>\n    </g>\n   </g>\n   <g id=\"text_123\">\n    <!-- 0.004 -->\n    <g style=\"fill:#ffffff;\" transform=\"translate(172.119688 253.3895)scale(0.1 -0.1)\">\n     <use xlink:href=\"#DejaVuSans-48\"/>\n     <use x=\"63.623047\" xlink:href=\"#DejaVuSans-46\"/>\n     <use x=\"95.410156\" xlink:href=\"#DejaVuSans-48\"/>\n     <use x=\"159.033203\" xlink:href=\"#DejaVuSans-48\"/>\n     <use x=\"222.65625\" xlink:href=\"#DejaVuSans-52\"/>\n    </g>\n   </g>\n   <g id=\"text_124\">\n    <!-- 0.003 -->\n    <g style=\"fill:#ffffff;\" transform=\"translate(212.295688 253.3895)scale(0.1 -0.1)\">\n     <use xlink:href=\"#DejaVuSans-48\"/>\n     <use x=\"63.623047\" xlink:href=\"#DejaVuSans-46\"/>\n     <use x=\"95.410156\" xlink:href=\"#DejaVuSans-48\"/>\n     <use x=\"159.033203\" xlink:href=\"#DejaVuSans-48\"/>\n     <use x=\"222.65625\" xlink:href=\"#DejaVuSans-51\"/>\n    </g>\n   </g>\n   <g id=\"text_125\">\n    <!-- 0.004 -->\n    <g style=\"fill:#ffffff;\" transform=\"translate(252.471688 253.3895)scale(0.1 -0.1)\">\n     <use xlink:href=\"#DejaVuSans-48\"/>\n     <use x=\"63.623047\" xlink:href=\"#DejaVuSans-46\"/>\n     <use x=\"95.410156\" xlink:href=\"#DejaVuSans-48\"/>\n     <use x=\"159.033203\" xlink:href=\"#DejaVuSans-48\"/>\n     <use x=\"222.65625\" xlink:href=\"#DejaVuSans-52\"/>\n    </g>\n   </g>\n   <g id=\"text_126\">\n    <!-- 0.004 -->\n    <g style=\"fill:#ffffff;\" transform=\"translate(292.647688 253.3895)scale(0.1 -0.1)\">\n     <use xlink:href=\"#DejaVuSans-48\"/>\n     <use x=\"63.623047\" xlink:href=\"#DejaVuSans-46\"/>\n     <use x=\"95.410156\" xlink:href=\"#DejaVuSans-48\"/>\n     <use x=\"159.033203\" xlink:href=\"#DejaVuSans-48\"/>\n     <use x=\"222.65625\" xlink:href=\"#DejaVuSans-52\"/>\n    </g>\n   </g>\n   <g id=\"text_127\">\n    <!-- 0.001 -->\n    <g style=\"fill:#262626;\" transform=\"translate(332.823688 253.3895)scale(0.1 -0.1)\">\n     <use xlink:href=\"#DejaVuSans-48\"/>\n     <use x=\"63.623047\" xlink:href=\"#DejaVuSans-46\"/>\n     <use x=\"95.410156\" xlink:href=\"#DejaVuSans-48\"/>\n     <use x=\"159.033203\" xlink:href=\"#DejaVuSans-48\"/>\n     <use x=\"222.65625\" xlink:href=\"#DejaVuSans-49\"/>\n    </g>\n   </g>\n   <g id=\"text_128\">\n    <!-- 0.003 -->\n    <g style=\"fill:#ffffff;\" transform=\"translate(372.999688 253.3895)scale(0.1 -0.1)\">\n     <use xlink:href=\"#DejaVuSans-48\"/>\n     <use x=\"63.623047\" xlink:href=\"#DejaVuSans-46\"/>\n     <use x=\"95.410156\" xlink:href=\"#DejaVuSans-48\"/>\n     <use x=\"159.033203\" xlink:href=\"#DejaVuSans-48\"/>\n     <use x=\"222.65625\" xlink:href=\"#DejaVuSans-51\"/>\n    </g>\n   </g>\n   <g id=\"text_129\">\n    <!-- 0.003 -->\n    <g style=\"fill:#ffffff;\" transform=\"translate(413.175688 253.3895)scale(0.1 -0.1)\">\n     <use xlink:href=\"#DejaVuSans-48\"/>\n     <use x=\"63.623047\" xlink:href=\"#DejaVuSans-46\"/>\n     <use x=\"95.410156\" xlink:href=\"#DejaVuSans-48\"/>\n     <use x=\"159.033203\" xlink:href=\"#DejaVuSans-48\"/>\n     <use x=\"222.65625\" xlink:href=\"#DejaVuSans-51\"/>\n    </g>\n   </g>\n   <g id=\"text_130\">\n    <!-- 0.003 -->\n    <g style=\"fill:#ffffff;\" transform=\"translate(453.351688 253.3895)scale(0.1 -0.1)\">\n     <use xlink:href=\"#DejaVuSans-48\"/>\n     <use x=\"63.623047\" xlink:href=\"#DejaVuSans-46\"/>\n     <use x=\"95.410156\" xlink:href=\"#DejaVuSans-48\"/>\n     <use x=\"159.033203\" xlink:href=\"#DejaVuSans-48\"/>\n     <use x=\"222.65625\" xlink:href=\"#DejaVuSans-51\"/>\n    </g>\n   </g>\n   <g id=\"text_131\">\n    <!-- 0.002 -->\n    <g style=\"fill:#262626;\" transform=\"translate(493.527688 253.3895)scale(0.1 -0.1)\">\n     <use xlink:href=\"#DejaVuSans-48\"/>\n     <use x=\"63.623047\" xlink:href=\"#DejaVuSans-46\"/>\n     <use x=\"95.410156\" xlink:href=\"#DejaVuSans-48\"/>\n     <use x=\"159.033203\" xlink:href=\"#DejaVuSans-48\"/>\n     <use x=\"222.65625\" xlink:href=\"#DejaVuSans-50\"/>\n    </g>\n   </g>\n   <g id=\"text_132\">\n    <!-- 0.002 -->\n    <g style=\"fill:#262626;\" transform=\"translate(533.703688 253.3895)scale(0.1 -0.1)\">\n     <use xlink:href=\"#DejaVuSans-48\"/>\n     <use x=\"63.623047\" xlink:href=\"#DejaVuSans-46\"/>\n     <use x=\"95.410156\" xlink:href=\"#DejaVuSans-48\"/>\n     <use x=\"159.033203\" xlink:href=\"#DejaVuSans-48\"/>\n     <use x=\"222.65625\" xlink:href=\"#DejaVuSans-50\"/>\n    </g>\n   </g>\n   <g id=\"text_133\">\n    <!-- 0.001 -->\n    <g style=\"fill:#262626;\" transform=\"translate(573.879688 253.3895)scale(0.1 -0.1)\">\n     <use xlink:href=\"#DejaVuSans-48\"/>\n     <use x=\"63.623047\" xlink:href=\"#DejaVuSans-46\"/>\n     <use x=\"95.410156\" xlink:href=\"#DejaVuSans-48\"/>\n     <use x=\"159.033203\" xlink:href=\"#DejaVuSans-48\"/>\n     <use x=\"222.65625\" xlink:href=\"#DejaVuSans-49\"/>\n    </g>\n   </g>\n   <g id=\"text_134\">\n    <!-- 0.003 -->\n    <g style=\"fill:#ffffff;\" transform=\"translate(614.055688 253.3895)scale(0.1 -0.1)\">\n     <use xlink:href=\"#DejaVuSans-48\"/>\n     <use x=\"63.623047\" xlink:href=\"#DejaVuSans-46\"/>\n     <use x=\"95.410156\" xlink:href=\"#DejaVuSans-48\"/>\n     <use x=\"159.033203\" xlink:href=\"#DejaVuSans-48\"/>\n     <use x=\"222.65625\" xlink:href=\"#DejaVuSans-51\"/>\n    </g>\n   </g>\n   <g id=\"text_135\">\n    <!-- 0.001 -->\n    <g style=\"fill:#262626;\" transform=\"translate(654.231688 253.3895)scale(0.1 -0.1)\">\n     <use xlink:href=\"#DejaVuSans-48\"/>\n     <use x=\"63.623047\" xlink:href=\"#DejaVuSans-46\"/>\n     <use x=\"95.410156\" xlink:href=\"#DejaVuSans-48\"/>\n     <use x=\"159.033203\" xlink:href=\"#DejaVuSans-48\"/>\n     <use x=\"222.65625\" xlink:href=\"#DejaVuSans-49\"/>\n    </g>\n   </g>\n   <g id=\"text_136\">\n    <!-- 0 -->\n    <g style=\"fill:#262626;\" transform=\"translate(705.5405 253.3895)scale(0.1 -0.1)\">\n     <use xlink:href=\"#DejaVuSans-48\"/>\n    </g>\n   </g>\n   <g id=\"text_137\">\n    <!-- 0.004 -->\n    <g style=\"fill:#ffffff;\" transform=\"translate(91.767688 283.8311)scale(0.1 -0.1)\">\n     <use xlink:href=\"#DejaVuSans-48\"/>\n     <use x=\"63.623047\" xlink:href=\"#DejaVuSans-46\"/>\n     <use x=\"95.410156\" xlink:href=\"#DejaVuSans-48\"/>\n     <use x=\"159.033203\" xlink:href=\"#DejaVuSans-48\"/>\n     <use x=\"222.65625\" xlink:href=\"#DejaVuSans-52\"/>\n    </g>\n   </g>\n   <g id=\"text_138\">\n    <!-- 0.005 -->\n    <g style=\"fill:#ffffff;\" transform=\"translate(131.943688 283.8311)scale(0.1 -0.1)\">\n     <use xlink:href=\"#DejaVuSans-48\"/>\n     <use x=\"63.623047\" xlink:href=\"#DejaVuSans-46\"/>\n     <use x=\"95.410156\" xlink:href=\"#DejaVuSans-48\"/>\n     <use x=\"159.033203\" xlink:href=\"#DejaVuSans-48\"/>\n     <use x=\"222.65625\" xlink:href=\"#DejaVuSans-53\"/>\n    </g>\n   </g>\n   <g id=\"text_139\">\n    <!-- 0.003 -->\n    <g style=\"fill:#ffffff;\" transform=\"translate(172.119688 283.8311)scale(0.1 -0.1)\">\n     <use xlink:href=\"#DejaVuSans-48\"/>\n     <use x=\"63.623047\" xlink:href=\"#DejaVuSans-46\"/>\n     <use x=\"95.410156\" xlink:href=\"#DejaVuSans-48\"/>\n     <use x=\"159.033203\" xlink:href=\"#DejaVuSans-48\"/>\n     <use x=\"222.65625\" xlink:href=\"#DejaVuSans-51\"/>\n    </g>\n   </g>\n   <g id=\"text_140\">\n    <!-- 0.002 -->\n    <g style=\"fill:#262626;\" transform=\"translate(212.295688 283.8311)scale(0.1 -0.1)\">\n     <use xlink:href=\"#DejaVuSans-48\"/>\n     <use x=\"63.623047\" xlink:href=\"#DejaVuSans-46\"/>\n     <use x=\"95.410156\" xlink:href=\"#DejaVuSans-48\"/>\n     <use x=\"159.033203\" xlink:href=\"#DejaVuSans-48\"/>\n     <use x=\"222.65625\" xlink:href=\"#DejaVuSans-50\"/>\n    </g>\n   </g>\n   <g id=\"text_141\">\n    <!-- 0.005 -->\n    <g style=\"fill:#ffffff;\" transform=\"translate(252.471688 283.8311)scale(0.1 -0.1)\">\n     <use xlink:href=\"#DejaVuSans-48\"/>\n     <use x=\"63.623047\" xlink:href=\"#DejaVuSans-46\"/>\n     <use x=\"95.410156\" xlink:href=\"#DejaVuSans-48\"/>\n     <use x=\"159.033203\" xlink:href=\"#DejaVuSans-48\"/>\n     <use x=\"222.65625\" xlink:href=\"#DejaVuSans-53\"/>\n    </g>\n   </g>\n   <g id=\"text_142\">\n    <!-- 0.003 -->\n    <g style=\"fill:#ffffff;\" transform=\"translate(292.647688 283.8311)scale(0.1 -0.1)\">\n     <use xlink:href=\"#DejaVuSans-48\"/>\n     <use x=\"63.623047\" xlink:href=\"#DejaVuSans-46\"/>\n     <use x=\"95.410156\" xlink:href=\"#DejaVuSans-48\"/>\n     <use x=\"159.033203\" xlink:href=\"#DejaVuSans-48\"/>\n     <use x=\"222.65625\" xlink:href=\"#DejaVuSans-51\"/>\n    </g>\n   </g>\n   <g id=\"text_143\">\n    <!-- 0.001 -->\n    <g style=\"fill:#262626;\" transform=\"translate(332.823688 283.8311)scale(0.1 -0.1)\">\n     <use xlink:href=\"#DejaVuSans-48\"/>\n     <use x=\"63.623047\" xlink:href=\"#DejaVuSans-46\"/>\n     <use x=\"95.410156\" xlink:href=\"#DejaVuSans-48\"/>\n     <use x=\"159.033203\" xlink:href=\"#DejaVuSans-48\"/>\n     <use x=\"222.65625\" xlink:href=\"#DejaVuSans-49\"/>\n    </g>\n   </g>\n   <g id=\"text_144\">\n    <!-- 0.002 -->\n    <g style=\"fill:#262626;\" transform=\"translate(372.999688 283.8311)scale(0.1 -0.1)\">\n     <use xlink:href=\"#DejaVuSans-48\"/>\n     <use x=\"63.623047\" xlink:href=\"#DejaVuSans-46\"/>\n     <use x=\"95.410156\" xlink:href=\"#DejaVuSans-48\"/>\n     <use x=\"159.033203\" xlink:href=\"#DejaVuSans-48\"/>\n     <use x=\"222.65625\" xlink:href=\"#DejaVuSans-50\"/>\n    </g>\n   </g>\n   <g id=\"text_145\">\n    <!-- 0.003 -->\n    <g style=\"fill:#ffffff;\" transform=\"translate(413.175688 283.8311)scale(0.1 -0.1)\">\n     <use xlink:href=\"#DejaVuSans-48\"/>\n     <use x=\"63.623047\" xlink:href=\"#DejaVuSans-46\"/>\n     <use x=\"95.410156\" xlink:href=\"#DejaVuSans-48\"/>\n     <use x=\"159.033203\" xlink:href=\"#DejaVuSans-48\"/>\n     <use x=\"222.65625\" xlink:href=\"#DejaVuSans-51\"/>\n    </g>\n   </g>\n   <g id=\"text_146\">\n    <!-- 0.003 -->\n    <g style=\"fill:#ffffff;\" transform=\"translate(453.351688 283.8311)scale(0.1 -0.1)\">\n     <use xlink:href=\"#DejaVuSans-48\"/>\n     <use x=\"63.623047\" xlink:href=\"#DejaVuSans-46\"/>\n     <use x=\"95.410156\" xlink:href=\"#DejaVuSans-48\"/>\n     <use x=\"159.033203\" xlink:href=\"#DejaVuSans-48\"/>\n     <use x=\"222.65625\" xlink:href=\"#DejaVuSans-51\"/>\n    </g>\n   </g>\n   <g id=\"text_147\">\n    <!-- 0.002 -->\n    <g style=\"fill:#262626;\" transform=\"translate(493.527688 283.8311)scale(0.1 -0.1)\">\n     <use xlink:href=\"#DejaVuSans-48\"/>\n     <use x=\"63.623047\" xlink:href=\"#DejaVuSans-46\"/>\n     <use x=\"95.410156\" xlink:href=\"#DejaVuSans-48\"/>\n     <use x=\"159.033203\" xlink:href=\"#DejaVuSans-48\"/>\n     <use x=\"222.65625\" xlink:href=\"#DejaVuSans-50\"/>\n    </g>\n   </g>\n   <g id=\"text_148\">\n    <!-- 0.001 -->\n    <g style=\"fill:#262626;\" transform=\"translate(533.703688 283.8311)scale(0.1 -0.1)\">\n     <use xlink:href=\"#DejaVuSans-48\"/>\n     <use x=\"63.623047\" xlink:href=\"#DejaVuSans-46\"/>\n     <use x=\"95.410156\" xlink:href=\"#DejaVuSans-48\"/>\n     <use x=\"159.033203\" xlink:href=\"#DejaVuSans-48\"/>\n     <use x=\"222.65625\" xlink:href=\"#DejaVuSans-49\"/>\n    </g>\n   </g>\n   <g id=\"text_149\">\n    <!-- 0.002 -->\n    <g style=\"fill:#262626;\" transform=\"translate(573.879688 283.8311)scale(0.1 -0.1)\">\n     <use xlink:href=\"#DejaVuSans-48\"/>\n     <use x=\"63.623047\" xlink:href=\"#DejaVuSans-46\"/>\n     <use x=\"95.410156\" xlink:href=\"#DejaVuSans-48\"/>\n     <use x=\"159.033203\" xlink:href=\"#DejaVuSans-48\"/>\n     <use x=\"222.65625\" xlink:href=\"#DejaVuSans-50\"/>\n    </g>\n   </g>\n   <g id=\"text_150\">\n    <!-- 0.001 -->\n    <g style=\"fill:#262626;\" transform=\"translate(614.055688 283.8311)scale(0.1 -0.1)\">\n     <use xlink:href=\"#DejaVuSans-48\"/>\n     <use x=\"63.623047\" xlink:href=\"#DejaVuSans-46\"/>\n     <use x=\"95.410156\" xlink:href=\"#DejaVuSans-48\"/>\n     <use x=\"159.033203\" xlink:href=\"#DejaVuSans-48\"/>\n     <use x=\"222.65625\" xlink:href=\"#DejaVuSans-49\"/>\n    </g>\n   </g>\n   <g id=\"text_151\">\n    <!-- 0 -->\n    <g style=\"fill:#262626;\" transform=\"translate(665.3645 283.8311)scale(0.1 -0.1)\">\n     <use xlink:href=\"#DejaVuSans-48\"/>\n    </g>\n   </g>\n   <g id=\"text_152\">\n    <!-- 0.004 -->\n    <g style=\"fill:#ffffff;\" transform=\"translate(91.767688 314.2727)scale(0.1 -0.1)\">\n     <use xlink:href=\"#DejaVuSans-48\"/>\n     <use x=\"63.623047\" xlink:href=\"#DejaVuSans-46\"/>\n     <use x=\"95.410156\" xlink:href=\"#DejaVuSans-48\"/>\n     <use x=\"159.033203\" xlink:href=\"#DejaVuSans-48\"/>\n     <use x=\"222.65625\" xlink:href=\"#DejaVuSans-52\"/>\n    </g>\n   </g>\n   <g id=\"text_153\">\n    <!-- 0.003 -->\n    <g style=\"fill:#ffffff;\" transform=\"translate(131.943688 314.2727)scale(0.1 -0.1)\">\n     <use xlink:href=\"#DejaVuSans-48\"/>\n     <use x=\"63.623047\" xlink:href=\"#DejaVuSans-46\"/>\n     <use x=\"95.410156\" xlink:href=\"#DejaVuSans-48\"/>\n     <use x=\"159.033203\" xlink:href=\"#DejaVuSans-48\"/>\n     <use x=\"222.65625\" xlink:href=\"#DejaVuSans-51\"/>\n    </g>\n   </g>\n   <g id=\"text_154\">\n    <!-- 0.003 -->\n    <g style=\"fill:#ffffff;\" transform=\"translate(172.119688 314.2727)scale(0.1 -0.1)\">\n     <use xlink:href=\"#DejaVuSans-48\"/>\n     <use x=\"63.623047\" xlink:href=\"#DejaVuSans-46\"/>\n     <use x=\"95.410156\" xlink:href=\"#DejaVuSans-48\"/>\n     <use x=\"159.033203\" xlink:href=\"#DejaVuSans-48\"/>\n     <use x=\"222.65625\" xlink:href=\"#DejaVuSans-51\"/>\n    </g>\n   </g>\n   <g id=\"text_155\">\n    <!-- 0.004 -->\n    <g style=\"fill:#ffffff;\" transform=\"translate(212.295688 314.2727)scale(0.1 -0.1)\">\n     <use xlink:href=\"#DejaVuSans-48\"/>\n     <use x=\"63.623047\" xlink:href=\"#DejaVuSans-46\"/>\n     <use x=\"95.410156\" xlink:href=\"#DejaVuSans-48\"/>\n     <use x=\"159.033203\" xlink:href=\"#DejaVuSans-48\"/>\n     <use x=\"222.65625\" xlink:href=\"#DejaVuSans-52\"/>\n    </g>\n   </g>\n   <g id=\"text_156\">\n    <!-- 0.002 -->\n    <g style=\"fill:#262626;\" transform=\"translate(252.471688 314.2727)scale(0.1 -0.1)\">\n     <use xlink:href=\"#DejaVuSans-48\"/>\n     <use x=\"63.623047\" xlink:href=\"#DejaVuSans-46\"/>\n     <use x=\"95.410156\" xlink:href=\"#DejaVuSans-48\"/>\n     <use x=\"159.033203\" xlink:href=\"#DejaVuSans-48\"/>\n     <use x=\"222.65625\" xlink:href=\"#DejaVuSans-50\"/>\n    </g>\n   </g>\n   <g id=\"text_157\">\n    <!-- 0.002 -->\n    <g style=\"fill:#262626;\" transform=\"translate(292.647688 314.2727)scale(0.1 -0.1)\">\n     <use xlink:href=\"#DejaVuSans-48\"/>\n     <use x=\"63.623047\" xlink:href=\"#DejaVuSans-46\"/>\n     <use x=\"95.410156\" xlink:href=\"#DejaVuSans-48\"/>\n     <use x=\"159.033203\" xlink:href=\"#DejaVuSans-48\"/>\n     <use x=\"222.65625\" xlink:href=\"#DejaVuSans-50\"/>\n    </g>\n   </g>\n   <g id=\"text_158\">\n    <!-- 0.002 -->\n    <g style=\"fill:#262626;\" transform=\"translate(332.823688 314.2727)scale(0.1 -0.1)\">\n     <use xlink:href=\"#DejaVuSans-48\"/>\n     <use x=\"63.623047\" xlink:href=\"#DejaVuSans-46\"/>\n     <use x=\"95.410156\" xlink:href=\"#DejaVuSans-48\"/>\n     <use x=\"159.033203\" xlink:href=\"#DejaVuSans-48\"/>\n     <use x=\"222.65625\" xlink:href=\"#DejaVuSans-50\"/>\n    </g>\n   </g>\n   <g id=\"text_159\">\n    <!-- 0.002 -->\n    <g style=\"fill:#262626;\" transform=\"translate(372.999688 314.2727)scale(0.1 -0.1)\">\n     <use xlink:href=\"#DejaVuSans-48\"/>\n     <use x=\"63.623047\" xlink:href=\"#DejaVuSans-46\"/>\n     <use x=\"95.410156\" xlink:href=\"#DejaVuSans-48\"/>\n     <use x=\"159.033203\" xlink:href=\"#DejaVuSans-48\"/>\n     <use x=\"222.65625\" xlink:href=\"#DejaVuSans-50\"/>\n    </g>\n   </g>\n   <g id=\"text_160\">\n    <!-- 0.003 -->\n    <g style=\"fill:#ffffff;\" transform=\"translate(413.175688 314.2727)scale(0.1 -0.1)\">\n     <use xlink:href=\"#DejaVuSans-48\"/>\n     <use x=\"63.623047\" xlink:href=\"#DejaVuSans-46\"/>\n     <use x=\"95.410156\" xlink:href=\"#DejaVuSans-48\"/>\n     <use x=\"159.033203\" xlink:href=\"#DejaVuSans-48\"/>\n     <use x=\"222.65625\" xlink:href=\"#DejaVuSans-51\"/>\n    </g>\n   </g>\n   <g id=\"text_161\">\n    <!-- 0.003 -->\n    <g style=\"fill:#ffffff;\" transform=\"translate(453.351688 314.2727)scale(0.1 -0.1)\">\n     <use xlink:href=\"#DejaVuSans-48\"/>\n     <use x=\"63.623047\" xlink:href=\"#DejaVuSans-46\"/>\n     <use x=\"95.410156\" xlink:href=\"#DejaVuSans-48\"/>\n     <use x=\"159.033203\" xlink:href=\"#DejaVuSans-48\"/>\n     <use x=\"222.65625\" xlink:href=\"#DejaVuSans-51\"/>\n    </g>\n   </g>\n   <g id=\"text_162\">\n    <!-- 0.002 -->\n    <g style=\"fill:#262626;\" transform=\"translate(493.527688 314.2727)scale(0.1 -0.1)\">\n     <use xlink:href=\"#DejaVuSans-48\"/>\n     <use x=\"63.623047\" xlink:href=\"#DejaVuSans-46\"/>\n     <use x=\"95.410156\" xlink:href=\"#DejaVuSans-48\"/>\n     <use x=\"159.033203\" xlink:href=\"#DejaVuSans-48\"/>\n     <use x=\"222.65625\" xlink:href=\"#DejaVuSans-50\"/>\n    </g>\n   </g>\n   <g id=\"text_163\">\n    <!-- 0.003 -->\n    <g style=\"fill:#ffffff;\" transform=\"translate(533.703688 314.2727)scale(0.1 -0.1)\">\n     <use xlink:href=\"#DejaVuSans-48\"/>\n     <use x=\"63.623047\" xlink:href=\"#DejaVuSans-46\"/>\n     <use x=\"95.410156\" xlink:href=\"#DejaVuSans-48\"/>\n     <use x=\"159.033203\" xlink:href=\"#DejaVuSans-48\"/>\n     <use x=\"222.65625\" xlink:href=\"#DejaVuSans-51\"/>\n    </g>\n   </g>\n   <g id=\"text_164\">\n    <!-- 0.001 -->\n    <g style=\"fill:#262626;\" transform=\"translate(573.879688 314.2727)scale(0.1 -0.1)\">\n     <use xlink:href=\"#DejaVuSans-48\"/>\n     <use x=\"63.623047\" xlink:href=\"#DejaVuSans-46\"/>\n     <use x=\"95.410156\" xlink:href=\"#DejaVuSans-48\"/>\n     <use x=\"159.033203\" xlink:href=\"#DejaVuSans-48\"/>\n     <use x=\"222.65625\" xlink:href=\"#DejaVuSans-49\"/>\n    </g>\n   </g>\n   <g id=\"text_165\">\n    <!-- 0 -->\n    <g style=\"fill:#262626;\" transform=\"translate(625.1885 314.2727)scale(0.1 -0.1)\">\n     <use xlink:href=\"#DejaVuSans-48\"/>\n    </g>\n   </g>\n   <g id=\"text_166\">\n    <!-- 0.007 -->\n    <g style=\"fill:#ffffff;\" transform=\"translate(91.767688 344.7143)scale(0.1 -0.1)\">\n     <use xlink:href=\"#DejaVuSans-48\"/>\n     <use x=\"63.623047\" xlink:href=\"#DejaVuSans-46\"/>\n     <use x=\"95.410156\" xlink:href=\"#DejaVuSans-48\"/>\n     <use x=\"159.033203\" xlink:href=\"#DejaVuSans-48\"/>\n     <use x=\"222.65625\" xlink:href=\"#DejaVuSans-55\"/>\n    </g>\n   </g>\n   <g id=\"text_167\">\n    <!-- 0.003 -->\n    <g style=\"fill:#ffffff;\" transform=\"translate(131.943688 344.7143)scale(0.1 -0.1)\">\n     <use xlink:href=\"#DejaVuSans-48\"/>\n     <use x=\"63.623047\" xlink:href=\"#DejaVuSans-46\"/>\n     <use x=\"95.410156\" xlink:href=\"#DejaVuSans-48\"/>\n     <use x=\"159.033203\" xlink:href=\"#DejaVuSans-48\"/>\n     <use x=\"222.65625\" xlink:href=\"#DejaVuSans-51\"/>\n    </g>\n   </g>\n   <g id=\"text_168\">\n    <!-- 0.004 -->\n    <g style=\"fill:#ffffff;\" transform=\"translate(172.119688 344.7143)scale(0.1 -0.1)\">\n     <use xlink:href=\"#DejaVuSans-48\"/>\n     <use x=\"63.623047\" xlink:href=\"#DejaVuSans-46\"/>\n     <use x=\"95.410156\" xlink:href=\"#DejaVuSans-48\"/>\n     <use x=\"159.033203\" xlink:href=\"#DejaVuSans-48\"/>\n     <use x=\"222.65625\" xlink:href=\"#DejaVuSans-52\"/>\n    </g>\n   </g>\n   <g id=\"text_169\">\n    <!-- 0.004 -->\n    <g style=\"fill:#ffffff;\" transform=\"translate(212.295688 344.7143)scale(0.1 -0.1)\">\n     <use xlink:href=\"#DejaVuSans-48\"/>\n     <use x=\"63.623047\" xlink:href=\"#DejaVuSans-46\"/>\n     <use x=\"95.410156\" xlink:href=\"#DejaVuSans-48\"/>\n     <use x=\"159.033203\" xlink:href=\"#DejaVuSans-48\"/>\n     <use x=\"222.65625\" xlink:href=\"#DejaVuSans-52\"/>\n    </g>\n   </g>\n   <g id=\"text_170\">\n    <!-- 0.005 -->\n    <g style=\"fill:#ffffff;\" transform=\"translate(252.471688 344.7143)scale(0.1 -0.1)\">\n     <use xlink:href=\"#DejaVuSans-48\"/>\n     <use x=\"63.623047\" xlink:href=\"#DejaVuSans-46\"/>\n     <use x=\"95.410156\" xlink:href=\"#DejaVuSans-48\"/>\n     <use x=\"159.033203\" xlink:href=\"#DejaVuSans-48\"/>\n     <use x=\"222.65625\" xlink:href=\"#DejaVuSans-53\"/>\n    </g>\n   </g>\n   <g id=\"text_171\">\n    <!-- 0.002 -->\n    <g style=\"fill:#262626;\" transform=\"translate(292.647688 344.7143)scale(0.1 -0.1)\">\n     <use xlink:href=\"#DejaVuSans-48\"/>\n     <use x=\"63.623047\" xlink:href=\"#DejaVuSans-46\"/>\n     <use x=\"95.410156\" xlink:href=\"#DejaVuSans-48\"/>\n     <use x=\"159.033203\" xlink:href=\"#DejaVuSans-48\"/>\n     <use x=\"222.65625\" xlink:href=\"#DejaVuSans-50\"/>\n    </g>\n   </g>\n   <g id=\"text_172\">\n    <!-- 0.002 -->\n    <g style=\"fill:#262626;\" transform=\"translate(332.823688 344.7143)scale(0.1 -0.1)\">\n     <use xlink:href=\"#DejaVuSans-48\"/>\n     <use x=\"63.623047\" xlink:href=\"#DejaVuSans-46\"/>\n     <use x=\"95.410156\" xlink:href=\"#DejaVuSans-48\"/>\n     <use x=\"159.033203\" xlink:href=\"#DejaVuSans-48\"/>\n     <use x=\"222.65625\" xlink:href=\"#DejaVuSans-50\"/>\n    </g>\n   </g>\n   <g id=\"text_173\">\n    <!-- 0.002 -->\n    <g style=\"fill:#262626;\" transform=\"translate(372.999688 344.7143)scale(0.1 -0.1)\">\n     <use xlink:href=\"#DejaVuSans-48\"/>\n     <use x=\"63.623047\" xlink:href=\"#DejaVuSans-46\"/>\n     <use x=\"95.410156\" xlink:href=\"#DejaVuSans-48\"/>\n     <use x=\"159.033203\" xlink:href=\"#DejaVuSans-48\"/>\n     <use x=\"222.65625\" xlink:href=\"#DejaVuSans-50\"/>\n    </g>\n   </g>\n   <g id=\"text_174\">\n    <!-- 0.002 -->\n    <g style=\"fill:#262626;\" transform=\"translate(413.175688 344.7143)scale(0.1 -0.1)\">\n     <use xlink:href=\"#DejaVuSans-48\"/>\n     <use x=\"63.623047\" xlink:href=\"#DejaVuSans-46\"/>\n     <use x=\"95.410156\" xlink:href=\"#DejaVuSans-48\"/>\n     <use x=\"159.033203\" xlink:href=\"#DejaVuSans-48\"/>\n     <use x=\"222.65625\" xlink:href=\"#DejaVuSans-50\"/>\n    </g>\n   </g>\n   <g id=\"text_175\">\n    <!-- 0.002 -->\n    <g style=\"fill:#262626;\" transform=\"translate(453.351688 344.7143)scale(0.1 -0.1)\">\n     <use xlink:href=\"#DejaVuSans-48\"/>\n     <use x=\"63.623047\" xlink:href=\"#DejaVuSans-46\"/>\n     <use x=\"95.410156\" xlink:href=\"#DejaVuSans-48\"/>\n     <use x=\"159.033203\" xlink:href=\"#DejaVuSans-48\"/>\n     <use x=\"222.65625\" xlink:href=\"#DejaVuSans-50\"/>\n    </g>\n   </g>\n   <g id=\"text_176\">\n    <!-- 0.002 -->\n    <g style=\"fill:#262626;\" transform=\"translate(493.527688 344.7143)scale(0.1 -0.1)\">\n     <use xlink:href=\"#DejaVuSans-48\"/>\n     <use x=\"63.623047\" xlink:href=\"#DejaVuSans-46\"/>\n     <use x=\"95.410156\" xlink:href=\"#DejaVuSans-48\"/>\n     <use x=\"159.033203\" xlink:href=\"#DejaVuSans-48\"/>\n     <use x=\"222.65625\" xlink:href=\"#DejaVuSans-50\"/>\n    </g>\n   </g>\n   <g id=\"text_177\">\n    <!-- 0 -->\n    <g style=\"fill:#262626;\" transform=\"translate(544.8365 344.7143)scale(0.1 -0.1)\">\n     <use xlink:href=\"#DejaVuSans-48\"/>\n    </g>\n   </g>\n   <g id=\"text_178\">\n    <!-- 0.005 -->\n    <g style=\"fill:#ffffff;\" transform=\"translate(91.767688 375.1559)scale(0.1 -0.1)\">\n     <use xlink:href=\"#DejaVuSans-48\"/>\n     <use x=\"63.623047\" xlink:href=\"#DejaVuSans-46\"/>\n     <use x=\"95.410156\" xlink:href=\"#DejaVuSans-48\"/>\n     <use x=\"159.033203\" xlink:href=\"#DejaVuSans-48\"/>\n     <use x=\"222.65625\" xlink:href=\"#DejaVuSans-53\"/>\n    </g>\n   </g>\n   <g id=\"text_179\">\n    <!-- 0.005 -->\n    <g style=\"fill:#ffffff;\" transform=\"translate(131.943688 375.1559)scale(0.1 -0.1)\">\n     <use xlink:href=\"#DejaVuSans-48\"/>\n     <use x=\"63.623047\" xlink:href=\"#DejaVuSans-46\"/>\n     <use x=\"95.410156\" xlink:href=\"#DejaVuSans-48\"/>\n     <use x=\"159.033203\" xlink:href=\"#DejaVuSans-48\"/>\n     <use x=\"222.65625\" xlink:href=\"#DejaVuSans-53\"/>\n    </g>\n   </g>\n   <g id=\"text_180\">\n    <!-- 0.005 -->\n    <g style=\"fill:#ffffff;\" transform=\"translate(172.119688 375.1559)scale(0.1 -0.1)\">\n     <use xlink:href=\"#DejaVuSans-48\"/>\n     <use x=\"63.623047\" xlink:href=\"#DejaVuSans-46\"/>\n     <use x=\"95.410156\" xlink:href=\"#DejaVuSans-48\"/>\n     <use x=\"159.033203\" xlink:href=\"#DejaVuSans-48\"/>\n     <use x=\"222.65625\" xlink:href=\"#DejaVuSans-53\"/>\n    </g>\n   </g>\n   <g id=\"text_181\">\n    <!-- 0.003 -->\n    <g style=\"fill:#ffffff;\" transform=\"translate(212.295688 375.1559)scale(0.1 -0.1)\">\n     <use xlink:href=\"#DejaVuSans-48\"/>\n     <use x=\"63.623047\" xlink:href=\"#DejaVuSans-46\"/>\n     <use x=\"95.410156\" xlink:href=\"#DejaVuSans-48\"/>\n     <use x=\"159.033203\" xlink:href=\"#DejaVuSans-48\"/>\n     <use x=\"222.65625\" xlink:href=\"#DejaVuSans-51\"/>\n    </g>\n   </g>\n   <g id=\"text_182\">\n    <!-- 0.002 -->\n    <g style=\"fill:#262626;\" transform=\"translate(252.471688 375.1559)scale(0.1 -0.1)\">\n     <use xlink:href=\"#DejaVuSans-48\"/>\n     <use x=\"63.623047\" xlink:href=\"#DejaVuSans-46\"/>\n     <use x=\"95.410156\" xlink:href=\"#DejaVuSans-48\"/>\n     <use x=\"159.033203\" xlink:href=\"#DejaVuSans-48\"/>\n     <use x=\"222.65625\" xlink:href=\"#DejaVuSans-50\"/>\n    </g>\n   </g>\n   <g id=\"text_183\">\n    <!-- 0.003 -->\n    <g style=\"fill:#ffffff;\" transform=\"translate(292.647688 375.1559)scale(0.1 -0.1)\">\n     <use xlink:href=\"#DejaVuSans-48\"/>\n     <use x=\"63.623047\" xlink:href=\"#DejaVuSans-46\"/>\n     <use x=\"95.410156\" xlink:href=\"#DejaVuSans-48\"/>\n     <use x=\"159.033203\" xlink:href=\"#DejaVuSans-48\"/>\n     <use x=\"222.65625\" xlink:href=\"#DejaVuSans-51\"/>\n    </g>\n   </g>\n   <g id=\"text_184\">\n    <!-- 0.002 -->\n    <g style=\"fill:#262626;\" transform=\"translate(332.823688 375.1559)scale(0.1 -0.1)\">\n     <use xlink:href=\"#DejaVuSans-48\"/>\n     <use x=\"63.623047\" xlink:href=\"#DejaVuSans-46\"/>\n     <use x=\"95.410156\" xlink:href=\"#DejaVuSans-48\"/>\n     <use x=\"159.033203\" xlink:href=\"#DejaVuSans-48\"/>\n     <use x=\"222.65625\" xlink:href=\"#DejaVuSans-50\"/>\n    </g>\n   </g>\n   <g id=\"text_185\">\n    <!-- 0.003 -->\n    <g style=\"fill:#ffffff;\" transform=\"translate(372.999688 375.1559)scale(0.1 -0.1)\">\n     <use xlink:href=\"#DejaVuSans-48\"/>\n     <use x=\"63.623047\" xlink:href=\"#DejaVuSans-46\"/>\n     <use x=\"95.410156\" xlink:href=\"#DejaVuSans-48\"/>\n     <use x=\"159.033203\" xlink:href=\"#DejaVuSans-48\"/>\n     <use x=\"222.65625\" xlink:href=\"#DejaVuSans-51\"/>\n    </g>\n   </g>\n   <g id=\"text_186\">\n    <!-- 0.002 -->\n    <g style=\"fill:#262626;\" transform=\"translate(413.175688 375.1559)scale(0.1 -0.1)\">\n     <use xlink:href=\"#DejaVuSans-48\"/>\n     <use x=\"63.623047\" xlink:href=\"#DejaVuSans-46\"/>\n     <use x=\"95.410156\" xlink:href=\"#DejaVuSans-48\"/>\n     <use x=\"159.033203\" xlink:href=\"#DejaVuSans-48\"/>\n     <use x=\"222.65625\" xlink:href=\"#DejaVuSans-50\"/>\n    </g>\n   </g>\n   <g id=\"text_187\">\n    <!-- 0.002 -->\n    <g style=\"fill:#262626;\" transform=\"translate(453.351688 375.1559)scale(0.1 -0.1)\">\n     <use xlink:href=\"#DejaVuSans-48\"/>\n     <use x=\"63.623047\" xlink:href=\"#DejaVuSans-46\"/>\n     <use x=\"95.410156\" xlink:href=\"#DejaVuSans-48\"/>\n     <use x=\"159.033203\" xlink:href=\"#DejaVuSans-48\"/>\n     <use x=\"222.65625\" xlink:href=\"#DejaVuSans-50\"/>\n    </g>\n   </g>\n   <g id=\"text_188\">\n    <!-- 0 -->\n    <g style=\"fill:#262626;\" transform=\"translate(504.6605 375.1559)scale(0.1 -0.1)\">\n     <use xlink:href=\"#DejaVuSans-48\"/>\n    </g>\n   </g>\n   <g id=\"text_189\">\n    <!-- 0.006 -->\n    <g style=\"fill:#ffffff;\" transform=\"translate(91.767688 405.5975)scale(0.1 -0.1)\">\n     <use xlink:href=\"#DejaVuSans-48\"/>\n     <use x=\"63.623047\" xlink:href=\"#DejaVuSans-46\"/>\n     <use x=\"95.410156\" xlink:href=\"#DejaVuSans-48\"/>\n     <use x=\"159.033203\" xlink:href=\"#DejaVuSans-48\"/>\n     <use x=\"222.65625\" xlink:href=\"#DejaVuSans-54\"/>\n    </g>\n   </g>\n   <g id=\"text_190\">\n    <!-- 0.001 -->\n    <g style=\"fill:#262626;\" transform=\"translate(131.943688 405.5975)scale(0.1 -0.1)\">\n     <use xlink:href=\"#DejaVuSans-48\"/>\n     <use x=\"63.623047\" xlink:href=\"#DejaVuSans-46\"/>\n     <use x=\"95.410156\" xlink:href=\"#DejaVuSans-48\"/>\n     <use x=\"159.033203\" xlink:href=\"#DejaVuSans-48\"/>\n     <use x=\"222.65625\" xlink:href=\"#DejaVuSans-49\"/>\n    </g>\n   </g>\n   <g id=\"text_191\">\n    <!-- 0.002 -->\n    <g style=\"fill:#262626;\" transform=\"translate(172.119688 405.5975)scale(0.1 -0.1)\">\n     <use xlink:href=\"#DejaVuSans-48\"/>\n     <use x=\"63.623047\" xlink:href=\"#DejaVuSans-46\"/>\n     <use x=\"95.410156\" xlink:href=\"#DejaVuSans-48\"/>\n     <use x=\"159.033203\" xlink:href=\"#DejaVuSans-48\"/>\n     <use x=\"222.65625\" xlink:href=\"#DejaVuSans-50\"/>\n    </g>\n   </g>\n   <g id=\"text_192\">\n    <!-- 0.002 -->\n    <g style=\"fill:#262626;\" transform=\"translate(212.295688 405.5975)scale(0.1 -0.1)\">\n     <use xlink:href=\"#DejaVuSans-48\"/>\n     <use x=\"63.623047\" xlink:href=\"#DejaVuSans-46\"/>\n     <use x=\"95.410156\" xlink:href=\"#DejaVuSans-48\"/>\n     <use x=\"159.033203\" xlink:href=\"#DejaVuSans-48\"/>\n     <use x=\"222.65625\" xlink:href=\"#DejaVuSans-50\"/>\n    </g>\n   </g>\n   <g id=\"text_193\">\n    <!-- 0.002 -->\n    <g style=\"fill:#262626;\" transform=\"translate(252.471688 405.5975)scale(0.1 -0.1)\">\n     <use xlink:href=\"#DejaVuSans-48\"/>\n     <use x=\"63.623047\" xlink:href=\"#DejaVuSans-46\"/>\n     <use x=\"95.410156\" xlink:href=\"#DejaVuSans-48\"/>\n     <use x=\"159.033203\" xlink:href=\"#DejaVuSans-48\"/>\n     <use x=\"222.65625\" xlink:href=\"#DejaVuSans-50\"/>\n    </g>\n   </g>\n   <g id=\"text_194\">\n    <!-- 0.004 -->\n    <g style=\"fill:#ffffff;\" transform=\"translate(292.647688 405.5975)scale(0.1 -0.1)\">\n     <use xlink:href=\"#DejaVuSans-48\"/>\n     <use x=\"63.623047\" xlink:href=\"#DejaVuSans-46\"/>\n     <use x=\"95.410156\" xlink:href=\"#DejaVuSans-48\"/>\n     <use x=\"159.033203\" xlink:href=\"#DejaVuSans-48\"/>\n     <use x=\"222.65625\" xlink:href=\"#DejaVuSans-52\"/>\n    </g>\n   </g>\n   <g id=\"text_195\">\n    <!-- 0.004 -->\n    <g style=\"fill:#ffffff;\" transform=\"translate(332.823688 405.5975)scale(0.1 -0.1)\">\n     <use xlink:href=\"#DejaVuSans-48\"/>\n     <use x=\"63.623047\" xlink:href=\"#DejaVuSans-46\"/>\n     <use x=\"95.410156\" xlink:href=\"#DejaVuSans-48\"/>\n     <use x=\"159.033203\" xlink:href=\"#DejaVuSans-48\"/>\n     <use x=\"222.65625\" xlink:href=\"#DejaVuSans-52\"/>\n    </g>\n   </g>\n   <g id=\"text_196\">\n    <!-- 0.002 -->\n    <g style=\"fill:#262626;\" transform=\"translate(372.999688 405.5975)scale(0.1 -0.1)\">\n     <use xlink:href=\"#DejaVuSans-48\"/>\n     <use x=\"63.623047\" xlink:href=\"#DejaVuSans-46\"/>\n     <use x=\"95.410156\" xlink:href=\"#DejaVuSans-48\"/>\n     <use x=\"159.033203\" xlink:href=\"#DejaVuSans-48\"/>\n     <use x=\"222.65625\" xlink:href=\"#DejaVuSans-50\"/>\n    </g>\n   </g>\n   <g id=\"text_197\">\n    <!-- 0.002 -->\n    <g style=\"fill:#262626;\" transform=\"translate(413.175688 405.5975)scale(0.1 -0.1)\">\n     <use xlink:href=\"#DejaVuSans-48\"/>\n     <use x=\"63.623047\" xlink:href=\"#DejaVuSans-46\"/>\n     <use x=\"95.410156\" xlink:href=\"#DejaVuSans-48\"/>\n     <use x=\"159.033203\" xlink:href=\"#DejaVuSans-48\"/>\n     <use x=\"222.65625\" xlink:href=\"#DejaVuSans-50\"/>\n    </g>\n   </g>\n   <g id=\"text_198\">\n    <!-- 0.001 -->\n    <g style=\"fill:#262626;\" transform=\"translate(453.351688 405.5975)scale(0.1 -0.1)\">\n     <use xlink:href=\"#DejaVuSans-48\"/>\n     <use x=\"63.623047\" xlink:href=\"#DejaVuSans-46\"/>\n     <use x=\"95.410156\" xlink:href=\"#DejaVuSans-48\"/>\n     <use x=\"159.033203\" xlink:href=\"#DejaVuSans-48\"/>\n     <use x=\"222.65625\" xlink:href=\"#DejaVuSans-49\"/>\n    </g>\n   </g>\n   <g id=\"text_199\">\n    <!-- 0.003 -->\n    <g style=\"fill:#ffffff;\" transform=\"translate(91.767688 436.0391)scale(0.1 -0.1)\">\n     <use xlink:href=\"#DejaVuSans-48\"/>\n     <use x=\"63.623047\" xlink:href=\"#DejaVuSans-46\"/>\n     <use x=\"95.410156\" xlink:href=\"#DejaVuSans-48\"/>\n     <use x=\"159.033203\" xlink:href=\"#DejaVuSans-48\"/>\n     <use x=\"222.65625\" xlink:href=\"#DejaVuSans-51\"/>\n    </g>\n   </g>\n   <g id=\"text_200\">\n    <!-- 0.003 -->\n    <g style=\"fill:#ffffff;\" transform=\"translate(131.943688 436.0391)scale(0.1 -0.1)\">\n     <use xlink:href=\"#DejaVuSans-48\"/>\n     <use x=\"63.623047\" xlink:href=\"#DejaVuSans-46\"/>\n     <use x=\"95.410156\" xlink:href=\"#DejaVuSans-48\"/>\n     <use x=\"159.033203\" xlink:href=\"#DejaVuSans-48\"/>\n     <use x=\"222.65625\" xlink:href=\"#DejaVuSans-51\"/>\n    </g>\n   </g>\n   <g id=\"text_201\">\n    <!-- 0.002 -->\n    <g style=\"fill:#262626;\" transform=\"translate(172.119688 436.0391)scale(0.1 -0.1)\">\n     <use xlink:href=\"#DejaVuSans-48\"/>\n     <use x=\"63.623047\" xlink:href=\"#DejaVuSans-46\"/>\n     <use x=\"95.410156\" xlink:href=\"#DejaVuSans-48\"/>\n     <use x=\"159.033203\" xlink:href=\"#DejaVuSans-48\"/>\n     <use x=\"222.65625\" xlink:href=\"#DejaVuSans-50\"/>\n    </g>\n   </g>\n   <g id=\"text_202\">\n    <!-- 0.002 -->\n    <g style=\"fill:#262626;\" transform=\"translate(212.295688 436.0391)scale(0.1 -0.1)\">\n     <use xlink:href=\"#DejaVuSans-48\"/>\n     <use x=\"63.623047\" xlink:href=\"#DejaVuSans-46\"/>\n     <use x=\"95.410156\" xlink:href=\"#DejaVuSans-48\"/>\n     <use x=\"159.033203\" xlink:href=\"#DejaVuSans-48\"/>\n     <use x=\"222.65625\" xlink:href=\"#DejaVuSans-50\"/>\n    </g>\n   </g>\n   <g id=\"text_203\">\n    <!-- 0.002 -->\n    <g style=\"fill:#262626;\" transform=\"translate(252.471688 436.0391)scale(0.1 -0.1)\">\n     <use xlink:href=\"#DejaVuSans-48\"/>\n     <use x=\"63.623047\" xlink:href=\"#DejaVuSans-46\"/>\n     <use x=\"95.410156\" xlink:href=\"#DejaVuSans-48\"/>\n     <use x=\"159.033203\" xlink:href=\"#DejaVuSans-48\"/>\n     <use x=\"222.65625\" xlink:href=\"#DejaVuSans-50\"/>\n    </g>\n   </g>\n   <g id=\"text_204\">\n    <!-- 0.001 -->\n    <g style=\"fill:#262626;\" transform=\"translate(292.647688 436.0391)scale(0.1 -0.1)\">\n     <use xlink:href=\"#DejaVuSans-48\"/>\n     <use x=\"63.623047\" xlink:href=\"#DejaVuSans-46\"/>\n     <use x=\"95.410156\" xlink:href=\"#DejaVuSans-48\"/>\n     <use x=\"159.033203\" xlink:href=\"#DejaVuSans-48\"/>\n     <use x=\"222.65625\" xlink:href=\"#DejaVuSans-49\"/>\n    </g>\n   </g>\n   <g id=\"text_205\">\n    <!-- 0.002 -->\n    <g style=\"fill:#262626;\" transform=\"translate(332.823688 436.0391)scale(0.1 -0.1)\">\n     <use xlink:href=\"#DejaVuSans-48\"/>\n     <use x=\"63.623047\" xlink:href=\"#DejaVuSans-46\"/>\n     <use x=\"95.410156\" xlink:href=\"#DejaVuSans-48\"/>\n     <use x=\"159.033203\" xlink:href=\"#DejaVuSans-48\"/>\n     <use x=\"222.65625\" xlink:href=\"#DejaVuSans-50\"/>\n    </g>\n   </g>\n   <g id=\"text_206\">\n    <!-- 0.001 -->\n    <g style=\"fill:#262626;\" transform=\"translate(372.999688 436.0391)scale(0.1 -0.1)\">\n     <use xlink:href=\"#DejaVuSans-48\"/>\n     <use x=\"63.623047\" xlink:href=\"#DejaVuSans-46\"/>\n     <use x=\"95.410156\" xlink:href=\"#DejaVuSans-48\"/>\n     <use x=\"159.033203\" xlink:href=\"#DejaVuSans-48\"/>\n     <use x=\"222.65625\" xlink:href=\"#DejaVuSans-49\"/>\n    </g>\n   </g>\n   <g id=\"text_207\">\n    <!-- 0 -->\n    <g style=\"fill:#262626;\" transform=\"translate(424.3085 436.0391)scale(0.1 -0.1)\">\n     <use xlink:href=\"#DejaVuSans-48\"/>\n    </g>\n   </g>\n   <g id=\"text_208\">\n    <!-- 0.003 -->\n    <g style=\"fill:#ffffff;\" transform=\"translate(91.767688 466.4807)scale(0.1 -0.1)\">\n     <use xlink:href=\"#DejaVuSans-48\"/>\n     <use x=\"63.623047\" xlink:href=\"#DejaVuSans-46\"/>\n     <use x=\"95.410156\" xlink:href=\"#DejaVuSans-48\"/>\n     <use x=\"159.033203\" xlink:href=\"#DejaVuSans-48\"/>\n     <use x=\"222.65625\" xlink:href=\"#DejaVuSans-51\"/>\n    </g>\n   </g>\n   <g id=\"text_209\">\n    <!-- 0.005 -->\n    <g style=\"fill:#ffffff;\" transform=\"translate(131.943688 466.4807)scale(0.1 -0.1)\">\n     <use xlink:href=\"#DejaVuSans-48\"/>\n     <use x=\"63.623047\" xlink:href=\"#DejaVuSans-46\"/>\n     <use x=\"95.410156\" xlink:href=\"#DejaVuSans-48\"/>\n     <use x=\"159.033203\" xlink:href=\"#DejaVuSans-48\"/>\n     <use x=\"222.65625\" xlink:href=\"#DejaVuSans-53\"/>\n    </g>\n   </g>\n   <g id=\"text_210\">\n    <!-- 0.002 -->\n    <g style=\"fill:#262626;\" transform=\"translate(172.119688 466.4807)scale(0.1 -0.1)\">\n     <use xlink:href=\"#DejaVuSans-48\"/>\n     <use x=\"63.623047\" xlink:href=\"#DejaVuSans-46\"/>\n     <use x=\"95.410156\" xlink:href=\"#DejaVuSans-48\"/>\n     <use x=\"159.033203\" xlink:href=\"#DejaVuSans-48\"/>\n     <use x=\"222.65625\" xlink:href=\"#DejaVuSans-50\"/>\n    </g>\n   </g>\n   <g id=\"text_211\">\n    <!-- 0.003 -->\n    <g style=\"fill:#ffffff;\" transform=\"translate(212.295688 466.4807)scale(0.1 -0.1)\">\n     <use xlink:href=\"#DejaVuSans-48\"/>\n     <use x=\"63.623047\" xlink:href=\"#DejaVuSans-46\"/>\n     <use x=\"95.410156\" xlink:href=\"#DejaVuSans-48\"/>\n     <use x=\"159.033203\" xlink:href=\"#DejaVuSans-48\"/>\n     <use x=\"222.65625\" xlink:href=\"#DejaVuSans-51\"/>\n    </g>\n   </g>\n   <g id=\"text_212\">\n    <!-- 0.003 -->\n    <g style=\"fill:#ffffff;\" transform=\"translate(252.471688 466.4807)scale(0.1 -0.1)\">\n     <use xlink:href=\"#DejaVuSans-48\"/>\n     <use x=\"63.623047\" xlink:href=\"#DejaVuSans-46\"/>\n     <use x=\"95.410156\" xlink:href=\"#DejaVuSans-48\"/>\n     <use x=\"159.033203\" xlink:href=\"#DejaVuSans-48\"/>\n     <use x=\"222.65625\" xlink:href=\"#DejaVuSans-51\"/>\n    </g>\n   </g>\n   <g id=\"text_213\">\n    <!-- 0 -->\n    <g style=\"fill:#262626;\" transform=\"translate(303.7805 466.4807)scale(0.1 -0.1)\">\n     <use xlink:href=\"#DejaVuSans-48\"/>\n    </g>\n   </g>\n   <g id=\"text_214\">\n    <!-- 0.001 -->\n    <g style=\"fill:#262626;\" transform=\"translate(332.823688 466.4807)scale(0.1 -0.1)\">\n     <use xlink:href=\"#DejaVuSans-48\"/>\n     <use x=\"63.623047\" xlink:href=\"#DejaVuSans-46\"/>\n     <use x=\"95.410156\" xlink:href=\"#DejaVuSans-48\"/>\n     <use x=\"159.033203\" xlink:href=\"#DejaVuSans-48\"/>\n     <use x=\"222.65625\" xlink:href=\"#DejaVuSans-49\"/>\n    </g>\n   </g>\n   <g id=\"text_215\">\n    <!-- 0.001 -->\n    <g style=\"fill:#262626;\" transform=\"translate(372.999688 466.4807)scale(0.1 -0.1)\">\n     <use xlink:href=\"#DejaVuSans-48\"/>\n     <use x=\"63.623047\" xlink:href=\"#DejaVuSans-46\"/>\n     <use x=\"95.410156\" xlink:href=\"#DejaVuSans-48\"/>\n     <use x=\"159.033203\" xlink:href=\"#DejaVuSans-48\"/>\n     <use x=\"222.65625\" xlink:href=\"#DejaVuSans-49\"/>\n    </g>\n   </g>\n   <g id=\"text_216\">\n    <!-- 0.004 -->\n    <g style=\"fill:#ffffff;\" transform=\"translate(91.767688 496.9223)scale(0.1 -0.1)\">\n     <use xlink:href=\"#DejaVuSans-48\"/>\n     <use x=\"63.623047\" xlink:href=\"#DejaVuSans-46\"/>\n     <use x=\"95.410156\" xlink:href=\"#DejaVuSans-48\"/>\n     <use x=\"159.033203\" xlink:href=\"#DejaVuSans-48\"/>\n     <use x=\"222.65625\" xlink:href=\"#DejaVuSans-52\"/>\n    </g>\n   </g>\n   <g id=\"text_217\">\n    <!-- 0.003 -->\n    <g style=\"fill:#ffffff;\" transform=\"translate(131.943688 496.9223)scale(0.1 -0.1)\">\n     <use xlink:href=\"#DejaVuSans-48\"/>\n     <use x=\"63.623047\" xlink:href=\"#DejaVuSans-46\"/>\n     <use x=\"95.410156\" xlink:href=\"#DejaVuSans-48\"/>\n     <use x=\"159.033203\" xlink:href=\"#DejaVuSans-48\"/>\n     <use x=\"222.65625\" xlink:href=\"#DejaVuSans-51\"/>\n    </g>\n   </g>\n   <g id=\"text_218\">\n    <!-- 0.004 -->\n    <g style=\"fill:#ffffff;\" transform=\"translate(172.119688 496.9223)scale(0.1 -0.1)\">\n     <use xlink:href=\"#DejaVuSans-48\"/>\n     <use x=\"63.623047\" xlink:href=\"#DejaVuSans-46\"/>\n     <use x=\"95.410156\" xlink:href=\"#DejaVuSans-48\"/>\n     <use x=\"159.033203\" xlink:href=\"#DejaVuSans-48\"/>\n     <use x=\"222.65625\" xlink:href=\"#DejaVuSans-52\"/>\n    </g>\n   </g>\n   <g id=\"text_219\">\n    <!-- 0.001 -->\n    <g style=\"fill:#262626;\" transform=\"translate(212.295688 496.9223)scale(0.1 -0.1)\">\n     <use xlink:href=\"#DejaVuSans-48\"/>\n     <use x=\"63.623047\" xlink:href=\"#DejaVuSans-46\"/>\n     <use x=\"95.410156\" xlink:href=\"#DejaVuSans-48\"/>\n     <use x=\"159.033203\" xlink:href=\"#DejaVuSans-48\"/>\n     <use x=\"222.65625\" xlink:href=\"#DejaVuSans-49\"/>\n    </g>\n   </g>\n   <g id=\"text_220\">\n    <!-- 0.002 -->\n    <g style=\"fill:#262626;\" transform=\"translate(252.471688 496.9223)scale(0.1 -0.1)\">\n     <use xlink:href=\"#DejaVuSans-48\"/>\n     <use x=\"63.623047\" xlink:href=\"#DejaVuSans-46\"/>\n     <use x=\"95.410156\" xlink:href=\"#DejaVuSans-48\"/>\n     <use x=\"159.033203\" xlink:href=\"#DejaVuSans-48\"/>\n     <use x=\"222.65625\" xlink:href=\"#DejaVuSans-50\"/>\n    </g>\n   </g>\n   <g id=\"text_221\">\n    <!-- 0.003 -->\n    <g style=\"fill:#ffffff;\" transform=\"translate(292.647688 496.9223)scale(0.1 -0.1)\">\n     <use xlink:href=\"#DejaVuSans-48\"/>\n     <use x=\"63.623047\" xlink:href=\"#DejaVuSans-46\"/>\n     <use x=\"95.410156\" xlink:href=\"#DejaVuSans-48\"/>\n     <use x=\"159.033203\" xlink:href=\"#DejaVuSans-48\"/>\n     <use x=\"222.65625\" xlink:href=\"#DejaVuSans-51\"/>\n    </g>\n   </g>\n   <g id=\"text_222\">\n    <!-- 0.001 -->\n    <g style=\"fill:#262626;\" transform=\"translate(332.823688 496.9223)scale(0.1 -0.1)\">\n     <use xlink:href=\"#DejaVuSans-48\"/>\n     <use x=\"63.623047\" xlink:href=\"#DejaVuSans-46\"/>\n     <use x=\"95.410156\" xlink:href=\"#DejaVuSans-48\"/>\n     <use x=\"159.033203\" xlink:href=\"#DejaVuSans-48\"/>\n     <use x=\"222.65625\" xlink:href=\"#DejaVuSans-49\"/>\n    </g>\n   </g>\n   <g id=\"text_223\">\n    <!-- 0.004 -->\n    <g style=\"fill:#ffffff;\" transform=\"translate(91.767688 527.3639)scale(0.1 -0.1)\">\n     <use xlink:href=\"#DejaVuSans-48\"/>\n     <use x=\"63.623047\" xlink:href=\"#DejaVuSans-46\"/>\n     <use x=\"95.410156\" xlink:href=\"#DejaVuSans-48\"/>\n     <use x=\"159.033203\" xlink:href=\"#DejaVuSans-48\"/>\n     <use x=\"222.65625\" xlink:href=\"#DejaVuSans-52\"/>\n    </g>\n   </g>\n   <g id=\"text_224\">\n    <!-- 0.003 -->\n    <g style=\"fill:#ffffff;\" transform=\"translate(131.943688 527.3639)scale(0.1 -0.1)\">\n     <use xlink:href=\"#DejaVuSans-48\"/>\n     <use x=\"63.623047\" xlink:href=\"#DejaVuSans-46\"/>\n     <use x=\"95.410156\" xlink:href=\"#DejaVuSans-48\"/>\n     <use x=\"159.033203\" xlink:href=\"#DejaVuSans-48\"/>\n     <use x=\"222.65625\" xlink:href=\"#DejaVuSans-51\"/>\n    </g>\n   </g>\n   <g id=\"text_225\">\n    <!-- 0.002 -->\n    <g style=\"fill:#262626;\" transform=\"translate(172.119688 527.3639)scale(0.1 -0.1)\">\n     <use xlink:href=\"#DejaVuSans-48\"/>\n     <use x=\"63.623047\" xlink:href=\"#DejaVuSans-46\"/>\n     <use x=\"95.410156\" xlink:href=\"#DejaVuSans-48\"/>\n     <use x=\"159.033203\" xlink:href=\"#DejaVuSans-48\"/>\n     <use x=\"222.65625\" xlink:href=\"#DejaVuSans-50\"/>\n    </g>\n   </g>\n   <g id=\"text_226\">\n    <!-- 0.003 -->\n    <g style=\"fill:#ffffff;\" transform=\"translate(212.295688 527.3639)scale(0.1 -0.1)\">\n     <use xlink:href=\"#DejaVuSans-48\"/>\n     <use x=\"63.623047\" xlink:href=\"#DejaVuSans-46\"/>\n     <use x=\"95.410156\" xlink:href=\"#DejaVuSans-48\"/>\n     <use x=\"159.033203\" xlink:href=\"#DejaVuSans-48\"/>\n     <use x=\"222.65625\" xlink:href=\"#DejaVuSans-51\"/>\n    </g>\n   </g>\n   <g id=\"text_227\">\n    <!-- 0.002 -->\n    <g style=\"fill:#262626;\" transform=\"translate(252.471688 527.3639)scale(0.1 -0.1)\">\n     <use xlink:href=\"#DejaVuSans-48\"/>\n     <use x=\"63.623047\" xlink:href=\"#DejaVuSans-46\"/>\n     <use x=\"95.410156\" xlink:href=\"#DejaVuSans-48\"/>\n     <use x=\"159.033203\" xlink:href=\"#DejaVuSans-48\"/>\n     <use x=\"222.65625\" xlink:href=\"#DejaVuSans-50\"/>\n    </g>\n   </g>\n   <g id=\"text_228\">\n    <!-- 0.001 -->\n    <g style=\"fill:#262626;\" transform=\"translate(292.647688 527.3639)scale(0.1 -0.1)\">\n     <use xlink:href=\"#DejaVuSans-48\"/>\n     <use x=\"63.623047\" xlink:href=\"#DejaVuSans-46\"/>\n     <use x=\"95.410156\" xlink:href=\"#DejaVuSans-48\"/>\n     <use x=\"159.033203\" xlink:href=\"#DejaVuSans-48\"/>\n     <use x=\"222.65625\" xlink:href=\"#DejaVuSans-49\"/>\n    </g>\n   </g>\n   <g id=\"text_229\">\n    <!-- 0.005 -->\n    <g style=\"fill:#ffffff;\" transform=\"translate(91.767688 557.8055)scale(0.1 -0.1)\">\n     <use xlink:href=\"#DejaVuSans-48\"/>\n     <use x=\"63.623047\" xlink:href=\"#DejaVuSans-46\"/>\n     <use x=\"95.410156\" xlink:href=\"#DejaVuSans-48\"/>\n     <use x=\"159.033203\" xlink:href=\"#DejaVuSans-48\"/>\n     <use x=\"222.65625\" xlink:href=\"#DejaVuSans-53\"/>\n    </g>\n   </g>\n   <g id=\"text_230\">\n    <!-- 0.002 -->\n    <g style=\"fill:#262626;\" transform=\"translate(131.943688 557.8055)scale(0.1 -0.1)\">\n     <use xlink:href=\"#DejaVuSans-48\"/>\n     <use x=\"63.623047\" xlink:href=\"#DejaVuSans-46\"/>\n     <use x=\"95.410156\" xlink:href=\"#DejaVuSans-48\"/>\n     <use x=\"159.033203\" xlink:href=\"#DejaVuSans-48\"/>\n     <use x=\"222.65625\" xlink:href=\"#DejaVuSans-50\"/>\n    </g>\n   </g>\n   <g id=\"text_231\">\n    <!-- 0.002 -->\n    <g style=\"fill:#262626;\" transform=\"translate(172.119688 557.8055)scale(0.1 -0.1)\">\n     <use xlink:href=\"#DejaVuSans-48\"/>\n     <use x=\"63.623047\" xlink:href=\"#DejaVuSans-46\"/>\n     <use x=\"95.410156\" xlink:href=\"#DejaVuSans-48\"/>\n     <use x=\"159.033203\" xlink:href=\"#DejaVuSans-48\"/>\n     <use x=\"222.65625\" xlink:href=\"#DejaVuSans-50\"/>\n    </g>\n   </g>\n   <g id=\"text_232\">\n    <!-- 0.002 -->\n    <g style=\"fill:#262626;\" transform=\"translate(212.295688 557.8055)scale(0.1 -0.1)\">\n     <use xlink:href=\"#DejaVuSans-48\"/>\n     <use x=\"63.623047\" xlink:href=\"#DejaVuSans-46\"/>\n     <use x=\"95.410156\" xlink:href=\"#DejaVuSans-48\"/>\n     <use x=\"159.033203\" xlink:href=\"#DejaVuSans-48\"/>\n     <use x=\"222.65625\" xlink:href=\"#DejaVuSans-50\"/>\n    </g>\n   </g>\n   <g id=\"text_233\">\n    <!-- 0 -->\n    <g style=\"fill:#262626;\" transform=\"translate(263.6045 557.8055)scale(0.1 -0.1)\">\n     <use xlink:href=\"#DejaVuSans-48\"/>\n    </g>\n   </g>\n   <g id=\"text_234\">\n    <!-- 0.005 -->\n    <g style=\"fill:#ffffff;\" transform=\"translate(91.767688 588.2471)scale(0.1 -0.1)\">\n     <use xlink:href=\"#DejaVuSans-48\"/>\n     <use x=\"63.623047\" xlink:href=\"#DejaVuSans-46\"/>\n     <use x=\"95.410156\" xlink:href=\"#DejaVuSans-48\"/>\n     <use x=\"159.033203\" xlink:href=\"#DejaVuSans-48\"/>\n     <use x=\"222.65625\" xlink:href=\"#DejaVuSans-53\"/>\n    </g>\n   </g>\n   <g id=\"text_235\">\n    <!-- 0.002 -->\n    <g style=\"fill:#262626;\" transform=\"translate(131.943688 588.2471)scale(0.1 -0.1)\">\n     <use xlink:href=\"#DejaVuSans-48\"/>\n     <use x=\"63.623047\" xlink:href=\"#DejaVuSans-46\"/>\n     <use x=\"95.410156\" xlink:href=\"#DejaVuSans-48\"/>\n     <use x=\"159.033203\" xlink:href=\"#DejaVuSans-48\"/>\n     <use x=\"222.65625\" xlink:href=\"#DejaVuSans-50\"/>\n    </g>\n   </g>\n   <g id=\"text_236\">\n    <!-- 0.002 -->\n    <g style=\"fill:#262626;\" transform=\"translate(172.119688 588.2471)scale(0.1 -0.1)\">\n     <use xlink:href=\"#DejaVuSans-48\"/>\n     <use x=\"63.623047\" xlink:href=\"#DejaVuSans-46\"/>\n     <use x=\"95.410156\" xlink:href=\"#DejaVuSans-48\"/>\n     <use x=\"159.033203\" xlink:href=\"#DejaVuSans-48\"/>\n     <use x=\"222.65625\" xlink:href=\"#DejaVuSans-50\"/>\n    </g>\n   </g>\n   <g id=\"text_237\">\n    <!-- 0.001 -->\n    <g style=\"fill:#262626;\" transform=\"translate(212.295688 588.2471)scale(0.1 -0.1)\">\n     <use xlink:href=\"#DejaVuSans-48\"/>\n     <use x=\"63.623047\" xlink:href=\"#DejaVuSans-46\"/>\n     <use x=\"95.410156\" xlink:href=\"#DejaVuSans-48\"/>\n     <use x=\"159.033203\" xlink:href=\"#DejaVuSans-48\"/>\n     <use x=\"222.65625\" xlink:href=\"#DejaVuSans-49\"/>\n    </g>\n   </g>\n   <g id=\"text_238\">\n    <!-- 0.003 -->\n    <g style=\"fill:#ffffff;\" transform=\"translate(91.767688 618.6887)scale(0.1 -0.1)\">\n     <use xlink:href=\"#DejaVuSans-48\"/>\n     <use x=\"63.623047\" xlink:href=\"#DejaVuSans-46\"/>\n     <use x=\"95.410156\" xlink:href=\"#DejaVuSans-48\"/>\n     <use x=\"159.033203\" xlink:href=\"#DejaVuSans-48\"/>\n     <use x=\"222.65625\" xlink:href=\"#DejaVuSans-51\"/>\n    </g>\n   </g>\n   <g id=\"text_239\">\n    <!-- 0.004 -->\n    <g style=\"fill:#ffffff;\" transform=\"translate(131.943688 618.6887)scale(0.1 -0.1)\">\n     <use xlink:href=\"#DejaVuSans-48\"/>\n     <use x=\"63.623047\" xlink:href=\"#DejaVuSans-46\"/>\n     <use x=\"95.410156\" xlink:href=\"#DejaVuSans-48\"/>\n     <use x=\"159.033203\" xlink:href=\"#DejaVuSans-48\"/>\n     <use x=\"222.65625\" xlink:href=\"#DejaVuSans-52\"/>\n    </g>\n   </g>\n   <g id=\"text_240\">\n    <!-- 0 -->\n    <g style=\"fill:#262626;\" transform=\"translate(183.2525 618.6887)scale(0.1 -0.1)\">\n     <use xlink:href=\"#DejaVuSans-48\"/>\n    </g>\n   </g>\n   <g id=\"text_241\">\n    <!-- 0.004 -->\n    <g style=\"fill:#ffffff;\" transform=\"translate(91.767688 649.1303)scale(0.1 -0.1)\">\n     <use xlink:href=\"#DejaVuSans-48\"/>\n     <use x=\"63.623047\" xlink:href=\"#DejaVuSans-46\"/>\n     <use x=\"95.410156\" xlink:href=\"#DejaVuSans-48\"/>\n     <use x=\"159.033203\" xlink:href=\"#DejaVuSans-48\"/>\n     <use x=\"222.65625\" xlink:href=\"#DejaVuSans-52\"/>\n    </g>\n   </g>\n   <g id=\"text_242\">\n    <!-- 0.001 -->\n    <g style=\"fill:#262626;\" transform=\"translate(131.943688 649.1303)scale(0.1 -0.1)\">\n     <use xlink:href=\"#DejaVuSans-48\"/>\n     <use x=\"63.623047\" xlink:href=\"#DejaVuSans-46\"/>\n     <use x=\"95.410156\" xlink:href=\"#DejaVuSans-48\"/>\n     <use x=\"159.033203\" xlink:href=\"#DejaVuSans-48\"/>\n     <use x=\"222.65625\" xlink:href=\"#DejaVuSans-49\"/>\n    </g>\n   </g>\n   <g id=\"text_243\">\n    <!-- 0 -->\n    <g style=\"fill:#262626;\" transform=\"translate(223.4285 649.1303)scale(0.1 -0.1)\">\n     <use xlink:href=\"#DejaVuSans-48\"/>\n    </g>\n   </g>\n   <g id=\"text_244\">\n    <!-- 0.001 -->\n    <g style=\"fill:#262626;\" transform=\"translate(91.767688 679.5719)scale(0.1 -0.1)\">\n     <use xlink:href=\"#DejaVuSans-48\"/>\n     <use x=\"63.623047\" xlink:href=\"#DejaVuSans-46\"/>\n     <use x=\"95.410156\" xlink:href=\"#DejaVuSans-48\"/>\n     <use x=\"159.033203\" xlink:href=\"#DejaVuSans-48\"/>\n     <use x=\"222.65625\" xlink:href=\"#DejaVuSans-49\"/>\n    </g>\n   </g>\n   <g id=\"text_245\">\n    <!-- 0 -->\n    <g style=\"fill:#262626;\" transform=\"translate(143.0765 679.5719)scale(0.1 -0.1)\">\n     <use xlink:href=\"#DejaVuSans-48\"/>\n    </g>\n   </g>\n   <g id=\"text_246\">\n    <!-- 0 -->\n    <g style=\"fill:#262626;\" transform=\"translate(102.9005 710.0135)scale(0.1 -0.1)\">\n     <use xlink:href=\"#DejaVuSans-48\"/>\n    </g>\n   </g>\n   <g id=\"text_247\">\n    <!-- Retention -->\n    <defs>\n     <path d=\"M 44.390625 34.1875 \nQ 47.5625 33.109375 50.5625 29.59375 \nQ 53.5625 26.078125 56.59375 19.921875 \nL 66.609375 0 \nL 56 0 \nL 46.6875 18.703125 \nQ 43.0625 26.03125 39.671875 28.421875 \nQ 36.28125 30.8125 30.421875 30.8125 \nL 19.671875 30.8125 \nL 19.671875 0 \nL 9.8125 0 \nL 9.8125 72.90625 \nL 32.078125 72.90625 \nQ 44.578125 72.90625 50.734375 67.671875 \nQ 56.890625 62.453125 56.890625 51.90625 \nQ 56.890625 45.015625 53.6875 40.46875 \nQ 50.484375 35.9375 44.390625 34.1875 \nz\nM 19.671875 64.796875 \nL 19.671875 38.921875 \nL 32.078125 38.921875 \nQ 39.203125 38.921875 42.84375 42.21875 \nQ 46.484375 45.515625 46.484375 51.90625 \nQ 46.484375 58.296875 42.84375 61.546875 \nQ 39.203125 64.796875 32.078125 64.796875 \nz\n\" id=\"DejaVuSans-82\"/>\n     <path d=\"M 56.203125 29.59375 \nL 56.203125 25.203125 \nL 14.890625 25.203125 \nQ 15.484375 15.921875 20.484375 11.0625 \nQ 25.484375 6.203125 34.421875 6.203125 \nQ 39.59375 6.203125 44.453125 7.46875 \nQ 49.3125 8.734375 54.109375 11.28125 \nL 54.109375 2.78125 \nQ 49.265625 0.734375 44.1875 -0.34375 \nQ 39.109375 -1.421875 33.890625 -1.421875 \nQ 20.796875 -1.421875 13.15625 6.1875 \nQ 5.515625 13.8125 5.515625 26.8125 \nQ 5.515625 40.234375 12.765625 48.109375 \nQ 20.015625 56 32.328125 56 \nQ 43.359375 56 49.78125 48.890625 \nQ 56.203125 41.796875 56.203125 29.59375 \nz\nM 47.21875 32.234375 \nQ 47.125 39.59375 43.09375 43.984375 \nQ 39.0625 48.390625 32.421875 48.390625 \nQ 24.90625 48.390625 20.390625 44.140625 \nQ 15.875 39.890625 15.1875 32.171875 \nz\n\" id=\"DejaVuSans-101\"/>\n     <path d=\"M 9.421875 54.6875 \nL 18.40625 54.6875 \nL 18.40625 0 \nL 9.421875 0 \nz\nM 9.421875 75.984375 \nL 18.40625 75.984375 \nL 18.40625 64.59375 \nL 9.421875 64.59375 \nz\n\" id=\"DejaVuSans-105\"/>\n    </defs>\n    <g transform=\"translate(458.823438 16.318125)scale(0.12 -0.12)\">\n     <use xlink:href=\"#DejaVuSans-82\"/>\n     <use x=\"64.982422\" xlink:href=\"#DejaVuSans-101\"/>\n     <use x=\"126.505859\" xlink:href=\"#DejaVuSans-116\"/>\n     <use x=\"165.714844\" xlink:href=\"#DejaVuSans-101\"/>\n     <use x=\"227.238281\" xlink:href=\"#DejaVuSans-110\"/>\n     <use x=\"290.617188\" xlink:href=\"#DejaVuSans-116\"/>\n     <use x=\"329.826172\" xlink:href=\"#DejaVuSans-105\"/>\n     <use x=\"357.609375\" xlink:href=\"#DejaVuSans-111\"/>\n     <use x=\"418.791016\" xlink:href=\"#DejaVuSans-110\"/>\n    </g>\n   </g>\n  </g>\n  <g id=\"axes_2\">\n   <g id=\"patch_3\">\n    <path clip-path=\"url(#paf222c805c)\" d=\"M 939.73375 783.358125 \nL 939.73375 780.385312 \nL 939.73375 25.290937 \nL 939.73375 22.318125 \nL 977.78575 22.318125 \nL 977.78575 25.290937 \nL 977.78575 780.385312 \nL 977.78575 783.358125 \nz\n\" style=\"fill:#ffffff;stroke:#ffffff;stroke-linejoin:miter;stroke-width:0.01;\"/>\n   </g>\n   <image height=\"761\" id=\"image703c5c2392\" transform=\"scale(1 -1)translate(0 -761)\" width=\"38\" x=\"940\" xlink:href=\"data:image/png;base64,\niVBORw0KGgoAAAANSUhEUgAAACYAAAL5CAYAAADcylZ9AAAABHNCSVQICAgIfAhkiAAABQ1JREFUeJztncFxAzEMxHQZ9t9firmjG7AfeB0eQAUYMUtSsie+dv/3CPl7W+AXs0d5YN4T04rNOc/bDl/RnphWbHZLJUIrNqcGy9CKNSspWrFmJUUr1qykaMVqsBStWGsPRSs226xkaMVKJUUr1tpD0YqVSopWrFlJ0YqVSopWrFlJ0Yr1REDRivUGS9GKlUqKVqy1h9J2QdGKNZIoWrFGEkUrVikpWrG2C4pWbHablQitWKmkaMWalRStWKmkaMWalRStWA2WohWrwVK0YiN9gvWemFZsnJNSfGJasZGG0ntiWrEaLEUrViopWrHZvd52+Ir2xLRipZKiFZtHWkvtiWnFSiVFK9YGS9GKlUqKVqxUUrRiPdxRtGKlkqIVa1ZStGK99lC0YqWSohXrtYeiFSuVFK1YpaRoxbqMULRipZKiFWvtoWjFSiVFK9aspPTHT9GK9T5G0Yr1WRJFK9ZIomjFmpUUrVippGjFmpUUrViPKhStWKWkaMXm6V7J0IrNXSoZWrEaLEUr1gZL0Yo1KylasWYlRSvWrKRoxSolRStWKSlasblbexhasVJJ0YpVSopWrCcCilasWUnRitVgKVqxSknRilVKilasN1iKVqxPRihasRosRSs299sGP9CemFasVFK0Ys1KilasVFK0Yl1GKFqxUknRilVKilastYfS9Y2iFauPUbRilZKiFWskUbRifYWGohWrwVK0Yv3TKopWrFRStGLNSopWrFRStGJdRihasRosRStWg6VoxSolRSvWrKRoxZqVFK1YDZaiFavBUrRipZKiFWtWUrRipZKiFWtWUrRiNViKVqwGS9GK9S0CilasVFK0Ys1KilasVFK0Yl1GKFqxGixFK1aDpWjFarAUrVippGjFKiVFK9aPt1K0YpWS0olRtGKz0lpqT0wrViopWrFZ6auK9sS0YqWSohXr+kbRipVKilasUlK0YpWSohWblQ5L7YlpxUolRStWKSlasS4jFK1YqaRoxSolRStWKSlasZ7TKVqxPq+kaMVqsBStWKWkaMW6V1K0YqWSohVrg6VoxUolRStWKSlase6VFK1YqaRoxSolRSs2TxssQys2p1QytGJzpM892hPTis2RDkvtiWnF5iqVDK1Ys5KiFWtWUrRilZKiFWvtoczpJs7Qis3VHz9DK9ZIomjFKiVFK9Z2QdGKtfZQtGKlkqIVa1ZStGK9WlO0Yr1aU7RiNViKVqy1h6IVK5UUrVj3SopWrOd0ilasBkvRirX2ULRizUqKVqwGS9GK1WApWrFSSdGKzeWspPfEtGKlkqIVq5QUrVgfclG0Ym2wFK1YDZaiFavBUrRiNViKVqyvaVG0YjVYilasBkvRivUhF0UrViopWrFKSdGKtfZQtGK99lDqYxStWH2MohWrj1G0Yn0JnKIVq8FStGI1WIpWrFRStGJdRihasRosRStWg6VoxWqwFK1YDZaiFavBUrRivfZQtGJ974KiFWvtoWjFKiVFK1aDpWjFSiVFKzYr/W147YlpxWalHVZ7Ylqxfk+cohWrwVK0YnMqJUMr1qykaMVqsBStWKWkaMVqsBStWKmkaMW6V1K0YqWSohVrVlK0YqWSohWrlBSt2JwaLEMrViopWrFKSenEKFqxWem3wLUnphUrlRStWKWkaMUqJUUr1vsYRStWKilasUpJ0Yr1PkbRivUJL0UrVoOlaMUqJUUr1mWEohUrlZTEKB/qEOd7dm+uowAAAABJRU5ErkJggg==\" y=\"-21\"/>\n   <g id=\"matplotlib.axis_3\"/>\n   <g id=\"matplotlib.axis_4\">\n    <g id=\"ytick_26\">\n     <g id=\"line2d_46\">\n      <defs>\n       <path d=\"M 0 0 \nL 3.5 0 \n\" id=\"m38ef4a4250\" style=\"stroke:#000000;stroke-width:0.8;\"/>\n      </defs>\n      <g>\n       <use style=\"stroke:#000000;stroke-width:0.8;\" x=\"977.78575\" xlink:href=\"#m38ef4a4250\" y=\"783.358125\"/>\n      </g>\n     </g>\n     <g id=\"text_248\">\n      <!-- 0.000 -->\n      <g transform=\"translate(984.78575 787.157344)scale(0.1 -0.1)\">\n       <use xlink:href=\"#DejaVuSans-48\"/>\n       <use x=\"63.623047\" xlink:href=\"#DejaVuSans-46\"/>\n       <use x=\"95.410156\" xlink:href=\"#DejaVuSans-48\"/>\n       <use x=\"159.033203\" xlink:href=\"#DejaVuSans-48\"/>\n       <use x=\"222.65625\" xlink:href=\"#DejaVuSans-48\"/>\n      </g>\n     </g>\n    </g>\n    <g id=\"ytick_27\">\n     <g id=\"line2d_47\">\n      <g>\n       <use style=\"stroke:#000000;stroke-width:0.8;\" x=\"977.78575\" xlink:href=\"#m38ef4a4250\" y=\"631.150125\"/>\n      </g>\n     </g>\n     <g id=\"text_249\">\n      <!-- 0.001 -->\n      <g transform=\"translate(984.78575 634.949344)scale(0.1 -0.1)\">\n       <use xlink:href=\"#DejaVuSans-48\"/>\n       <use x=\"63.623047\" xlink:href=\"#DejaVuSans-46\"/>\n       <use x=\"95.410156\" xlink:href=\"#DejaVuSans-48\"/>\n       <use x=\"159.033203\" xlink:href=\"#DejaVuSans-48\"/>\n       <use x=\"222.65625\" xlink:href=\"#DejaVuSans-49\"/>\n      </g>\n     </g>\n    </g>\n    <g id=\"ytick_28\">\n     <g id=\"line2d_48\">\n      <g>\n       <use style=\"stroke:#000000;stroke-width:0.8;\" x=\"977.78575\" xlink:href=\"#m38ef4a4250\" y=\"478.942125\"/>\n      </g>\n     </g>\n     <g id=\"text_250\">\n      <!-- 0.002 -->\n      <g transform=\"translate(984.78575 482.741344)scale(0.1 -0.1)\">\n       <use xlink:href=\"#DejaVuSans-48\"/>\n       <use x=\"63.623047\" xlink:href=\"#DejaVuSans-46\"/>\n       <use x=\"95.410156\" xlink:href=\"#DejaVuSans-48\"/>\n       <use x=\"159.033203\" xlink:href=\"#DejaVuSans-48\"/>\n       <use x=\"222.65625\" xlink:href=\"#DejaVuSans-50\"/>\n      </g>\n     </g>\n    </g>\n    <g id=\"ytick_29\">\n     <g id=\"line2d_49\">\n      <g>\n       <use style=\"stroke:#000000;stroke-width:0.8;\" x=\"977.78575\" xlink:href=\"#m38ef4a4250\" y=\"326.734125\"/>\n      </g>\n     </g>\n     <g id=\"text_251\">\n      <!-- 0.003 -->\n      <g transform=\"translate(984.78575 330.533344)scale(0.1 -0.1)\">\n       <use xlink:href=\"#DejaVuSans-48\"/>\n       <use x=\"63.623047\" xlink:href=\"#DejaVuSans-46\"/>\n       <use x=\"95.410156\" xlink:href=\"#DejaVuSans-48\"/>\n       <use x=\"159.033203\" xlink:href=\"#DejaVuSans-48\"/>\n       <use x=\"222.65625\" xlink:href=\"#DejaVuSans-51\"/>\n      </g>\n     </g>\n    </g>\n    <g id=\"ytick_30\">\n     <g id=\"line2d_50\">\n      <g>\n       <use style=\"stroke:#000000;stroke-width:0.8;\" x=\"977.78575\" xlink:href=\"#m38ef4a4250\" y=\"174.526125\"/>\n      </g>\n     </g>\n     <g id=\"text_252\">\n      <!-- 0.004 -->\n      <g transform=\"translate(984.78575 178.325344)scale(0.1 -0.1)\">\n       <use xlink:href=\"#DejaVuSans-48\"/>\n       <use x=\"63.623047\" xlink:href=\"#DejaVuSans-46\"/>\n       <use x=\"95.410156\" xlink:href=\"#DejaVuSans-48\"/>\n       <use x=\"159.033203\" xlink:href=\"#DejaVuSans-48\"/>\n       <use x=\"222.65625\" xlink:href=\"#DejaVuSans-52\"/>\n      </g>\n     </g>\n    </g>\n    <g id=\"ytick_31\">\n     <g id=\"line2d_51\">\n      <g>\n       <use style=\"stroke:#000000;stroke-width:0.8;\" x=\"977.78575\" xlink:href=\"#m38ef4a4250\" y=\"22.318125\"/>\n      </g>\n     </g>\n     <g id=\"text_253\">\n      <!-- 0.005 -->\n      <g transform=\"translate(984.78575 26.117344)scale(0.1 -0.1)\">\n       <use xlink:href=\"#DejaVuSans-48\"/>\n       <use x=\"63.623047\" xlink:href=\"#DejaVuSans-46\"/>\n       <use x=\"95.410156\" xlink:href=\"#DejaVuSans-48\"/>\n       <use x=\"159.033203\" xlink:href=\"#DejaVuSans-48\"/>\n       <use x=\"222.65625\" xlink:href=\"#DejaVuSans-53\"/>\n      </g>\n     </g>\n    </g>\n   </g>\n   <g id=\"patch_4\">\n    <path d=\"M 939.73375 783.358125 \nL 939.73375 780.385312 \nL 939.73375 25.290937 \nL 939.73375 22.318125 \nL 977.78575 22.318125 \nL 977.78575 25.290937 \nL 977.78575 780.385312 \nL 977.78575 783.358125 \nz\n\" style=\"fill:none;\"/>\n   </g>\n  </g>\n </g>\n <defs>\n  <clipPath id=\"pe5dc507ec0\">\n   <rect height=\"761.04\" width=\"803.52\" x=\"85.99375\" y=\"22.318125\"/>\n  </clipPath>\n  <clipPath id=\"paf222c805c\">\n   <rect height=\"761.04\" width=\"38.052\" x=\"939.73375\" y=\"22.318125\"/>\n  </clipPath>\n </defs>\n</svg>\n"
          },
          "metadata": {
            "needs_background": "light"
          }
        }
      ]
    },
    {
      "cell_type": "markdown",
      "source": [
        "6. Часто для качественного анализа аудитории использую подходы, основанные на сегментации. Используя python, построй RFM-сегментацию пользователей, чтобы качественно оценить свою аудиторию. В кластеризации можешь выбрать следующие метрики: R - время от последней покупки пользователя до текущей даты, F - суммарное количество покупок у пользователя за всё время, M - сумма покупок за всё время. Подробно опиши, как ты создавал кластеры. Для каждого RFM-сегмента построй границы метрик recency, frequency и monetary для интерпретации этих кластеров. Пример такого описания: RFM-сегмент 132 (recency=1, frequency=3, monetary=2) имеет границы метрик recency от 130 до 500 дней, frequency от 2 до 5 заказов в неделю, monetary от 1780 до 3560 рублей в неделю."
      ],
      "metadata": {
        "id": "7bEOqd1EJbbv"
      }
    },
    {
      "cell_type": "code",
      "source": [
        "from numpy.lib.function_base import quantile\n"
      ],
      "metadata": {
        "id": "T839FCTWEhCK"
      },
      "execution_count": null,
      "outputs": []
    },
    {
      "cell_type": "code",
      "source": [
        "ferst_part = olist_orders[['order_status','customer_id', 'order_id', 'order_purchase_timestamp']]\\\n",
        ".query('order_status != [\"created\"] & order_status != [\"unavailable\"] & order_status != [\"canseled\"]')\\\n",
        ".merge(olist_customers[['customer_unique_id', 'customer_id']], how = 'left', on = 'customer_id')"
      ],
      "metadata": {
        "id": "Vfwpllk1Fzro"
      },
      "execution_count": null,
      "outputs": []
    },
    {
      "cell_type": "code",
      "source": [
        "fool_data = olist_items[['order_id', 'order_item_id', 'product_id', 'shipping_limit_date', 'price']].merge(ferst_part, how = 'left', on = 'order_id')"
      ],
      "metadata": {
        "id": "xQF9e84GIF_U"
      },
      "execution_count": null,
      "outputs": []
    },
    {
      "cell_type": "code",
      "source": [
        "olist_items.shape"
      ],
      "metadata": {
        "colab": {
          "base_uri": "https://localhost:8080/"
        },
        "id": "Ie4oE_3dWHDG",
        "outputId": "8f94fde3-25a5-4286-ed11-15c0c19586d7"
      },
      "execution_count": null,
      "outputs": [
        {
          "output_type": "execute_result",
          "data": {
            "text/plain": [
              "(112650, 7)"
            ]
          },
          "metadata": {},
          "execution_count": 47
        }
      ]
    },
    {
      "cell_type": "code",
      "source": [
        "fool_data.shape"
      ],
      "metadata": {
        "id": "PH_fFBU0I7sf",
        "outputId": "cde6fef6-bc28-4912-c051-8ce4ffb4a662",
        "colab": {
          "base_uri": "https://localhost:8080/"
        }
      },
      "execution_count": null,
      "outputs": [
        {
          "output_type": "execute_result",
          "data": {
            "text/plain": [
              "(112650, 9)"
            ]
          },
          "metadata": {},
          "execution_count": 48
        }
      ]
    },
    {
      "cell_type": "code",
      "source": [
        "fool_data.info()"
      ],
      "metadata": {
        "colab": {
          "base_uri": "https://localhost:8080/"
        },
        "id": "y_UpbFTkWcM8",
        "outputId": "865c9fbc-de9c-4aac-ea90-d68545f4b5ea"
      },
      "execution_count": null,
      "outputs": [
        {
          "output_type": "stream",
          "name": "stdout",
          "text": [
            "<class 'pandas.core.frame.DataFrame'>\n",
            "Int64Index: 112650 entries, 0 to 112649\n",
            "Data columns (total 9 columns):\n",
            " #   Column                    Non-Null Count   Dtype  \n",
            "---  ------                    --------------   -----  \n",
            " 0   order_id                  112650 non-null  object \n",
            " 1   order_item_id             112650 non-null  int64  \n",
            " 2   product_id                112650 non-null  object \n",
            " 3   shipping_limit_date       112650 non-null  object \n",
            " 4   price                     112650 non-null  float64\n",
            " 5   order_status              112643 non-null  object \n",
            " 6   customer_id               112643 non-null  object \n",
            " 7   order_purchase_timestamp  112643 non-null  object \n",
            " 8   customer_unique_id        112643 non-null  object \n",
            "dtypes: float64(1), int64(1), object(7)\n",
            "memory usage: 8.6+ MB\n"
          ]
        }
      ]
    },
    {
      "cell_type": "code",
      "source": [
        "fool_data['shipping_limit_date'] = pd.to_datetime(fool_data.shipping_limit_date)"
      ],
      "metadata": {
        "id": "IiUqUJseWgAO"
      },
      "execution_count": null,
      "outputs": []
    },
    {
      "cell_type": "code",
      "source": [
        "fool_data['order_purchase_timestamp'] = pd.to_datetime(fool_data.shipping_limit_date)"
      ],
      "metadata": {
        "id": "tnGjwJ0MXQFV"
      },
      "execution_count": null,
      "outputs": []
    },
    {
      "cell_type": "code",
      "source": [
        "fool_data.order_id.value_counts()\n"
      ],
      "metadata": {
        "colab": {
          "base_uri": "https://localhost:8080/"
        },
        "id": "JyVny4I9WOq-",
        "outputId": "b589a6b5-2cea-4ed3-fdbd-c08b1b7c4dae"
      },
      "execution_count": null,
      "outputs": [
        {
          "output_type": "execute_result",
          "data": {
            "text/plain": [
              "8272b63d03f5f79c56e9e4120aec44ef    21\n",
              "1b15974a0141d54e36626dca3fdc731a    20\n",
              "ab14fdcfbe524636d65ee38360e22ce8    20\n",
              "9ef13efd6949e4573a18964dd1bbe7f5    15\n",
              "428a2f660dc84138d969ccd69a0ab6d5    15\n",
              "                                    ..\n",
              "5a0911d70c1f85d3bed0df1bf693a6dd     1\n",
              "5a082b558a3798d3e36d93bfa8ca1eae     1\n",
              "5a07264682e0b8fbb3f166edbbffc6e8     1\n",
              "5a071192a28951b76774e5a760c8c9b7     1\n",
              "fffe41c64501cc87c801fd61db3f6244     1\n",
              "Name: order_id, Length: 98666, dtype: int64"
            ]
          },
          "metadata": {},
          "execution_count": 52
        }
      ]
    },
    {
      "cell_type": "code",
      "source": [
        "las_date = fool_data.order_purchase_timestamp.max()"
      ],
      "metadata": {
        "id": "yemgOSCrWqNh"
      },
      "execution_count": null,
      "outputs": []
    },
    {
      "cell_type": "markdown",
      "source": [
        "Опредлились с Днями прошедшими с последней покупки"
      ],
      "metadata": {
        "id": "XW1gMtznZ_Um"
      }
    },
    {
      "cell_type": "code",
      "source": [
        "RFM_data = fool_data.groupby('customer_unique_id').agg({'order_purchase_timestamp':'max', 'price':'sum', 'order_id':'nunique'}).reset_index()\\\n",
        ".rename(columns = {'order_purchase_timestamp':'last_buy', 'order_id':'orders_total', 'price' : 'total_cash'})"
      ],
      "metadata": {
        "id": "CjFVRKAogADX"
      },
      "execution_count": null,
      "outputs": []
    },
    {
      "cell_type": "code",
      "source": [
        "RFM_data['days_from_last_buy'] = (las_date - RFM_data.last_buy).dt.days"
      ],
      "metadata": {
        "id": "84UijMDpYPgz"
      },
      "execution_count": null,
      "outputs": []
    },
    {
      "cell_type": "code",
      "source": [
        "RFM_data.head()"
      ],
      "metadata": {
        "colab": {
          "base_uri": "https://localhost:8080/",
          "height": 206
        },
        "id": "shjPJgexr55_",
        "outputId": "72009c10-9a82-4055-a5b8-5931f64801f2"
      },
      "execution_count": null,
      "outputs": [
        {
          "output_type": "execute_result",
          "data": {
            "text/plain": [
              "                 customer_unique_id            last_buy  total_cash  \\\n",
              "0  0000366f3b9a7992bf8c76cfdf3221e2 2018-05-15 11:11:18      129.90   \n",
              "1  0000b849f77a49e4a4ce2b2a4ca5be3f 2018-05-11 17:56:33       18.90   \n",
              "2  0000f46a3911fa3c0805444483337064 2017-03-15 21:05:03       69.00   \n",
              "3  0000f6ccb0745a6a4b88665a16c9f078 2017-10-18 21:49:17       25.99   \n",
              "4  0004aac84e0df4da2b147fca70cf8255 2017-11-22 20:06:52      180.00   \n",
              "\n",
              "   orders_total  days_from_last_buy  \n",
              "0             1                 695  \n",
              "1             1                 699  \n",
              "2             1                1121  \n",
              "3             1                 904  \n",
              "4             1                 869  "
            ],
            "text/html": [
              "\n",
              "  <div id=\"df-43d3f088-7637-4c11-9e38-0748105449d0\">\n",
              "    <div class=\"colab-df-container\">\n",
              "      <div>\n",
              "<style scoped>\n",
              "    .dataframe tbody tr th:only-of-type {\n",
              "        vertical-align: middle;\n",
              "    }\n",
              "\n",
              "    .dataframe tbody tr th {\n",
              "        vertical-align: top;\n",
              "    }\n",
              "\n",
              "    .dataframe thead th {\n",
              "        text-align: right;\n",
              "    }\n",
              "</style>\n",
              "<table border=\"1\" class=\"dataframe\">\n",
              "  <thead>\n",
              "    <tr style=\"text-align: right;\">\n",
              "      <th></th>\n",
              "      <th>customer_unique_id</th>\n",
              "      <th>last_buy</th>\n",
              "      <th>total_cash</th>\n",
              "      <th>orders_total</th>\n",
              "      <th>days_from_last_buy</th>\n",
              "    </tr>\n",
              "  </thead>\n",
              "  <tbody>\n",
              "    <tr>\n",
              "      <th>0</th>\n",
              "      <td>0000366f3b9a7992bf8c76cfdf3221e2</td>\n",
              "      <td>2018-05-15 11:11:18</td>\n",
              "      <td>129.90</td>\n",
              "      <td>1</td>\n",
              "      <td>695</td>\n",
              "    </tr>\n",
              "    <tr>\n",
              "      <th>1</th>\n",
              "      <td>0000b849f77a49e4a4ce2b2a4ca5be3f</td>\n",
              "      <td>2018-05-11 17:56:33</td>\n",
              "      <td>18.90</td>\n",
              "      <td>1</td>\n",
              "      <td>699</td>\n",
              "    </tr>\n",
              "    <tr>\n",
              "      <th>2</th>\n",
              "      <td>0000f46a3911fa3c0805444483337064</td>\n",
              "      <td>2017-03-15 21:05:03</td>\n",
              "      <td>69.00</td>\n",
              "      <td>1</td>\n",
              "      <td>1121</td>\n",
              "    </tr>\n",
              "    <tr>\n",
              "      <th>3</th>\n",
              "      <td>0000f6ccb0745a6a4b88665a16c9f078</td>\n",
              "      <td>2017-10-18 21:49:17</td>\n",
              "      <td>25.99</td>\n",
              "      <td>1</td>\n",
              "      <td>904</td>\n",
              "    </tr>\n",
              "    <tr>\n",
              "      <th>4</th>\n",
              "      <td>0004aac84e0df4da2b147fca70cf8255</td>\n",
              "      <td>2017-11-22 20:06:52</td>\n",
              "      <td>180.00</td>\n",
              "      <td>1</td>\n",
              "      <td>869</td>\n",
              "    </tr>\n",
              "  </tbody>\n",
              "</table>\n",
              "</div>\n",
              "      <button class=\"colab-df-convert\" onclick=\"convertToInteractive('df-43d3f088-7637-4c11-9e38-0748105449d0')\"\n",
              "              title=\"Convert this dataframe to an interactive table.\"\n",
              "              style=\"display:none;\">\n",
              "        \n",
              "  <svg xmlns=\"http://www.w3.org/2000/svg\" height=\"24px\"viewBox=\"0 0 24 24\"\n",
              "       width=\"24px\">\n",
              "    <path d=\"M0 0h24v24H0V0z\" fill=\"none\"/>\n",
              "    <path d=\"M18.56 5.44l.94 2.06.94-2.06 2.06-.94-2.06-.94-.94-2.06-.94 2.06-2.06.94zm-11 1L8.5 8.5l.94-2.06 2.06-.94-2.06-.94L8.5 2.5l-.94 2.06-2.06.94zm10 10l.94 2.06.94-2.06 2.06-.94-2.06-.94-.94-2.06-.94 2.06-2.06.94z\"/><path d=\"M17.41 7.96l-1.37-1.37c-.4-.4-.92-.59-1.43-.59-.52 0-1.04.2-1.43.59L10.3 9.45l-7.72 7.72c-.78.78-.78 2.05 0 2.83L4 21.41c.39.39.9.59 1.41.59.51 0 1.02-.2 1.41-.59l7.78-7.78 2.81-2.81c.8-.78.8-2.07 0-2.86zM5.41 20L4 18.59l7.72-7.72 1.47 1.35L5.41 20z\"/>\n",
              "  </svg>\n",
              "      </button>\n",
              "      \n",
              "  <style>\n",
              "    .colab-df-container {\n",
              "      display:flex;\n",
              "      flex-wrap:wrap;\n",
              "      gap: 12px;\n",
              "    }\n",
              "\n",
              "    .colab-df-convert {\n",
              "      background-color: #E8F0FE;\n",
              "      border: none;\n",
              "      border-radius: 50%;\n",
              "      cursor: pointer;\n",
              "      display: none;\n",
              "      fill: #1967D2;\n",
              "      height: 32px;\n",
              "      padding: 0 0 0 0;\n",
              "      width: 32px;\n",
              "    }\n",
              "\n",
              "    .colab-df-convert:hover {\n",
              "      background-color: #E2EBFA;\n",
              "      box-shadow: 0px 1px 2px rgba(60, 64, 67, 0.3), 0px 1px 3px 1px rgba(60, 64, 67, 0.15);\n",
              "      fill: #174EA6;\n",
              "    }\n",
              "\n",
              "    [theme=dark] .colab-df-convert {\n",
              "      background-color: #3B4455;\n",
              "      fill: #D2E3FC;\n",
              "    }\n",
              "\n",
              "    [theme=dark] .colab-df-convert:hover {\n",
              "      background-color: #434B5C;\n",
              "      box-shadow: 0px 1px 3px 1px rgba(0, 0, 0, 0.15);\n",
              "      filter: drop-shadow(0px 1px 2px rgba(0, 0, 0, 0.3));\n",
              "      fill: #FFFFFF;\n",
              "    }\n",
              "  </style>\n",
              "\n",
              "      <script>\n",
              "        const buttonEl =\n",
              "          document.querySelector('#df-43d3f088-7637-4c11-9e38-0748105449d0 button.colab-df-convert');\n",
              "        buttonEl.style.display =\n",
              "          google.colab.kernel.accessAllowed ? 'block' : 'none';\n",
              "\n",
              "        async function convertToInteractive(key) {\n",
              "          const element = document.querySelector('#df-43d3f088-7637-4c11-9e38-0748105449d0');\n",
              "          const dataTable =\n",
              "            await google.colab.kernel.invokeFunction('convertToInteractive',\n",
              "                                                     [key], {});\n",
              "          if (!dataTable) return;\n",
              "\n",
              "          const docLinkHtml = 'Like what you see? Visit the ' +\n",
              "            '<a target=\"_blank\" href=https://colab.research.google.com/notebooks/data_table.ipynb>data table notebook</a>'\n",
              "            + ' to learn more about interactive tables.';\n",
              "          element.innerHTML = '';\n",
              "          dataTable['output_type'] = 'display_data';\n",
              "          await google.colab.output.renderOutput(dataTable, element);\n",
              "          const docLink = document.createElement('div');\n",
              "          docLink.innerHTML = docLinkHtml;\n",
              "          element.appendChild(docLink);\n",
              "        }\n",
              "      </script>\n",
              "    </div>\n",
              "  </div>\n",
              "  "
            ]
          },
          "metadata": {},
          "execution_count": 58
        }
      ]
    },
    {
      "cell_type": "code",
      "source": [
        "RFM_data.orders_total.describe()"
      ],
      "metadata": {
        "colab": {
          "base_uri": "https://localhost:8080/"
        },
        "id": "Fwzw2L6og5UZ",
        "outputId": "76ed6453-11db-40a1-c153-258dd2707528"
      },
      "execution_count": null,
      "outputs": [
        {
          "output_type": "execute_result",
          "data": {
            "text/plain": [
              "count    95414.00000\n",
              "mean         1.03402\n",
              "std          0.21124\n",
              "min          1.00000\n",
              "25%          1.00000\n",
              "50%          1.00000\n",
              "75%          1.00000\n",
              "max         16.00000\n",
              "Name: orders_total, dtype: float64"
            ]
          },
          "metadata": {},
          "execution_count": 57
        }
      ]
    },
    {
      "cell_type": "code",
      "source": [
        "quantils = RFM_data.quantile(q=[0.25, 0.5, 0.75])"
      ],
      "metadata": {
        "id": "jBgV8u07xqIB"
      },
      "execution_count": null,
      "outputs": []
    },
    {
      "cell_type": "markdown",
      "source": [
        "Так как заказы распределены совсем не нормально , то для их анализа используем количественные показатели"
      ],
      "metadata": {
        "id": "2zNWhPcv2Ho5"
      }
    },
    {
      "cell_type": "code",
      "source": [
        "def RClass(value,parameter_name,quantiles_table):\n",
        "    if value <= quantiles_table[parameter_name][0.25]:\n",
        "        return 1\n",
        "    elif value <= quantiles_table[parameter_name][0.50]:\n",
        "        return 2\n",
        "    elif value <= quantiles_table[parameter_name][0.75]: \n",
        "        return 3\n",
        "    else:\n",
        "        return 4\n",
        "def FClass(value, parameter_name,quantiles_table):\n",
        "    if value <= quantiles_table[parameter_name][0.25]:\n",
        "        return 4\n",
        "    elif value <= 4:\n",
        "        return 3\n",
        "    elif value <= 8: \n",
        "        return 2\n",
        "    else:\n",
        "        return 1\n",
        "\n",
        "\n",
        "def MClass(value, parameter_name,quantiles_table):\n",
        "    if value <= quantiles_table[parameter_name][0.25]:\n",
        "        return 4\n",
        "    elif value <= quantiles_table[parameter_name][0.50]:\n",
        "        return 3\n",
        "    elif value <= quantiles_table[parameter_name][0.75]: \n",
        "        return 2\n",
        "    else:\n",
        "        return 1"
      ],
      "metadata": {
        "id": "T0ut_-o60Kt6"
      },
      "execution_count": null,
      "outputs": []
    },
    {
      "cell_type": "code",
      "source": [
        "rfmSegmentation = RFM_data"
      ],
      "metadata": {
        "id": "Oh0wA85p5bzm"
      },
      "execution_count": null,
      "outputs": []
    },
    {
      "cell_type": "code",
      "source": [
        "rfmSegmentation['R_Quartile'] = rfmSegmentation['days_from_last_buy'].apply(RClass, args=('days_from_last_buy',quantils))\n",
        "\n",
        "rfmSegmentation['F_Quartile'] = rfmSegmentation['orders_total'].apply(FClass, args=('orders_total',quantils))\n",
        "\n",
        "rfmSegmentation['M_Quartile'] = rfmSegmentation['total_cash'].apply(MClass, args=('total_cash',quantils))\n",
        "\n",
        "rfmSegmentation['RFMClass'] = rfmSegmentation.R_Quartile.map(str)+ rfmSegmentation.F_Quartile.map(str)    + rfmSegmentation.M_Quartile.map(str)"
      ],
      "metadata": {
        "id": "NRJFUVJ62Q2T"
      },
      "execution_count": null,
      "outputs": []
    },
    {
      "cell_type": "code",
      "source": [
        "rfmSegmentation.groupby('RFMClass').agg({'customer_unique_id':'count', 'total_cash':'sum', 'days_from_last_buy':'mean', 'orders_total':'mean'})\\\n",
        ".rename(columns = {'customer_unique_id':'users_total', 'days_from_last_buy':'mean_days_from_last_buy'  })\\\n",
        ".reset_index()"
      ],
      "metadata": {
        "colab": {
          "base_uri": "https://localhost:8080/",
          "height": 1000
        },
        "id": "nmvZaKx_WnJE",
        "outputId": "0e94f06d-6b15-4f1b-e95d-4702e28db8db"
      },
      "execution_count": null,
      "outputs": [
        {
          "output_type": "execute_result",
          "data": {
            "text/plain": [
              "   RFMClass  users_total  total_cash  mean_days_from_last_buy  orders_total\n",
              "0       111            1      729.62               595.000000     16.000000\n",
              "1       121            7     5311.51               641.000000      5.857143\n",
              "2       131          514   193197.83               641.287938      2.153696\n",
              "3       132          176    21249.15               640.471591      2.039773\n",
              "4       133          101     7110.39               645.089109      2.039604\n",
              "5       134           28     1015.10               636.285714      2.000000\n",
              "6       141         5550  2032356.05               641.951532      1.000000\n",
              "7       142         5809   692863.54               642.267516      1.000000\n",
              "8       143         5939   395278.22               639.635124      1.000000\n",
              "9       144         6034   176606.66               640.589990      1.000000\n",
              "10      211            1     1000.85               766.000000      9.000000\n",
              "11      221            8     4641.31               747.750000      5.500000\n",
              "12      231          470   161069.45               752.336170      2.104255\n",
              "13      232          192    23601.10               752.338542      2.072917\n",
              "14      233           92     6496.60               751.880435      2.021739\n",
              "15      234           29      982.65               746.310345      2.000000\n",
              "16      241         5474  1894268.29               748.752284      1.000000\n",
              "17      242         5718   689124.26               748.818643      1.000000\n",
              "18      243         5789   385716.00               750.095871      1.000000\n",
              "19      244         6041   178014.81               751.522430      1.000000\n",
              "20      321            1      486.00               806.000000      5.000000\n",
              "21      331          413   158950.15               860.772397      2.108959\n",
              "22      332          170    20255.13               863.976471      2.023529\n",
              "23      333          100     7056.45               868.340000      2.010000\n",
              "24      334           19      737.41               863.578947      2.000000\n",
              "25      341         5537  1920339.04               862.260249      1.000000\n",
              "26      342         5481   656610.93               860.295931      1.000000\n",
              "27      343         6423   428990.08               860.761794      1.000000\n",
              "28      344         5757   167523.19               860.068960      1.000000\n",
              "29      423            1       58.40              1186.000000      6.000000\n",
              "30      431          319   123622.67              1016.197492      2.084639\n",
              "31      432          149    18401.63              1024.664430      2.060403\n",
              "32      433           87     6123.07              1030.264368      2.045977\n",
              "33      434           35     1195.39              1062.028571      2.142857\n",
              "34      441         5537  2014979.11              1038.366625      1.000000\n",
              "35      442         5036   594758.09              1037.054607      1.000000\n",
              "36      443         6336   423807.71              1031.270991      1.000000\n",
              "37      444         6040   175108.17              1038.730629      1.000000"
            ],
            "text/html": [
              "\n",
              "  <div id=\"df-8f4d8e76-9ac6-4bd0-995a-6c9c90a4303b\">\n",
              "    <div class=\"colab-df-container\">\n",
              "      <div>\n",
              "<style scoped>\n",
              "    .dataframe tbody tr th:only-of-type {\n",
              "        vertical-align: middle;\n",
              "    }\n",
              "\n",
              "    .dataframe tbody tr th {\n",
              "        vertical-align: top;\n",
              "    }\n",
              "\n",
              "    .dataframe thead th {\n",
              "        text-align: right;\n",
              "    }\n",
              "</style>\n",
              "<table border=\"1\" class=\"dataframe\">\n",
              "  <thead>\n",
              "    <tr style=\"text-align: right;\">\n",
              "      <th></th>\n",
              "      <th>RFMClass</th>\n",
              "      <th>users_total</th>\n",
              "      <th>total_cash</th>\n",
              "      <th>mean_days_from_last_buy</th>\n",
              "      <th>orders_total</th>\n",
              "    </tr>\n",
              "  </thead>\n",
              "  <tbody>\n",
              "    <tr>\n",
              "      <th>0</th>\n",
              "      <td>111</td>\n",
              "      <td>1</td>\n",
              "      <td>729.62</td>\n",
              "      <td>595.000000</td>\n",
              "      <td>16.000000</td>\n",
              "    </tr>\n",
              "    <tr>\n",
              "      <th>1</th>\n",
              "      <td>121</td>\n",
              "      <td>7</td>\n",
              "      <td>5311.51</td>\n",
              "      <td>641.000000</td>\n",
              "      <td>5.857143</td>\n",
              "    </tr>\n",
              "    <tr>\n",
              "      <th>2</th>\n",
              "      <td>131</td>\n",
              "      <td>514</td>\n",
              "      <td>193197.83</td>\n",
              "      <td>641.287938</td>\n",
              "      <td>2.153696</td>\n",
              "    </tr>\n",
              "    <tr>\n",
              "      <th>3</th>\n",
              "      <td>132</td>\n",
              "      <td>176</td>\n",
              "      <td>21249.15</td>\n",
              "      <td>640.471591</td>\n",
              "      <td>2.039773</td>\n",
              "    </tr>\n",
              "    <tr>\n",
              "      <th>4</th>\n",
              "      <td>133</td>\n",
              "      <td>101</td>\n",
              "      <td>7110.39</td>\n",
              "      <td>645.089109</td>\n",
              "      <td>2.039604</td>\n",
              "    </tr>\n",
              "    <tr>\n",
              "      <th>5</th>\n",
              "      <td>134</td>\n",
              "      <td>28</td>\n",
              "      <td>1015.10</td>\n",
              "      <td>636.285714</td>\n",
              "      <td>2.000000</td>\n",
              "    </tr>\n",
              "    <tr>\n",
              "      <th>6</th>\n",
              "      <td>141</td>\n",
              "      <td>5550</td>\n",
              "      <td>2032356.05</td>\n",
              "      <td>641.951532</td>\n",
              "      <td>1.000000</td>\n",
              "    </tr>\n",
              "    <tr>\n",
              "      <th>7</th>\n",
              "      <td>142</td>\n",
              "      <td>5809</td>\n",
              "      <td>692863.54</td>\n",
              "      <td>642.267516</td>\n",
              "      <td>1.000000</td>\n",
              "    </tr>\n",
              "    <tr>\n",
              "      <th>8</th>\n",
              "      <td>143</td>\n",
              "      <td>5939</td>\n",
              "      <td>395278.22</td>\n",
              "      <td>639.635124</td>\n",
              "      <td>1.000000</td>\n",
              "    </tr>\n",
              "    <tr>\n",
              "      <th>9</th>\n",
              "      <td>144</td>\n",
              "      <td>6034</td>\n",
              "      <td>176606.66</td>\n",
              "      <td>640.589990</td>\n",
              "      <td>1.000000</td>\n",
              "    </tr>\n",
              "    <tr>\n",
              "      <th>10</th>\n",
              "      <td>211</td>\n",
              "      <td>1</td>\n",
              "      <td>1000.85</td>\n",
              "      <td>766.000000</td>\n",
              "      <td>9.000000</td>\n",
              "    </tr>\n",
              "    <tr>\n",
              "      <th>11</th>\n",
              "      <td>221</td>\n",
              "      <td>8</td>\n",
              "      <td>4641.31</td>\n",
              "      <td>747.750000</td>\n",
              "      <td>5.500000</td>\n",
              "    </tr>\n",
              "    <tr>\n",
              "      <th>12</th>\n",
              "      <td>231</td>\n",
              "      <td>470</td>\n",
              "      <td>161069.45</td>\n",
              "      <td>752.336170</td>\n",
              "      <td>2.104255</td>\n",
              "    </tr>\n",
              "    <tr>\n",
              "      <th>13</th>\n",
              "      <td>232</td>\n",
              "      <td>192</td>\n",
              "      <td>23601.10</td>\n",
              "      <td>752.338542</td>\n",
              "      <td>2.072917</td>\n",
              "    </tr>\n",
              "    <tr>\n",
              "      <th>14</th>\n",
              "      <td>233</td>\n",
              "      <td>92</td>\n",
              "      <td>6496.60</td>\n",
              "      <td>751.880435</td>\n",
              "      <td>2.021739</td>\n",
              "    </tr>\n",
              "    <tr>\n",
              "      <th>15</th>\n",
              "      <td>234</td>\n",
              "      <td>29</td>\n",
              "      <td>982.65</td>\n",
              "      <td>746.310345</td>\n",
              "      <td>2.000000</td>\n",
              "    </tr>\n",
              "    <tr>\n",
              "      <th>16</th>\n",
              "      <td>241</td>\n",
              "      <td>5474</td>\n",
              "      <td>1894268.29</td>\n",
              "      <td>748.752284</td>\n",
              "      <td>1.000000</td>\n",
              "    </tr>\n",
              "    <tr>\n",
              "      <th>17</th>\n",
              "      <td>242</td>\n",
              "      <td>5718</td>\n",
              "      <td>689124.26</td>\n",
              "      <td>748.818643</td>\n",
              "      <td>1.000000</td>\n",
              "    </tr>\n",
              "    <tr>\n",
              "      <th>18</th>\n",
              "      <td>243</td>\n",
              "      <td>5789</td>\n",
              "      <td>385716.00</td>\n",
              "      <td>750.095871</td>\n",
              "      <td>1.000000</td>\n",
              "    </tr>\n",
              "    <tr>\n",
              "      <th>19</th>\n",
              "      <td>244</td>\n",
              "      <td>6041</td>\n",
              "      <td>178014.81</td>\n",
              "      <td>751.522430</td>\n",
              "      <td>1.000000</td>\n",
              "    </tr>\n",
              "    <tr>\n",
              "      <th>20</th>\n",
              "      <td>321</td>\n",
              "      <td>1</td>\n",
              "      <td>486.00</td>\n",
              "      <td>806.000000</td>\n",
              "      <td>5.000000</td>\n",
              "    </tr>\n",
              "    <tr>\n",
              "      <th>21</th>\n",
              "      <td>331</td>\n",
              "      <td>413</td>\n",
              "      <td>158950.15</td>\n",
              "      <td>860.772397</td>\n",
              "      <td>2.108959</td>\n",
              "    </tr>\n",
              "    <tr>\n",
              "      <th>22</th>\n",
              "      <td>332</td>\n",
              "      <td>170</td>\n",
              "      <td>20255.13</td>\n",
              "      <td>863.976471</td>\n",
              "      <td>2.023529</td>\n",
              "    </tr>\n",
              "    <tr>\n",
              "      <th>23</th>\n",
              "      <td>333</td>\n",
              "      <td>100</td>\n",
              "      <td>7056.45</td>\n",
              "      <td>868.340000</td>\n",
              "      <td>2.010000</td>\n",
              "    </tr>\n",
              "    <tr>\n",
              "      <th>24</th>\n",
              "      <td>334</td>\n",
              "      <td>19</td>\n",
              "      <td>737.41</td>\n",
              "      <td>863.578947</td>\n",
              "      <td>2.000000</td>\n",
              "    </tr>\n",
              "    <tr>\n",
              "      <th>25</th>\n",
              "      <td>341</td>\n",
              "      <td>5537</td>\n",
              "      <td>1920339.04</td>\n",
              "      <td>862.260249</td>\n",
              "      <td>1.000000</td>\n",
              "    </tr>\n",
              "    <tr>\n",
              "      <th>26</th>\n",
              "      <td>342</td>\n",
              "      <td>5481</td>\n",
              "      <td>656610.93</td>\n",
              "      <td>860.295931</td>\n",
              "      <td>1.000000</td>\n",
              "    </tr>\n",
              "    <tr>\n",
              "      <th>27</th>\n",
              "      <td>343</td>\n",
              "      <td>6423</td>\n",
              "      <td>428990.08</td>\n",
              "      <td>860.761794</td>\n",
              "      <td>1.000000</td>\n",
              "    </tr>\n",
              "    <tr>\n",
              "      <th>28</th>\n",
              "      <td>344</td>\n",
              "      <td>5757</td>\n",
              "      <td>167523.19</td>\n",
              "      <td>860.068960</td>\n",
              "      <td>1.000000</td>\n",
              "    </tr>\n",
              "    <tr>\n",
              "      <th>29</th>\n",
              "      <td>423</td>\n",
              "      <td>1</td>\n",
              "      <td>58.40</td>\n",
              "      <td>1186.000000</td>\n",
              "      <td>6.000000</td>\n",
              "    </tr>\n",
              "    <tr>\n",
              "      <th>30</th>\n",
              "      <td>431</td>\n",
              "      <td>319</td>\n",
              "      <td>123622.67</td>\n",
              "      <td>1016.197492</td>\n",
              "      <td>2.084639</td>\n",
              "    </tr>\n",
              "    <tr>\n",
              "      <th>31</th>\n",
              "      <td>432</td>\n",
              "      <td>149</td>\n",
              "      <td>18401.63</td>\n",
              "      <td>1024.664430</td>\n",
              "      <td>2.060403</td>\n",
              "    </tr>\n",
              "    <tr>\n",
              "      <th>32</th>\n",
              "      <td>433</td>\n",
              "      <td>87</td>\n",
              "      <td>6123.07</td>\n",
              "      <td>1030.264368</td>\n",
              "      <td>2.045977</td>\n",
              "    </tr>\n",
              "    <tr>\n",
              "      <th>33</th>\n",
              "      <td>434</td>\n",
              "      <td>35</td>\n",
              "      <td>1195.39</td>\n",
              "      <td>1062.028571</td>\n",
              "      <td>2.142857</td>\n",
              "    </tr>\n",
              "    <tr>\n",
              "      <th>34</th>\n",
              "      <td>441</td>\n",
              "      <td>5537</td>\n",
              "      <td>2014979.11</td>\n",
              "      <td>1038.366625</td>\n",
              "      <td>1.000000</td>\n",
              "    </tr>\n",
              "    <tr>\n",
              "      <th>35</th>\n",
              "      <td>442</td>\n",
              "      <td>5036</td>\n",
              "      <td>594758.09</td>\n",
              "      <td>1037.054607</td>\n",
              "      <td>1.000000</td>\n",
              "    </tr>\n",
              "    <tr>\n",
              "      <th>36</th>\n",
              "      <td>443</td>\n",
              "      <td>6336</td>\n",
              "      <td>423807.71</td>\n",
              "      <td>1031.270991</td>\n",
              "      <td>1.000000</td>\n",
              "    </tr>\n",
              "    <tr>\n",
              "      <th>37</th>\n",
              "      <td>444</td>\n",
              "      <td>6040</td>\n",
              "      <td>175108.17</td>\n",
              "      <td>1038.730629</td>\n",
              "      <td>1.000000</td>\n",
              "    </tr>\n",
              "  </tbody>\n",
              "</table>\n",
              "</div>\n",
              "      <button class=\"colab-df-convert\" onclick=\"convertToInteractive('df-8f4d8e76-9ac6-4bd0-995a-6c9c90a4303b')\"\n",
              "              title=\"Convert this dataframe to an interactive table.\"\n",
              "              style=\"display:none;\">\n",
              "        \n",
              "  <svg xmlns=\"http://www.w3.org/2000/svg\" height=\"24px\"viewBox=\"0 0 24 24\"\n",
              "       width=\"24px\">\n",
              "    <path d=\"M0 0h24v24H0V0z\" fill=\"none\"/>\n",
              "    <path d=\"M18.56 5.44l.94 2.06.94-2.06 2.06-.94-2.06-.94-.94-2.06-.94 2.06-2.06.94zm-11 1L8.5 8.5l.94-2.06 2.06-.94-2.06-.94L8.5 2.5l-.94 2.06-2.06.94zm10 10l.94 2.06.94-2.06 2.06-.94-2.06-.94-.94-2.06-.94 2.06-2.06.94z\"/><path d=\"M17.41 7.96l-1.37-1.37c-.4-.4-.92-.59-1.43-.59-.52 0-1.04.2-1.43.59L10.3 9.45l-7.72 7.72c-.78.78-.78 2.05 0 2.83L4 21.41c.39.39.9.59 1.41.59.51 0 1.02-.2 1.41-.59l7.78-7.78 2.81-2.81c.8-.78.8-2.07 0-2.86zM5.41 20L4 18.59l7.72-7.72 1.47 1.35L5.41 20z\"/>\n",
              "  </svg>\n",
              "      </button>\n",
              "      \n",
              "  <style>\n",
              "    .colab-df-container {\n",
              "      display:flex;\n",
              "      flex-wrap:wrap;\n",
              "      gap: 12px;\n",
              "    }\n",
              "\n",
              "    .colab-df-convert {\n",
              "      background-color: #E8F0FE;\n",
              "      border: none;\n",
              "      border-radius: 50%;\n",
              "      cursor: pointer;\n",
              "      display: none;\n",
              "      fill: #1967D2;\n",
              "      height: 32px;\n",
              "      padding: 0 0 0 0;\n",
              "      width: 32px;\n",
              "    }\n",
              "\n",
              "    .colab-df-convert:hover {\n",
              "      background-color: #E2EBFA;\n",
              "      box-shadow: 0px 1px 2px rgba(60, 64, 67, 0.3), 0px 1px 3px 1px rgba(60, 64, 67, 0.15);\n",
              "      fill: #174EA6;\n",
              "    }\n",
              "\n",
              "    [theme=dark] .colab-df-convert {\n",
              "      background-color: #3B4455;\n",
              "      fill: #D2E3FC;\n",
              "    }\n",
              "\n",
              "    [theme=dark] .colab-df-convert:hover {\n",
              "      background-color: #434B5C;\n",
              "      box-shadow: 0px 1px 3px 1px rgba(0, 0, 0, 0.15);\n",
              "      filter: drop-shadow(0px 1px 2px rgba(0, 0, 0, 0.3));\n",
              "      fill: #FFFFFF;\n",
              "    }\n",
              "  </style>\n",
              "\n",
              "      <script>\n",
              "        const buttonEl =\n",
              "          document.querySelector('#df-8f4d8e76-9ac6-4bd0-995a-6c9c90a4303b button.colab-df-convert');\n",
              "        buttonEl.style.display =\n",
              "          google.colab.kernel.accessAllowed ? 'block' : 'none';\n",
              "\n",
              "        async function convertToInteractive(key) {\n",
              "          const element = document.querySelector('#df-8f4d8e76-9ac6-4bd0-995a-6c9c90a4303b');\n",
              "          const dataTable =\n",
              "            await google.colab.kernel.invokeFunction('convertToInteractive',\n",
              "                                                     [key], {});\n",
              "          if (!dataTable) return;\n",
              "\n",
              "          const docLinkHtml = 'Like what you see? Visit the ' +\n",
              "            '<a target=\"_blank\" href=https://colab.research.google.com/notebooks/data_table.ipynb>data table notebook</a>'\n",
              "            + ' to learn more about interactive tables.';\n",
              "          element.innerHTML = '';\n",
              "          dataTable['output_type'] = 'display_data';\n",
              "          await google.colab.output.renderOutput(dataTable, element);\n",
              "          const docLink = document.createElement('div');\n",
              "          docLink.innerHTML = docLinkHtml;\n",
              "          element.appendChild(docLink);\n",
              "        }\n",
              "      </script>\n",
              "    </div>\n",
              "  </div>\n",
              "  "
            ]
          },
          "metadata": {},
          "execution_count": 66
        }
      ]
    }
  ]
}