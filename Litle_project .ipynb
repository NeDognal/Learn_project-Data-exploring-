{
  "nbformat": 4,
  "nbformat_minor": 0,
  "metadata": {
    "colab": {
      "provenance": []
    },
    "kernelspec": {
      "name": "python3",
      "display_name": "Python 3"
    },
    "language_info": {
      "name": "python"
    }
  },
  "cells": [
    {
      "cell_type": "code",
      "execution_count": 4,
      "metadata": {
        "id": "0Za6FIQLg7Vw"
      },
      "outputs": [],
      "source": [
        "import pandas as pd\n",
        "import datetime\n",
        "import requests\n",
        "import urllib\n",
        "import json\n",
        "from urllib.parse import urlencode\n",
        "from datetime import date\n",
        "import calendar\n",
        "import numpy as np\n",
        "import seaborn as sns\n",
        "import math as m\n",
        "import matplotlib.pyplot as plt"
      ]
    },
    {
      "cell_type": "code",
      "source": [
        "def yandex_file_download(public_key):\n",
        "    base_url = 'https://cloud-api.yandex.net/v1/disk/public/resources/download?'\n",
        "    public_key = public_key\n",
        "    # Получаем загрузочную ссылку\n",
        "    final_url = base_url + urlencode(dict(public_key=public_key))\n",
        "    response = requests.get(final_url)\n",
        "    download_url = response.json()['href']\n",
        "    h = json.loads(response.text)['href'] # 'парсинг' ссылки на скачивание\n",
        "    \n",
        "    return h"
      ],
      "metadata": {
        "id": "-LmNCvYpvZQ2"
      },
      "execution_count": 5,
      "outputs": []
    },
    {
      "cell_type": "code",
      "source": [
        "olist_customers = pd.read_csv(yandex_file_download('https://disk.yandex.ru/d/FUi5uSd6BfG_ig'), \n",
        "                              sep=',', error_bad_lines=False, comment='#' , encoding='cp1251')"
      ],
      "metadata": {
        "id": "9ShnxtPu0w1m"
      },
      "execution_count": null,
      "outputs": []
    },
    {
      "cell_type": "code",
      "source": [
        " olist_orders = pd.read_csv(yandex_file_download('https://disk.yandex.ru/d/t9Li4JOfgxuUrg'), \n",
        "                              sep=',', error_bad_lines=False, comment='#' , encoding='cp1251')"
      ],
      "metadata": {
        "id": "0ZK9vPb71_DQ"
      },
      "execution_count": null,
      "outputs": []
    },
    {
      "cell_type": "markdown",
      "source": [
        "Уникальные статусы заказов в таблице olist_orders_dataset:\n",
        "\n",
        "- created —  создан\n",
        "- approved —  подтверждён\n",
        "- invoiced —  выставлен счёт\n",
        "- processing —  в процессе сборки заказа\n",
        "- shipped —  отгружен со склада\n",
        "- delivered —  доставлен пользователю\n",
        "- unavailable —  недоступен\n",
        "- canceled —  отменён\n"
      ],
      "metadata": {
        "id": "vYLa5H-23NwG"
      }
    },
    {
      "cell_type": "code",
      "source": [
        "olist_items = pd.read_csv(yandex_file_download('https://disk.yandex.ru/d/Gbt-yAcQrOe3Pw'), \n",
        "                              sep=',', error_bad_lines=False, comment='#' , encoding='cp1251')"
      ],
      "metadata": {
        "id": "Ixfj-gLn2M2Z"
      },
      "execution_count": null,
      "outputs": []
    },
    {
      "cell_type": "code",
      "source": [
        "olist_customers.isna().sum()"
      ],
      "metadata": {
        "id": "MzidCNdC2stg"
      },
      "execution_count": null,
      "outputs": []
    },
    {
      "cell_type": "markdown",
      "source": [
        "- customer_id — позаказный идентификатор пользователя\n",
        "\n",
        "- customer_unique_id —  уникальный идентификатор пользователя  (аналог номера паспорта)\n",
        "\n",
        "- customer_zip_code_prefix —  почтовый индекс пользователя\n",
        "\n",
        "- customer_city —  город доставки пользователя\n",
        "\n",
        "- customer_state —  штат доставки пользователя"
      ],
      "metadata": {
        "id": "8dtAoDNW3-bN"
      }
    },
    {
      "cell_type": "code",
      "source": [
        "olist_customers.info()"
      ],
      "metadata": {
        "id": "PW1m1RKS5LxV"
      },
      "execution_count": null,
      "outputs": []
    },
    {
      "cell_type": "code",
      "source": [
        "olist_orders.isna().sum()"
      ],
      "metadata": {
        "id": "Z3Y97hy-2t5v"
      },
      "execution_count": null,
      "outputs": []
    },
    {
      "cell_type": "markdown",
      "source": [
        "- order_id —  уникальный идентификатор заказа (номер чека)\n",
        "\n",
        "- customer_id —  позаказный идентификатор пользователя\n",
        "\n",
        "- order_status —  статус заказа\n",
        "\n",
        "- order_purchase_timestamp —  время создания заказа\n",
        "\n",
        "- order_approved_at —  время подтверждения оплаты заказа\n",
        "\n",
        "- order_delivered_carrier_date —  время передачи заказа в логистическую службу\n",
        "\n",
        "- order_delivered_customer_date —  время доставки заказа\n",
        "\n",
        "- order_estimated_delivery_date —  обещанная дата доставки"
      ],
      "metadata": {
        "id": "DJ7PB9V54FY9"
      }
    },
    {
      "cell_type": "code",
      "source": [
        "olist_orders.info()"
      ],
      "metadata": {
        "id": "qY_H6h3j5Qhw"
      },
      "execution_count": null,
      "outputs": []
    },
    {
      "cell_type": "code",
      "source": [
        "olist_items.isna().sum()"
      ],
      "metadata": {
        "id": "CzEXMNoy2t25"
      },
      "execution_count": null,
      "outputs": []
    },
    {
      "cell_type": "markdown",
      "source": [
        "- rder_id —  уникальный идентификатор заказа (номер чека)\n",
        "\n",
        "- order_item_id —  идентификатор товара внутри одного заказа\n",
        "\n",
        "- product_id —  ид товара (аналог штрихкода)\n",
        "\n",
        "- seller_id — ид производителя товара\n",
        "\n",
        "- shipping_limit_date —  максимальная дата доставки продавцом для передачи заказа партнеру по логистике\n",
        "\n",
        "- price —  цена за единицу товара\n",
        "\n",
        "- freight_value —  вес товара"
      ],
      "metadata": {
        "id": "bO4ZwCQg4Rnt"
      }
    },
    {
      "cell_type": "code",
      "source": [
        "olist_items.info()"
      ],
      "metadata": {
        "id": "mfpbNSK92tql"
      },
      "execution_count": null,
      "outputs": []
    },
    {
      "cell_type": "markdown",
      "source": [
        "1. Сколько у нас пользователей, которые совершили покупку только один раз?"
      ],
      "metadata": {
        "id": "JJZctcu36Mg4"
      }
    },
    {
      "cell_type": "markdown",
      "source": [
        "- Объединяем таблицы olist_customers и olist_orders, по customer_id\n",
        "- Статус заказа все кроме created \n",
        "- Группируем пользователей и считаем кол-во заказов \n",
        "- Отбираем пользователей с 1 заказом , считаем их"
      ],
      "metadata": {
        "id": "VyDn_fWL6QQ7"
      }
    },
    {
      "cell_type": "code",
      "source": [
        "ferst_data = olist_orders[['customer_id', 'order_id','order_status']].merge(olist_customers[['customer_id','customer_unique_id']], how = 'left', on = 'customer_id')"
      ],
      "metadata": {
        "id": "EYYnUlP7BG3i"
      },
      "execution_count": null,
      "outputs": []
    },
    {
      "cell_type": "code",
      "source": [
        "ferst_data[~((ferst_data.order_status == 'created'))].groupby('customer_unique_id', as_index = False).agg({'order_id':'count'})\\\n",
        ".rename(columns = {'order_id':'order_amount'}).query('order_amount == 1').shape"
      ],
      "metadata": {
        "id": "jchN21eI--Pe"
      },
      "execution_count": null,
      "outputs": []
    },
    {
      "cell_type": "markdown",
      "source": [
        "2. Сколько заказов в месяц в среднем не доставляется по разным причинам (вывести детализацию по причинам)?"
      ],
      "metadata": {
        "id": "oCyKWIPlDCrG"
      }
    },
    {
      "cell_type": "markdown",
      "source": [
        "- Берем таблицу olist_orders\n",
        "- Вычленяем недоставленные заказы (unavailable, canceled) \n",
        "- Групперуем по статусу и месяцам \n",
        "- Счетаем сколько заказов недоставленно в каждый из месяцев \n",
        "- Берем среднее помесяцам"
      ],
      "metadata": {
        "id": "BP-o5UAEYSy9"
      }
    },
    {
      "cell_type": "code",
      "source": [
        "sec_data = olist_orders.query('order_status == \"unavailable\" or order_status == \"canceled\"')[olist_orders.order_delivered_customer_date.isna()==True]"
      ],
      "metadata": {
        "id": "3ZxBh5c2DB4q"
      },
      "execution_count": null,
      "outputs": []
    },
    {
      "cell_type": "code",
      "source": [
        "olist_orders.query('order_status == \"unavailable\" or order_status == \"canceled\"').shape"
      ],
      "metadata": {
        "id": "IP8d20JM2te4"
      },
      "execution_count": null,
      "outputs": []
    },
    {
      "cell_type": "markdown",
      "source": [
        "Есть 6 заказов у которых есть дата доставки , но статус = недействителен/отменен"
      ],
      "metadata": {
        "id": "Mhcn08Z3ayhT"
      }
    },
    {
      "cell_type": "code",
      "source": [
        "sec_data['order_estimated_delivery_date'] = pd.to_datetime(sec_data.order_estimated_delivery_date)\n",
        "# Переводим столбец ореинтировочной даты доставки в формат даты "
      ],
      "metadata": {
        "id": "XhdW9VPU2tcA"
      },
      "execution_count": null,
      "outputs": []
    },
    {
      "cell_type": "code",
      "source": [
        "sec_data.groupby(['order_status', pd.Grouper(key='order_estimated_delivery_date', freq='M')]).order_id.count().to_frame()\\\n",
        ".reset_index()\\\n",
        ".groupby('order_status').agg({'order_id':'mean'})\n",
        "#pd.Grouper сразу сам группирует по месяцам (freq = M), очень удобно для работы с таймлайнами "
      ],
      "metadata": {
        "id": "O57KXNlLcRDP"
      },
      "execution_count": null,
      "outputs": []
    },
    {
      "cell_type": "markdown",
      "source": [
        "3. По каждому товару определить, в какой день недели товар чаще всего покупается.\n",
        "\n",
        "- Подходят статусы все кроме created\n",
        "- Мерджим таблицу заказов и таблицу товаров\n",
        "- Создаемм столбец с днем недели покупки для каждого товара\n",
        "- Агрегируем по каждому товару и дню недели, выбираем максимальное значение пары : товар/день недели \n"
      ],
      "metadata": {
        "id": "M3fbn0N_f4ox"
      }
    },
    {
      "cell_type": "code",
      "source": [
        "therd_task = olist_items.merge(olist_orders.query('order_status != \"created\"')[['order_id', 'order_purchase_timestamp']], how= 'left', on = 'order_id')"
      ],
      "metadata": {
        "id": "G_jnL4JIg16q"
      },
      "execution_count": null,
      "outputs": []
    },
    {
      "cell_type": "code",
      "source": [
        "therd_task['order_purchase_timestamp'] = pd.to_datetime(therd_task.order_purchase_timestamp)"
      ],
      "metadata": {
        "id": "pPD5ZA-Di2xC"
      },
      "execution_count": null,
      "outputs": []
    },
    {
      "cell_type": "code",
      "source": [
        "therd_task['weekday'] = therd_task['order_purchase_timestamp'].dt.day_name()"
      ],
      "metadata": {
        "id": "r3S-goJdhuBg"
      },
      "execution_count": null,
      "outputs": []
    },
    {
      "cell_type": "code",
      "source": [
        "therd_task.groupby(['weekday','product_id'], as_index = False).agg({'order_id':'count'})\\\n",
        ".pivot_table(columns = 'product_id', index = 'weekday', values = 'order_id').idxmax()\\\n",
        ".to_frame().rename(columns = {0: 'top_day'}).reset_index()\n",
        "#idxmax находит первое максимальное вхождение по каждому столбцу(товару)и переварачивает таблицу"
      ],
      "metadata": {
        "id": "TSEyX48bj1-d"
      },
      "execution_count": null,
      "outputs": []
    },
    {
      "cell_type": "markdown",
      "source": [
        " 4.Сколько у каждого из пользователей в среднем покупок в неделю (по месяцам)? Не стоит забывать, что внутри месяца может быть не целое количество недель. Например, в ноябре 2021 года 4,28 недели. И внутри метрики это нужно учесть."
      ],
      "metadata": {
        "id": "7n2KeAs_qfzk"
      }
    },
    {
      "cell_type": "markdown",
      "source": [
        "1. Для каждого месяца в датасете рассчитать количество дней\n",
        "2. Выделить количество недель внутри месяца, поделив кол-во дней на 7\n",
        "3. Отфильтровать заказы в статусах, несоответствующих покупке\n",
        "4. Приджойнить к orders уникальные идентификаторы пользователей\n",
        "5. Добавить к orders колонку с месяцем покупки\n",
        "6. Для каждого пользователя внутри месяца рассчитать общее количество заказов\n",
        "7. К orders приджойнить количества неделя по месяцам\n",
        "8. Поделить кол-во заказов по пользователям-месяцам на количество кол-во недель в месяце"
      ],
      "metadata": {
        "id": "rAoTRqp1rpT5"
      }
    },
    {
      "cell_type": "code",
      "source": [
        "forth_task = olist_orders[['customer_id', 'order_id','order_status','order_purchase_timestamp']].merge(olist_customers[['customer_id','customer_unique_id']], how = 'left', on = 'customer_id')\\\n",
        ".query('order_status != \"created\"')"
      ],
      "metadata": {
        "id": "wwokpEx4robN"
      },
      "execution_count": null,
      "outputs": []
    },
    {
      "cell_type": "code",
      "source": [
        "forth_task.shape"
      ],
      "metadata": {
        "id": "xs64EF3AAweS"
      },
      "execution_count": null,
      "outputs": []
    },
    {
      "cell_type": "code",
      "source": [
        "forth_task['order_purchase_timestamp'] = pd.to_datetime(forth_task.order_purchase_timestamp)"
      ],
      "metadata": {
        "id": "no5xgqLrucWP"
      },
      "execution_count": null,
      "outputs": []
    },
    {
      "cell_type": "code",
      "source": [
        "forth_task['week_in_month'] = forth_task.order_purchase_timestamp.dt.daysinmonth/7"
      ],
      "metadata": {
        "id": "fRa9qmw-ulOK"
      },
      "execution_count": null,
      "outputs": []
    },
    {
      "cell_type": "code",
      "source": [
        "forth_task['month'] = forth_task.order_purchase_timestamp.dt.strftime('%m/%Y')"
      ],
      "metadata": {
        "id": "c0Gf4KULxV2f"
      },
      "execution_count": null,
      "outputs": []
    },
    {
      "cell_type": "code",
      "source": [
        "x = forth_task.groupby(['customer_unique_id', 'month'], as_index = False).agg({'customer_id':'count'})"
      ],
      "metadata": {
        "id": "cenUlRMnxvw5"
      },
      "execution_count": null,
      "outputs": []
    },
    {
      "cell_type": "code",
      "source": [
        "x = x.merge(forth_task[['week_in_month', 'month']].drop_duplicates(), on = 'month', how = 'left' )"
      ],
      "metadata": {
        "id": "-PiLeHNg0Fk8"
      },
      "execution_count": null,
      "outputs": []
    },
    {
      "cell_type": "code",
      "source": [
        "x = x.rename(columns = {'customer_id':'sails'})"
      ],
      "metadata": {
        "id": "GYanBRck172D"
      },
      "execution_count": null,
      "outputs": []
    },
    {
      "cell_type": "code",
      "source": [
        "x['by_per_week_in_month'] = x.sails/x.week_in_month"
      ],
      "metadata": {
        "id": "ZbFEJ8HK0Ufw"
      },
      "execution_count": null,
      "outputs": []
    },
    {
      "cell_type": "markdown",
      "source": [
        "5. Используя pandas, проведи когортный анализ пользователей. В период с января по декабрь выяви когорту с самым высоким retention на 3й месяц. "
      ],
      "metadata": {
        "id": "OtG4-4qj33bs"
      }
    },
    {
      "cell_type": "markdown",
      "source": [
        "- Для каждого пользователя выбрать первую дату доставки\n",
        "- Определить когорты, путем разности даты первой покупки и даты покупки\n",
        "- Выделлить целое кол-во месяце( когорты определяем месячные )\n",
        "- Посчитать ретеншен по когортам\n",
        "- Визуализировать хитмапом"
      ],
      "metadata": {
        "id": "ZzzUveXL5A0i"
      }
    },
    {
      "cell_type": "code",
      "source": [
        "task5 = olist_orders[~olist_orders.order_status.isin(['created'])].merge(\n",
        "            olist_customers[['customer_id', 'customer_unique_id']], \n",
        "            on='customer_id', \n",
        "            how='left')"
      ],
      "metadata": {
        "id": "2NkJHbuJ36vE"
      },
      "execution_count": null,
      "outputs": []
    },
    {
      "cell_type": "code",
      "source": [
        "task5['order_purchase_timestamp'] = pd.to_datetime(task5.order_purchase_timestamp)"
      ],
      "metadata": {
        "id": "FmtmB3qV6AiY"
      },
      "execution_count": null,
      "outputs": []
    },
    {
      "cell_type": "code",
      "source": [
        "task5 = task5.merge(task5.groupby('customer_unique_id', as_index = False).agg({'order_purchase_timestamp':'min'}).rename(columns = {'order_purchase_timestamp':'ferst_buy'}),on = 'customer_unique_id', how = 'left')"
      ],
      "metadata": {
        "id": "rtRHwa875syY"
      },
      "execution_count": null,
      "outputs": []
    },
    {
      "cell_type": "code",
      "source": [
        "task5 = task5[['order_id', 'customer_unique_id', 'order_purchase_timestamp', 'ferst_buy', 'order_status']]"
      ],
      "metadata": {
        "id": "wtKYqKDy-dSL"
      },
      "execution_count": null,
      "outputs": []
    },
    {
      "cell_type": "code",
      "source": [
        "task5['month'] = task5.ferst_buy.dt.strftime('%m/%Y')"
      ],
      "metadata": {
        "id": "4ZwLP-yl7Aaq"
      },
      "execution_count": null,
      "outputs": []
    },
    {
      "cell_type": "code",
      "source": [
        "task5['days_dist'] = (task5.order_purchase_timestamp - task5.ferst_buy).dt.days "
      ],
      "metadata": {
        "id": "4OaY1WlA-4Hx"
      },
      "execution_count": null,
      "outputs": []
    },
    {
      "cell_type": "code",
      "source": [
        "task5['days_in_month'] = forth_task.order_purchase_timestamp.dt.daysinmonth"
      ],
      "metadata": {
        "id": "dsgjnHUF_mWG"
      },
      "execution_count": null,
      "outputs": []
    },
    {
      "cell_type": "code",
      "source": [
        "from math import trunc"
      ],
      "metadata": {
        "id": "3YLqc3AnE-wp"
      },
      "execution_count": null,
      "outputs": []
    },
    {
      "cell_type": "code",
      "source": [
        "task5['chort'] = (task5.days_dist / task5.days_in_month).fillna(0).apply(lambda x: m.trunc(x))\n",
        "# Выделяем целое кол-во месяцев у каждой покупки, чтобы было удобнее когорты выделять "
      ],
      "metadata": {
        "id": "CTfgml6pD4uu"
      },
      "execution_count": null,
      "outputs": []
    },
    {
      "cell_type": "code",
      "source": [
        "fine_5 = task5.pivot_table(index ='month', columns = 'chort', values = 'order_id', aggfunc= 'count' )"
      ],
      "metadata": {
        "id": "KLfLCc3VGVH5"
      },
      "execution_count": null,
      "outputs": []
    },
    {
      "cell_type": "code",
      "source": [
        "all_users = fine_5[0]"
      ],
      "metadata": {
        "id": "uyC-qiIWG2db"
      },
      "execution_count": null,
      "outputs": []
    },
    {
      "cell_type": "code",
      "source": [
        "#Наводим красоту (сортировка)\n",
        "retention = fine_5.divide(all_users, axis=0).round(3) #Формируем когорты\n",
        "retention = retention.reset_index()\n",
        "retention['month'] = pd.to_datetime(retention['month']).dt.date\n",
        "retention = retention.sort_values('month').set_index('month')"
      ],
      "metadata": {
        "id": "nCGQU9IkHzHQ"
      },
      "execution_count": null,
      "outputs": []
    },
    {
      "cell_type": "code",
      "source": [
        "plt.figure(figsize=(18,14))\n",
        "plt.title('Retention')\n",
        "ax = sns.heatmap(data=retention, annot=True, vmin=0.0, vmax=0.005, cmap='YlGnBu')\n",
        "ax.set_yticklabels(retention.index)\n",
        "fig=ax.get_figure()\n",
        "plt.show()"
      ],
      "metadata": {
        "id": "zXJtjsINFyaO"
      },
      "execution_count": null,
      "outputs": []
    },
    {
      "cell_type": "markdown",
      "source": [
        "6. Часто для качественного анализа аудитории использую подходы, основанные на сегментации. Используя python, построй RFM-сегментацию пользователей, чтобы качественно оценить свою аудиторию. В кластеризации можешь выбрать следующие метрики: R - время от последней покупки пользователя до текущей даты, F - суммарное количество покупок у пользователя за всё время, M - сумма покупок за всё время. Подробно опиши, как ты создавал кластеры. Для каждого RFM-сегмента построй границы метрик recency, frequency и monetary для интерпретации этих кластеров. Пример такого описания: RFM-сегмент 132 (recency=1, frequency=3, monetary=2) имеет границы метрик recency от 130 до 500 дней, frequency от 2 до 5 заказов в неделю, monetary от 1780 до 3560 рублей в неделю."
      ],
      "metadata": {
        "id": "7bEOqd1EJbbv"
      }
    },
    {
      "cell_type": "code",
      "source": [
        "from numpy.lib.function_base import quantile\n"
      ],
      "metadata": {
        "id": "T839FCTWEhCK"
      },
      "execution_count": null,
      "outputs": []
    },
    {
      "cell_type": "code",
      "source": [
        "ferst_part = olist_orders[['order_status','customer_id', 'order_id', 'order_purchase_timestamp']]\\\n",
        ".query('order_status != [\"created\"] & order_status != [\"unavailable\"] & order_status != [\"canseled\"]')\\\n",
        ".merge(olist_customers[['customer_unique_id', 'customer_id']], how = 'left', on = 'customer_id')"
      ],
      "metadata": {
        "id": "Vfwpllk1Fzro"
      },
      "execution_count": null,
      "outputs": []
    },
    {
      "cell_type": "code",
      "source": [
        "fool_data = olist_items[['order_id', 'order_item_id', 'product_id', 'shipping_limit_date', 'price']].merge(ferst_part, how = 'left', on = 'order_id')"
      ],
      "metadata": {
        "id": "xQF9e84GIF_U"
      },
      "execution_count": null,
      "outputs": []
    },
    {
      "cell_type": "code",
      "source": [
        "olist_items.shape"
      ],
      "metadata": {
        "id": "Ie4oE_3dWHDG"
      },
      "execution_count": null,
      "outputs": []
    },
    {
      "cell_type": "code",
      "source": [
        "fool_data.shape"
      ],
      "metadata": {
        "id": "PH_fFBU0I7sf"
      },
      "execution_count": null,
      "outputs": []
    },
    {
      "cell_type": "code",
      "source": [
        "fool_data.info()"
      ],
      "metadata": {
        "id": "y_UpbFTkWcM8"
      },
      "execution_count": null,
      "outputs": []
    },
    {
      "cell_type": "code",
      "source": [
        "fool_data['shipping_limit_date'] = pd.to_datetime(fool_data.shipping_limit_date)"
      ],
      "metadata": {
        "id": "IiUqUJseWgAO"
      },
      "execution_count": null,
      "outputs": []
    },
    {
      "cell_type": "code",
      "source": [
        "fool_data['order_purchase_timestamp'] = pd.to_datetime(fool_data.shipping_limit_date)"
      ],
      "metadata": {
        "id": "tnGjwJ0MXQFV"
      },
      "execution_count": null,
      "outputs": []
    },
    {
      "cell_type": "code",
      "source": [
        "fool_data.order_id.value_counts()\n"
      ],
      "metadata": {
        "id": "JyVny4I9WOq-"
      },
      "execution_count": null,
      "outputs": []
    },
    {
      "cell_type": "code",
      "source": [
        "las_date = fool_data.order_purchase_timestamp.max()"
      ],
      "metadata": {
        "id": "yemgOSCrWqNh"
      },
      "execution_count": null,
      "outputs": []
    },
    {
      "cell_type": "markdown",
      "source": [
        "Опредлились с Днями прошедшими с последней покупки"
      ],
      "metadata": {
        "id": "XW1gMtznZ_Um"
      }
    },
    {
      "cell_type": "code",
      "source": [
        "RFM_data = fool_data.groupby('customer_unique_id').agg({'order_purchase_timestamp':'max', 'price':'sum', 'order_id':'nunique'}).reset_index()\\\n",
        ".rename(columns = {'order_purchase_timestamp':'last_buy', 'order_id':'orders_total', 'price' : 'total_cash'})"
      ],
      "metadata": {
        "id": "CjFVRKAogADX"
      },
      "execution_count": null,
      "outputs": []
    },
    {
      "cell_type": "code",
      "source": [
        "RFM_data['days_from_last_buy'] = (las_date - RFM_data.last_buy).dt.days"
      ],
      "metadata": {
        "id": "84UijMDpYPgz"
      },
      "execution_count": null,
      "outputs": []
    },
    {
      "cell_type": "code",
      "source": [
        "RFM_data.head()"
      ],
      "metadata": {
        "id": "shjPJgexr55_"
      },
      "execution_count": null,
      "outputs": []
    },
    {
      "cell_type": "code",
      "source": [
        "RFM_data.orders_total.describe()"
      ],
      "metadata": {
        "id": "Fwzw2L6og5UZ"
      },
      "execution_count": null,
      "outputs": []
    },
    {
      "cell_type": "code",
      "source": [
        "quantils = RFM_data.quantile(q=[0.25, 0.5, 0.75])"
      ],
      "metadata": {
        "id": "jBgV8u07xqIB"
      },
      "execution_count": null,
      "outputs": []
    },
    {
      "cell_type": "markdown",
      "source": [
        "Так как заказы распределены совсем не нормально , то для их анализа используем количественные показатели"
      ],
      "metadata": {
        "id": "2zNWhPcv2Ho5"
      }
    },
    {
      "cell_type": "code",
      "source": [
        "def RClass(value,parameter_name,quantiles_table):\n",
        "    if value <= quantiles_table[parameter_name][0.25]:\n",
        "        return 1\n",
        "    elif value <= quantiles_table[parameter_name][0.50]:\n",
        "        return 2\n",
        "    elif value <= quantiles_table[parameter_name][0.75]: \n",
        "        return 3\n",
        "    else:\n",
        "        return 4\n",
        "def FClass(value, parameter_name,quantiles_table):\n",
        "    if value <= quantiles_table[parameter_name][0.25]:\n",
        "        return 4\n",
        "    elif value <= 4:\n",
        "        return 3\n",
        "    elif value <= 8: \n",
        "        return 2\n",
        "    else:\n",
        "        return 1\n",
        "\n",
        "\n",
        "def MClass(value, parameter_name,quantiles_table):\n",
        "    if value <= quantiles_table[parameter_name][0.25]:\n",
        "        return 4\n",
        "    elif value <= quantiles_table[parameter_name][0.50]:\n",
        "        return 3\n",
        "    elif value <= quantiles_table[parameter_name][0.75]: \n",
        "        return 2\n",
        "    else:\n",
        "        return 1"
      ],
      "metadata": {
        "id": "T0ut_-o60Kt6"
      },
      "execution_count": null,
      "outputs": []
    },
    {
      "cell_type": "code",
      "source": [
        "rfmSegmentation = RFM_data"
      ],
      "metadata": {
        "id": "Oh0wA85p5bzm"
      },
      "execution_count": null,
      "outputs": []
    },
    {
      "cell_type": "code",
      "source": [
        "rfmSegmentation['R_Quartile'] = rfmSegmentation['days_from_last_buy'].apply(RClass, args=('days_from_last_buy',quantils))\n",
        "\n",
        "rfmSegmentation['F_Quartile'] = rfmSegmentation['orders_total'].apply(FClass, args=('orders_total',quantils))\n",
        "\n",
        "rfmSegmentation['M_Quartile'] = rfmSegmentation['total_cash'].apply(MClass, args=('total_cash',quantils))\n",
        "\n",
        "rfmSegmentation['RFMClass'] = rfmSegmentation.R_Quartile.map(str)+ rfmSegmentation.F_Quartile.map(str)    + rfmSegmentation.M_Quartile.map(str)"
      ],
      "metadata": {
        "id": "NRJFUVJ62Q2T"
      },
      "execution_count": null,
      "outputs": []
    },
    {
      "cell_type": "code",
      "source": [
        "rfmSegmentation.groupby('RFMClass').agg({'customer_unique_id':'count', 'total_cash':'sum', 'days_from_last_buy':'mean', 'orders_total':'mean'})\\\n",
        ".rename(columns = {'customer_unique_id':'users_total', 'days_from_last_buy':'mean_days_from_last_buy'  })\\\n",
        ".reset_index()"
      ],
      "metadata": {
        "id": "nmvZaKx_WnJE"
      },
      "execution_count": null,
      "outputs": []
    }
  ]
}